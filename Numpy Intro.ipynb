{
 "cells": [
  {
   "cell_type": "markdown",
   "id": "97d9c5f3",
   "metadata": {},
   "source": [
    "# Introduction"
   ]
  },
  {
   "cell_type": "code",
   "execution_count": 1,
   "id": "66fdade3",
   "metadata": {},
   "outputs": [],
   "source": [
    "# Creat Numpy Array"
   ]
  },
  {
   "cell_type": "code",
   "execution_count": 1,
   "id": "23a08071",
   "metadata": {},
   "outputs": [],
   "source": [
    "import numpy as np"
   ]
  },
  {
   "cell_type": "code",
   "execution_count": 3,
   "id": "c879bd19",
   "metadata": {},
   "outputs": [],
   "source": [
    "A = np.array([10,20,30,40,50])"
   ]
  },
  {
   "cell_type": "code",
   "execution_count": 4,
   "id": "bed20874",
   "metadata": {},
   "outputs": [
    {
     "data": {
      "text/plain": [
       "array([10, 20, 30, 40, 50])"
      ]
     },
     "execution_count": 4,
     "metadata": {},
     "output_type": "execute_result"
    }
   ],
   "source": [
    "A"
   ]
  },
  {
   "cell_type": "code",
   "execution_count": 5,
   "id": "71c7a9fb",
   "metadata": {},
   "outputs": [
    {
     "data": {
      "text/plain": [
       "numpy.ndarray"
      ]
     },
     "execution_count": 5,
     "metadata": {},
     "output_type": "execute_result"
    }
   ],
   "source": [
    "type(A) # ndarray:- n- Diamensianal array"
   ]
  },
  {
   "cell_type": "code",
   "execution_count": 8,
   "id": "e5392484",
   "metadata": {},
   "outputs": [
    {
     "data": {
      "text/plain": [
       "(2305546977040, 2305546977040)"
      ]
     },
     "execution_count": 8,
     "metadata": {},
     "output_type": "execute_result"
    }
   ],
   "source": [
    "id(A[0]), id(A[1]) # id are same as all elements are present in same numpy array object"
   ]
  },
  {
   "cell_type": "code",
   "execution_count": 10,
   "id": "316f5b17",
   "metadata": {},
   "outputs": [],
   "source": [
    "B = np.array ([[10,20,30], [40,50,60]])"
   ]
  },
  {
   "cell_type": "code",
   "execution_count": 12,
   "id": "862b14e7",
   "metadata": {},
   "outputs": [
    {
     "data": {
      "text/plain": [
       "2"
      ]
     },
     "execution_count": 12,
     "metadata": {},
     "output_type": "execute_result"
    }
   ],
   "source": [
    "B.ndim # gives the no. of diamension of the array"
   ]
  },
  {
   "cell_type": "code",
   "execution_count": 13,
   "id": "815e1a27",
   "metadata": {},
   "outputs": [
    {
     "data": {
      "text/plain": [
       "(2, 3)"
      ]
     },
     "execution_count": 13,
     "metadata": {},
     "output_type": "execute_result"
    }
   ],
   "source": [
    "B.shape # Given the no. of rows and coloumns present in array"
   ]
  },
  {
   "cell_type": "code",
   "execution_count": 16,
   "id": "81f2b168",
   "metadata": {},
   "outputs": [],
   "source": [
    "C = np.array ([[[1,2,3],[4,5,6]],[[7,8,9],[10,11,12]]])"
   ]
  },
  {
   "cell_type": "code",
   "execution_count": 17,
   "id": "382cac50",
   "metadata": {},
   "outputs": [
    {
     "data": {
      "text/plain": [
       "3"
      ]
     },
     "execution_count": 17,
     "metadata": {},
     "output_type": "execute_result"
    }
   ],
   "source": [
    "C.ndim"
   ]
  },
  {
   "cell_type": "code",
   "execution_count": 19,
   "id": "6150f9be",
   "metadata": {},
   "outputs": [
    {
     "data": {
      "text/plain": [
       "(2, 2, 3)"
      ]
     },
     "execution_count": 19,
     "metadata": {},
     "output_type": "execute_result"
    }
   ],
   "source": [
    "C.shape # row-2, column-2, channels- 3 "
   ]
  },
  {
   "cell_type": "code",
   "execution_count": 20,
   "id": "22d32368",
   "metadata": {},
   "outputs": [
    {
     "data": {
      "text/plain": [
       "10"
      ]
     },
     "execution_count": 20,
     "metadata": {},
     "output_type": "execute_result"
    }
   ],
   "source": [
    "C[1][1][0] # How to acces the element of array"
   ]
  },
  {
   "cell_type": "code",
   "execution_count": 21,
   "id": "2f7c6170",
   "metadata": {},
   "outputs": [
    {
     "data": {
      "text/plain": [
       "10"
      ]
     },
     "execution_count": 21,
     "metadata": {},
     "output_type": "execute_result"
    }
   ],
   "source": [
    "C[1,1,0] # We can use this method also"
   ]
  },
  {
   "cell_type": "code",
   "execution_count": 23,
   "id": "fea197da",
   "metadata": {},
   "outputs": [
    {
     "data": {
      "text/plain": [
       "dtype('int32')"
      ]
     },
     "execution_count": 23,
     "metadata": {},
     "output_type": "execute_result"
    }
   ],
   "source": [
    "C.dtype # Gives data type of elements of array"
   ]
  },
  {
   "cell_type": "code",
   "execution_count": 24,
   "id": "fbe05aba",
   "metadata": {},
   "outputs": [],
   "source": [
    "#Numpy stores only homogenous elements. If we have any str element in it, then it will convert all emaining elements in str\n",
    "# Because it is possible to covert int and float into str and we can regain its original avalue from str."
   ]
  },
  {
   "cell_type": "code",
   "execution_count": 27,
   "id": "3556b176",
   "metadata": {},
   "outputs": [],
   "source": [
    "D = np.array([10,20.5, 'Aniket'])"
   ]
  },
  {
   "cell_type": "code",
   "execution_count": 29,
   "id": "57cbba9a",
   "metadata": {},
   "outputs": [
    {
     "data": {
      "text/plain": [
       "array(['10', '20.5', 'Aniket'], dtype='<U32')"
      ]
     },
     "execution_count": 29,
     "metadata": {},
     "output_type": "execute_result"
    }
   ],
   "source": [
    "D # Numpy has converted all element into str (int-> float-> str)"
   ]
  },
  {
   "cell_type": "code",
   "execution_count": 2,
   "id": "208dc69a",
   "metadata": {},
   "outputs": [],
   "source": [
    "# np.arange:- Used to create numpy. array. It is same like range function. (start, end, increament)"
   ]
  },
  {
   "cell_type": "code",
   "execution_count": 3,
   "id": "6bf06870",
   "metadata": {},
   "outputs": [
    {
     "data": {
      "text/plain": [
       "array([ 1,  2,  3,  4,  5,  6,  7,  8,  9, 10])"
      ]
     },
     "execution_count": 3,
     "metadata": {},
     "output_type": "execute_result"
    }
   ],
   "source": [
    "np.arange(1,11,1)"
   ]
  },
  {
   "cell_type": "code",
   "execution_count": 5,
   "id": "f47d01bc",
   "metadata": {},
   "outputs": [
    {
     "data": {
      "text/plain": [
       "array([10. , 12.5, 15. , 17.5, 20. ])"
      ]
     },
     "execution_count": 5,
     "metadata": {},
     "output_type": "execute_result"
    }
   ],
   "source": [
    "np.linspace(10,20,5)# Here, we have to provide start, end (both inclusive), and no. of equidistance points required in betwn start and end"
   ]
  },
  {
   "cell_type": "code",
   "execution_count": 7,
   "id": "34a73528",
   "metadata": {},
   "outputs": [
    {
     "data": {
      "text/plain": [
       "array([[0., 0., 0., 0.],\n",
       "       [0., 0., 0., 0.],\n",
       "       [0., 0., 0., 0.]])"
      ]
     },
     "execution_count": 7,
     "metadata": {},
     "output_type": "execute_result"
    }
   ],
   "source": [
    "np.zeros((3,4)) #It will create the array of value zero of 3 rows and 4 columns"
   ]
  },
  {
   "cell_type": "code",
   "execution_count": 12,
   "id": "f75b4736",
   "metadata": {},
   "outputs": [
    {
     "data": {
      "text/plain": [
       "array([[1, 1, 1, 1],\n",
       "       [1, 1, 1, 1],\n",
       "       [1, 1, 1, 1],\n",
       "       [1, 1, 1, 1],\n",
       "       [1, 1, 1, 1]])"
      ]
     },
     "execution_count": 12,
     "metadata": {},
     "output_type": "execute_result"
    }
   ],
   "source": [
    "np.ones((5,4), dtype = int) #It will create an array of value one of 5 rows, 4 columns having elements of datatype interger"
   ]
  },
  {
   "cell_type": "code",
   "execution_count": 16,
   "id": "a0c9ceeb",
   "metadata": {},
   "outputs": [
    {
     "data": {
      "text/plain": [
       "array([[5, 5, 5, 5],\n",
       "       [5, 5, 5, 5],\n",
       "       [5, 5, 5, 5]])"
      ]
     },
     "execution_count": 16,
     "metadata": {},
     "output_type": "execute_result"
    }
   ],
   "source": [
    "np.ones((3,4), dtype = int) + 4 #Broadcasting :- This method is used to create an array values other than 0 or 1"
   ]
  },
  {
   "cell_type": "markdown",
   "id": "3a491313",
   "metadata": {},
   "source": [
    "# Create array with random values"
   ]
  },
  {
   "cell_type": "code",
   "execution_count": 17,
   "id": "6f980b2a",
   "metadata": {},
   "outputs": [],
   "source": [
    "# This function is used to create an array of given size with random numbers. "
   ]
  },
  {
   "cell_type": "code",
   "execution_count": 21,
   "id": "bf003cff",
   "metadata": {},
   "outputs": [
    {
     "data": {
      "text/plain": [
       "array([[11, 17, 19,  8,  4],\n",
       "       [ 7,  6, 17, 20, 13],\n",
       "       [17, 21, 12,  2, 13],\n",
       "       [14,  3,  3,  5, 12]])"
      ]
     },
     "execution_count": 21,
     "metadata": {},
     "output_type": "execute_result"
    }
   ],
   "source": [
    "np.random.randint(1,25,(4,5)) # Here, We have to provide the rangeof values required and size of array with uniform distr.\n",
    "# start- inclusive, end- exclusive"
   ]
  },
  {
   "cell_type": "code",
   "execution_count": 24,
   "id": "2851f39e",
   "metadata": {},
   "outputs": [
    {
     "data": {
      "text/plain": [
       "array([[0.39740791, 0.29436293, 0.36745397, 0.86226027],\n",
       "       [0.23931149, 0.58149384, 0.0022651 , 0.00797587],\n",
       "       [0.52031753, 0.33822512, 0.49318196, 0.97259779]])"
      ]
     },
     "execution_count": 24,
     "metadata": {},
     "output_type": "execute_result"
    }
   ],
   "source": [
    "np.random.rand(3,4) # It will create an array of givensize with float in between 0- inclusive to 1- exclusive"
   ]
  },
  {
   "cell_type": "code",
   "execution_count": 25,
   "id": "1ffe1e9e",
   "metadata": {},
   "outputs": [
    {
     "data": {
      "text/plain": [
       "array([[-2.06838286,  1.14098464, -0.67888734, -0.92179445, -0.24654508],\n",
       "       [ 0.88233309,  0.6439864 ,  0.16741178,  0.75618905, -0.66451256],\n",
       "       [-0.29592909,  0.40738138,  0.02587146, -1.03685003, -0.63072821],\n",
       "       [ 0.02827155,  0.19715249, -2.31384992, -1.70743525,  0.47022132]])"
      ]
     },
     "execution_count": 25,
     "metadata": {},
     "output_type": "execute_result"
    }
   ],
   "source": [
    "np.random.randn(4,5) # It will create an array of given size with normal distribution.(Mean of values near 0)"
   ]
  },
  {
   "cell_type": "markdown",
   "id": "c4a10c26",
   "metadata": {},
   "source": [
    "# Slicing of Array"
   ]
  },
  {
   "cell_type": "code",
   "execution_count": 26,
   "id": "ed645d8d",
   "metadata": {},
   "outputs": [],
   "source": [
    "# Used for slicing of array in required size"
   ]
  },
  {
   "cell_type": "code",
   "execution_count": 27,
   "id": "ebfa7eb0",
   "metadata": {},
   "outputs": [
    {
     "data": {
      "text/plain": [
       "array([[24, 21,  4,  2, 18],\n",
       "       [12, 12, 10, 10, 16],\n",
       "       [14,  9, 16,  8, 22],\n",
       "       [ 5,  8, 23, 15,  8]])"
      ]
     },
     "execution_count": 27,
     "metadata": {},
     "output_type": "execute_result"
    }
   ],
   "source": [
    "# Here, we have to provide slicing for every diamen. of array. i.e. for 4-D array, we have to provide 4 slicings.\n",
    "A = np.random.randint(1,25,(4,5))\n",
    "A"
   ]
  },
  {
   "cell_type": "code",
   "execution_count": 28,
   "id": "b47cd5f9",
   "metadata": {},
   "outputs": [
    {
     "data": {
      "text/plain": [
       "array([[10, 10, 16],\n",
       "       [16,  8, 22]])"
      ]
     },
     "execution_count": 28,
     "metadata": {},
     "output_type": "execute_result"
    }
   ],
   "source": [
    "A[1:3:1,2:5:1] # Here, we have provided slicing for row (1:3:1) and column(2:5:1). It will create array of size(2*3)"
   ]
  },
  {
   "cell_type": "code",
   "execution_count": 29,
   "id": "244d7066",
   "metadata": {},
   "outputs": [
    {
     "data": {
      "text/plain": [
       "array([[24, 21],\n",
       "       [12, 12],\n",
       "       [14,  9],\n",
       "       [ 5,  8]])"
      ]
     },
     "execution_count": 29,
     "metadata": {},
     "output_type": "execute_result"
    }
   ],
   "source": [
    "A[:,:2] # array of first 2 columns with all rows, mininmum syntax "
   ]
  },
  {
   "cell_type": "code",
   "execution_count": 32,
   "id": "d2221d61",
   "metadata": {},
   "outputs": [
    {
     "data": {
      "text/plain": [
       "array([[24, 21,  4,  2, 18],\n",
       "       [14,  9, 16,  8, 22]])"
      ]
     },
     "execution_count": 32,
     "metadata": {},
     "output_type": "execute_result"
    }
   ],
   "source": [
    "A[:3:2,:] # first and 3rd row only with all columns, mininmum syntax "
   ]
  },
  {
   "cell_type": "code",
   "execution_count": 34,
   "id": "5c1ad608",
   "metadata": {},
   "outputs": [
    {
     "data": {
      "text/plain": [
       "array([[24, 21,  4,  2, 18],\n",
       "       [12, 12, 10, 10, 16],\n",
       "       [ 5,  8, 23, 15,  8]])"
      ]
     },
     "execution_count": 34,
     "metadata": {},
     "output_type": "execute_result"
    }
   ],
   "source": [
    "A[[0,1,3]] # for only specified row, we have to provide specified row index in square brackets"
   ]
  },
  {
   "cell_type": "code",
   "execution_count": 36,
   "id": "5aaf27fd",
   "metadata": {},
   "outputs": [
    {
     "data": {
      "text/plain": [
       "array([[24,  4,  2],\n",
       "       [12, 10, 10],\n",
       "       [14, 16,  8],\n",
       "       [ 5, 23, 15]])"
      ]
     },
     "execution_count": 36,
     "metadata": {},
     "output_type": "execute_result"
    }
   ],
   "source": [
    "A[:,[0,2,3]] # for column/ other diamension, provide specified column index in sq. bracket after colan and comma"
   ]
  },
  {
   "cell_type": "code",
   "execution_count": 96,
   "id": "cc3825b4",
   "metadata": {},
   "outputs": [
    {
     "name": "stdout",
     "output_type": "stream",
     "text": [
      "4 5\n"
     ]
    }
   ],
   "source": [
    "r,c = A.shape # Shape property can used to get the size of given array. It can be used to do various operations on array.\n",
    "print(r,c)"
   ]
  },
  {
   "cell_type": "code",
   "execution_count": 94,
   "id": "72a0a340",
   "metadata": {},
   "outputs": [],
   "source": [
    "# To get corner elements of any matrix\n",
    "def get_corner(X):\n",
    "    r,c = X.shape\n",
    "    return X[::r-1,::c-1]"
   ]
  },
  {
   "cell_type": "code",
   "execution_count": 95,
   "id": "650f1d3d",
   "metadata": {},
   "outputs": [
    {
     "data": {
      "text/plain": [
       "array([[24, 18],\n",
       "       [ 5,  8]])"
      ]
     },
     "execution_count": 95,
     "metadata": {},
     "output_type": "execute_result"
    }
   ],
   "source": [
    "get_corner(A)"
   ]
  },
  {
   "cell_type": "markdown",
   "id": "ce6fa052",
   "metadata": {},
   "source": [
    "# Arithmatic operations:-"
   ]
  },
  {
   "cell_type": "code",
   "execution_count": null,
   "id": "05cb7986",
   "metadata": {},
   "outputs": [],
   "source": [
    "# Arithmatic operations:- All arithmatic operations (addn, subtractn, multiplcan, divn. etc) are possible on given array."
   ]
  },
  {
   "cell_type": "code",
   "execution_count": 98,
   "id": "843040fd",
   "metadata": {},
   "outputs": [],
   "source": [
    "# Arithmatic operations between array and scalar"
   ]
  },
  {
   "cell_type": "code",
   "execution_count": 106,
   "id": "985eb7d1",
   "metadata": {},
   "outputs": [
    {
     "data": {
      "text/plain": [
       "array([[ 9, 10,  2,  9],\n",
       "       [ 8,  1,  6,  6],\n",
       "       [10,  5,  2,  1]])"
      ]
     },
     "execution_count": 106,
     "metadata": {},
     "output_type": "execute_result"
    }
   ],
   "source": [
    "A = np.random.randint(1,11,(3,4))\n",
    "A"
   ]
  },
  {
   "cell_type": "code",
   "execution_count": 109,
   "id": "88f23002",
   "metadata": {},
   "outputs": [
    {
     "name": "stdout",
     "output_type": "stream",
     "text": [
      "[[14 15  7 14]\n",
      " [13  6 11 11]\n",
      " [15 10  7  6]]\n",
      "[[ 4  5 -3  4]\n",
      " [ 3 -4  1  1]\n",
      " [ 5  0 -3 -4]]\n",
      "[[4.5 5.  1.  4.5]\n",
      " [4.  0.5 3.  3. ]\n",
      " [5.  2.5 1.  0.5]]\n"
     ]
    }
   ],
   "source": [
    "x = A+5 \n",
    "y = A-5 \n",
    "z = A/2\n",
    "print(x)\n",
    "print(y)\n",
    "print(z)"
   ]
  },
  {
   "cell_type": "code",
   "execution_count": 110,
   "id": "1533c1df",
   "metadata": {},
   "outputs": [],
   "source": [
    "# Also, all arithmatic operations between two arrays is possible. (Operations will be performed as element by element)"
   ]
  },
  {
   "cell_type": "code",
   "execution_count": 112,
   "id": "d0a119a9",
   "metadata": {},
   "outputs": [
    {
     "data": {
      "text/plain": [
       "(array([[ 9, 10,  2,  9],\n",
       "        [ 8,  1,  6,  6],\n",
       "        [10,  5,  2,  1]]),\n",
       " array([[ 1,  4,  5,  2],\n",
       "        [ 8,  7, 10,  7],\n",
       "        [ 3,  3,  3,  9]]))"
      ]
     },
     "execution_count": 112,
     "metadata": {},
     "output_type": "execute_result"
    }
   ],
   "source": [
    "B = np.random.randint(1,11,(3,4))\n",
    "A, B"
   ]
  },
  {
   "cell_type": "code",
   "execution_count": 114,
   "id": "bfb03188",
   "metadata": {},
   "outputs": [
    {
     "name": "stdout",
     "output_type": "stream",
     "text": [
      "[[ 9 40 10 18]\n",
      " [64  7 60 42]\n",
      " [30 15  6  9]]\n",
      "[[10 14  7 11]\n",
      " [16  8 16 13]\n",
      " [13  8  5 10]]\n",
      "[[ 8  6 -3  7]\n",
      " [ 0 -6 -4 -1]\n",
      " [ 7  2 -1 -8]]\n",
      "[[9.         2.5        0.4        4.5       ]\n",
      " [1.         0.14285714 0.6        0.85714286]\n",
      " [3.33333333 1.66666667 0.66666667 0.11111111]]\n"
     ]
    }
   ],
   "source": [
    "w = A*B # All operatioins will be performed one by one\n",
    "x = A+B \n",
    "y = A-B \n",
    "z = A/B\n",
    "print(w)\n",
    "print(x)\n",
    "print(y)\n",
    "print(z)"
   ]
  },
  {
   "cell_type": "code",
   "execution_count": 115,
   "id": "683d1dc9",
   "metadata": {},
   "outputs": [],
   "source": [
    "# For arithmatic operation, it is necesarry that at least one diamnesion array should mathch with other diamnesion of array"
   ]
  },
  {
   "cell_type": "code",
   "execution_count": 117,
   "id": "e6bb0846",
   "metadata": {},
   "outputs": [],
   "source": [
    "C = np.array([[1],[2],[3]])\n",
    "D = np.array([[4,5,6,7]])"
   ]
  },
  {
   "cell_type": "code",
   "execution_count": 119,
   "id": "6375d6e4",
   "metadata": {},
   "outputs": [
    {
     "name": "stdout",
     "output_type": "stream",
     "text": [
      "[[ 9 10  2  9]\n",
      " [16  2 12 12]\n",
      " [30 15  6  3]]\n",
      "[[10 11  3 10]\n",
      " [10  3  8  8]\n",
      " [13  8  5  4]]\n",
      "[[ 8  9  1  8]\n",
      " [ 6 -1  4  4]\n",
      " [ 7  2 -1 -2]]\n",
      "[[ 9.         10.          2.          9.        ]\n",
      " [ 4.          0.5         3.          3.        ]\n",
      " [ 3.33333333  1.66666667  0.66666667  0.33333333]]\n"
     ]
    }
   ],
   "source": [
    "w = A*C # no. of columns are same\n",
    "x = A+C \n",
    "y = A-C \n",
    "z = A/C\n",
    "print(w)\n",
    "print(x)\n",
    "print(y)\n",
    "print(z)"
   ]
  },
  {
   "cell_type": "code",
   "execution_count": 120,
   "id": "3916111f",
   "metadata": {},
   "outputs": [
    {
     "name": "stdout",
     "output_type": "stream",
     "text": [
      "[[36 50 12 63]\n",
      " [32  5 36 42]\n",
      " [40 25 12  7]]\n",
      "[[13 15  8 16]\n",
      " [12  6 12 13]\n",
      " [14 10  8  8]]\n",
      "[[ 5  5 -4  2]\n",
      " [ 4 -4  0 -1]\n",
      " [ 6  0 -4 -6]]\n",
      "[[2.25       2.         0.33333333 1.28571429]\n",
      " [2.         0.2        1.         0.85714286]\n",
      " [2.5        1.         0.33333333 0.14285714]]\n"
     ]
    }
   ],
   "source": [
    "w = A*D # No. of rows are same\n",
    "x = A+D \n",
    "y = A-D \n",
    "z = A/D\n",
    "print(w)\n",
    "print(x)\n",
    "print(y)\n",
    "print(z)"
   ]
  },
  {
   "cell_type": "markdown",
   "id": "3e1f28c1",
   "metadata": {},
   "source": [
    "# Aggregate Functions"
   ]
  },
  {
   "cell_type": "code",
   "execution_count": 121,
   "id": "e77bea89",
   "metadata": {},
   "outputs": [
    {
     "data": {
      "text/plain": [
       "array([[ 9, 10,  2,  9],\n",
       "       [ 8,  1,  6,  6],\n",
       "       [10,  5,  2,  1]])"
      ]
     },
     "execution_count": 121,
     "metadata": {},
     "output_type": "execute_result"
    }
   ],
   "source": [
    "A"
   ]
  },
  {
   "cell_type": "code",
   "execution_count": 122,
   "id": "9286c4e6",
   "metadata": {},
   "outputs": [
    {
     "data": {
      "text/plain": [
       "69"
      ]
     },
     "execution_count": 122,
     "metadata": {},
     "output_type": "execute_result"
    }
   ],
   "source": [
    "A.sum() # Used to find out sum of all values of array "
   ]
  },
  {
   "cell_type": "code",
   "execution_count": 123,
   "id": "7828822b",
   "metadata": {},
   "outputs": [
    {
     "data": {
      "text/plain": [
       "1"
      ]
     },
     "execution_count": 123,
     "metadata": {},
     "output_type": "execute_result"
    }
   ],
   "source": [
    "A.min() # Used to find out minimum value of all values from array "
   ]
  },
  {
   "cell_type": "code",
   "execution_count": 124,
   "id": "87bd696f",
   "metadata": {},
   "outputs": [
    {
     "data": {
      "text/plain": [
       "10"
      ]
     },
     "execution_count": 124,
     "metadata": {},
     "output_type": "execute_result"
    }
   ],
   "source": [
    "A.max() # # Used to find out maximum value of all values from array "
   ]
  },
  {
   "cell_type": "code",
   "execution_count": 125,
   "id": "3b3ef0f5",
   "metadata": {},
   "outputs": [
    {
     "data": {
      "text/plain": [
       "5.75"
      ]
     },
     "execution_count": 125,
     "metadata": {},
     "output_type": "execute_result"
    }
   ],
   "source": [
    "A.mean() # Used to find out average value of all values of array "
   ]
  },
  {
   "cell_type": "code",
   "execution_count": 127,
   "id": "28379b4d",
   "metadata": {},
   "outputs": [
    {
     "data": {
      "text/plain": [
       "46656000"
      ]
     },
     "execution_count": 127,
     "metadata": {},
     "output_type": "execute_result"
    }
   ],
   "source": [
    "A.prod() # Used to find out product of all values of array "
   ]
  },
  {
   "cell_type": "code",
   "execution_count": 128,
   "id": "a0e29138",
   "metadata": {},
   "outputs": [
    {
     "data": {
      "text/plain": [
       "array([8, 1, 2, 1])"
      ]
     },
     "execution_count": 128,
     "metadata": {},
     "output_type": "execute_result"
    }
   ],
   "source": [
    "A.min(axis=0) # Generally axis=0 used tofind out row wise values"
   ]
  },
  {
   "cell_type": "code",
   "execution_count": 130,
   "id": "cb2267a2",
   "metadata": {},
   "outputs": [
    {
     "data": {
      "text/plain": [
       "array([2, 1, 1])"
      ]
     },
     "execution_count": 130,
     "metadata": {},
     "output_type": "execute_result"
    }
   ],
   "source": [
    "A.min(axis=1) # Generally axis=0 used tofind out column wise values"
   ]
  },
  {
   "cell_type": "markdown",
   "id": "d1dc32ee",
   "metadata": {},
   "source": [
    "# Linear Algebra"
   ]
  },
  {
   "cell_type": "code",
   "execution_count": 132,
   "id": "f4ed8345",
   "metadata": {},
   "outputs": [
    {
     "data": {
      "text/plain": [
       "array([[1, 0, 0],\n",
       "       [0, 1, 0],\n",
       "       [0, 0, 1]])"
      ]
     },
     "execution_count": 132,
     "metadata": {},
     "output_type": "execute_result"
    }
   ],
   "source": [
    "np.eye(3, dtype=int) # Used to create identity matrix"
   ]
  },
  {
   "cell_type": "code",
   "execution_count": 133,
   "id": "2bd9c123",
   "metadata": {},
   "outputs": [
    {
     "data": {
      "text/plain": [
       "array([[2, 0, 0],\n",
       "       [0, 5, 0],\n",
       "       [0, 0, 7]])"
      ]
     },
     "execution_count": 133,
     "metadata": {},
     "output_type": "execute_result"
    }
   ],
   "source": [
    "np.diag([2,5,7]) # Used to create diagonal matrix. We have to provide diagonal elements"
   ]
  },
  {
   "cell_type": "code",
   "execution_count": 139,
   "id": "c28f66ca",
   "metadata": {},
   "outputs": [],
   "source": [
    "x = np.random.randint(0,10,(2,3))\n",
    "y = np.random.randint(0,10,(2,3))"
   ]
  },
  {
   "cell_type": "code",
   "execution_count": 140,
   "id": "0a136e21",
   "metadata": {},
   "outputs": [
    {
     "data": {
      "text/plain": [
       "(array([[3, 2, 9],\n",
       "        [9, 5, 9]]),\n",
       " array([[4, 2, 7],\n",
       "        [8, 5, 1]]))"
      ]
     },
     "execution_count": 140,
     "metadata": {},
     "output_type": "execute_result"
    }
   ],
   "source": [
    "x,y"
   ]
  },
  {
   "cell_type": "code",
   "execution_count": 138,
   "id": "0f0cffc2",
   "metadata": {},
   "outputs": [],
   "source": [
    "# Matrix Multiplication:- for two matrices condn:- col1=row2, resultant matrix of size row1 * col2\n",
    "# Transpose:- In this rows of matrix willl get convert into columns and columns into rows"
   ]
  },
  {
   "cell_type": "code",
   "execution_count": 144,
   "id": "bf3ab4b3",
   "metadata": {},
   "outputs": [
    {
     "data": {
      "text/plain": [
       "array([[4, 8],\n",
       "       [2, 5],\n",
       "       [7, 1]])"
      ]
     },
     "execution_count": 144,
     "metadata": {},
     "output_type": "execute_result"
    }
   ],
   "source": [
    "y.T # Here, transpose of y will be create by converting 2 rows into 3 columns and 3 columns into 2 rows"
   ]
  },
  {
   "cell_type": "code",
   "execution_count": 145,
   "id": "ed72e666",
   "metadata": {},
   "outputs": [
    {
     "data": {
      "text/plain": [
       "array([[ 79,  43],\n",
       "       [109, 106]])"
      ]
     },
     "execution_count": 145,
     "metadata": {},
     "output_type": "execute_result"
    }
   ],
   "source": [
    "x.dot(y.T) # Used for matrix multiplication. Size 2*2"
   ]
  },
  {
   "cell_type": "code",
   "execution_count": 146,
   "id": "eef32416",
   "metadata": {},
   "outputs": [
    {
     "data": {
      "text/plain": [
       "array([[ 84,  48, 108],\n",
       "       [ 51,  29,  63],\n",
       "       [ 30,  19,  72]])"
      ]
     },
     "execution_count": 146,
     "metadata": {},
     "output_type": "execute_result"
    }
   ],
   "source": [
    "(y.T).dot(x) # Used for matrix multiplication. Resultant matrix size 3*3"
   ]
  },
  {
   "cell_type": "code",
   "execution_count": 147,
   "id": "fff5fb44",
   "metadata": {},
   "outputs": [],
   "source": [
    "# Inverse of matrix:- We can find out mat. inverse by using linear algebra.\n",
    "# condition:- It should be square mat. (i.e. no. of row = no.of column), Detetminant of matrix > 0"
   ]
  },
  {
   "cell_type": "code",
   "execution_count": 152,
   "id": "5c734cc2",
   "metadata": {},
   "outputs": [
    {
     "data": {
      "text/plain": [
       "array([[ 1, 10,  7],\n",
       "       [ 2,  4,  8],\n",
       "       [ 8,  6,  3]])"
      ]
     },
     "execution_count": 152,
     "metadata": {},
     "output_type": "execute_result"
    }
   ],
   "source": [
    "z = np.random.randint(1,11,(3,3))\n",
    "z"
   ]
  },
  {
   "cell_type": "code",
   "execution_count": 153,
   "id": "3b0c7a67",
   "metadata": {},
   "outputs": [
    {
     "data": {
      "text/plain": [
       "403.99999999999983"
      ]
     },
     "execution_count": 153,
     "metadata": {},
     "output_type": "execute_result"
    }
   ],
   "source": [
    "np.linalg.det(z) # Determinant is greater than 0."
   ]
  },
  {
   "cell_type": "code",
   "execution_count": 155,
   "id": "4b718021",
   "metadata": {},
   "outputs": [
    {
     "data": {
      "text/plain": [
       "array([[-0.08910891,  0.02970297,  0.12871287],\n",
       "       [ 0.14356436, -0.13118812,  0.01485149],\n",
       "       [-0.04950495,  0.18316832, -0.03960396]])"
      ]
     },
     "execution_count": 155,
     "metadata": {},
     "output_type": "execute_result"
    }
   ],
   "source": [
    "z_inv = np.linalg.inv(z) # Used to find inverse of matrix\n",
    "z_inv"
   ]
  },
  {
   "cell_type": "code",
   "execution_count": 156,
   "id": "cc34ae7e",
   "metadata": {},
   "outputs": [
    {
     "data": {
      "text/plain": [
       "array([[ 1.00000000e+00,  1.66533454e-16,  2.08166817e-17],\n",
       "       [-5.55111512e-17,  1.00000000e+00,  0.00000000e+00],\n",
       "       [-9.71445147e-17, -5.55111512e-17,  1.00000000e+00]])"
      ]
     },
     "execution_count": 156,
     "metadata": {},
     "output_type": "execute_result"
    }
   ],
   "source": [
    "z.dot(z_inv) # It should be identity matrix"
   ]
  },
  {
   "cell_type": "code",
   "execution_count": 157,
   "id": "394b5ed0",
   "metadata": {},
   "outputs": [
    {
     "data": {
      "text/plain": [
       "array([[ 1., 10.,  7.],\n",
       "       [ 2.,  4.,  8.],\n",
       "       [ 8.,  6.,  3.]])"
      ]
     },
     "execution_count": 157,
     "metadata": {},
     "output_type": "execute_result"
    }
   ],
   "source": [
    "np.linalg.inv(z_inv) # it should be equal to original z matrix"
   ]
  },
  {
   "cell_type": "code",
   "execution_count": 167,
   "id": "c11dd98c",
   "metadata": {},
   "outputs": [
    {
     "data": {
      "text/plain": [
       "(array([16.08769462+0.j        , -4.04384731+2.95967232j,\n",
       "        -4.04384731-2.95967232j]),\n",
       " array([[ 0.61515644+0.j        , -0.20704282+0.46051711j,\n",
       "         -0.20704282-0.46051711j],\n",
       "        [ 0.50337517+0.j        , -0.48663594-0.29355569j,\n",
       "         -0.48663594+0.29355569j],\n",
       "        [ 0.60679155+0.j        ,  0.64966744+0.j        ,\n",
       "          0.64966744-0.j        ]]))"
      ]
     },
     "execution_count": 167,
     "metadata": {},
     "output_type": "execute_result"
    }
   ],
   "source": [
    "#Eigen value, Eigen vector- Used to find out eig. value and eig. vector of given matrix Ax = $x  $- Eig value x- eig vector\n",
    "z_eig = np.linalg.eig(z)\n",
    "z_eig"
   ]
  },
  {
   "cell_type": "markdown",
   "id": "ba83bcac",
   "metadata": {},
   "source": [
    "# Concatination of Matrices"
   ]
  },
  {
   "cell_type": "code",
   "execution_count": 172,
   "id": "33e47e2d",
   "metadata": {},
   "outputs": [
    {
     "data": {
      "text/plain": [
       "(array([[10,  3,  1,  6],\n",
       "        [ 9,  1,  1,  3],\n",
       "        [ 7,  8,  1,  7]]),\n",
       " array([[3, 6],\n",
       "        [6, 8],\n",
       "        [9, 7]]),\n",
       " array([[ 8, 10,  4,  9],\n",
       "        [ 4,  3,  2,  3]]))"
      ]
     },
     "execution_count": 172,
     "metadata": {},
     "output_type": "execute_result"
    }
   ],
   "source": [
    "A = np.random.randint(1,11,(3,4))\n",
    "B = np.random.randint(1,11,(3,2))\n",
    "C = np.random.randint(1,11,(2,4))\n",
    "A,B,C"
   ]
  },
  {
   "cell_type": "code",
   "execution_count": 179,
   "id": "4f27a91a",
   "metadata": {},
   "outputs": [
    {
     "data": {
      "text/plain": [
       "array([[10,  3,  1,  6,  3,  6],\n",
       "       [ 9,  1,  1,  3,  6,  8],\n",
       "       [ 7,  8,  1,  7,  9,  7]])"
      ]
     },
     "execution_count": 179,
     "metadata": {},
     "output_type": "execute_result"
    }
   ],
   "source": [
    "D = np.hstack((A,B)) #Used to concatinate 2 array horizontally, (no.of rows of A = no.of rows of B)\n",
    "D"
   ]
  },
  {
   "cell_type": "code",
   "execution_count": 178,
   "id": "aead3e3a",
   "metadata": {},
   "outputs": [
    {
     "data": {
      "text/plain": [
       "array([[10,  3,  1,  6],\n",
       "       [ 9,  1,  1,  3],\n",
       "       [ 7,  8,  1,  7],\n",
       "       [ 8, 10,  4,  9],\n",
       "       [ 4,  3,  2,  3]])"
      ]
     },
     "execution_count": 178,
     "metadata": {},
     "output_type": "execute_result"
    }
   ],
   "source": [
    "E = np.vstack((A,C)) #Used to concatinate 2 array vertically, (no.of columns of A = no.of columns of C)\n",
    "E"
   ]
  },
  {
   "cell_type": "markdown",
   "id": "e60158e7",
   "metadata": {},
   "source": [
    "# Split Function"
   ]
  },
  {
   "cell_type": "code",
   "execution_count": 6,
   "id": "8b6bd2ef",
   "metadata": {},
   "outputs": [
    {
     "data": {
      "text/plain": [
       "array([[ 4,  9,  6],\n",
       "       [ 8, 10,  5],\n",
       "       [ 9,  7,  8],\n",
       "       [ 7,  5,  6]])"
      ]
     },
     "execution_count": 6,
     "metadata": {},
     "output_type": "execute_result"
    }
   ],
   "source": [
    "A = np.random.randint(1,11,(4,3))\n",
    "A"
   ]
  },
  {
   "cell_type": "code",
   "execution_count": 8,
   "id": "34bb537c",
   "metadata": {},
   "outputs": [
    {
     "data": {
      "text/plain": [
       "[array([[4, 9, 6]]),\n",
       " array([[ 8, 10,  5]]),\n",
       " array([[9, 7, 8]]),\n",
       " array([[7, 5, 6]])]"
      ]
     },
     "execution_count": 8,
     "metadata": {},
     "output_type": "execute_result"
    }
   ],
   "source": [
    "new = np.array_split(A,4) # It is used to split the array in given no of splits\n",
    "new"
   ]
  },
  {
   "cell_type": "code",
   "execution_count": 9,
   "id": "278d0b49",
   "metadata": {},
   "outputs": [
    {
     "data": {
      "text/plain": [
       "array([[ 8, 10,  5]])"
      ]
     },
     "execution_count": 9,
     "metadata": {},
     "output_type": "execute_result"
    }
   ],
   "source": [
    "new[1] # We can access the splitted elements like individual elemnets of array"
   ]
  },
  {
   "cell_type": "code",
   "execution_count": 11,
   "id": "bc19a9fe",
   "metadata": {},
   "outputs": [
    {
     "data": {
      "text/plain": [
       "[array([[4],\n",
       "        [8],\n",
       "        [9],\n",
       "        [7]]),\n",
       " array([[ 9],\n",
       "        [10],\n",
       "        [ 7],\n",
       "        [ 5]]),\n",
       " array([[6],\n",
       "        [5],\n",
       "        [8],\n",
       "        [6]])]"
      ]
     },
     "execution_count": 11,
     "metadata": {},
     "output_type": "execute_result"
    }
   ],
   "source": [
    "new1 = np.array_split(A,3, axis=1) # Also we can provide the axis on which split operations is to be performed\n",
    "new1"
   ]
  },
  {
   "cell_type": "code",
   "execution_count": 17,
   "id": "bb8e24c0",
   "metadata": {},
   "outputs": [
    {
     "data": {
      "text/plain": [
       "[array([[4],\n",
       "        [8],\n",
       "        [9],\n",
       "        [7]]),\n",
       " array([[ 9],\n",
       "        [10],\n",
       "        [ 7],\n",
       "        [ 5]]),\n",
       " array([[6],\n",
       "        [5],\n",
       "        [8],\n",
       "        [6]])]"
      ]
     },
     "execution_count": 17,
     "metadata": {},
     "output_type": "execute_result"
    }
   ],
   "source": [
    "hoz = np.hsplit(A,3) # Also we can used hsplit and vsplit to split the array horizontally or vertically\n",
    "ver = np.vsplit(A,4)\n",
    "hoz # It will split the array column wise"
   ]
  },
  {
   "cell_type": "code",
   "execution_count": 18,
   "id": "ff4c3ce7",
   "metadata": {},
   "outputs": [
    {
     "data": {
      "text/plain": [
       "[array([[4, 9, 6]]),\n",
       " array([[ 8, 10,  5]]),\n",
       " array([[9, 7, 8]]),\n",
       " array([[7, 5, 6]])]"
      ]
     },
     "execution_count": 18,
     "metadata": {},
     "output_type": "execute_result"
    }
   ],
   "source": [
    "ver # It will split the array row wise"
   ]
  },
  {
   "cell_type": "code",
   "execution_count": 21,
   "id": "64bfb7f0",
   "metadata": {},
   "outputs": [
    {
     "data": {
      "text/plain": [
       "[array([[ 4,  9,  6],\n",
       "        [ 8, 10,  5]]),\n",
       " array([[9, 7, 8]]),\n",
       " array([[7, 5, 6]])]"
      ]
     },
     "execution_count": 21,
     "metadata": {},
     "output_type": "execute_result"
    }
   ],
   "source": [
    "less = np.array_split(A,3) # If the no of elements for split are less the it will adjust the split from end\n",
    "less"
   ]
  },
  {
   "cell_type": "markdown",
   "id": "61eb66a7",
   "metadata": {},
   "source": [
    "# Search and sort"
   ]
  },
  {
   "cell_type": "code",
   "execution_count": 22,
   "id": "de1ec1e2",
   "metadata": {},
   "outputs": [
    {
     "data": {
      "text/plain": [
       "array([[ 4,  9,  6],\n",
       "       [ 8, 10,  5],\n",
       "       [ 9,  7,  8],\n",
       "       [ 7,  5,  6]])"
      ]
     },
     "execution_count": 22,
     "metadata": {},
     "output_type": "execute_result"
    }
   ],
   "source": [
    "A"
   ]
  },
  {
   "cell_type": "code",
   "execution_count": 28,
   "id": "5d992bc9",
   "metadata": {},
   "outputs": [
    {
     "data": {
      "text/plain": [
       "(array([1, 3], dtype=int64), array([2, 1], dtype=int64))"
      ]
     },
     "execution_count": 28,
     "metadata": {},
     "output_type": "execute_result"
    }
   ],
   "source": [
    "x = np.where(A == 5) #Used to find the index of chosen element from the given array.First array will give outer array index\n",
    "x                    # and then the individualindex"
   ]
  },
  {
   "cell_type": "code",
   "execution_count": 29,
   "id": "f65eaeff",
   "metadata": {},
   "outputs": [
    {
     "data": {
      "text/plain": [
       "(array([2, 3], dtype=int64), array([1, 0], dtype=int64))"
      ]
     },
     "execution_count": 29,
     "metadata": {},
     "output_type": "execute_result"
    }
   ],
   "source": [
    "y = np.where(A == 7)\n",
    "y"
   ]
  },
  {
   "cell_type": "code",
   "execution_count": 31,
   "id": "dcd49718",
   "metadata": {},
   "outputs": [
    {
     "data": {
      "text/plain": [
       "(array([0, 0, 1, 1, 2, 3], dtype=int64),\n",
       " array([0, 2, 0, 1, 2, 2], dtype=int64))"
      ]
     },
     "execution_count": 31,
     "metadata": {},
     "output_type": "execute_result"
    }
   ],
   "source": [
    "z = np.where(A%2 == 0) # It will give the indexes of even numbers\n",
    "z"
   ]
  },
  {
   "cell_type": "code",
   "execution_count": 41,
   "id": "651eacc8",
   "metadata": {},
   "outputs": [
    {
     "data": {
      "text/plain": [
       "1"
      ]
     },
     "execution_count": 41,
     "metadata": {},
     "output_type": "execute_result"
    }
   ],
   "source": [
    "B = np. array([1,3,5,7])\n",
    "p = np.searchsorted(B, 2) # It returns the index where the specified value would be inserted to maintain the search order.\n",
    "p                         # It will return the index from the original array"
   ]
  },
  {
   "cell_type": "code",
   "execution_count": 37,
   "id": "04b9f55b",
   "metadata": {},
   "outputs": [
    {
     "data": {
      "text/plain": [
       "array([1, 2, 3], dtype=int64)"
      ]
     },
     "execution_count": 37,
     "metadata": {},
     "output_type": "execute_result"
    }
   ],
   "source": [
    "p = np.searchsorted(B,[2,4,6]) #We can do it for multiple elements as well and retunrs the indices of original array where \n",
    "p                               # the chosen elements to be inserted"
   ]
  },
  {
   "cell_type": "code",
   "execution_count": 50,
   "id": "65fad430",
   "metadata": {},
   "outputs": [
    {
     "data": {
      "text/plain": [
       "3"
      ]
     },
     "execution_count": 50,
     "metadata": {},
     "output_type": "execute_result"
    }
   ],
   "source": [
    "q = np.searchsorted(B, 6, side='right') # we can change the direction from which we want the index\n",
    "q"
   ]
  },
  {
   "cell_type": "code",
   "execution_count": 51,
   "id": "e116b234",
   "metadata": {},
   "outputs": [],
   "source": [
    "# Sort :-We can sort the elements of array. It can be done on multidiamensianal array as well."
   ]
  },
  {
   "cell_type": "code",
   "execution_count": 52,
   "id": "daf709c3",
   "metadata": {},
   "outputs": [
    {
     "data": {
      "text/plain": [
       "array([[ 4,  6,  9],\n",
       "       [ 5,  8, 10],\n",
       "       [ 7,  8,  9],\n",
       "       [ 5,  6,  7]])"
      ]
     },
     "execution_count": 52,
     "metadata": {},
     "output_type": "execute_result"
    }
   ],
   "source": [
    "B = np.sort(A) # It will return the copy of original array without the changing the original\n",
    "B"
   ]
  },
  {
   "cell_type": "code",
   "execution_count": 53,
   "id": "5759fa6c",
   "metadata": {},
   "outputs": [
    {
     "data": {
      "text/plain": [
       "array([[ 4,  9,  6],\n",
       "       [ 8, 10,  5],\n",
       "       [ 9,  7,  8],\n",
       "       [ 7,  5,  6]])"
      ]
     },
     "execution_count": 53,
     "metadata": {},
     "output_type": "execute_result"
    }
   ],
   "source": [
    "A"
   ]
  },
  {
   "cell_type": "code",
   "execution_count": 54,
   "id": "1e5d6f1c",
   "metadata": {},
   "outputs": [],
   "source": [
    "#Filter:-It will filter the array on the basis of boolean array passed to it."
   ]
  },
  {
   "cell_type": "code",
   "execution_count": 56,
   "id": "53e1ca95",
   "metadata": {},
   "outputs": [
    {
     "name": "stdout",
     "output_type": "stream",
     "text": [
      "[2 5 8 9]\n"
     ]
    }
   ],
   "source": [
    "C = np.array([2,5,3,4,8,10,9])  # It will return only True elements of original\n",
    "D = np.array([True,True,False,False,True,False,True])\n",
    "E = C[D]\n",
    "print(E)"
   ]
  },
  {
   "cell_type": "code",
   "execution_count": 57,
   "id": "2667c408",
   "metadata": {},
   "outputs": [
    {
     "name": "stdout",
     "output_type": "stream",
     "text": [
      "[ 2  3  4  5  8  9 10]\n"
     ]
    }
   ],
   "source": [
    "print (np.sort(C))"
   ]
  },
  {
   "cell_type": "code",
   "execution_count": 58,
   "id": "8181dde0",
   "metadata": {},
   "outputs": [
    {
     "data": {
      "text/plain": [
       "array([ 2,  5,  3,  4,  8, 10,  9])"
      ]
     },
     "execution_count": 58,
     "metadata": {},
     "output_type": "execute_result"
    }
   ],
   "source": [
    "C"
   ]
  },
  {
   "cell_type": "code",
   "execution_count": 64,
   "id": "c1fd116d",
   "metadata": {},
   "outputs": [
    {
     "name": "stdout",
     "output_type": "stream",
     "text": [
      "Enetr the array elements :1\n",
      "Enetr the array elements :2\n",
      "Enetr the array elements :3\n",
      "Enetr the array elements :4\n",
      "Enetr the array elements :5\n",
      "Enetr the array elements :6\n",
      "Enetr the array elements :7\n",
      "Enetr the array elements :8\n",
      "Enetr the array elements :9\n",
      "Enetr the array elements :1\n",
      "Enetr the array elements :2\n",
      "Enetr the array elements :3\n",
      "Enetr the array elements :4\n",
      "Enetr the array elements :5\n",
      "Enetr the array elements :6\n",
      "Enetr the array elements :7\n",
      "Enetr the array elements :8\n",
      "Enetr the array elements :9\n",
      "Enetr the array elements :1\n",
      "Enetr the array elements :2\n",
      "Enetr the array elements :3\n",
      "Enetr the array elements :4\n",
      "Enetr the array elements :5\n",
      "Enetr the array elements :6\n",
      "[[[1. 2. 3. 4.]\n",
      "  [5. 6. 7. 8.]\n",
      "  [9. 1. 2. 3.]]\n",
      "\n",
      " [[4. 5. 6. 7.]\n",
      "  [8. 9. 1. 2.]\n",
      "  [3. 4. 5. 6.]]]\n"
     ]
    }
   ],
   "source": [
    "# Accept the user input values for given array elements\n",
    "A = np.zeros((2,3,4))\n",
    "B = A.shape\n",
    "for i in range(B[0]):\n",
    "    for j in range (B[1]):\n",
    "        for k in range(B[2]):\n",
    "            A[i,j,k] = int(input(\"Enetr the array elements :\"))\n",
    "print(A)"
   ]
  },
  {
   "cell_type": "code",
   "execution_count": 65,
   "id": "8c89a3d5",
   "metadata": {},
   "outputs": [],
   "source": [
    "# Selection and Filtering:- For this we have to pass boolean array to required array. \n",
    "# For getting any boolean array we have to use Relational operators like (<, >, <=, >=,!=, ==)"
   ]
  },
  {
   "cell_type": "code",
   "execution_count": 67,
   "id": "68c6bde1",
   "metadata": {},
   "outputs": [
    {
     "data": {
      "text/plain": [
       "array([ 3,  4, -4, -6,  5, -5, -4, -9,  2,  5,  1,  1, -6,  8,  2])"
      ]
     },
     "execution_count": 67,
     "metadata": {},
     "output_type": "execute_result"
    }
   ],
   "source": [
    "A = np.random.randint(-10, 10, (15))\n",
    "A"
   ]
  },
  {
   "cell_type": "code",
   "execution_count": 69,
   "id": "975f3223",
   "metadata": {},
   "outputs": [
    {
     "data": {
      "text/plain": [
       "array([ True,  True, False, False,  True, False, False, False,  True,\n",
       "        True,  True,  True, False,  True,  True])"
      ]
     },
     "execution_count": 69,
     "metadata": {},
     "output_type": "execute_result"
    }
   ],
   "source": [
    "B = A>0 # Getting boolean array by using relational operator\n",
    "B"
   ]
  },
  {
   "cell_type": "code",
   "execution_count": 72,
   "id": "792ad56e",
   "metadata": {},
   "outputs": [
    {
     "data": {
      "text/plain": [
       "array([3, 4, 5, 2, 5, 1, 1, 8, 2])"
      ]
     },
     "execution_count": 72,
     "metadata": {},
     "output_type": "execute_result"
    }
   ],
   "source": [
    "A[B] # Filetring/ Selection by passing boolean array to original array. Return only those values which are True"
   ]
  },
  {
   "cell_type": "code",
   "execution_count": 73,
   "id": "4c39f423",
   "metadata": {},
   "outputs": [
    {
     "data": {
      "text/plain": [
       "array([ 1, 32, 31, 10, 14, 49,  2, 30, 14, 36, 17, 17,  6, 28,  2,  9,  9,\n",
       "       25, 45, 17])"
      ]
     },
     "execution_count": 73,
     "metadata": {},
     "output_type": "execute_result"
    }
   ],
   "source": [
    "C = np.random.randint(1,50,(20))\n",
    "C"
   ]
  },
  {
   "cell_type": "code",
   "execution_count": 74,
   "id": "793894cb",
   "metadata": {},
   "outputs": [
    {
     "data": {
      "text/plain": [
       "array([False,  True, False,  True,  True, False,  True,  True,  True,\n",
       "        True, False, False,  True,  True,  True, False, False, False,\n",
       "       False, False])"
      ]
     },
     "execution_count": 74,
     "metadata": {},
     "output_type": "execute_result"
    }
   ],
   "source": [
    "D = C%2==0 # Return only if array element is divisible by 2\n",
    "D"
   ]
  },
  {
   "cell_type": "code",
   "execution_count": 75,
   "id": "16332d78",
   "metadata": {},
   "outputs": [
    {
     "data": {
      "text/plain": [
       "array([32, 10, 14,  2, 30, 14, 36,  6, 28,  2])"
      ]
     },
     "execution_count": 75,
     "metadata": {},
     "output_type": "execute_result"
    }
   ],
   "source": [
    "C[D] # It will return only even values"
   ]
  },
  {
   "cell_type": "code",
   "execution_count": 78,
   "id": "5902aca7",
   "metadata": {},
   "outputs": [
    {
     "data": {
      "text/plain": [
       "array([False, False, False, False, False, False, False,  True, False,\n",
       "        True, False, False,  True, False, False,  True,  True, False,\n",
       "        True, False])"
      ]
     },
     "execution_count": 78,
     "metadata": {},
     "output_type": "execute_result"
    }
   ],
   "source": [
    "E =( C%3 == 0) # Return only if array element is divisible by 3\n",
    "E"
   ]
  },
  {
   "cell_type": "code",
   "execution_count": 83,
   "id": "77d36b47",
   "metadata": {},
   "outputs": [
    {
     "ename": "ValueError",
     "evalue": "The truth value of an array with more than one element is ambiguous. Use a.any() or a.all()",
     "output_type": "error",
     "traceback": [
      "\u001b[1;31m---------------------------------------------------------------------------\u001b[0m",
      "\u001b[1;31mValueError\u001b[0m                                Traceback (most recent call last)",
      "\u001b[1;32m<ipython-input-83-e701f6b49c5d>\u001b[0m in \u001b[0;36m<module>\u001b[1;34m\u001b[0m\n\u001b[1;32m----> 1\u001b[1;33m \u001b[0mF\u001b[0m \u001b[1;33m=\u001b[0m \u001b[0mC\u001b[0m \u001b[1;33m[\u001b[0m\u001b[0mD\u001b[0m \u001b[1;32mand\u001b[0m \u001b[0mE\u001b[0m\u001b[1;33m]\u001b[0m \u001b[1;31m# Check if array element is divisible by both 2 and 3. Here, we cant use logical operator as it will not work bit by bit\u001b[0m\u001b[1;33m\u001b[0m\u001b[1;33m\u001b[0m\u001b[0m\n\u001b[0m",
      "\u001b[1;31mValueError\u001b[0m: The truth value of an array with more than one element is ambiguous. Use a.any() or a.all()"
     ]
    }
   ],
   "source": [
    "F = C [D and E] # Check if array element is divisible by both 2 and 3. Here, we cant use logical operator as it will not work bit by bit"
   ]
  },
  {
   "cell_type": "code",
   "execution_count": 84,
   "id": "224c367d",
   "metadata": {},
   "outputs": [
    {
     "data": {
      "text/plain": [
       "array([30, 36,  6])"
      ]
     },
     "execution_count": 84,
     "metadata": {},
     "output_type": "execute_result"
    }
   ],
   "source": [
    "F = C[D & E] # Instead we have to use bitwise operators for array operations\n",
    "F"
   ]
  },
  {
   "cell_type": "markdown",
   "id": "9cfe2915",
   "metadata": {},
   "source": [
    "# Image Operations using Numpy"
   ]
  },
  {
   "cell_type": "code",
   "execution_count": 85,
   "id": "e3bc2abc",
   "metadata": {},
   "outputs": [],
   "source": [
    "# Any imgae can be converted into numpy array. Array contains 3 parameters [no. of rows, no. of cols., color info.]\n",
    "# Color info contains the values of R, G, B on color scale (between 0 to 255) i.e. [R(0-255), G(0-255), B(0-255)]"
   ]
  },
  {
   "cell_type": "code",
   "execution_count": 86,
   "id": "885ee19d",
   "metadata": {},
   "outputs": [],
   "source": [
    "from skimage import io"
   ]
  },
  {
   "cell_type": "code",
   "execution_count": 88,
   "id": "6017a47f",
   "metadata": {},
   "outputs": [],
   "source": [
    "A = io.imread('../Numpy/nature.jfif') # Used to read the image in numpy"
   ]
  },
  {
   "cell_type": "code",
   "execution_count": 89,
   "id": "977b9a87",
   "metadata": {},
   "outputs": [
    {
     "data": {
      "text/plain": [
       "(751, 1000, 3)"
      ]
     },
     "execution_count": 89,
     "metadata": {},
     "output_type": "execute_result"
    }
   ],
   "source": [
    "A.shape #It gives the size of array i.e. [no. of rows, no. of cols., color info.]"
   ]
  },
  {
   "cell_type": "code",
   "execution_count": 91,
   "id": "ebba4f38",
   "metadata": {},
   "outputs": [
    {
     "data": {
      "text/plain": [
       "array([[[195, 174, 129],\n",
       "        [196, 175, 130],\n",
       "        [197, 176, 131],\n",
       "        ...,\n",
       "        [129, 124,  94],\n",
       "        [132, 127,  97],\n",
       "        [134, 129,  99]],\n",
       "\n",
       "       [[195, 174, 129],\n",
       "        [196, 175, 130],\n",
       "        [197, 176, 131],\n",
       "        ...,\n",
       "        [130, 125,  95],\n",
       "        [132, 127,  97],\n",
       "        [133, 128,  98]],\n",
       "\n",
       "       [[196, 175, 130],\n",
       "        [197, 176, 131],\n",
       "        [198, 177, 132],\n",
       "        ...,\n",
       "        [129, 124,  94],\n",
       "        [129, 124,  94],\n",
       "        [130, 125,  95]],\n",
       "\n",
       "       ...,\n",
       "\n",
       "       [[  7,  71,  55],\n",
       "        [  7,  71,  55],\n",
       "        [  6,  70,  54],\n",
       "        ...,\n",
       "        [  5,  46,  42],\n",
       "        [  5,  46,  42],\n",
       "        [  5,  46,  42]],\n",
       "\n",
       "       [[  7,  71,  55],\n",
       "        [  7,  71,  55],\n",
       "        [  6,  70,  54],\n",
       "        ...,\n",
       "        [  5,  46,  42],\n",
       "        [  5,  46,  42],\n",
       "        [  5,  46,  42]],\n",
       "\n",
       "       [[  7,  71,  55],\n",
       "        [  6,  70,  54],\n",
       "        [  6,  70,  54],\n",
       "        ...,\n",
       "        [  5,  46,  42],\n",
       "        [  5,  46,  42],\n",
       "        [  5,  46,  42]]], dtype=uint8)"
      ]
     },
     "execution_count": 91,
     "metadata": {},
     "output_type": "execute_result"
    }
   ],
   "source": [
    "A           # It gives the color info. i.e. RGB values"
   ]
  },
  {
   "cell_type": "code",
   "execution_count": 92,
   "id": "97399e2d",
   "metadata": {},
   "outputs": [
    {
     "data": {
      "text/plain": [
       "<matplotlib.image.AxesImage at 0x232364a25e0>"
      ]
     },
     "execution_count": 92,
     "metadata": {},
     "output_type": "execute_result"
    },
    {
     "data": {
      "image/png": "[encoded data removed]",
      "text/plain": [
       "<Figure size 432x288 with 1 Axes>"
      ]
     },
     "metadata": {
      "needs_background": "light"
     },
     "output_type": "display_data"
    }
   ],
   "source": [
    "io.imshow(A) # Used to show the given image "
   ]
  },
  {
   "cell_type": "code",
   "execution_count": 94,
   "id": "a948773a",
   "metadata": {},
   "outputs": [
    {
     "data": {
      "text/plain": [
       "<matplotlib.image.AxesImage at 0x2323671e0d0>"
      ]
     },
     "execution_count": 94,
     "metadata": {},
     "output_type": "execute_result"
    },
    {
     "data": {
      "image/png": "[encoded data removed]",
      "text/plain": [
       "<Figure size 432x288 with 1 Axes>"
      ]
     },
     "metadata": {
      "needs_background": "light"
     },
     "output_type": "display_data"
    }
   ],
   "source": [
    "io.imshow(A[350:500, 100:300]) # Slicing is used to crop the image"
   ]
  },
  {
   "cell_type": "code",
   "execution_count": 96,
   "id": "27b1876a",
   "metadata": {},
   "outputs": [],
   "source": [
    "io.imsave('n1.jpg',(A[350:500, 100:300])) # It is used to save image"
   ]
  },
  {
   "cell_type": "code",
   "execution_count": 97,
   "id": "a095d766",
   "metadata": {},
   "outputs": [
    {
     "data": {
      "text/plain": [
       "<matplotlib.image.AxesImage at 0x232370c85b0>"
      ]
     },
     "execution_count": 97,
     "metadata": {},
     "output_type": "execute_result"
    },
    {
     "data": {
      "image/png": "[encoded data removed]",
      "text/plain": [
       "<Figure size 432x288 with 1 Axes>"
      ]
     },
     "metadata": {
      "needs_background": "light"
     },
     "output_type": "display_data"
    }
   ],
   "source": [
    "io.imshow(A[:,::-1]) # we can mirror the image by reversing the columns"
   ]
  },
  {
   "cell_type": "code",
   "execution_count": 2,
   "id": "c9eb7a5c",
   "metadata": {},
   "outputs": [],
   "source": [
    "# Reshape:- It is uesd to change the shape/ diamensions of an array"
   ]
  },
  {
   "cell_type": "code",
   "execution_count": 8,
   "id": "e61752d3",
   "metadata": {},
   "outputs": [
    {
     "data": {
      "text/plain": [
       "array([10, 20, 30, 40, 50, 60, 70, 80])"
      ]
     },
     "execution_count": 8,
     "metadata": {},
     "output_type": "execute_result"
    }
   ],
   "source": [
    "A = np.arange(10,90,10)\n",
    "A"
   ]
  },
  {
   "cell_type": "code",
   "execution_count": 9,
   "id": "5d65c3a4",
   "metadata": {},
   "outputs": [
    {
     "data": {
      "text/plain": [
       "array([[10, 20],\n",
       "       [30, 40],\n",
       "       [50, 60],\n",
       "       [70, 80]])"
      ]
     },
     "execution_count": 9,
     "metadata": {},
     "output_type": "execute_result"
    }
   ],
   "source": [
    "A.reshape(4,2) # It change the shape from 1D to 2D array of size (4,2). Cond:- no of elements in both array must ne same"
   ]
  },
  {
   "cell_type": "code",
   "execution_count": 10,
   "id": "adf2f2fa",
   "metadata": {},
   "outputs": [
    {
     "data": {
      "text/plain": [
       "array([[10, 20, 30, 40],\n",
       "       [50, 60, 70, 80]])"
      ]
     },
     "execution_count": 10,
     "metadata": {},
     "output_type": "execute_result"
    }
   ],
   "source": [
    "A.reshape(2,4)"
   ]
  },
  {
   "cell_type": "code",
   "execution_count": 13,
   "id": "b56e881a",
   "metadata": {},
   "outputs": [
    {
     "ename": "ValueError",
     "evalue": "cannot reshape array of size 8 into shape (3,3)",
     "output_type": "error",
     "traceback": [
      "\u001b[1;31m---------------------------------------------------------------------------\u001b[0m",
      "\u001b[1;31mValueError\u001b[0m                                Traceback (most recent call last)",
      "\u001b[1;32m<ipython-input-13-4e39bb97c530>\u001b[0m in \u001b[0;36m<module>\u001b[1;34m\u001b[0m\n\u001b[1;32m----> 1\u001b[1;33m \u001b[0mA\u001b[0m\u001b[1;33m.\u001b[0m\u001b[0mreshape\u001b[0m\u001b[1;33m(\u001b[0m\u001b[1;36m3\u001b[0m\u001b[1;33m,\u001b[0m\u001b[1;36m3\u001b[0m\u001b[1;33m)\u001b[0m \u001b[1;31m# It is not possible, as no of elements in reshaped array are more than original array. (8 ele. into 9 ele.)\u001b[0m\u001b[1;33m\u001b[0m\u001b[1;33m\u001b[0m\u001b[0m\n\u001b[0m",
      "\u001b[1;31mValueError\u001b[0m: cannot reshape array of size 8 into shape (3,3)"
     ]
    }
   ],
   "source": [
    "A.reshape(3,3) # It is not possible, as no of elements in reshaped array are more than original array. (8 ele. into 9 ele.)"
   ]
  },
  {
   "cell_type": "code",
   "execution_count": 14,
   "id": "a96dfb5e",
   "metadata": {},
   "outputs": [
    {
     "ename": "ValueError",
     "evalue": "cannot reshape array of size 8 into shape (2,2)",
     "output_type": "error",
     "traceback": [
      "\u001b[1;31m---------------------------------------------------------------------------\u001b[0m",
      "\u001b[1;31mValueError\u001b[0m                                Traceback (most recent call last)",
      "\u001b[1;32m<ipython-input-14-a7163b975b35>\u001b[0m in \u001b[0;36m<module>\u001b[1;34m\u001b[0m\n\u001b[1;32m----> 1\u001b[1;33m \u001b[0mA\u001b[0m\u001b[1;33m.\u001b[0m\u001b[0mreshape\u001b[0m\u001b[1;33m(\u001b[0m\u001b[1;36m2\u001b[0m\u001b[1;33m,\u001b[0m\u001b[1;36m2\u001b[0m\u001b[1;33m)\u001b[0m \u001b[1;31m# It is not possible, as no of elements in reshaped array are less than original array.(8 ele. into 4 ele.)\u001b[0m\u001b[1;33m\u001b[0m\u001b[1;33m\u001b[0m\u001b[0m\n\u001b[0m",
      "\u001b[1;31mValueError\u001b[0m: cannot reshape array of size 8 into shape (2,2)"
     ]
    }
   ],
   "source": [
    "A.reshape(2,2) # It is not possible, as no of elements in reshaped array are less than original array.(8 ele. into 4 ele.)"
   ]
  },
  {
   "cell_type": "code",
   "execution_count": 15,
   "id": "53453eb7",
   "metadata": {},
   "outputs": [
    {
     "data": {
      "text/plain": [
       "array([[10],\n",
       "       [20],\n",
       "       [30],\n",
       "       [40],\n",
       "       [50],\n",
       "       [60],\n",
       "       [70],\n",
       "       [80]])"
      ]
     },
     "execution_count": 15,
     "metadata": {},
     "output_type": "execute_result"
    }
   ],
   "source": [
    "A.reshape(8,1) # it is 2D array of 8 rows and 1 column "
   ]
  },
  {
   "cell_type": "code",
   "execution_count": 16,
   "id": "6acee526",
   "metadata": {},
   "outputs": [],
   "source": [
    "# Choice:-"
   ]
  },
  {
   "cell_type": "code",
   "execution_count": 20,
   "id": "7b4be175",
   "metadata": {},
   "outputs": [
    {
     "data": {
      "text/plain": [
       "array([[3, 3, 4],\n",
       "       [4, 5, 5],\n",
       "       [3, 2, 1]])"
      ]
     },
     "execution_count": 20,
     "metadata": {},
     "output_type": "execute_result"
    }
   ],
   "source": [
    "A = np.array ([1,2,3,4,5]) # Used to create array of random values from given values of array\n",
    "B = np.random.choice(A,(3,3))\n",
    "B"
   ]
  },
  {
   "cell_type": "code",
   "execution_count": 47,
   "id": "afe8bbec",
   "metadata": {},
   "outputs": [
    {
     "data": {
      "text/plain": [
       "array([[2, 5, 5],\n",
       "       [3, 5, 1],\n",
       "       [5, 1, 5]])"
      ]
     },
     "execution_count": 47,
     "metadata": {},
     "output_type": "execute_result"
    }
   ],
   "source": [
    "C = np.random.choice(A, (3,3), p =[0.2,0.2,0.1,0,0.5])#We can provide probability of occurance of element of original array\n",
    "C"
   ]
  },
  {
   "cell_type": "code",
   "execution_count": 53,
   "id": "50f399b1",
   "metadata": {},
   "outputs": [
    {
     "data": {
      "text/plain": [
       "array([2, 1, 3, 5, 4])"
      ]
     },
     "execution_count": 53,
     "metadata": {},
     "output_type": "execute_result"
    }
   ],
   "source": [
    "np.random.shuffle(A) # It will rearrange the elements of array. Changing the original array\n",
    "A"
   ]
  },
  {
   "cell_type": "code",
   "execution_count": 55,
   "id": "2a05a1e7",
   "metadata": {},
   "outputs": [
    {
     "name": "stdout",
     "output_type": "stream",
     "text": [
      "[2 1 3 5 4] [3 1 4 2 5]\n"
     ]
    }
   ],
   "source": [
    "D = np.random.permutation(A) # It will rearrange the elements of array without changing the original array\n",
    "print(A,D)"
   ]
  },
  {
   "cell_type": "markdown",
   "id": "c2fb4aea",
   "metadata": {},
   "source": [
    "# Universal Functions:-"
   ]
  },
  {
   "cell_type": "code",
   "execution_count": 58,
   "id": "aad9b205",
   "metadata": {},
   "outputs": [
    {
     "data": {
      "text/plain": [
       "array([ 7,  9, 11, 13, 15])"
      ]
     },
     "execution_count": 58,
     "metadata": {},
     "output_type": "execute_result"
    }
   ],
   "source": [
    "x = np.array ([1,2,3,4,5])#ufun are used for vectorization on array instead of iterating array. It is faster than iterating\n",
    "y = np.array([6,7,8,9,10])\n",
    "z = np.add(x,y) # add func. used to add given arrays element by element \n",
    "z"
   ]
  },
  {
   "cell_type": "code",
   "execution_count": 59,
   "id": "ce8dcc4d",
   "metadata": {},
   "outputs": [],
   "source": [
    "#Create own ufunc:-Define func normally and add it to numpy funclib by 'frompyfunc()' I/P- func. name, no of i/p, no of o/p"
   ]
  },
  {
   "cell_type": "code",
   "execution_count": 60,
   "id": "90bd6f4c",
   "metadata": {},
   "outputs": [],
   "source": [
    "def my_add (x,y):\n",
    "    return x+y\n",
    "my_add = np.frompyfunc(my_add, 2, 1)"
   ]
  },
  {
   "cell_type": "code",
   "execution_count": 61,
   "id": "3b1f7919",
   "metadata": {},
   "outputs": [
    {
     "data": {
      "text/plain": [
       "array([7, 9, 11, 13, 15], dtype=object)"
      ]
     },
     "execution_count": 61,
     "metadata": {},
     "output_type": "execute_result"
    }
   ],
   "source": [
    "my_add(x,y)"
   ]
  },
  {
   "cell_type": "code",
   "execution_count": 62,
   "id": "90434713",
   "metadata": {},
   "outputs": [],
   "source": [
    "A = np.array([10,15,20,25,30])\n",
    "B = np.array([3,4,5,6,7])"
   ]
  },
  {
   "cell_type": "code",
   "execution_count": 64,
   "id": "0121da36",
   "metadata": {},
   "outputs": [
    {
     "data": {
      "text/plain": [
       "array([     1000,     50625,   3200000, 244140625, 395163520], dtype=int32)"
      ]
     },
     "execution_count": 64,
     "metadata": {},
     "output_type": "execute_result"
    }
   ],
   "source": [
    "p = np.power(A,B) # returns the array containing values of array 'A' as base and array 'B' as power\n",
    "p"
   ]
  },
  {
   "cell_type": "code",
   "execution_count": 65,
   "id": "cbbe47e8",
   "metadata": {},
   "outputs": [
    {
     "data": {
      "text/plain": [
       "array([1, 3, 0, 1, 2], dtype=int32)"
      ]
     },
     "execution_count": 65,
     "metadata": {},
     "output_type": "execute_result"
    }
   ],
   "source": [
    "D = np.mod(A,B) # Returns the array of remainder of division between 'A' divided by \"B\"\n",
    "D"
   ]
  },
  {
   "cell_type": "code",
   "execution_count": 67,
   "id": "9b513537",
   "metadata": {},
   "outputs": [
    {
     "data": {
      "text/plain": [
       "(array([3, 3, 4, 4, 4], dtype=int32), array([1, 3, 0, 1, 2], dtype=int32))"
      ]
     },
     "execution_count": 67,
     "metadata": {},
     "output_type": "execute_result"
    }
   ],
   "source": [
    "E = np.divmod(A,B) # Returns two array of division between 'A' and 'B' 1st:- Quotient 2nd:- Remainder\n",
    "E"
   ]
  },
  {
   "cell_type": "code",
   "execution_count": 68,
   "id": "2a2c67c5",
   "metadata": {},
   "outputs": [],
   "source": [
    "# Round off Decimal:-"
   ]
  },
  {
   "cell_type": "code",
   "execution_count": 70,
   "id": "e64e83ce",
   "metadata": {},
   "outputs": [
    {
     "data": {
      "text/plain": [
       "array([-2.,  2.])"
      ]
     },
     "execution_count": 70,
     "metadata": {},
     "output_type": "execute_result"
    }
   ],
   "source": [
    "A = [-2.57778, 2.57778] # Round off decimal closest to zero\n",
    "np.trunc(A)"
   ]
  },
  {
   "cell_type": "code",
   "execution_count": 71,
   "id": "7a940b75",
   "metadata": {},
   "outputs": [
    {
     "data": {
      "text/plain": [
       "array([-2.,  2.])"
      ]
     },
     "execution_count": 71,
     "metadata": {},
     "output_type": "execute_result"
    }
   ],
   "source": [
    "np.fix(A) # Round off decimal closest to zero"
   ]
  },
  {
   "cell_type": "code",
   "execution_count": 73,
   "id": "259a30c4",
   "metadata": {},
   "outputs": [
    {
     "data": {
      "text/plain": [
       "array([-2.58,  2.58])"
      ]
     },
     "execution_count": 73,
     "metadata": {},
     "output_type": "execute_result"
    }
   ],
   "source": [
    "np.around(A, 2) # Round off decimal upto 2 decimal points"
   ]
  },
  {
   "cell_type": "code",
   "execution_count": 74,
   "id": "5df35d9b",
   "metadata": {},
   "outputs": [
    {
     "data": {
      "text/plain": [
       "array([-3.,  2.])"
      ]
     },
     "execution_count": 74,
     "metadata": {},
     "output_type": "execute_result"
    }
   ],
   "source": [
    "np.floor(A) #Round off decimal nearest to lower integer"
   ]
  },
  {
   "cell_type": "code",
   "execution_count": 75,
   "id": "5ff8634c",
   "metadata": {},
   "outputs": [
    {
     "data": {
      "text/plain": [
       "array([-2.,  3.])"
      ]
     },
     "execution_count": 75,
     "metadata": {},
     "output_type": "execute_result"
    }
   ],
   "source": [
    "np.ceil(A) #Round off decimal nearest to upper integer"
   ]
  },
  {
   "cell_type": "code",
   "execution_count": 76,
   "id": "441394bd",
   "metadata": {},
   "outputs": [],
   "source": [
    "#Log functions:- Use the log2()/log10(/log() function to perform log at the base 2/10/e or natural log"
   ]
  },
  {
   "cell_type": "code",
   "execution_count": 82,
   "id": "e3dc989f",
   "metadata": {},
   "outputs": [
    {
     "name": "stdout",
     "output_type": "stream",
     "text": [
      "[1 2 3 4 5]\n",
      "[0.         1.         1.5849625  2.         2.32192809]\n",
      "[0.         0.30103    0.47712125 0.60205999 0.69897   ]\n",
      "[0.         0.69314718 1.09861229 1.38629436 1.60943791]\n"
     ]
    }
   ],
   "source": [
    "X = np.arange(1,6)\n",
    "B = np.log2(X)\n",
    "C = np.log10(X)\n",
    "D = np.log(X)\n",
    "print(X)\n",
    "print(B)\n",
    "print(C)\n",
    "print(D)"
   ]
  },
  {
   "cell_type": "code",
   "execution_count": null,
   "id": "9c378a11",
   "metadata": {},
   "outputs": [],
   "source": []
  }
 ],
 "metadata": {
  "kernelspec": {
   "display_name": "Python 3",
   "language": "python",
   "name": "python3"
  },
  "language_info": {
   "codemirror_mode": {
    "name": "ipython",
    "version": 3
   },
   "file_extension": ".py",
   "mimetype": "text/x-python",
   "name": "python",
   "nbconvert_exporter": "python",
   "pygments_lexer": "ipython3",
   "version": "3.8.8"
  }
 },
 "nbformat": 4,
 "nbformat_minor": 5
}
