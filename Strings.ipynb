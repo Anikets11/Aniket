{
 "cells": [
  {
   "cell_type": "markdown",
   "id": "543fbead",
   "metadata": {},
   "source": [
    "# Indexing"
   ]
  },
  {
   "cell_type": "code",
   "execution_count": 1,
   "id": "b984c9b4",
   "metadata": {},
   "outputs": [],
   "source": [
    "s1 = 'Pune'\n",
    "s2 = \"Mumbai\"\n",
    "s3 = \"Aniket\""
   ]
  },
  {
   "cell_type": "code",
   "execution_count": 2,
   "id": "a5594493",
   "metadata": {},
   "outputs": [
    {
     "data": {
      "text/plain": [
       "'n'"
      ]
     },
     "execution_count": 2,
     "metadata": {},
     "output_type": "execute_result"
    }
   ],
   "source": [
    "s1[2] # positive no are used for forward indexing"
   ]
  },
  {
   "cell_type": "code",
   "execution_count": 3,
   "id": "30408c22",
   "metadata": {},
   "outputs": [
    {
     "data": {
      "text/plain": [
       "'u'"
      ]
     },
     "execution_count": 3,
     "metadata": {},
     "output_type": "execute_result"
    }
   ],
   "source": [
    "s2[ -5] # Negative no are used for backward indexing"
   ]
  },
  {
   "cell_type": "code",
   "execution_count": 4,
   "id": "0c167670",
   "metadata": {},
   "outputs": [
    {
     "ename": "IndexError",
     "evalue": "string index out of range",
     "output_type": "error",
     "traceback": [
      "\u001b[1;31m---------------------------------------------------------------------------\u001b[0m",
      "\u001b[1;31mIndexError\u001b[0m                                Traceback (most recent call last)",
      "\u001b[1;32m<ipython-input-4-60ced61c2f0b>\u001b[0m in \u001b[0;36m<module>\u001b[1;34m\u001b[0m\n\u001b[1;32m----> 1\u001b[1;33m \u001b[0ms3\u001b[0m \u001b[1;33m[\u001b[0m\u001b[1;36m6\u001b[0m\u001b[1;33m]\u001b[0m \u001b[1;31m# stings is not having given index\u001b[0m\u001b[1;33m\u001b[0m\u001b[1;33m\u001b[0m\u001b[0m\n\u001b[0m",
      "\u001b[1;31mIndexError\u001b[0m: string index out of range"
     ]
    }
   ],
   "source": [
    "s3 [6] # stings is not having given index"
   ]
  },
  {
   "cell_type": "code",
   "execution_count": 6,
   "id": "b47a8fc7",
   "metadata": {},
   "outputs": [
    {
     "data": {
      "text/plain": [
       "4"
      ]
     },
     "execution_count": 6,
     "metadata": {},
     "output_type": "execute_result"
    }
   ],
   "source": [
    "len(s1) # len function is used to find out length of string"
   ]
  },
  {
   "cell_type": "code",
   "execution_count": 7,
   "id": "fcb395e7",
   "metadata": {},
   "outputs": [
    {
     "data": {
      "text/plain": [
       "6"
      ]
     },
     "execution_count": 7,
     "metadata": {},
     "output_type": "execute_result"
    }
   ],
   "source": [
    "len(s2)"
   ]
  },
  {
   "cell_type": "code",
   "execution_count": 8,
   "id": "b177f76e",
   "metadata": {},
   "outputs": [
    {
     "data": {
      "text/plain": [
       "6"
      ]
     },
     "execution_count": 8,
     "metadata": {},
     "output_type": "execute_result"
    }
   ],
   "source": [
    "len(s3)"
   ]
  },
  {
   "cell_type": "markdown",
   "id": "3f14269a",
   "metadata": {},
   "source": [
    "# Slicing"
   ]
  },
  {
   "cell_type": "code",
   "execution_count": 11,
   "id": "947cb2fb",
   "metadata": {},
   "outputs": [
    {
     "data": {
      "text/plain": [
       "'ec'"
      ]
     },
     "execution_count": 11,
     "metadata": {},
     "output_type": "execute_result"
    }
   ],
   "source": [
    "x = 'welcome' # 1- start index (by def = 0), 5- end index, step_size - 2 (by def = 1)\n",
    "x[1:5:2]  # forward indexing"
   ]
  },
  {
   "cell_type": "code",
   "execution_count": 12,
   "id": "6a9767e2",
   "metadata": {},
   "outputs": [
    {
     "data": {
      "text/plain": [
       "'emoc'"
      ]
     },
     "execution_count": 12,
     "metadata": {},
     "output_type": "execute_result"
    }
   ],
   "source": [
    "x[-1:-5:-1] # Backward indexing with negative step size"
   ]
  },
  {
   "cell_type": "code",
   "execution_count": 14,
   "id": "d37d131b",
   "metadata": {},
   "outputs": [
    {
     "data": {
      "text/plain": [
       "'lo'"
      ]
     },
     "execution_count": 14,
     "metadata": {},
     "output_type": "execute_result"
    }
   ],
   "source": [
    "x[-5:-2:2] # backward indexing with positive step size"
   ]
  },
  {
   "cell_type": "code",
   "execution_count": 16,
   "id": "eff3d68a",
   "metadata": {},
   "outputs": [
    {
     "data": {
      "text/plain": [
       "'mc'"
      ]
     },
     "execution_count": 16,
     "metadata": {},
     "output_type": "execute_result"
    }
   ],
   "source": [
    "x[5:2:-2] # forward indexing with negative step size"
   ]
  },
  {
   "cell_type": "code",
   "execution_count": 17,
   "id": "f6face57",
   "metadata": {},
   "outputs": [],
   "source": [
    "str = 'ABCDEFGHIJKLMN'"
   ]
  },
  {
   "cell_type": "code",
   "execution_count": 18,
   "id": "b51c0495",
   "metadata": {},
   "outputs": [
    {
     "data": {
      "text/plain": [
       "14"
      ]
     },
     "execution_count": 18,
     "metadata": {},
     "output_type": "execute_result"
    }
   ],
   "source": [
    "len (str)"
   ]
  },
  {
   "cell_type": "code",
   "execution_count": 19,
   "id": "6fccee72",
   "metadata": {},
   "outputs": [
    {
     "data": {
      "text/plain": [
       "'CEGIK'"
      ]
     },
     "execution_count": 19,
     "metadata": {},
     "output_type": "execute_result"
    }
   ],
   "source": [
    "str[2:12:2]"
   ]
  },
  {
   "cell_type": "code",
   "execution_count": 21,
   "id": "f7db4397",
   "metadata": {},
   "outputs": [
    {
     "data": {
      "text/plain": [
       "'MKIGE'"
      ]
     },
     "execution_count": 21,
     "metadata": {},
     "output_type": "execute_result"
    }
   ],
   "source": [
    "str[-2:-12:-2] # Itgives the string in reverse order"
   ]
  },
  {
   "cell_type": "code",
   "execution_count": 22,
   "id": "2ac52ccd",
   "metadata": {},
   "outputs": [
    {
     "data": {
      "text/plain": [
       "'BCDEFGHIJKL'"
      ]
     },
     "execution_count": 22,
     "metadata": {},
     "output_type": "execute_result"
    }
   ],
   "source": [
    "str[1:-2:1] # it is equivalent to str[1:12:1]"
   ]
  },
  {
   "cell_type": "code",
   "execution_count": 25,
   "id": "24a5442a",
   "metadata": {},
   "outputs": [
    {
     "data": {
      "text/plain": [
       "'NMLKJIHGFED'"
      ]
     },
     "execution_count": 25,
     "metadata": {},
     "output_type": "execute_result"
    }
   ],
   "source": [
    "str[-1:2:-1] # either give index as positive or negative. it is equvalent to str[-1:-11:-1]"
   ]
  },
  {
   "cell_type": "code",
   "execution_count": 27,
   "id": "aba5a0e7",
   "metadata": {},
   "outputs": [
    {
     "data": {
      "text/plain": [
       "''"
      ]
     },
     "execution_count": 27,
     "metadata": {},
     "output_type": "execute_result"
    }
   ],
   "source": [
    "str[7:-2:-2] # empty string as there is no any character between these two"
   ]
  },
  {
   "cell_type": "code",
   "execution_count": 29,
   "id": "ed230c84",
   "metadata": {},
   "outputs": [
    {
     "data": {
      "text/plain": [
       "'ABCDEFGHIJKLMN'"
      ]
     },
     "execution_count": 29,
     "metadata": {},
     "output_type": "execute_result"
    }
   ],
   "source": [
    "str[0:14:1] # these all are equivalent as by default values i.e. start=0, end= length of str, step_size= 1 \n",
    "str [:14:1]\n",
    "str[:14:]\n",
    "str[::] # complete string"
   ]
  },
  {
   "cell_type": "code",
   "execution_count": 30,
   "id": "679938ea",
   "metadata": {},
   "outputs": [],
   "source": [
    "# For backward indexing by default values start = -1, end/stop = - [len(str)+1], step size we have to give as a -1"
   ]
  },
  {
   "cell_type": "markdown",
   "id": "ca275c01",
   "metadata": {},
   "source": [
    "# Slicing for date separation"
   ]
  },
  {
   "cell_type": "code",
   "execution_count": 31,
   "id": "b71f3bba",
   "metadata": {},
   "outputs": [],
   "source": [
    "# Slicing for the given date format as date, month, year if date is given in yyyy/dd/mm format "
   ]
  },
  {
   "cell_type": "code",
   "execution_count": 35,
   "id": "ca665373",
   "metadata": {},
   "outputs": [
    {
     "name": "stdout",
     "output_type": "stream",
     "text": [
      "Enter the date in yyyy/dd/mm format :2021/12/27\n",
      "Date : 27\n",
      "Month : 12\n",
      "Year : 2021\n"
     ]
    }
   ],
   "source": [
    "day = input(\"Enter the date in yyyy/dd/mm format :\")\n",
    "year = day[:4]\n",
    "month = day[5:7]\n",
    "date = day[8::]\n",
    "print (\"Date :\", date)\n",
    "print (\"Month :\", month)\n",
    "print (\"Year :\", year)"
   ]
  },
  {
   "cell_type": "markdown",
   "id": "006c034e",
   "metadata": {},
   "source": [
    "# Iterations on string using while loop"
   ]
  },
  {
   "cell_type": "code",
   "execution_count": 2,
   "id": "17fcad9d",
   "metadata": {},
   "outputs": [
    {
     "name": "stdout",
     "output_type": "stream",
     "text": [
      "A\n",
      "n\n",
      "i\n",
      "k\n",
      "e\n",
      "t\n"
     ]
    }
   ],
   "source": [
    "a = \"Aniket\"\n",
    "i =0\n",
    "while i<len(a):\n",
    "    print (a[i])\n",
    "    i = i+1"
   ]
  },
  {
   "cell_type": "markdown",
   "id": "d8c6e8c9",
   "metadata": {},
   "source": [
    "# String Functions"
   ]
  },
  {
   "cell_type": "code",
   "execution_count": 5,
   "id": "878ddb95",
   "metadata": {},
   "outputs": [],
   "source": [
    "s1 = 'ABCDE'\n",
    "s2 = 'AB123'\n",
    "s3 = '12345'\n",
    "s4 = '12.34'"
   ]
  },
  {
   "cell_type": "code",
   "execution_count": 6,
   "id": "afccca59",
   "metadata": {},
   "outputs": [
    {
     "data": {
      "text/plain": [
       "(True, True, False, False)"
      ]
     },
     "execution_count": 6,
     "metadata": {},
     "output_type": "execute_result"
    }
   ],
   "source": [
    "s1.isalpha(), s1.isalnum(), s1.isdecimal(), s1.isdigit()"
   ]
  },
  {
   "cell_type": "code",
   "execution_count": 9,
   "id": "287a1896",
   "metadata": {},
   "outputs": [
    {
     "data": {
      "text/plain": [
       "(False, True, False, False)"
      ]
     },
     "execution_count": 9,
     "metadata": {},
     "output_type": "execute_result"
    }
   ],
   "source": [
    "s2.isalpha(), s2.isalnum(), s2.isdecimal(), s2.isdigit()"
   ]
  },
  {
   "cell_type": "code",
   "execution_count": 10,
   "id": "f8dbc680",
   "metadata": {},
   "outputs": [
    {
     "data": {
      "text/plain": [
       "(False, True, True, True)"
      ]
     },
     "execution_count": 10,
     "metadata": {},
     "output_type": "execute_result"
    }
   ],
   "source": [
    "s3.isalpha(), s3.isalnum(), s3.isdecimal(), s3.isdigit()"
   ]
  },
  {
   "cell_type": "code",
   "execution_count": 11,
   "id": "8cda291c",
   "metadata": {},
   "outputs": [
    {
     "data": {
      "text/plain": [
       "(False, False, False, False)"
      ]
     },
     "execution_count": 11,
     "metadata": {},
     "output_type": "execute_result"
    }
   ],
   "source": [
    "s4.isalpha(), s4.isalnum(), s4.isdecimal(), s4.isdigit()"
   ]
  },
  {
   "cell_type": "code",
   "execution_count": 14,
   "id": "fd8cd125",
   "metadata": {},
   "outputs": [],
   "source": [
    "s5 = \"A10\""
   ]
  },
  {
   "cell_type": "code",
   "execution_count": 15,
   "id": "44c5a258",
   "metadata": {},
   "outputs": [
    {
     "data": {
      "text/plain": [
       "False"
      ]
     },
     "execution_count": 15,
     "metadata": {},
     "output_type": "execute_result"
    }
   ],
   "source": [
    "s5.isdecimal()"
   ]
  },
  {
   "cell_type": "code",
   "execution_count": 16,
   "id": "89d0efb3",
   "metadata": {},
   "outputs": [
    {
     "data": {
      "text/plain": [
       "'10'"
      ]
     },
     "execution_count": 16,
     "metadata": {},
     "output_type": "execute_result"
    }
   ],
   "source": [
    " s5.lstrip( \"A\")"
   ]
  },
  {
   "cell_type": "code",
   "execution_count": 32,
   "id": "24256ca3",
   "metadata": {},
   "outputs": [],
   "source": [
    "x = 'Aniketsambale1113@gmail.com'"
   ]
  },
  {
   "cell_type": "code",
   "execution_count": 34,
   "id": "fff682a6",
   "metadata": {},
   "outputs": [
    {
     "data": {
      "text/plain": [
       "'ANIKETSAMBALE1113@GMAIL.COM'"
      ]
     },
     "execution_count": 34,
     "metadata": {},
     "output_type": "execute_result"
    }
   ],
   "source": [
    "x.upper() # convert string into uppercase"
   ]
  },
  {
   "cell_type": "code",
   "execution_count": 35,
   "id": "fa0ca7e9",
   "metadata": {},
   "outputs": [
    {
     "data": {
      "text/plain": [
       "'aniketsambale1113@gmail.com'"
      ]
     },
     "execution_count": 35,
     "metadata": {},
     "output_type": "execute_result"
    }
   ],
   "source": [
    "x.lower() # convert string into lowercase"
   ]
  },
  {
   "cell_type": "code",
   "execution_count": 36,
   "id": "635ff62e",
   "metadata": {},
   "outputs": [],
   "source": [
    "y = \"  Mayuri Mathpati12345  \""
   ]
  },
  {
   "cell_type": "code",
   "execution_count": 37,
   "id": "c6015f00",
   "metadata": {},
   "outputs": [
    {
     "data": {
      "text/plain": [
       "'Mayuri Mathpati12345'"
      ]
     },
     "execution_count": 37,
     "metadata": {},
     "output_type": "execute_result"
    }
   ],
   "source": [
    "y.strip() # Remove white spaces from start or end"
   ]
  },
  {
   "cell_type": "code",
   "execution_count": 39,
   "id": "b66ac895",
   "metadata": {},
   "outputs": [
    {
     "data": {
      "text/plain": [
       "'aniketsambale1113@gmail.com'"
      ]
     },
     "execution_count": 39,
     "metadata": {},
     "output_type": "execute_result"
    }
   ],
   "source": [
    "x.replace('A', 'a') # Replace string with another string"
   ]
  },
  {
   "cell_type": "code",
   "execution_count": 40,
   "id": "6c89f51c",
   "metadata": {},
   "outputs": [
    {
     "data": {
      "text/plain": [
       "['Mayuri', 'Mathpati12345']"
      ]
     },
     "execution_count": 40,
     "metadata": {},
     "output_type": "execute_result"
    }
   ],
   "source": [
    "y.split() #Returns a list by separating the substring with given separator (by def. space as separator)"
   ]
  },
  {
   "cell_type": "code",
   "execution_count": 43,
   "id": "7848f77d",
   "metadata": {},
   "outputs": [
    {
     "data": {
      "text/plain": [
       "3"
      ]
     },
     "execution_count": 43,
     "metadata": {},
     "output_type": "execute_result"
    }
   ],
   "source": [
    "x.count('a') # Counts the occurance of specified string in given string"
   ]
  },
  {
   "cell_type": "code",
   "execution_count": 45,
   "id": "fc09154a",
   "metadata": {},
   "outputs": [
    {
     "data": {
      "text/plain": [
       "11"
      ]
     },
     "execution_count": 45,
     "metadata": {},
     "output_type": "execute_result"
    }
   ],
   "source": [
    "x.index('l') # Returns the index of specified string of its first occurance"
   ]
  },
  {
   "cell_type": "code",
   "execution_count": 49,
   "id": "a4024374",
   "metadata": {},
   "outputs": [
    {
     "data": {
      "text/plain": [
       "22"
      ]
     },
     "execution_count": 49,
     "metadata": {},
     "output_type": "execute_result"
    }
   ],
   "source": [
    "x.index('l', 12,25) # Returns the index of specified string of its first occurance if we provide start and stop index"
   ]
  },
  {
   "cell_type": "code",
   "execution_count": 50,
   "id": "dba309ce",
   "metadata": {},
   "outputs": [
    {
     "data": {
      "text/plain": [
       "13"
      ]
     },
     "execution_count": 50,
     "metadata": {},
     "output_type": "execute_result"
    }
   ],
   "source": [
    "x.find(\"1\") # Returns the index of specified string of its first occurance"
   ]
  },
  {
   "cell_type": "code",
   "execution_count": 51,
   "id": "0b1b9cc5",
   "metadata": {},
   "outputs": [],
   "source": [
    "z = '***Aniket Samble+++'"
   ]
  },
  {
   "cell_type": "code",
   "execution_count": 52,
   "id": "0702a50f",
   "metadata": {},
   "outputs": [
    {
     "data": {
      "text/plain": [
       "'Aniket Samble+++'"
      ]
     },
     "execution_count": 52,
     "metadata": {},
     "output_type": "execute_result"
    }
   ],
   "source": [
    "z.lstrip('*') # removes the specified string from the start of the string"
   ]
  },
  {
   "cell_type": "code",
   "execution_count": 53,
   "id": "ff7a5471",
   "metadata": {},
   "outputs": [
    {
     "data": {
      "text/plain": [
       "'***Aniket Samble'"
      ]
     },
     "execution_count": 53,
     "metadata": {},
     "output_type": "execute_result"
    }
   ],
   "source": [
    "z.rstrip('+') # removes the specified string from the end of the string"
   ]
  },
  {
   "cell_type": "code",
   "execution_count": 56,
   "id": "a9e6fdcc",
   "metadata": {},
   "outputs": [
    {
     "name": "stdout",
     "output_type": "stream",
     "text": [
      "['Aniketsambale1113', 'gmail.com']\n"
     ]
    }
   ],
   "source": [
    "s = x.split('@') #Returns a list by separating the substring with given separator (by def. space as separator) (here, @)\n",
    "print (s)"
   ]
  },
  {
   "cell_type": "code",
   "execution_count": 57,
   "id": "ba1c3557",
   "metadata": {},
   "outputs": [
    {
     "data": {
      "text/plain": [
       "'Aniketsambale1113@gmail.com'"
      ]
     },
     "execution_count": 57,
     "metadata": {},
     "output_type": "execute_result"
    }
   ],
   "source": [
    "'@'.join(s) # Joins the items of list by given joining element"
   ]
  },
  {
   "cell_type": "code",
   "execution_count": 71,
   "id": "81609d14",
   "metadata": {},
   "outputs": [
    {
     "data": {
      "text/plain": [
       "True"
      ]
     },
     "execution_count": 71,
     "metadata": {},
     "output_type": "execute_result"
    }
   ],
   "source": [
    "s1.isidentifier() # Return True if the string is a valid Python identifier, False otherwise."
   ]
  },
  {
   "cell_type": "code",
   "execution_count": 72,
   "id": "40e3d2db",
   "metadata": {},
   "outputs": [],
   "source": [
    "# Concatinate string with int or float  "
   ]
  },
  {
   "cell_type": "code",
   "execution_count": 73,
   "id": "40cd4e36",
   "metadata": {},
   "outputs": [
    {
     "name": "stdout",
     "output_type": "stream",
     "text": [
      "I want 3 no of item 567 for the price of 49.7 dollers\n"
     ]
    }
   ],
   "source": [
    "quantity, itemno, price = [3, 567, 49.7] # format () inserts the provided items of list in respective places of {}\n",
    "txt = \"I want {} no of item {} for the price of {} dollers\"\n",
    "print (txt.format(quantity, itemno, price))"
   ]
  },
  {
   "cell_type": "code",
   "execution_count": 74,
   "id": "8ce118da",
   "metadata": {},
   "outputs": [],
   "source": [
    "# Escape characters :- These are used to insert illegeal characters into the string. for that \\ (backslash) is used.\n",
    "# for example, if we want to insert \"\" inside a string, then it is not possible in normal way."
   ]
  },
  {
   "cell_type": "code",
   "execution_count": 75,
   "id": "f5b8df2d",
   "metadata": {},
   "outputs": [
    {
     "ename": "SyntaxError",
     "evalue": "invalid syntax (<ipython-input-75-5482c0f24525>, line 1)",
     "output_type": "error",
     "traceback": [
      "\u001b[1;36m  File \u001b[1;32m\"<ipython-input-75-5482c0f24525>\"\u001b[1;36m, line \u001b[1;32m1\u001b[0m\n\u001b[1;33m    name =  \"My complete name is \"Aniket\"\"\u001b[0m\n\u001b[1;37m                                  ^\u001b[0m\n\u001b[1;31mSyntaxError\u001b[0m\u001b[1;31m:\u001b[0m invalid syntax\n"
     ]
    }
   ],
   "source": [
    "name =  \"My complete name is \"Aniket\"\""
   ]
  },
  {
   "cell_type": "code",
   "execution_count": 77,
   "id": "96d37bd2",
   "metadata": {},
   "outputs": [
    {
     "name": "stdout",
     "output_type": "stream",
     "text": [
      "My complete name is \"Aniket\"\n"
     ]
    }
   ],
   "source": [
    "name =  \"My complete name is \\\"Aniket\\\"\"\n",
    "print (name)"
   ]
  },
  {
   "cell_type": "code",
   "execution_count": null,
   "id": "7572f0be",
   "metadata": {},
   "outputs": [],
   "source": []
  }
 ],
 "metadata": {
  "kernelspec": {
   "display_name": "Python 3",
   "language": "python",
   "name": "python3"
  },
  "language_info": {
   "codemirror_mode": {
    "name": "ipython",
    "version": 3
   },
   "file_extension": ".py",
   "mimetype": "text/x-python",
   "name": "python",
   "nbconvert_exporter": "python",
   "pygments_lexer": "ipython3",
   "version": "3.8.8"
  }
 },
 "nbformat": 4,
 "nbformat_minor": 5
}
