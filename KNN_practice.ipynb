{
 "cells": [
  {
   "cell_type": "markdown",
   "id": "5f2533d6",
   "metadata": {},
   "source": [
    "# K Nearest Neighbour Algorithm"
   ]
  },
  {
   "cell_type": "code",
   "execution_count": 1,
   "id": "cfc5c94a",
   "metadata": {},
   "outputs": [],
   "source": [
    "# KNN :- In this method, we can predict the call of req. pt. on the basis of nearest pts around the given pt.\n",
    "# K- No. of neighbour points under consider (we have to provide this value as i/p, generally odd no. for good conclusion)\n",
    "# N- Nearest points,  N- Neighbour."
   ]
  },
  {
   "cell_type": "code",
   "execution_count": 2,
   "id": "6b192db7",
   "metadata": {},
   "outputs": [],
   "source": [
    "# How to find nearest neighbour? :- It can be found out by measuring the distance between given pt and other pts.\n",
    "# Euclidian Distance formula :- Distance  = sqr. root(sqr.(y2 - y1) + sqr.(x2 - x1))\n",
    "# How to predict the class of givent pt? Find out the classes of req. nearest pts. and check the majority of the class.\n",
    "# Same will be the class of given point. "
   ]
  },
  {
   "cell_type": "markdown",
   "id": "68f9a0c2",
   "metadata": {},
   "source": [
    "# Implementation of KNN"
   ]
  },
  {
   "cell_type": "code",
   "execution_count": 3,
   "id": "9aa95511",
   "metadata": {},
   "outputs": [],
   "source": [
    "import pandas as pd"
   ]
  },
  {
   "cell_type": "code",
   "execution_count": 4,
   "id": "88fbc169",
   "metadata": {},
   "outputs": [],
   "source": [
    "df = pd.read_csv('../Social_Network_Ads.csv')"
   ]
  },
  {
   "cell_type": "code",
   "execution_count": 5,
   "id": "6e742033",
   "metadata": {},
   "outputs": [
    {
     "data": {
      "text/html": [
       "<div>\n",
       "<style scoped>\n",
       "    .dataframe tbody tr th:only-of-type {\n",
       "        vertical-align: middle;\n",
       "    }\n",
       "\n",
       "    .dataframe tbody tr th {\n",
       "        vertical-align: top;\n",
       "    }\n",
       "\n",
       "    .dataframe thead th {\n",
       "        text-align: right;\n",
       "    }\n",
       "</style>\n",
       "<table border=\"1\" class=\"dataframe\">\n",
       "  <thead>\n",
       "    <tr style=\"text-align: right;\">\n",
       "      <th></th>\n",
       "      <th>User ID</th>\n",
       "      <th>Gender</th>\n",
       "      <th>Age</th>\n",
       "      <th>EstimatedSalary</th>\n",
       "      <th>Purchased</th>\n",
       "    </tr>\n",
       "  </thead>\n",
       "  <tbody>\n",
       "    <tr>\n",
       "      <th>0</th>\n",
       "      <td>15624510</td>\n",
       "      <td>Male</td>\n",
       "      <td>19</td>\n",
       "      <td>19000</td>\n",
       "      <td>0</td>\n",
       "    </tr>\n",
       "    <tr>\n",
       "      <th>1</th>\n",
       "      <td>15810944</td>\n",
       "      <td>Male</td>\n",
       "      <td>35</td>\n",
       "      <td>20000</td>\n",
       "      <td>0</td>\n",
       "    </tr>\n",
       "    <tr>\n",
       "      <th>2</th>\n",
       "      <td>15668575</td>\n",
       "      <td>Female</td>\n",
       "      <td>26</td>\n",
       "      <td>43000</td>\n",
       "      <td>0</td>\n",
       "    </tr>\n",
       "    <tr>\n",
       "      <th>3</th>\n",
       "      <td>15603246</td>\n",
       "      <td>Female</td>\n",
       "      <td>27</td>\n",
       "      <td>57000</td>\n",
       "      <td>0</td>\n",
       "    </tr>\n",
       "    <tr>\n",
       "      <th>4</th>\n",
       "      <td>15804002</td>\n",
       "      <td>Male</td>\n",
       "      <td>19</td>\n",
       "      <td>76000</td>\n",
       "      <td>0</td>\n",
       "    </tr>\n",
       "  </tbody>\n",
       "</table>\n",
       "</div>"
      ],
      "text/plain": [
       "    User ID  Gender  Age  EstimatedSalary  Purchased\n",
       "0  15624510    Male   19            19000          0\n",
       "1  15810944    Male   35            20000          0\n",
       "2  15668575  Female   26            43000          0\n",
       "3  15603246  Female   27            57000          0\n",
       "4  15804002    Male   19            76000          0"
      ]
     },
     "execution_count": 5,
     "metadata": {},
     "output_type": "execute_result"
    }
   ],
   "source": [
    "df.head()"
   ]
  },
  {
   "cell_type": "code",
   "execution_count": 6,
   "id": "33de04ca",
   "metadata": {},
   "outputs": [],
   "source": [
    "X = df[['Age', 'EstimatedSalary']]  # Scaling is not required as no GD, but it is required where we use Distance formula\n",
    "y = df['Purchased']                 # It is required bcz we need to give equal importance to all the parameters."
   ]
  },
  {
   "cell_type": "code",
   "execution_count": 7,
   "id": "de96f50c",
   "metadata": {},
   "outputs": [],
   "source": [
    "from sklearn.model_selection import train_test_split"
   ]
  },
  {
   "cell_type": "code",
   "execution_count": 8,
   "id": "4dd83e89",
   "metadata": {},
   "outputs": [],
   "source": [
    "X_train, X_test, y_train, y_test = train_test_split(X, y, test_size=0.25, random_state=52)"
   ]
  },
  {
   "cell_type": "code",
   "execution_count": 9,
   "id": "1fea62f8",
   "metadata": {},
   "outputs": [],
   "source": [
    "from sklearn.neighbors import KNeighborsClassifier    # Import KNN class"
   ]
  },
  {
   "cell_type": "code",
   "execution_count": 10,
   "id": "9caa62ba",
   "metadata": {},
   "outputs": [
    {
     "data": {
      "text/plain": [
       "(0.8766666666666667, 0.81)"
      ]
     },
     "execution_count": 10,
     "metadata": {},
     "output_type": "execute_result"
    }
   ],
   "source": [
    "model = KNeighborsClassifier(n_neighbors=5)  # Train the model by considering 5 nearest neighbors and find out the score\n",
    "model.fit(X_train, y_train)                  # It will load all the points in the model (Training time)\n",
    "model.score(X_train, y_train), model.score(X_test, y_test)"
   ]
  },
  {
   "cell_type": "code",
   "execution_count": 11,
   "id": "be4e5408",
   "metadata": {},
   "outputs": [
    {
     "data": {
      "text/plain": [
       "(0.8333333333333334, 0.79)"
      ]
     },
     "execution_count": 11,
     "metadata": {},
     "output_type": "execute_result"
    }
   ],
   "source": [
    "model = KNeighborsClassifier(n_neighbors=7)  # changing the no. of neighbors\n",
    "model.fit(X_train, y_train)\n",
    "model.score(X_train, y_train), model.score(X_test, y_test)"
   ]
  },
  {
   "cell_type": "code",
   "execution_count": 12,
   "id": "cccca43d",
   "metadata": {},
   "outputs": [
    {
     "data": {
      "text/plain": [
       "(0.8966666666666666, 0.81)"
      ]
     },
     "execution_count": 12,
     "metadata": {},
     "output_type": "execute_result"
    }
   ],
   "source": [
    "model = KNeighborsClassifier(n_neighbors=3)  # changing the no. of neighbors\n",
    "model.fit(X_train, y_train)\n",
    "model.score(X_train, y_train), model.score(X_test, y_test)"
   ]
  },
  {
   "cell_type": "code",
   "execution_count": 13,
   "id": "885082c9",
   "metadata": {},
   "outputs": [
    {
     "data": {
      "text/plain": [
       "(0.84, 0.78)"
      ]
     },
     "execution_count": 13,
     "metadata": {},
     "output_type": "execute_result"
    }
   ],
   "source": [
    "model = KNeighborsClassifier(n_neighbors=9)  # changing the no. of neighbors, reduces accuracy with increasing neighbors\n",
    "model.fit(X_train, y_train)\n",
    "model.score(X_train, y_train), model.score(X_test, y_test)"
   ]
  },
  {
   "cell_type": "code",
   "execution_count": 14,
   "id": "b43b4386",
   "metadata": {},
   "outputs": [],
   "source": [
    "# Tuning:- By this way, with trial and error, we can find out best possible no. of neighbors to get Best accuracy (Here, 5)"
   ]
  },
  {
   "cell_type": "code",
   "execution_count": 15,
   "id": "bf845c39",
   "metadata": {},
   "outputs": [
    {
     "name": "stdout",
     "output_type": "stream",
     "text": [
      "1 0.9966666666666667 0.81\n",
      "3 0.8966666666666666 0.81\n",
      "5 0.8766666666666667 0.81\n",
      "7 0.8333333333333334 0.79\n",
      "9 0.84 0.78\n",
      "11 0.8533333333333334 0.78\n",
      "13 0.8266666666666667 0.78\n"
     ]
    }
   ],
   "source": [
    "for n in range(1,15,2):  # Finding best suited no. of neighbors by applying code on model\n",
    "    model = KNeighborsClassifier(n_neighbors=n) #Changing the no.of neighbors (Best no of neb.=5, with least diff. btw train & test)\n",
    "    model.fit(X_train, y_train)\n",
    "    print(n, model.score(X_train, y_train), model.score(X_test, y_test))"
   ]
  },
  {
   "cell_type": "code",
   "execution_count": 16,
   "id": "c5352287",
   "metadata": {},
   "outputs": [],
   "source": [
    "# In KNN we are only considering the classes of neighbors, but we are not considering distance of points from given point\n",
    "# If we consider the influence of distance betwn pts then, it may give better results. Influence = (1/(distance)2)\n",
    "# Weights (Uniform/Distance) parameter in KNN:- It considers the distance/ influence on the prediction given point"
   ]
  },
  {
   "cell_type": "code",
   "execution_count": 17,
   "id": "72d3810a",
   "metadata": {},
   "outputs": [
    {
     "data": {
      "text/plain": [
       "(0.9966666666666667, 0.82)"
      ]
     },
     "execution_count": 17,
     "metadata": {},
     "output_type": "execute_result"
    }
   ],
   "source": [
    "model = KNeighborsClassifier(n_neighbors=5, weights= 'distance') #Check for changed accuracy\n",
    "model.fit(X_train, y_train)\n",
    "model.score(X_train, y_train), model.score(X_test, y_test)"
   ]
  },
  {
   "cell_type": "code",
   "execution_count": 18,
   "id": "3b0bfa17",
   "metadata": {},
   "outputs": [
    {
     "name": "stdout",
     "output_type": "stream",
     "text": [
      "1 0.9966666666666667 0.81\n",
      "3 0.9966666666666667 0.82\n",
      "5 0.9966666666666667 0.82\n",
      "7 0.9966666666666667 0.81\n",
      "9 0.9966666666666667 0.82\n",
      "11 0.9966666666666667 0.82\n",
      "13 0.9966666666666667 0.82\n"
     ]
    }
   ],
   "source": [
    "for n in range(1,15,2):\n",
    "    model = KNeighborsClassifier(n_neighbors=n, weights= 'distance')\n",
    "    model.fit(X_train, y_train)\n",
    "    print(n, model.score(X_train, y_train), model.score(X_test, y_test))"
   ]
  }
 ],
 "metadata": {
  "kernelspec": {
   "display_name": "Python 3",
   "language": "python",
   "name": "python3"
  },
  "language_info": {
   "codemirror_mode": {
    "name": "ipython",
    "version": 3
   },
   "file_extension": ".py",
   "mimetype": "text/x-python",
   "name": "python",
   "nbconvert_exporter": "python",
   "pygments_lexer": "ipython3",
   "version": "3.8.8"
  }
 },
 "nbformat": 4,
 "nbformat_minor": 5
}
