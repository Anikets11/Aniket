{
 "cells": [
  {
   "cell_type": "markdown",
   "id": "4085061f",
   "metadata": {},
   "source": [
    "# DataTypes"
   ]
  },
  {
   "cell_type": "code",
   "execution_count": 2,
   "id": "6c3802de",
   "metadata": {},
   "outputs": [],
   "source": [
    "# interger :- Whole no.\n",
    "# float :- No. with decimal point\n",
    "# string :- Line of letters\n",
    "# boolean :- True or False"
   ]
  },
  {
   "cell_type": "markdown",
   "id": "dc2b7db6",
   "metadata": {},
   "source": [
    "# Operations"
   ]
  },
  {
   "cell_type": "code",
   "execution_count": 3,
   "id": "388efb8f",
   "metadata": {},
   "outputs": [],
   "source": [
    "# Addition\n",
    "# Subtraction\n",
    "# Multiplication\n",
    "# DiviSion :- Gives ans in decimals\n",
    "# % :- Modulus to get remainder\n",
    "# // :-to get division"
   ]
  },
  {
   "cell_type": "code",
   "execution_count": 6,
   "id": "6ad13a77",
   "metadata": {},
   "outputs": [
    {
     "data": {
      "text/plain": [
       "4"
      ]
     },
     "execution_count": 6,
     "metadata": {},
     "output_type": "execute_result"
    }
   ],
   "source": [
    "21//5"
   ]
  },
  {
   "cell_type": "code",
   "execution_count": 7,
   "id": "d2a2dab3",
   "metadata": {},
   "outputs": [
    {
     "data": {
      "text/plain": [
       "1"
      ]
     },
     "execution_count": 7,
     "metadata": {},
     "output_type": "execute_result"
    }
   ],
   "source": [
    "21%5"
   ]
  },
  {
   "cell_type": "code",
   "execution_count": 8,
   "id": "7a4f3448",
   "metadata": {},
   "outputs": [
    {
     "data": {
      "text/plain": [
       "4.2"
      ]
     },
     "execution_count": 8,
     "metadata": {},
     "output_type": "execute_result"
    }
   ],
   "source": [
    "21/5"
   ]
  },
  {
   "cell_type": "markdown",
   "id": "eee71713",
   "metadata": {},
   "source": [
    "# Compariosion Operators"
   ]
  },
  {
   "cell_type": "code",
   "execution_count": 10,
   "id": "5fef2f61",
   "metadata": {},
   "outputs": [],
   "source": [
    "# <, >, <=, >=, != :- These are used to compare to parameters. These operators give output in terms of Boolean value \n",
    "# like True or False"
   ]
  },
  {
   "cell_type": "markdown",
   "id": "65e2bee9",
   "metadata": {},
   "source": [
    "# Logical Operators"
   ]
  },
  {
   "cell_type": "code",
   "execution_count": 11,
   "id": "bd0bd79c",
   "metadata": {},
   "outputs": [],
   "source": [
    "# AND, OR, NOT,:- These are used to check the logical relation between two or more statements"
   ]
  },
  {
   "cell_type": "code",
   "execution_count": 2,
   "id": "110f1c03",
   "metadata": {},
   "outputs": [
    {
     "data": {
      "text/plain": [
       "30"
      ]
     },
     "execution_count": 2,
     "metadata": {},
     "output_type": "execute_result"
    }
   ],
   "source": [
    "20 and 30"
   ]
  },
  {
   "cell_type": "code",
   "execution_count": 3,
   "id": "e385bef8",
   "metadata": {},
   "outputs": [
    {
     "data": {
      "text/plain": [
       "0"
      ]
     },
     "execution_count": 3,
     "metadata": {},
     "output_type": "execute_result"
    }
   ],
   "source": [
    "0 and 30"
   ]
  },
  {
   "cell_type": "code",
   "execution_count": 4,
   "id": "b5df3248",
   "metadata": {},
   "outputs": [
    {
     "data": {
      "text/plain": [
       "0"
      ]
     },
     "execution_count": 4,
     "metadata": {},
     "output_type": "execute_result"
    }
   ],
   "source": [
    "30 and 0"
   ]
  },
  {
   "cell_type": "code",
   "execution_count": 5,
   "id": "0247a895",
   "metadata": {},
   "outputs": [
    {
     "data": {
      "text/plain": [
       "50"
      ]
     },
     "execution_count": 5,
     "metadata": {},
     "output_type": "execute_result"
    }
   ],
   "source": [
    "50 or 70"
   ]
  },
  {
   "cell_type": "code",
   "execution_count": 6,
   "id": "bb905c3a",
   "metadata": {},
   "outputs": [
    {
     "data": {
      "text/plain": [
       "70"
      ]
     },
     "execution_count": 6,
     "metadata": {},
     "output_type": "execute_result"
    }
   ],
   "source": [
    "70 or 0"
   ]
  },
  {
   "cell_type": "code",
   "execution_count": 7,
   "id": "ca376679",
   "metadata": {},
   "outputs": [
    {
     "data": {
      "text/plain": [
       "70"
      ]
     },
     "execution_count": 7,
     "metadata": {},
     "output_type": "execute_result"
    }
   ],
   "source": [
    "0 or 70"
   ]
  },
  {
   "cell_type": "code",
   "execution_count": 8,
   "id": "44c333c7",
   "metadata": {},
   "outputs": [
    {
     "data": {
      "text/plain": [
       "0"
      ]
     },
     "execution_count": 8,
     "metadata": {},
     "output_type": "execute_result"
    }
   ],
   "source": [
    "0 and True"
   ]
  },
  {
   "cell_type": "code",
   "execution_count": 9,
   "id": "16f7775d",
   "metadata": {},
   "outputs": [
    {
     "data": {
      "text/plain": [
       "0"
      ]
     },
     "execution_count": 9,
     "metadata": {},
     "output_type": "execute_result"
    }
   ],
   "source": [
    "True and 0"
   ]
  },
  {
   "cell_type": "code",
   "execution_count": 10,
   "id": "44575099",
   "metadata": {},
   "outputs": [
    {
     "data": {
      "text/plain": [
       "True"
      ]
     },
     "execution_count": 10,
     "metadata": {},
     "output_type": "execute_result"
    }
   ],
   "source": [
    "0 or True"
   ]
  },
  {
   "cell_type": "code",
   "execution_count": 11,
   "id": "50b01eca",
   "metadata": {},
   "outputs": [
    {
     "data": {
      "text/plain": [
       "False"
      ]
     },
     "execution_count": 11,
     "metadata": {},
     "output_type": "execute_result"
    }
   ],
   "source": [
    "not True"
   ]
  },
  {
   "cell_type": "code",
   "execution_count": 12,
   "id": "a8dea978",
   "metadata": {},
   "outputs": [
    {
     "data": {
      "text/plain": [
       "True"
      ]
     },
     "execution_count": 12,
     "metadata": {},
     "output_type": "execute_result"
    }
   ],
   "source": [
    "not False"
   ]
  },
  {
   "cell_type": "markdown",
   "id": "cd47be8e",
   "metadata": {},
   "source": [
    "# Multi Words Variable Names"
   ]
  },
  {
   "cell_type": "code",
   "execution_count": 13,
   "id": "2bf79ac7",
   "metadata": {},
   "outputs": [],
   "source": [
    "# Variable names with more than one word can be difficult to read.\n",
    "# There are several techniques you can use to make them more readable:"
   ]
  },
  {
   "cell_type": "code",
   "execution_count": 14,
   "id": "b76070d9",
   "metadata": {},
   "outputs": [],
   "source": [
    "# Camel Case:- Each word, except the first, starts with a capital letter:"
   ]
  },
  {
   "cell_type": "code",
   "execution_count": 15,
   "id": "932ba610",
   "metadata": {},
   "outputs": [],
   "source": [
    "myVariableName = \"Aniket\""
   ]
  },
  {
   "cell_type": "code",
   "execution_count": 16,
   "id": "4f47ee9c",
   "metadata": {},
   "outputs": [],
   "source": [
    "# Pascal Case :- Each word starts with a capital letter:"
   ]
  },
  {
   "cell_type": "code",
   "execution_count": 17,
   "id": "c1473a4a",
   "metadata": {},
   "outputs": [],
   "source": [
    "MyVariableName = \"Aniket\""
   ]
  },
  {
   "cell_type": "code",
   "execution_count": 18,
   "id": "473836bc",
   "metadata": {},
   "outputs": [],
   "source": [
    "# Snake Case:- Each word is separated by an underscore character:"
   ]
  },
  {
   "cell_type": "code",
   "execution_count": 19,
   "id": "8779db41",
   "metadata": {},
   "outputs": [],
   "source": [
    "my_variable_name = \"Aniket\""
   ]
  },
  {
   "cell_type": "code",
   "execution_count": 20,
   "id": "a592834e",
   "metadata": {},
   "outputs": [],
   "source": [
    "# Multiple Variable in one Line"
   ]
  },
  {
   "cell_type": "code",
   "execution_count": 21,
   "id": "8a7c2b7b",
   "metadata": {},
   "outputs": [
    {
     "name": "stdout",
     "output_type": "stream",
     "text": [
      "Orange\n",
      "Banana\n",
      "Cherry\n"
     ]
    }
   ],
   "source": [
    "x, y, z = \"Orange\", \"Banana\", \"Cherry\"\n",
    "print (x)\n",
    "print (y)\n",
    "print (z)"
   ]
  },
  {
   "cell_type": "code",
   "execution_count": 22,
   "id": "a37daa98",
   "metadata": {},
   "outputs": [],
   "source": [
    "# One Value to Multiple Variables"
   ]
  },
  {
   "cell_type": "code",
   "execution_count": 23,
   "id": "7fa7b7dd",
   "metadata": {},
   "outputs": [
    {
     "name": "stdout",
     "output_type": "stream",
     "text": [
      "Rose\n",
      "Rose\n",
      "Rose\n"
     ]
    }
   ],
   "source": [
    "x = y = z = 'Rose'\n",
    "print (x)\n",
    "print (y)\n",
    "print (z)"
   ]
  },
  {
   "cell_type": "code",
   "execution_count": 24,
   "id": "ba8f6625",
   "metadata": {},
   "outputs": [],
   "source": [
    "# Unpack a Collection :- If you have a collection of values in a list, tuple etc. Python allows you extract the values into variables. This is called unpacking."
   ]
  },
  {
   "cell_type": "code",
   "execution_count": 25,
   "id": "30d735ec",
   "metadata": {},
   "outputs": [
    {
     "name": "stdout",
     "output_type": "stream",
     "text": [
      "rose\n",
      "jasmine\n",
      "lovender\n"
     ]
    }
   ],
   "source": [
    "flowers = [\"rose\", \"jasmine\", \"lovender\"]\n",
    "x, y, z = flowers\n",
    "print(x)\n",
    "print(y)\n",
    "print(z)"
   ]
  },
  {
   "cell_type": "code",
   "execution_count": 26,
   "id": "f65588be",
   "metadata": {},
   "outputs": [],
   "source": [
    "# Output Variables:- The Python print statement is often used to output variables. \n",
    "# To combine both text and a variable, Python uses the + character:"
   ]
  },
  {
   "cell_type": "code",
   "execution_count": 27,
   "id": "dbcedc8b",
   "metadata": {},
   "outputs": [
    {
     "name": "stdout",
     "output_type": "stream",
     "text": [
      "Aniket is tall\n"
     ]
    }
   ],
   "source": [
    "x ='Handsome'\n",
    "y = 'tall'\n",
    "print ('Aniket is ' + y)"
   ]
  },
  {
   "cell_type": "code",
   "execution_count": 28,
   "id": "0ae63bd0",
   "metadata": {},
   "outputs": [
    {
     "name": "stdout",
     "output_type": "stream",
     "text": [
      "Handsome tall\n"
     ]
    }
   ],
   "source": [
    "x = 'Aniket is '\n",
    "y = 'Handsome'\n",
    "a = ' tall'\n",
    "z = y+a\n",
    "print(z)"
   ]
  },
  {
   "cell_type": "code",
   "execution_count": 29,
   "id": "89bd59e7",
   "metadata": {},
   "outputs": [
    {
     "ename": "TypeError",
     "evalue": "can only concatenate str (not \"int\") to str",
     "output_type": "error",
     "traceback": [
      "\u001b[1;31m---------------------------------------------------------------------------\u001b[0m",
      "\u001b[1;31mTypeError\u001b[0m                                 Traceback (most recent call last)",
      "\u001b[1;32m<ipython-input-29-c895c95b10a7>\u001b[0m in \u001b[0;36m<module>\u001b[1;34m\u001b[0m\n\u001b[0;32m      1\u001b[0m \u001b[0mx\u001b[0m \u001b[1;33m=\u001b[0m \u001b[1;34m'Jagruti is '\u001b[0m\u001b[1;33m\u001b[0m\u001b[1;33m\u001b[0m\u001b[0m\n\u001b[0;32m      2\u001b[0m \u001b[0my\u001b[0m \u001b[1;33m=\u001b[0m \u001b[1;36m7\u001b[0m\u001b[1;33m\u001b[0m\u001b[1;33m\u001b[0m\u001b[0m\n\u001b[1;32m----> 3\u001b[1;33m \u001b[0mz\u001b[0m \u001b[1;33m=\u001b[0m \u001b[0mx\u001b[0m\u001b[1;33m+\u001b[0m\u001b[0my\u001b[0m\u001b[1;33m\u001b[0m\u001b[1;33m\u001b[0m\u001b[0m\n\u001b[0m\u001b[0;32m      4\u001b[0m \u001b[0mprint\u001b[0m \u001b[1;33m(\u001b[0m\u001b[0mz\u001b[0m\u001b[1;33m)\u001b[0m\u001b[1;33m\u001b[0m\u001b[1;33m\u001b[0m\u001b[0m\n",
      "\u001b[1;31mTypeError\u001b[0m: can only concatenate str (not \"int\") to str"
     ]
    }
   ],
   "source": [
    "x = 'Jagruti is '\n",
    "y = 7\n",
    "z = x+y\n",
    "print (z)"
   ]
  },
  {
   "cell_type": "markdown",
   "id": "0faf6dc8",
   "metadata": {},
   "source": [
    "# Global Variable"
   ]
  },
  {
   "cell_type": "code",
   "execution_count": 30,
   "id": "a196b539",
   "metadata": {},
   "outputs": [],
   "source": [
    "# Variables that are created outside of a function (as in all of the examples above) are known as global variables.\n",
    "# Global variables can be used by everyone, both inside of functions and outside."
   ]
  },
  {
   "cell_type": "code",
   "execution_count": 31,
   "id": "86b302d7",
   "metadata": {},
   "outputs": [
    {
     "name": "stdout",
     "output_type": "stream",
     "text": [
      "Rose is Red\n"
     ]
    }
   ],
   "source": [
    "x = 'Red'\n",
    "def flower():\n",
    "    print('Rose is ' + x)\n",
    "\n",
    "flower()"
   ]
  },
  {
   "cell_type": "code",
   "execution_count": 32,
   "id": "43552657",
   "metadata": {},
   "outputs": [],
   "source": [
    "# Normally, when you create a variable inside a function, that variable is local, and can only be used inside that function.\n",
    "# To create a global variable inside a function, you can use the global keyword. Here, x = Red is global variable and x = Yellow is local variable."
   ]
  },
  {
   "cell_type": "code",
   "execution_count": 33,
   "id": "17b858f6",
   "metadata": {},
   "outputs": [
    {
     "name": "stdout",
     "output_type": "stream",
     "text": [
      "Rose is Yellow\n",
      "Rose is Red\n",
      "Banana is Red\n"
     ]
    }
   ],
   "source": [
    "x = 'Red'\n",
    "def flower():\n",
    "    x = 'Yellow'\n",
    "    print('Rose is ' + x)\n",
    "    \n",
    "flower()\n",
    "\n",
    "print ('Rose is ' + x)\n",
    "print ('Banana is ' + x)"
   ]
  },
  {
   "cell_type": "code",
   "execution_count": 34,
   "id": "a8fe9ffc",
   "metadata": {},
   "outputs": [],
   "source": [
    "# Scope of Global variable :- If you use the global keyword, the variable belongs to the global scope\n",
    "# To change the value of a global variable inside a function, refer to the variable by using the global keyword:"
   ]
  },
  {
   "cell_type": "code",
   "execution_count": 35,
   "id": "a1bcd57d",
   "metadata": {},
   "outputs": [
    {
     "name": "stdout",
     "output_type": "stream",
     "text": [
      "Rose is Yellow\n",
      "Rose is Yellow\n",
      "Banana is Yellow\n"
     ]
    }
   ],
   "source": [
    "x = 'Red'\n",
    "def flower():\n",
    "    global x\n",
    "    x = 'Yellow'\n",
    "    print('Rose is ' + x)\n",
    "    \n",
    "flower()\n",
    "\n",
    "print ('Rose is ' + x)\n",
    "print ('Banana is ' + x)"
   ]
  },
  {
   "cell_type": "code",
   "execution_count": 36,
   "id": "ed36eeae",
   "metadata": {},
   "outputs": [],
   "source": [
    "# Here, as we have used global word inside function, it is a global variable, otherwise it is considered as local variable"
   ]
  },
  {
   "cell_type": "code",
   "execution_count": 37,
   "id": "22d8f2d4",
   "metadata": {},
   "outputs": [
    {
     "name": "stdout",
     "output_type": "stream",
     "text": [
      "Rose is Yellow\n"
     ]
    }
   ],
   "source": [
    "def flower():\n",
    "    global x\n",
    "    x = 'Yellow'\n",
    "    print('Rose is ' + x)\n",
    "    \n",
    "flower()"
   ]
  },
  {
   "cell_type": "markdown",
   "id": "52fe617f",
   "metadata": {},
   "source": [
    "# Bitwise operators :- and &, OR |, NOT~ "
   ]
  },
  {
   "cell_type": "code",
   "execution_count": 41,
   "id": "86fcba69",
   "metadata": {},
   "outputs": [],
   "source": [
    "# In this operator, operations are done in bit by bit manner. Here, numbers are converted in binary format and then operations are performed in bit by bit manner."
   ]
  },
  {
   "cell_type": "code",
   "execution_count": 38,
   "id": "31403835",
   "metadata": {},
   "outputs": [
    {
     "data": {
      "text/plain": [
       "20"
      ]
     },
     "execution_count": 38,
     "metadata": {},
     "output_type": "execute_result"
    }
   ],
   "source": [
    "20 & 30"
   ]
  },
  {
   "cell_type": "code",
   "execution_count": 39,
   "id": "b1f7b798",
   "metadata": {},
   "outputs": [
    {
     "data": {
      "text/plain": [
       "30"
      ]
     },
     "execution_count": 39,
     "metadata": {},
     "output_type": "execute_result"
    }
   ],
   "source": [
    "20 | 30"
   ]
  },
  {
   "cell_type": "code",
   "execution_count": 40,
   "id": "7b66accf",
   "metadata": {},
   "outputs": [
    {
     "data": {
      "text/plain": [
       "-21"
      ]
     },
     "execution_count": 40,
     "metadata": {},
     "output_type": "execute_result"
    }
   ],
   "source": [
    "~20"
   ]
  },
  {
   "cell_type": "code",
   "execution_count": 42,
   "id": "2219d25c",
   "metadata": {},
   "outputs": [
    {
     "data": {
      "text/plain": [
       "4"
      ]
     },
     "execution_count": 42,
     "metadata": {},
     "output_type": "execute_result"
    }
   ],
   "source": [
    "~-5"
   ]
  },
  {
   "cell_type": "code",
   "execution_count": 43,
   "id": "60391ead",
   "metadata": {},
   "outputs": [],
   "source": [
    "# for +ve no. its negation is negative of (that no. +1), for -ve no. its negation is +ve of original no. minus 1"
   ]
  },
  {
   "cell_type": "code",
   "execution_count": null,
   "id": "409aa6bc",
   "metadata": {},
   "outputs": [],
   "source": []
  }
 ],
 "metadata": {
  "kernelspec": {
   "display_name": "Python 3",
   "language": "python",
   "name": "python3"
  },
  "language_info": {
   "codemirror_mode": {
    "name": "ipython",
    "version": 3
   },
   "file_extension": ".py",
   "mimetype": "text/x-python",
   "name": "python",
   "nbconvert_exporter": "python",
   "pygments_lexer": "ipython3",
   "version": "3.8.8"
  }
 },
 "nbformat": 4,
 "nbformat_minor": 5
}
