{
 "cells": [
  {
   "cell_type": "markdown",
   "id": "ab24075a",
   "metadata": {},
   "source": [
    "# IF, ELSE, ELIF"
   ]
  },
  {
   "cell_type": "code",
   "execution_count": 1,
   "id": "61acfd15",
   "metadata": {},
   "outputs": [],
   "source": [
    "# pocket money example"
   ]
  },
  {
   "cell_type": "code",
   "execution_count": 5,
   "id": "9cdd27e6",
   "metadata": {},
   "outputs": [
    {
     "name": "stdout",
     "output_type": "stream",
     "text": [
      "50 : Stay at home\n",
      "250 : Go for movie\n",
      "750 : Go to dinner\n",
      "1050 : Go for shopping\n"
     ]
    }
   ],
   "source": [
    "a = [50, 250, 750, 1050]\n",
    "for n in a:\n",
    "    if n <= 100:\n",
    "        print (n, \": Stay at home\")\n",
    "    if n >100 and n<=500:\n",
    "        print (n, \": Go for movie\")\n",
    "    if n>500 and n<=1000:\n",
    "        print (n, \": Go to dinner\")\n",
    "    if n>1000:\n",
    "        print (n, \": Go for shopping\")"
   ]
  },
  {
   "cell_type": "code",
   "execution_count": 6,
   "id": "22e6439f",
   "metadata": {},
   "outputs": [
    {
     "name": "stdout",
     "output_type": "stream",
     "text": [
      "50 : Stay at home\n",
      "250 : Go for movie\n",
      "750 : Go to dinner\n",
      "1050 : Go for shopping\n"
     ]
    }
   ],
   "source": [
    "a = [50, 250, 750, 1050]\n",
    "for n in a:\n",
    "    if n <=100:\n",
    "        print (n, \": Stay at home\")\n",
    "    elif n>100 and n<=500:\n",
    "        print (n, \": Go for movie\")\n",
    "    elif n>500 and n<=1000:\n",
    "        print (n, \": Go to dinner\")\n",
    "    else:\n",
    "        print (n, \": Go for shopping\")"
   ]
  },
  {
   "cell_type": "markdown",
   "id": "8aa0dfa2",
   "metadata": {},
   "source": [
    "# Short Hand IF..ELSE"
   ]
  },
  {
   "cell_type": "code",
   "execution_count": 7,
   "id": "83ca347b",
   "metadata": {},
   "outputs": [
    {
     "name": "stdout",
     "output_type": "stream",
     "text": [
      "Mayuri\n"
     ]
    }
   ],
   "source": [
    "a,b = 55,75\n",
    "print ('Aniket') if a>b else print ('Mayuri')"
   ]
  },
  {
   "cell_type": "code",
   "execution_count": 19,
   "id": "085d484f",
   "metadata": {},
   "outputs": [
    {
     "ename": "SyntaxError",
     "evalue": "invalid syntax (<ipython-input-19-1e62ea35bf97>, line 2)",
     "output_type": "error",
     "traceback": [
      "\u001b[1;36m  File \u001b[1;32m\"<ipython-input-19-1e62ea35bf97>\"\u001b[1;36m, line \u001b[1;32m2\u001b[0m\n\u001b[1;33m    print ('Aniket') if a>b elif a<b print ('Mayuri') else print ('Jagruti')\u001b[0m\n\u001b[1;37m                            ^\u001b[0m\n\u001b[1;31mSyntaxError\u001b[0m\u001b[1;31m:\u001b[0m invalid syntax\n"
     ]
    }
   ],
   "source": [
    "a,b = 55,75\n",
    "print ('Aniket') if a>b elif a<b print ('Mayuri') else print ('Jagruti')"
   ]
  },
  {
   "cell_type": "code",
   "execution_count": 18,
   "id": "cbf475db",
   "metadata": {},
   "outputs": [
    {
     "name": "stdout",
     "output_type": "stream",
     "text": [
      "Mayuri\n"
     ]
    }
   ],
   "source": [
    "a,b = 30,50\n",
    "print ('Aniket') if a>b else print ('Mayuri') if a<b else print ('Jagruti')"
   ]
  },
  {
   "cell_type": "markdown",
   "id": "5042850a",
   "metadata": {},
   "source": [
    "# While Loop"
   ]
  },
  {
   "cell_type": "code",
   "execution_count": 1,
   "id": "5187abc5",
   "metadata": {},
   "outputs": [
    {
     "name": "stdout",
     "output_type": "stream",
     "text": [
      "Pune\n",
      "Pune\n",
      "Pune\n",
      "Pune\n",
      "Pune\n",
      "Pune\n"
     ]
    }
   ],
   "source": [
    "i = 1\n",
    "while i < 7:\n",
    "    print (\"Pune\")\n",
    "    i =i+1"
   ]
  },
  {
   "cell_type": "code",
   "execution_count": 8,
   "id": "a2de9da9",
   "metadata": {},
   "outputs": [
    {
     "name": "stdout",
     "output_type": "stream",
     "text": [
      "10 20\n",
      "11 20\n",
      "12 20\n",
      "13 20\n",
      "14 20\n",
      "15 20\n",
      "10 18\n",
      "11 18\n",
      "12 18\n",
      "13 18\n",
      "14 18\n",
      "15 18\n",
      "10 16\n",
      "11 16\n",
      "12 16\n",
      "13 16\n",
      "14 16\n",
      "15 16\n",
      "10 14\n",
      "11 14\n",
      "12 14\n",
      "13 14\n",
      "14 14\n",
      "15 14\n",
      "10 12\n",
      "11 12\n",
      "12 12\n",
      "13 12\n",
      "14 12\n",
      "15 12\n"
     ]
    }
   ],
   "source": [
    "j = 20\n",
    "while j > 10:\n",
    "    i = 10\n",
    "    while i < 15:\n",
    "        print (i,j)\n",
    "        i = i+1\n",
    "    print (i,j)\n",
    "    j = j-2"
   ]
  },
  {
   "cell_type": "code",
   "execution_count": 15,
   "id": "7606ab92",
   "metadata": {},
   "outputs": [
    {
     "name": "stdout",
     "output_type": "stream",
     "text": [
      "10\n",
      "12\n",
      "14\n",
      "16\n",
      "18\n",
      "20\n",
      "22\n",
      "24\n",
      "26\n",
      "28\n",
      "30\n",
      "32\n",
      "34\n",
      "36\n",
      "38\n",
      "40\n",
      "42\n",
      "44\n",
      "46\n",
      "48\n"
     ]
    }
   ],
   "source": [
    "i = 10\n",
    "while i < 50:\n",
    "    if i%2 ==0:\n",
    "        print (i)\n",
    "    i = i+1"
   ]
  },
  {
   "cell_type": "code",
   "execution_count": 23,
   "id": "83a18f9a",
   "metadata": {},
   "outputs": [
    {
     "name": "stdout",
     "output_type": "stream",
     "text": [
      "1\n",
      "2\n",
      "3\n",
      "4\n",
      "5\n",
      "6\n"
     ]
    }
   ],
   "source": [
    "A=[1,2,3,4,5,6]\n",
    "for i in A:\n",
    "    print(i)"
   ]
  },
  {
   "cell_type": "code",
   "execution_count": 27,
   "id": "5ebc0a71",
   "metadata": {},
   "outputs": [
    {
     "name": "stdout",
     "output_type": "stream",
     "text": [
      "Pune\n",
      "Pune\n",
      "Pune\n",
      "Pune\n",
      "Pune\n",
      "Delhi\n",
      "12 12\n"
     ]
    }
   ],
   "source": [
    "a,b = 7, 12\n",
    "while a<b:\n",
    "    if a>5:\n",
    "        print (\"Pune\")\n",
    "    else:\n",
    "        print (\"Mumbai\")\n",
    "    a = a+1\n",
    "else:\n",
    "    print (\"Delhi\")\n",
    "print (a,b)"
   ]
  },
  {
   "cell_type": "code",
   "execution_count": 38,
   "id": "d344cc0a",
   "metadata": {},
   "outputs": [
    {
     "name": "stdout",
     "output_type": "stream",
     "text": [
      "7\n",
      "8\n",
      "9\n",
      "10\n",
      "11\n",
      "12 12\n",
      "a: 15\n",
      "b: 13\n"
     ]
    }
   ],
   "source": [
    "a,b = 7, 12\n",
    "while a < 15:\n",
    "    if a == b:\n",
    "        print (a,b)\n",
    "        a = a+2\n",
    "    else:\n",
    "        print (a)\n",
    "    a = a+1\n",
    "b = b+1\n",
    "print (\"a:\", a)\n",
    "print (\"b:\",b)"
   ]
  },
  {
   "cell_type": "code",
   "execution_count": 40,
   "id": "3ab8f9ca",
   "metadata": {},
   "outputs": [
    {
     "name": "stdout",
     "output_type": "stream",
     "text": [
      "0 0\n",
      "0 1\n",
      "0 2\n",
      "1 0\n",
      "1 1\n",
      "1 2\n",
      "2 0\n",
      "2 1\n",
      "2 2\n"
     ]
    }
   ],
   "source": [
    "i = 0\n",
    "while i<3:\n",
    "    j = 0\n",
    "    while j < 3:\n",
    "        print (i,j)\n",
    "        j = j+1\n",
    "    i = i +1"
   ]
  },
  {
   "cell_type": "code",
   "execution_count": 42,
   "id": "f812f1c0",
   "metadata": {},
   "outputs": [
    {
     "name": "stdout",
     "output_type": "stream",
     "text": [
      "0\t1\t2\t\n",
      "1\t2\t3\t\n",
      "2\t3\t4\t\n"
     ]
    }
   ],
   "source": [
    "i = 0\n",
    "while i<3:\n",
    "    j = 0\n",
    "    while j < 3:\n",
    "        print (i+j, end= '\\t')\n",
    "        j = j+1\n",
    "    print ()\n",
    "    i = i +1"
   ]
  },
  {
   "cell_type": "code",
   "execution_count": 44,
   "id": "c032162c",
   "metadata": {},
   "outputs": [
    {
     "name": "stdout",
     "output_type": "stream",
     "text": [
      "* * * * * \n",
      "* * * * * \n",
      "* * * * * \n",
      "* * * * * \n",
      "* * * * * \n"
     ]
    }
   ],
   "source": [
    "i = 0\n",
    "while i <5:\n",
    "    j = 0\n",
    "    while j<5:\n",
    "        print ('*', end=\" \")\n",
    "        j = j+1\n",
    "    print ()\n",
    "    i = i +1"
   ]
  },
  {
   "cell_type": "code",
   "execution_count": 45,
   "id": "d4230f65",
   "metadata": {},
   "outputs": [],
   "source": [
    "# Value of i give no. of rows and j gives no of columns"
   ]
  },
  {
   "cell_type": "code",
   "execution_count": 60,
   "id": "8ca2fd36",
   "metadata": {},
   "outputs": [
    {
     "name": "stdout",
     "output_type": "stream",
     "text": [
      "  * * * * \n",
      "    * * * \n",
      "      * * \n",
      "        * \n",
      "          \n"
     ]
    }
   ],
   "source": [
    "i = 0 \n",
    "while i < 5:\n",
    "    j = 0\n",
    "    while j< 5:\n",
    "        if i < j:\n",
    "            print ('*', end =\" \")\n",
    "        else:\n",
    "            print (' ',end = ' ')\n",
    "        j = j+1\n",
    "    print ()\n",
    "    i = i+1"
   ]
  },
  {
   "cell_type": "code",
   "execution_count": 58,
   "id": "ebf15d66",
   "metadata": {},
   "outputs": [
    {
     "name": "stdout",
     "output_type": "stream",
     "text": [
      "* * * * * \n",
      "* * * * * \n",
      "* * * * * \n",
      "* * * * * \n",
      "* * * * * \n"
     ]
    }
   ],
   "source": [
    "i = 0 \n",
    "while i < 5:\n",
    "    j = 0\n",
    "    while j< 5:\n",
    "        print ('*', end =\" \")\n",
    "        j = j+1\n",
    "    print ()\n",
    "    i = i+1"
   ]
  },
  {
   "cell_type": "code",
   "execution_count": 61,
   "id": "b1d1e68e",
   "metadata": {},
   "outputs": [
    {
     "name": "stdout",
     "output_type": "stream",
     "text": [
      "*         \n",
      "* *       \n",
      "* * *     \n",
      "* * * *   \n",
      "* * * * * \n"
     ]
    }
   ],
   "source": [
    "i = 0 \n",
    "while i < 5:\n",
    "    j = 0\n",
    "    while j< 5:\n",
    "        if j<=i:\n",
    "            print ('*', end =\" \")\n",
    "        else:\n",
    "            print (' ',end = ' ')\n",
    "        j = j+1\n",
    "    print ()\n",
    "    i = i+1"
   ]
  },
  {
   "cell_type": "code",
   "execution_count": 65,
   "id": "e9a02317",
   "metadata": {},
   "outputs": [
    {
     "name": "stdout",
     "output_type": "stream",
     "text": [
      "        * \n",
      "      *   \n",
      "    *     \n",
      "  *       \n",
      "*         \n"
     ]
    }
   ],
   "source": [
    "i = 0 \n",
    "while i < 5:\n",
    "    j = 0\n",
    "    while j< 5:\n",
    "        if i+j == 4:\n",
    "            print ('*', end =\" \")\n",
    "        else:\n",
    "            print (' ',end = ' ')\n",
    "        j = j+1\n",
    "    print ()\n",
    "    i = i+1"
   ]
  },
  {
   "cell_type": "code",
   "execution_count": 66,
   "id": "b43bbfcb",
   "metadata": {},
   "outputs": [
    {
     "name": "stdout",
     "output_type": "stream",
     "text": [
      "        * \n",
      "      * * \n",
      "    * * * \n",
      "  * * * * \n",
      "* * * * * \n"
     ]
    }
   ],
   "source": [
    "i = 0 \n",
    "while i < 5:\n",
    "    j = 0\n",
    "    while j< 5:\n",
    "        if i+j >= 4:\n",
    "            print ('*', end =\" \")\n",
    "        else:\n",
    "            print (' ',end = ' ')\n",
    "        j = j+1\n",
    "    print ()\n",
    "    i = i+1"
   ]
  },
  {
   "cell_type": "code",
   "execution_count": 67,
   "id": "a250ab25",
   "metadata": {},
   "outputs": [
    {
     "name": "stdout",
     "output_type": "stream",
     "text": [
      "*       * \n",
      "  *   *   \n",
      "    *     \n",
      "  *   *   \n",
      "*       * \n"
     ]
    }
   ],
   "source": [
    "i = 0 \n",
    "while i < 5:\n",
    "    j = 0\n",
    "    while j< 5:\n",
    "        if i+j == 4 or i==j:\n",
    "            print ('*', end =\" \")\n",
    "        else:\n",
    "            print (' ',end = ' ')\n",
    "        j = j+1\n",
    "    print ()\n",
    "    i = i+1"
   ]
  },
  {
   "cell_type": "code",
   "execution_count": 68,
   "id": "469b0f7d",
   "metadata": {},
   "outputs": [
    {
     "name": "stdout",
     "output_type": "stream",
     "text": [
      "* * * * * \n",
      "    *     \n",
      "    *     \n",
      "    *     \n",
      "    *     \n"
     ]
    }
   ],
   "source": [
    "i = 0 \n",
    "while i < 5:\n",
    "    j = 0\n",
    "    while j< 5:\n",
    "        if i == 0 or j==2:\n",
    "            print ('*', end =\" \")\n",
    "        else:\n",
    "            print (' ',end = ' ')\n",
    "        j = j+1\n",
    "    print ()\n",
    "    i = i+1"
   ]
  },
  {
   "cell_type": "markdown",
   "id": "56fbf267",
   "metadata": {},
   "source": [
    "# Break and Continue"
   ]
  },
  {
   "cell_type": "code",
   "execution_count": 70,
   "id": "65f6c8dd",
   "metadata": {},
   "outputs": [],
   "source": [
    "# Break :- Used to break the ongoing loop and get out of the loop"
   ]
  },
  {
   "cell_type": "code",
   "execution_count": 78,
   "id": "acafd0af",
   "metadata": {},
   "outputs": [],
   "source": [
    "# Continue :- Used to skip the ongoing iteration of loop and continue the remaining loop"
   ]
  },
  {
   "cell_type": "code",
   "execution_count": 72,
   "id": "26018a80",
   "metadata": {},
   "outputs": [
    {
     "name": "stdout",
     "output_type": "stream",
     "text": [
      "1\n",
      "2\n",
      "3\n",
      "4\n"
     ]
    }
   ],
   "source": [
    "i = 1\n",
    "while i <10:\n",
    "    if i %5 ==0:\n",
    "        break\n",
    "    print (i)\n",
    "    i = i+1"
   ]
  },
  {
   "cell_type": "code",
   "execution_count": 77,
   "id": "052cda55",
   "metadata": {},
   "outputs": [
    {
     "name": "stdout",
     "output_type": "stream",
     "text": [
      "1\n",
      "2\n",
      "3\n",
      "5\n",
      "6\n",
      "7\n",
      "9\n",
      "10\n"
     ]
    }
   ],
   "source": [
    "i = 0\n",
    "while i < 10:\n",
    "    i = i+1\n",
    "    if i % 4 ==0:\n",
    "        continue\n",
    "    print (i)"
   ]
  },
  {
   "cell_type": "code",
   "execution_count": 79,
   "id": "c65b0999",
   "metadata": {},
   "outputs": [
    {
     "name": "stdout",
     "output_type": "stream",
     "text": [
      "19\n",
      "17\n",
      "15\n",
      "13\n",
      "11\n",
      "9\n"
     ]
    }
   ],
   "source": [
    "i = 20\n",
    "while True:\n",
    "    i = i-1\n",
    "    if i %2 ==0:\n",
    "        continue\n",
    "    if i %7 ==0:\n",
    "        break\n",
    "    print (i)"
   ]
  },
  {
   "cell_type": "markdown",
   "id": "db8edb32",
   "metadata": {},
   "source": [
    "# Range Function"
   ]
  },
  {
   "cell_type": "code",
   "execution_count": null,
   "id": "b816aa58",
   "metadata": {},
   "outputs": [],
   "source": [
    "# Range function is used to generate the values in perticular range. It can work only on integer. we have to provide 3 values to range function. i.e. start value, end value and step size resp."
   ]
  },
  {
   "cell_type": "code",
   "execution_count": 2,
   "id": "0dbcd6b5",
   "metadata": {},
   "outputs": [
    {
     "name": "stdout",
     "output_type": "stream",
     "text": [
      "range(10, 15)\n"
     ]
    }
   ],
   "source": [
    "a = range (10,15,1)\n",
    "print (a)"
   ]
  },
  {
   "cell_type": "code",
   "execution_count": 3,
   "id": "df39f54c",
   "metadata": {},
   "outputs": [
    {
     "data": {
      "text/plain": [
       "[10, 11, 12, 13, 14]"
      ]
     },
     "execution_count": 3,
     "metadata": {},
     "output_type": "execute_result"
    }
   ],
   "source": [
    "list (range (10,15,1))"
   ]
  },
  {
   "cell_type": "code",
   "execution_count": 5,
   "id": "b95fe881",
   "metadata": {},
   "outputs": [
    {
     "data": {
      "text/plain": [
       "[10, 9, 8, 7, 6]"
      ]
     },
     "execution_count": 5,
     "metadata": {},
     "output_type": "execute_result"
    }
   ],
   "source": [
    "list (range(10,5,-1))"
   ]
  },
  {
   "cell_type": "code",
   "execution_count": 6,
   "id": "f965df1c",
   "metadata": {},
   "outputs": [
    {
     "data": {
      "text/plain": [
       "[]"
      ]
     },
     "execution_count": 6,
     "metadata": {},
     "output_type": "execute_result"
    }
   ],
   "source": [
    "list (range (10,5,1))"
   ]
  },
  {
   "cell_type": "code",
   "execution_count": 7,
   "id": "095d86a5",
   "metadata": {},
   "outputs": [
    {
     "data": {
      "text/plain": [
       "[]"
      ]
     },
     "execution_count": 7,
     "metadata": {},
     "output_type": "execute_result"
    }
   ],
   "source": [
    "list (range (10,15,-1))"
   ]
  },
  {
   "cell_type": "code",
   "execution_count": 9,
   "id": "cac9cd74",
   "metadata": {},
   "outputs": [
    {
     "data": {
      "text/plain": [
       "[10, 11, 12, 13, 14, 15]"
      ]
     },
     "execution_count": 9,
     "metadata": {},
     "output_type": "execute_result"
    }
   ],
   "source": [
    "list (range (10,16)) # bydefault it will take step size as 1"
   ]
  },
  {
   "cell_type": "code",
   "execution_count": 13,
   "id": "7f31b8e1",
   "metadata": {},
   "outputs": [
    {
     "ename": "TypeError",
     "evalue": "'float' object cannot be interpreted as an integer",
     "output_type": "error",
     "traceback": [
      "\u001b[1;31m---------------------------------------------------------------------------\u001b[0m",
      "\u001b[1;31mTypeError\u001b[0m                                 Traceback (most recent call last)",
      "\u001b[1;32m<ipython-input-13-ecbef91b2cb1>\u001b[0m in \u001b[0;36m<module>\u001b[1;34m\u001b[0m\n\u001b[1;32m----> 1\u001b[1;33m \u001b[0mlist\u001b[0m \u001b[1;33m(\u001b[0m\u001b[0mrange\u001b[0m\u001b[1;33m(\u001b[0m\u001b[1;36m10.2\u001b[0m\u001b[1;33m,\u001b[0m \u001b[1;36m14.7\u001b[0m\u001b[1;33m,\u001b[0m\u001b[1;36m1\u001b[0m\u001b[1;33m)\u001b[0m\u001b[1;33m)\u001b[0m\u001b[1;33m\u001b[0m\u001b[1;33m\u001b[0m\u001b[0m\n\u001b[0m",
      "\u001b[1;31mTypeError\u001b[0m: 'float' object cannot be interpreted as an integer"
     ]
    }
   ],
   "source": [
    "list (range(10.2, 14.7,1))"
   ]
  },
  {
   "cell_type": "code",
   "execution_count": 14,
   "id": "92b9f7ea",
   "metadata": {},
   "outputs": [
    {
     "ename": "TypeError",
     "evalue": "'float' object cannot be interpreted as an integer",
     "output_type": "error",
     "traceback": [
      "\u001b[1;31m---------------------------------------------------------------------------\u001b[0m",
      "\u001b[1;31mTypeError\u001b[0m                                 Traceback (most recent call last)",
      "\u001b[1;32m<ipython-input-14-cfc374494089>\u001b[0m in \u001b[0;36m<module>\u001b[1;34m\u001b[0m\n\u001b[1;32m----> 1\u001b[1;33m \u001b[0mlist\u001b[0m \u001b[1;33m(\u001b[0m\u001b[0mrange\u001b[0m \u001b[1;33m(\u001b[0m\u001b[1;36m10\u001b[0m\u001b[1;33m,\u001b[0m\u001b[1;36m15\u001b[0m\u001b[1;33m,\u001b[0m\u001b[1;36m1.2\u001b[0m\u001b[1;33m)\u001b[0m\u001b[1;33m)\u001b[0m\u001b[1;33m\u001b[0m\u001b[1;33m\u001b[0m\u001b[0m\n\u001b[0m",
      "\u001b[1;31mTypeError\u001b[0m: 'float' object cannot be interpreted as an integer"
     ]
    }
   ],
   "source": [
    "list (range (10,15,1.2))"
   ]
  },
  {
   "cell_type": "code",
   "execution_count": 16,
   "id": "8425275b",
   "metadata": {},
   "outputs": [
    {
     "data": {
      "text/plain": [
       "[0, 1, 2, 3, 4, 5, 6, 7, 8, 9, 10, 11]"
      ]
     },
     "execution_count": 16,
     "metadata": {},
     "output_type": "execute_result"
    }
   ],
   "source": [
    "list (range(12)) #here, it has taken bydefault start point as 0 and step size as 1"
   ]
  },
  {
   "cell_type": "code",
   "execution_count": 19,
   "id": "d82b600e",
   "metadata": {},
   "outputs": [
    {
     "data": {
      "text/plain": [
       "[-5, -4, -3, -2]"
      ]
     },
     "execution_count": 19,
     "metadata": {},
     "output_type": "execute_result"
    }
   ],
   "source": [
    "list (range(-5,-1))"
   ]
  },
  {
   "cell_type": "markdown",
   "id": "3897c9c5",
   "metadata": {},
   "source": [
    "# For Loop"
   ]
  },
  {
   "cell_type": "code",
   "execution_count": 23,
   "id": "01c56c3a",
   "metadata": {},
   "outputs": [
    {
     "name": "stdout",
     "output_type": "stream",
     "text": [
      "0\n",
      "2\n",
      "4\n",
      "6\n",
      "8\n",
      "10\n"
     ]
    }
   ],
   "source": [
    "for i in range (0,11,2):\n",
    "    print (i)"
   ]
  },
  {
   "cell_type": "code",
   "execution_count": 24,
   "id": "6b8fc95e",
   "metadata": {},
   "outputs": [],
   "source": [
    "# Sum of 0 to 10 numbers"
   ]
  },
  {
   "cell_type": "code",
   "execution_count": 26,
   "id": "b8d0fdc0",
   "metadata": {},
   "outputs": [
    {
     "name": "stdout",
     "output_type": "stream",
     "text": [
      "55\n"
     ]
    }
   ],
   "source": [
    "sum1 =0\n",
    "for i in range (0,11,1):\n",
    "    sum1 =sum1+i\n",
    "print (sum1)"
   ]
  },
  {
   "cell_type": "code",
   "execution_count": 28,
   "id": "4674ca97",
   "metadata": {},
   "outputs": [],
   "source": [
    "# sum of 0 to 100 (inclusive) numbers divisible by 5"
   ]
  },
  {
   "cell_type": "code",
   "execution_count": 30,
   "id": "3f3583be",
   "metadata": {},
   "outputs": [
    {
     "name": "stdout",
     "output_type": "stream",
     "text": [
      "1050\n"
     ]
    }
   ],
   "source": [
    "sum1 =0\n",
    "for i in range (0,101,5):\n",
    "    sum1 = sum1+i\n",
    "print (sum1)"
   ]
  },
  {
   "cell_type": "code",
   "execution_count": 31,
   "id": "b15c85c9",
   "metadata": {},
   "outputs": [],
   "source": [
    "# to get the sum of individual numbers of any number"
   ]
  },
  {
   "cell_type": "code",
   "execution_count": 40,
   "id": "faefd4c0",
   "metadata": {},
   "outputs": [
    {
     "name": "stdout",
     "output_type": "stream",
     "text": [
      "Enter the number :543\n",
      "12\n"
     ]
    }
   ],
   "source": [
    "sum1 =0\n",
    "n =int (input('Enter the number :'))\n",
    "while n!=0:\n",
    "    digit =n%10\n",
    "    n = n//10\n",
    "    sum1 =sum1 + digit\n",
    "print (sum1)"
   ]
  },
  {
   "cell_type": "code",
   "execution_count": 41,
   "id": "548d01ad",
   "metadata": {},
   "outputs": [],
   "source": [
    "# to get individual numbers of any number"
   ]
  },
  {
   "cell_type": "code",
   "execution_count": 49,
   "id": "2eadf774",
   "metadata": {},
   "outputs": [
    {
     "name": "stdout",
     "output_type": "stream",
     "text": [
      "Enter the number :5786\n",
      "6\n",
      "8\n",
      "7\n",
      "5\n"
     ]
    }
   ],
   "source": [
    "n =int (input('Enter the number :'))\n",
    "while n>0:\n",
    "    digit = n%10\n",
    "    print (digit)\n",
    "    n =n//10"
   ]
  },
  {
   "cell_type": "code",
   "execution_count": 50,
   "id": "706a3baf",
   "metadata": {},
   "outputs": [],
   "source": [
    "# Chech wheather given number is amstrong number or not"
   ]
  },
  {
   "cell_type": "code",
   "execution_count": 56,
   "id": "769618f8",
   "metadata": {},
   "outputs": [
    {
     "name": "stdout",
     "output_type": "stream",
     "text": [
      "Enter the number :372\n",
      "372 is not amstrong no.\n"
     ]
    }
   ],
   "source": [
    "sum1 = 0\n",
    "x = n = int(input (\"Enter the number :\"))\n",
    "while x >0:\n",
    "    digit = x%10\n",
    "    x = x//10\n",
    "    sum1 = sum1+digit**3\n",
    "if sum1 == n:\n",
    "    print (n, \"is amstrong no.\")\n",
    "else:\n",
    "    print (n, \"is not amstrong no.\")"
   ]
  },
  {
   "cell_type": "code",
   "execution_count": 57,
   "id": "8cee18ae",
   "metadata": {},
   "outputs": [],
   "source": [
    "# Chech wheather given number is Spy number or not"
   ]
  },
  {
   "cell_type": "code",
   "execution_count": 61,
   "id": "c7fb8f79",
   "metadata": {},
   "outputs": [
    {
     "name": "stdout",
     "output_type": "stream",
     "text": [
      "Enter the number :1124\n",
      "1124 is Spy no.\n"
     ]
    }
   ],
   "source": [
    "x= n= int (input (\"Enter the number :\"))\n",
    "sum1 = 0\n",
    "prd = 1\n",
    "while n>0:\n",
    "    digit = n% 10\n",
    "    n= n//10\n",
    "    sum1 = sum1 +digit\n",
    "    prd = prd *digit\n",
    "if sum1 == prd:\n",
    "    print (x, \"is Spy no.\")\n",
    "else:\n",
    "    print (x, \"is not Spy no.\")"
   ]
  },
  {
   "cell_type": "code",
   "execution_count": 78,
   "id": "f603ee84",
   "metadata": {},
   "outputs": [
    {
     "name": "stdout",
     "output_type": "stream",
     "text": [
      "['A', 'n', 'i', 'k', 'e', 't']\n"
     ]
    }
   ],
   "source": [
    "a = 'Aniket'\n",
    "b = []\n",
    "for i in a:\n",
    "    b.append(i)\n",
    "print (b)"
   ]
  },
  {
   "cell_type": "code",
   "execution_count": 70,
   "id": "58227b01",
   "metadata": {},
   "outputs": [
    {
     "data": {
      "text/plain": [
       "str"
      ]
     },
     "execution_count": 70,
     "metadata": {},
     "output_type": "execute_result"
    }
   ],
   "source": [
    "type (b)"
   ]
  },
  {
   "cell_type": "code",
   "execution_count": 82,
   "id": "4c64a15d",
   "metadata": {},
   "outputs": [
    {
     "name": "stdout",
     "output_type": "stream",
     "text": [
      "{'e', 'n', 'k', 't', 'i', 'A'}\n"
     ]
    }
   ],
   "source": [
    "a = 'Aniket'\n",
    "b = set ()\n",
    "for i in a:\n",
    "    b.update(i)\n",
    "print (b)"
   ]
  },
  {
   "cell_type": "code",
   "execution_count": 109,
   "id": "4768705d",
   "metadata": {},
   "outputs": [
    {
     "name": "stdout",
     "output_type": "stream",
     "text": [
      "{'e', 'n', 'k', 't', 'i', 'A'}\n"
     ]
    }
   ],
   "source": [
    "a = 'Aniket'\n",
    "b = set ()\n",
    "c = (1,2,3,4,5)\n",
    "for i in a:\n",
    "    b.update(a)\n",
    "print (b)"
   ]
  },
  {
   "cell_type": "code",
   "execution_count": 112,
   "id": "73b5ebc3",
   "metadata": {},
   "outputs": [
    {
     "ename": "SyntaxError",
     "evalue": "invalid syntax (<ipython-input-112-e17e298ee86b>, line 2)",
     "output_type": "error",
     "traceback": [
      "\u001b[1;36m  File \u001b[1;32m\"<ipython-input-112-e17e298ee86b>\"\u001b[1;36m, line \u001b[1;32m2\u001b[0m\n\u001b[1;33m    a.keys {a,b.c.d.e.f}\u001b[0m\n\u001b[1;37m           ^\u001b[0m\n\u001b[1;31mSyntaxError\u001b[0m\u001b[1;31m:\u001b[0m invalid syntax\n"
     ]
    }
   ],
   "source": []
  },
  {
   "cell_type": "code",
   "execution_count": 116,
   "id": "659d5ad1",
   "metadata": {},
   "outputs": [
    {
     "name": "stdout",
     "output_type": "stream",
     "text": [
      "* 4\n",
      "* 8\n",
      "$ 12\n",
      "* 16\n",
      "* 20\n",
      "$ 24\n",
      "* 28\n",
      "* 32\n",
      "$ 36\n",
      "* 40\n",
      "* 44\n",
      "$ 48\n"
     ]
    }
   ],
   "source": [
    "a = range (1,50)\n",
    "for i in a:\n",
    "    if i%4==0: \n",
    "        if i%6==0: \n",
    "            print('$', i)\n",
    "        else: \n",
    "            print('*', i) "
   ]
  },
  {
   "cell_type": "code",
   "execution_count": 119,
   "id": "b03f0e71",
   "metadata": {},
   "outputs": [
    {
     "name": "stdout",
     "output_type": "stream",
     "text": [
      "0 1 2 3 4 \n",
      "1 2 3 4 5 \n",
      "2 3 4 5 6 \n",
      "3 4 5 6 7 \n",
      "4 5 6 7 8 \n"
     ]
    }
   ],
   "source": [
    "for i in range(5):\n",
    "    for j in range(5): \n",
    "        print(i+j, end=' ')\n",
    "    print() "
   ]
  },
  {
   "cell_type": "code",
   "execution_count": 123,
   "id": "c84bcfd8",
   "metadata": {},
   "outputs": [
    {
     "name": "stdout",
     "output_type": "stream",
     "text": [
      "0 \n",
      "1 2 \n",
      "2 3 4 \n",
      "3 4 5 6 \n",
      "4 5 6 7 8 \n"
     ]
    }
   ],
   "source": [
    "for i in range(5): \n",
    "    for j in range (5): \n",
    "        if j<=i: \n",
    "            print(i+j, end=' ') \n",
    "    print() "
   ]
  },
  {
   "cell_type": "code",
   "execution_count": 129,
   "id": "1b426af2",
   "metadata": {},
   "outputs": [
    {
     "name": "stdout",
     "output_type": "stream",
     "text": [
      "        * \n",
      "      * * \n",
      "    * * * \n",
      "  * * * * \n",
      "* * * * * \n"
     ]
    }
   ],
   "source": [
    "for i in range(5): \n",
    "    for j in range(5): \n",
    "        if i+j>=4: \n",
    "            print('*', end=' ')\n",
    "        else: \n",
    "            print(' ', end=' ') \n",
    "    print() "
   ]
  },
  {
   "cell_type": "code",
   "execution_count": 132,
   "id": "b06e0323",
   "metadata": {},
   "outputs": [
    {
     "name": "stdout",
     "output_type": "stream",
     "text": [
      "$       $ \n",
      "  $   $   \n",
      "    $     \n",
      "  $   $   \n",
      "$       $ \n"
     ]
    }
   ],
   "source": [
    "for i in range(5): \n",
    "    for j in range(5): \n",
    "        if i==j or i+j==4: \n",
    "            print('$', end=' ') \n",
    "        else: \n",
    "            print(' ', end=' ')\n",
    "    print() \n"
   ]
  },
  {
   "cell_type": "code",
   "execution_count": 144,
   "id": "25d9482a",
   "metadata": {},
   "outputs": [
    {
     "name": "stdout",
     "output_type": "stream",
     "text": [
      "                                                                                                                                                                                                                                                                                                                                                                                                                                                                                                                                                                                                                                                                                                                                                                                                                                                                                                                                                                                                                                                                                                                                                                                                                                                                                                                                                                                                                                                                                                                                                                                                                                                                                                                                                                                                                                                                                                                                                                                                                                                                                                                                                                                                                                                                                                                                                                                                                                                                                                                                                                                                                                                                                                                                                                                                                                                                                                                                                                                                                                                                                                                                                                                                                                                                                                                                                                                                                                                                                                                                                                                                                                                                                                                                                                                                                                                                                                                                                                                                                                                                                                                                                                                                                                                                                                                                                                                                                                                                                                                                                                                                                                                                                                                                                                                                                                                                                                                                                                                                                                                                                                                                                                                                                                                                                                                                                                                                                                                                                                                                                                                                                                                                                                                                                                                                                                                                                                                                                                                                                                                                                                                                                                                                                                                                                                                                                                                                                                                                                                                                                                                                                                                                                                                                                                                                                                                                                                                                                                                                                                                                                                                                                                                                                                                                                                                                                                                                                                                                                                                                                                                                                                                                                                                                                                                                                                                                                                                                                                                                                                                                                                                                                                                                                                                                                                                                                                                                                                                                                                                                                                                                                                                                                                                                                                                                                                                                                                                                                                                                                                                                                                                                                                                                                                                                                                                                                                                                                                                                                                                                                                                                                                                                                                                                                                                                                                                                                                                                                                                                                                                                                                                                                                                                                                                                                                                          "
     ]
    },
    {
     "name": "stdout",
     "output_type": "stream",
     "text": [
      "                                                                                                                                                                                                                                                                                                                                                                                                                                                                                                                                                                                                                                                                                                                                                                                                                                                                                                                                                                                                                                                                                                                                                                                                                                                                                                                                                                                                                                                                                                                                                                                                                                                                                                                                                                                                                                                                                                                                                                                                                                                                                                                                                                                                                                                                                                                                                                                                                                                                                                                                                                                                                                                                                                                                                                                                                                                                                                                                                                                                                                                                                                                                                                                                                                                                                                                                                                                                                                                                                                                                                                                                                                                                                                                                                                                                                                                                                                                                                                                                                                                                                                                                                                                                                                                                                                                                                                                                                                                                                                                                                                                                                                                                                                                                                                                                                                                                                                                                                                                                                                                                                                                                                                                                                                                                                                                                                                                                                                                                                                                                                                                                                                                                                                                                                                                                                                                                                                                                                                                                                                                                                                                                                                                                                                                                                                                                                                                                                                                                                                                                                                                                                                                                                                                                                                                                                                                                                                                                                                                                                                                                                                                                                                                                                                                                                                                                                                                                                                                                                                                                                                                                                                                                                                                                                                                                                                                                                                                                                                                                                                                                                                                                                                                                                                                                                                                                                                                                                                                                                                                                                                                                                                                                                                                                                                                                                                                                                                                                                                                                                                                                                                                                                                                                     "
     ]
    },
    {
     "name": "stdout",
     "output_type": "stream",
     "text": [
      "                                                                                                                                                                                                                                                                                                                                                                                                                                                                                                                                                                                                                                                                                                                                                                                                                                                                                                                                                                                                                                                                                                                                                                                                                                                                                                                                                                                                                                                                                                                                                                                                                                                                                                                                                                                                                                                                                                                                                                                                                                                                                                                                                                                                                                                                                                                                                                                                                                                                                                                                                                                                                                                                                                                                                                                                                                                                                                                                                                                                                                                                                                                                                                                                                                                                                                                                                                                                                                                                                                                                                                                                                                                                                                                                                                                                                                                                                                                                                                                                                                                                                                                                                                                                                                                                                                                                                                                                                                                                                                                                                                                                                                                                                                                                                                                                                                                                                                                                                                                                                                                                                                                                                                                                                                                                                                                                                                                                                                                                                                                                                                                                                                                                                                                                                                                                                                                                                                                                                                                                                                                                                                                                                                                                                                                                                                                                                                                                                                                                                                                                                                                                                                                                                                                                                                                                                                                                                                                                                                                                                                                                                                                                                                                                                                                                                                                                                                                                                                                                                                                                                                                                                                                                                                                                                                                                                                                                                                                                                                                                                                                                                                                                                                                                                                                                                                                                                                                                                                                                                                                                                                                                                                                                                                                                                                                                                                                                                                                                                                                                                                                                                                                                                                                                                                                                                                                                                                                                                                                                                                                                                                                                                                                                                                                                                                                                                                                                                                                                                   "
     ]
    },
    {
     "name": "stdout",
     "output_type": "stream",
     "text": [
      "                                                                                                                                                                                                                                                                                                                                                                                                                                                                                                                                                                                                                                                                                                                                                                                                                                                                                                                                                                                                                                                                                                                                                                                                                                                                                                                                                                                                                                                                                                                                                                                                                                                                                                                                                                                                                                                                                                                                                                                                                                                                                                                                                                                                                                                                                                                                                                                                                                                                                                                                                                                                                                                                                                                                                                                                                                                                                                                                                                                                                                                                                                                                                                                                                                                                                                                                                                                                                                                                                                                                                                                                                                                                                                                                                                                                                                                                                                                                                                                                                                                                                                                                                                                                                                                                                                                                                                                                                                                                                                                                                                                                                                                                                                                                                                                                                                                                                                                                                                                                                                                                                                                                                                                                                                                                                                                                                                                                                                                                                                                                                                                                                                                                                                                                                                                                                                                                                                                                                                                                                                                                                                                                                                                                                                                                                                                                                                                                                                                                                                                                                                                                                                                                                                                                                                                                                                                                                                                                                                                                                                                                                                                                                                                                                                                                                                                                                                                                                                                                                                                                                                                                                                                                                                                                                                                                                                                                                                                                                                                                                                                                                                                                                                                                                                                                                                                                                                                                                                                                                                                                                                                                                                                                                                                                                                                                                                                                                                                                                                                                                                                                                                                                                                                                                                                                                                                                                                                                                                                                                                                                                                                                                                                                                                                                                                                                                                                                                                                                                                                       "
     ]
    },
    {
     "name": "stdout",
     "output_type": "stream",
     "text": [
      "                                                                                                                                                                                                                                                                                                                                                                                                                                                                                                                                                                                                                                                                                                                                                                                                                                                                                                                                                                                                                                                                                                                                                                                                                                                                                                                                                                                                                                                                                                                                                                                                                                                                                                                                                                                                                                                                                                                                                                                                                                                                                                                                                                                                                                                                                                                                                                                                                                                                                                                                                                                                                                                                                                                                                                                                                                                                                                                                                                                                                                                                                                                                                                                                                                                                                                                                                                                                                                                                                                                                                                                                                                                                                                                                                                                                                                                                                                                                                                                                                                                                                                                                                                                                                                                                                                                                                                                                                                                                                                                                                                                                                                                                                                                                                                                                                                                                                                                                                                                                                                                                                                                                                                                                                                                                                                                                                                                                                                                                                                                                                                                                                                                                                                                                                                                                                                                                                                                                                                                                                                                                                                                                                                                                                                                                                                                                                                                                                                                                                                                                                                                                                                                                                                                                                                                                                                                                                                                                                                                                                                                                                                                                                                                                                                                                                                                                                                                                                                                                                                                                                                                                                                                                                                                                                                                                                                                                                                                                                                                                                                                                                                                                                                                                                                                                                                                                                                                                                                                                                                                                                                                                                                                                                                                                                                                                                                                                                                                                                                                                                                                                                                                                                                                                                                                                                                                                                                                                                                                                                                                                                                                                                                                                                                                                                                                                                                                                                               "
     ]
    },
    {
     "name": "stdout",
     "output_type": "stream",
     "text": [
      "                                                                                                                                                                                                                                                                                                                                                                                                                                                                                                                                                               "
     ]
    },
    {
     "ename": "KeyboardInterrupt",
     "evalue": "",
     "output_type": "error",
     "traceback": [
      "\u001b[1;31m---------------------------------------------------------------------------\u001b[0m",
      "\u001b[1;31mKeyboardInterrupt\u001b[0m                         Traceback (most recent call last)",
      "\u001b[1;32m<ipython-input-144-b39ef60fddfa>\u001b[0m in \u001b[0;36m<module>\u001b[1;34m\u001b[0m\n\u001b[0;32m      2\u001b[0m     \u001b[0mj\u001b[0m\u001b[1;33m,\u001b[0m \u001b[0mk\u001b[0m\u001b[1;33m=\u001b[0m \u001b[1;36m5\u001b[0m\u001b[1;33m-\u001b[0m\u001b[0mi\u001b[0m\u001b[1;33m,\u001b[0m\u001b[1;36m0\u001b[0m  \u001b[1;31m# j=5- į k=0\u001b[0m\u001b[1;33m\u001b[0m\u001b[1;33m\u001b[0m\u001b[0m\n\u001b[0;32m      3\u001b[0m     \u001b[1;32mwhile\u001b[0m \u001b[0mj\u001b[0m\u001b[1;33m>\u001b[0m\u001b[1;36m0\u001b[0m\u001b[1;33m:\u001b[0m\u001b[1;33m\u001b[0m\u001b[1;33m\u001b[0m\u001b[0m\n\u001b[1;32m----> 4\u001b[1;33m         \u001b[0mprint\u001b[0m\u001b[1;33m(\u001b[0m\u001b[1;34m' '\u001b[0m\u001b[1;33m,\u001b[0m \u001b[0mend\u001b[0m\u001b[1;33m=\u001b[0m\u001b[1;34m''\u001b[0m\u001b[1;33m)\u001b[0m \u001b[1;31m# end is empty string\u001b[0m\u001b[1;33m\u001b[0m\u001b[1;33m\u001b[0m\u001b[0m\n\u001b[0m\u001b[0;32m      5\u001b[0m     \u001b[1;32mwhile\u001b[0m \u001b[0mk\u001b[0m\u001b[1;33m<=\u001b[0m\u001b[0mi\u001b[0m\u001b[1;33m:\u001b[0m\u001b[1;33m\u001b[0m\u001b[1;33m\u001b[0m\u001b[0m\n\u001b[0;32m      6\u001b[0m         \u001b[0mprint\u001b[0m\u001b[1;33m(\u001b[0m\u001b[1;34m'*'\u001b[0m\u001b[1;33m,\u001b[0m \u001b[0mend\u001b[0m\u001b[1;33m=\u001b[0m\u001b[1;34m' '\u001b[0m\u001b[1;33m)\u001b[0m \u001b[1;31m# end is '' string\u001b[0m\u001b[1;33m\u001b[0m\u001b[1;33m\u001b[0m\u001b[0m\n",
      "\u001b[1;32m~\\anaconda3\\lib\\site-packages\\ipykernel\\iostream.py\u001b[0m in \u001b[0;36mwrite\u001b[1;34m(self, string)\u001b[0m\n\u001b[0;32m    402\u001b[0m             \u001b[0mis_child\u001b[0m \u001b[1;33m=\u001b[0m \u001b[1;33m(\u001b[0m\u001b[1;32mnot\u001b[0m \u001b[0mself\u001b[0m\u001b[1;33m.\u001b[0m\u001b[0m_is_master_process\u001b[0m\u001b[1;33m(\u001b[0m\u001b[1;33m)\u001b[0m\u001b[1;33m)\u001b[0m\u001b[1;33m\u001b[0m\u001b[1;33m\u001b[0m\u001b[0m\n\u001b[0;32m    403\u001b[0m             \u001b[1;31m# only touch the buffer in the IO thread to avoid races\u001b[0m\u001b[1;33m\u001b[0m\u001b[1;33m\u001b[0m\u001b[1;33m\u001b[0m\u001b[0m\n\u001b[1;32m--> 404\u001b[1;33m             \u001b[0mself\u001b[0m\u001b[1;33m.\u001b[0m\u001b[0mpub_thread\u001b[0m\u001b[1;33m.\u001b[0m\u001b[0mschedule\u001b[0m\u001b[1;33m(\u001b[0m\u001b[1;32mlambda\u001b[0m \u001b[1;33m:\u001b[0m \u001b[0mself\u001b[0m\u001b[1;33m.\u001b[0m\u001b[0m_buffer\u001b[0m\u001b[1;33m.\u001b[0m\u001b[0mwrite\u001b[0m\u001b[1;33m(\u001b[0m\u001b[0mstring\u001b[0m\u001b[1;33m)\u001b[0m\u001b[1;33m)\u001b[0m\u001b[1;33m\u001b[0m\u001b[1;33m\u001b[0m\u001b[0m\n\u001b[0m\u001b[0;32m    405\u001b[0m             \u001b[1;32mif\u001b[0m \u001b[0mis_child\u001b[0m\u001b[1;33m:\u001b[0m\u001b[1;33m\u001b[0m\u001b[1;33m\u001b[0m\u001b[0m\n\u001b[0;32m    406\u001b[0m                 \u001b[1;31m# mp.Pool cannot be trusted to flush promptly (or ever),\u001b[0m\u001b[1;33m\u001b[0m\u001b[1;33m\u001b[0m\u001b[1;33m\u001b[0m\u001b[0m\n",
      "\u001b[1;32m~\\anaconda3\\lib\\site-packages\\ipykernel\\iostream.py\u001b[0m in \u001b[0;36mschedule\u001b[1;34m(self, f)\u001b[0m\n\u001b[0;32m    203\u001b[0m             \u001b[0mself\u001b[0m\u001b[1;33m.\u001b[0m\u001b[0m_events\u001b[0m\u001b[1;33m.\u001b[0m\u001b[0mappend\u001b[0m\u001b[1;33m(\u001b[0m\u001b[0mf\u001b[0m\u001b[1;33m)\u001b[0m\u001b[1;33m\u001b[0m\u001b[1;33m\u001b[0m\u001b[0m\n\u001b[0;32m    204\u001b[0m             \u001b[1;31m# wake event thread (message content is ignored)\u001b[0m\u001b[1;33m\u001b[0m\u001b[1;33m\u001b[0m\u001b[1;33m\u001b[0m\u001b[0m\n\u001b[1;32m--> 205\u001b[1;33m             \u001b[0mself\u001b[0m\u001b[1;33m.\u001b[0m\u001b[0m_event_pipe\u001b[0m\u001b[1;33m.\u001b[0m\u001b[0msend\u001b[0m\u001b[1;33m(\u001b[0m\u001b[1;34mb''\u001b[0m\u001b[1;33m)\u001b[0m\u001b[1;33m\u001b[0m\u001b[1;33m\u001b[0m\u001b[0m\n\u001b[0m\u001b[0;32m    206\u001b[0m         \u001b[1;32melse\u001b[0m\u001b[1;33m:\u001b[0m\u001b[1;33m\u001b[0m\u001b[1;33m\u001b[0m\u001b[0m\n\u001b[0;32m    207\u001b[0m             \u001b[0mf\u001b[0m\u001b[1;33m(\u001b[0m\u001b[1;33m)\u001b[0m\u001b[1;33m\u001b[0m\u001b[1;33m\u001b[0m\u001b[0m\n",
      "\u001b[1;32m~\\anaconda3\\lib\\site-packages\\zmq\\sugar\\socket.py\u001b[0m in \u001b[0;36msend\u001b[1;34m(self, data, flags, copy, track, routing_id, group)\u001b[0m\n\u001b[0;32m    489\u001b[0m                                  copy_threshold=self.copy_threshold)\n\u001b[0;32m    490\u001b[0m             \u001b[0mdata\u001b[0m\u001b[1;33m.\u001b[0m\u001b[0mgroup\u001b[0m \u001b[1;33m=\u001b[0m \u001b[0mgroup\u001b[0m\u001b[1;33m\u001b[0m\u001b[1;33m\u001b[0m\u001b[0m\n\u001b[1;32m--> 491\u001b[1;33m         \u001b[1;32mreturn\u001b[0m \u001b[0msuper\u001b[0m\u001b[1;33m(\u001b[0m\u001b[0mSocket\u001b[0m\u001b[1;33m,\u001b[0m \u001b[0mself\u001b[0m\u001b[1;33m)\u001b[0m\u001b[1;33m.\u001b[0m\u001b[0msend\u001b[0m\u001b[1;33m(\u001b[0m\u001b[0mdata\u001b[0m\u001b[1;33m,\u001b[0m \u001b[0mflags\u001b[0m\u001b[1;33m=\u001b[0m\u001b[0mflags\u001b[0m\u001b[1;33m,\u001b[0m \u001b[0mcopy\u001b[0m\u001b[1;33m=\u001b[0m\u001b[0mcopy\u001b[0m\u001b[1;33m,\u001b[0m \u001b[0mtrack\u001b[0m\u001b[1;33m=\u001b[0m\u001b[0mtrack\u001b[0m\u001b[1;33m)\u001b[0m\u001b[1;33m\u001b[0m\u001b[1;33m\u001b[0m\u001b[0m\n\u001b[0m\u001b[0;32m    492\u001b[0m \u001b[1;33m\u001b[0m\u001b[0m\n\u001b[0;32m    493\u001b[0m     \u001b[1;32mdef\u001b[0m \u001b[0msend_multipart\u001b[0m\u001b[1;33m(\u001b[0m\u001b[0mself\u001b[0m\u001b[1;33m,\u001b[0m \u001b[0mmsg_parts\u001b[0m\u001b[1;33m,\u001b[0m \u001b[0mflags\u001b[0m\u001b[1;33m=\u001b[0m\u001b[1;36m0\u001b[0m\u001b[1;33m,\u001b[0m \u001b[0mcopy\u001b[0m\u001b[1;33m=\u001b[0m\u001b[1;32mTrue\u001b[0m\u001b[1;33m,\u001b[0m \u001b[0mtrack\u001b[0m\u001b[1;33m=\u001b[0m\u001b[1;32mFalse\u001b[0m\u001b[1;33m,\u001b[0m \u001b[1;33m**\u001b[0m\u001b[0mkwargs\u001b[0m\u001b[1;33m)\u001b[0m\u001b[1;33m:\u001b[0m\u001b[1;33m\u001b[0m\u001b[1;33m\u001b[0m\u001b[0m\n",
      "\u001b[1;32mzmq/backend/cython/socket.pyx\u001b[0m in \u001b[0;36mzmq.backend.cython.socket.Socket.send\u001b[1;34m()\u001b[0m\n",
      "\u001b[1;32mzmq/backend/cython/socket.pyx\u001b[0m in \u001b[0;36mzmq.backend.cython.socket.Socket.send\u001b[1;34m()\u001b[0m\n",
      "\u001b[1;32mzmq/backend/cython/socket.pyx\u001b[0m in \u001b[0;36mzmq.backend.cython.socket._send_copy\u001b[1;34m()\u001b[0m\n",
      "\u001b[1;32m~\\anaconda3\\lib\\site-packages\\zmq\\backend\\cython\\checkrc.pxd\u001b[0m in \u001b[0;36mzmq.backend.cython.checkrc._check_rc\u001b[1;34m()\u001b[0m\n",
      "\u001b[1;31mKeyboardInterrupt\u001b[0m: "
     ]
    }
   ],
   "source": [
    "for i in range(5): \n",
    "    j, k= 5-i,0  # j=5- į k=0 \n",
    "    while j>0: \n",
    "        print(' ', end='') # end is empty string \n",
    "    while k<=i: \n",
    "        print('*', end=' ') # end is '' string \n",
    "        k+=1 \n",
    "    print() "
   ]
  },
  {
   "cell_type": "code",
   "execution_count": 2,
   "id": "9df20812",
   "metadata": {},
   "outputs": [
    {
     "name": "stdout",
     "output_type": "stream",
     "text": [
      "red : apple\n",
      "red : banana\n",
      "red : cherry\n",
      "big : apple\n",
      "big : banana\n",
      "big : cherry\n",
      "tasty : apple\n",
      "tasty : banana\n",
      "tasty : cherry\n"
     ]
    }
   ],
   "source": [
    "adj, fruits = ['red', 'big', 'tasty'], ['apple','banana', 'cherry']\n",
    "for x in adj:\n",
    "    for y in fruits:\n",
    "        print (x, ':', y)"
   ]
  },
  {
   "cell_type": "code",
   "execution_count": null,
   "id": "c8ece998",
   "metadata": {},
   "outputs": [],
   "source": []
  }
 ],
 "metadata": {
  "kernelspec": {
   "display_name": "Python 3",
   "language": "python",
   "name": "python3"
  },
  "language_info": {
   "codemirror_mode": {
    "name": "ipython",
    "version": 3
   },
   "file_extension": ".py",
   "mimetype": "text/x-python",
   "name": "python",
   "nbconvert_exporter": "python",
   "pygments_lexer": "ipython3",
   "version": "3.8.8"
  }
 },
 "nbformat": 4,
 "nbformat_minor": 5
}
