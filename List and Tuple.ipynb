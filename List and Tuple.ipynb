{
 "cells": [
  {
   "cell_type": "markdown",
   "id": "73de53c5",
   "metadata": {},
   "source": [
    "# LIST"
   ]
  },
  {
   "cell_type": "code",
   "execution_count": 1,
   "id": "a44aae2d",
   "metadata": {},
   "outputs": [],
   "source": [
    "# LIST:- Indicated by [], Items inlist are comma seperated, It can have duplicates, Indexing and slicing is possible.\n",
    "# List is Mutable, Heterogenius elements can be stored, list is seperate class. \n",
    "# It only stores reference of object and not the object in it.\n",
    "# Iterations on list can be done by 'for loop' or 'while loop'"
   ]
  },
  {
   "cell_type": "code",
   "execution_count": 2,
   "id": "203778e8",
   "metadata": {},
   "outputs": [],
   "source": [
    "# Indexing and slicing in list is same as in string."
   ]
  },
  {
   "cell_type": "code",
   "execution_count": 3,
   "id": "a2bfe325",
   "metadata": {},
   "outputs": [
    {
     "name": "stdout",
     "output_type": "stream",
     "text": [
      "[20, 30, 40]\n"
     ]
    }
   ],
   "source": [
    "A = [10,20,30,40,50]\n",
    "B = A[1:4:1]\n",
    "print(B)"
   ]
  },
  {
   "cell_type": "markdown",
   "id": "96f8dc7a",
   "metadata": {},
   "source": [
    "# List Functions"
   ]
  },
  {
   "cell_type": "code",
   "execution_count": 4,
   "id": "47d6b053",
   "metadata": {},
   "outputs": [],
   "source": [
    "# Append :- It adds only one object in list at the end"
   ]
  },
  {
   "cell_type": "code",
   "execution_count": 5,
   "id": "37f04922",
   "metadata": {},
   "outputs": [
    {
     "name": "stdout",
     "output_type": "stream",
     "text": [
      "[]\n"
     ]
    }
   ],
   "source": [
    "A = list()\n",
    "print (A)"
   ]
  },
  {
   "cell_type": "code",
   "execution_count": 6,
   "id": "02beb9e8",
   "metadata": {},
   "outputs": [
    {
     "name": "stdout",
     "output_type": "stream",
     "text": [
      "[10]\n"
     ]
    }
   ],
   "source": [
    "A.append(10)\n",
    "print(A)"
   ]
  },
  {
   "cell_type": "code",
   "execution_count": 7,
   "id": "dbc2c128",
   "metadata": {},
   "outputs": [],
   "source": [
    "A.append(20)"
   ]
  },
  {
   "cell_type": "code",
   "execution_count": 8,
   "id": "6a58a133",
   "metadata": {},
   "outputs": [
    {
     "name": "stdout",
     "output_type": "stream",
     "text": [
      "[10, 20]\n"
     ]
    }
   ],
   "source": [
    "print (A)"
   ]
  },
  {
   "cell_type": "code",
   "execution_count": 9,
   "id": "fc003c63",
   "metadata": {},
   "outputs": [],
   "source": [
    "A.clear() # It removes all th objects from list"
   ]
  },
  {
   "cell_type": "code",
   "execution_count": 10,
   "id": "ede13c03",
   "metadata": {},
   "outputs": [
    {
     "name": "stdout",
     "output_type": "stream",
     "text": [
      "[]\n"
     ]
    }
   ],
   "source": [
    "print(A)"
   ]
  },
  {
   "cell_type": "code",
   "execution_count": 11,
   "id": "9fbe9528",
   "metadata": {},
   "outputs": [],
   "source": [
    "A = [10,20,30,40,50] # new list object list (A)"
   ]
  },
  {
   "cell_type": "code",
   "execution_count": 12,
   "id": "a19274c9",
   "metadata": {},
   "outputs": [
    {
     "data": {
      "text/plain": [
       "1"
      ]
     },
     "execution_count": 12,
     "metadata": {},
     "output_type": "execute_result"
    }
   ],
   "source": [
    "A.count(20) # Count:- It counts the no. of occurances of any object in list"
   ]
  },
  {
   "cell_type": "code",
   "execution_count": 13,
   "id": "1196e25b",
   "metadata": {},
   "outputs": [
    {
     "name": "stdout",
     "output_type": "stream",
     "text": [
      "[10, 20, 30, 40, 50, [50, 60]]\n"
     ]
    }
   ],
   "source": [
    "A.append([50,60])\n",
    "print (A)"
   ]
  },
  {
   "cell_type": "code",
   "execution_count": 14,
   "id": "7b09ce7b",
   "metadata": {},
   "outputs": [
    {
     "data": {
      "text/plain": [
       "0"
      ]
     },
     "execution_count": 14,
     "metadata": {},
     "output_type": "execute_result"
    }
   ],
   "source": [
    "A.count(60)"
   ]
  },
  {
   "cell_type": "code",
   "execution_count": 15,
   "id": "6dccfd4c",
   "metadata": {},
   "outputs": [
    {
     "data": {
      "text/plain": [
       "1"
      ]
     },
     "execution_count": 15,
     "metadata": {},
     "output_type": "execute_result"
    }
   ],
   "source": [
    "A[5].count(60)"
   ]
  },
  {
   "cell_type": "code",
   "execution_count": 16,
   "id": "aaf38b3e",
   "metadata": {},
   "outputs": [
    {
     "name": "stdout",
     "output_type": "stream",
     "text": [
      "[10, 20, 30, 40, 50, [50, 60], 70, 80, 90]\n"
     ]
    }
   ],
   "source": [
    "A.extend([70,80,90]) # It adds any no of objects in the list at the end from the iterable. i.e. list, string, tuple etc\n",
    "print(A)"
   ]
  },
  {
   "cell_type": "code",
   "execution_count": 17,
   "id": "ed49bc7f",
   "metadata": {},
   "outputs": [
    {
     "data": {
      "text/plain": [
       "4"
      ]
     },
     "execution_count": 17,
     "metadata": {},
     "output_type": "execute_result"
    }
   ],
   "source": [
    "A = [10,20,30,40,50]\n",
    "A.index (50) # Index:- It returns the index of first occurance given element from the list"
   ]
  },
  {
   "cell_type": "code",
   "execution_count": 18,
   "id": "eec3f2d5",
   "metadata": {},
   "outputs": [
    {
     "data": {
      "text/plain": [
       "[10, 20, 25, 30, 40, 50]"
      ]
     },
     "execution_count": 18,
     "metadata": {},
     "output_type": "execute_result"
    }
   ],
   "source": [
    "A.insert(2,25) # Insert:- here, we can add object into the list at any desired location by providing index of location.\n",
    "A"
   ]
  },
  {
   "cell_type": "code",
   "execution_count": 19,
   "id": "1673f12d",
   "metadata": {},
   "outputs": [
    {
     "data": {
      "text/plain": [
       "[10, 20, 30, 40, 50]"
      ]
     },
     "execution_count": 19,
     "metadata": {},
     "output_type": "execute_result"
    }
   ],
   "source": [
    "A.remove(25) # remove:- It deletes the object from list by its value, i.e. the value which wehave provided in remove func.\n",
    "A     # here, it will remove 25 from list"
   ]
  },
  {
   "cell_type": "code",
   "execution_count": 20,
   "id": "38bca41c",
   "metadata": {},
   "outputs": [
    {
     "data": {
      "text/plain": [
       "[10, 30, 40, 50]"
      ]
     },
     "execution_count": 20,
     "metadata": {},
     "output_type": "execute_result"
    }
   ],
   "source": [
    "A.pop(1) # pop:- It deletes the object from list by its index, i.e. the value which is present at given index. \n",
    "A     # here, it will delete the object present at index (1) from list"
   ]
  },
  {
   "cell_type": "code",
   "execution_count": 21,
   "id": "729ece56",
   "metadata": {},
   "outputs": [
    {
     "data": {
      "text/plain": [
       "[10, 30, 40, 50, 40, 25, 15, 5]"
      ]
     },
     "execution_count": 21,
     "metadata": {},
     "output_type": "execute_result"
    }
   ],
   "source": [
    "A.extend([40,25,15,5])\n",
    "A"
   ]
  },
  {
   "cell_type": "code",
   "execution_count": 22,
   "id": "8b6032e3",
   "metadata": {},
   "outputs": [
    {
     "data": {
      "text/plain": [
       "[5, 10, 15, 25, 30, 40, 40, 50]"
      ]
     },
     "execution_count": 22,
     "metadata": {},
     "output_type": "execute_result"
    }
   ],
   "source": [
    "A.sort() # sort :- It Sort the list in ascending order and return None.\n",
    "A"
   ]
  },
  {
   "cell_type": "markdown",
   "id": "39aea67a",
   "metadata": {},
   "source": [
    "# Shallow Copy and Deep Copy"
   ]
  },
  {
   "cell_type": "code",
   "execution_count": 23,
   "id": "b90ef10f",
   "metadata": {},
   "outputs": [],
   "source": [
    "# Shallow copy:-"
   ]
  },
  {
   "cell_type": "code",
   "execution_count": 25,
   "id": "da6a67c3",
   "metadata": {},
   "outputs": [
    {
     "data": {
      "text/plain": [
       "([10, 20, [30, 40]], [10, 20, [30, 40]], [10, 20, [30, 40]])"
      ]
     },
     "execution_count": 25,
     "metadata": {},
     "output_type": "execute_result"
    }
   ],
   "source": [
    "A = [10,20,[30,40]] # Created a nested list\n",
    "B = A  # Here, 'B' is refering to the same object referred by 'A'  \n",
    "C = A.copy()  # In 'C' we are creating shallow copy of 'A'\n",
    "A, B, C"
   ]
  },
  {
   "cell_type": "code",
   "execution_count": 30,
   "id": "edb55c38",
   "metadata": {},
   "outputs": [
    {
     "data": {
      "text/plain": [
       "'Now, if we make any change in \\'A\\' will be reflected in \\'B\\', but not in \\'C\\', \\n But if we make change in sublist present in \\'A\\', the that change will reflect in \\'C\\'. It is called as \\'Shallow copy\\'\\n In shallow copy, new object (C) is created and in that the same references present in \"A\" are copied. '"
      ]
     },
     "execution_count": 30,
     "metadata": {},
     "output_type": "execute_result"
    }
   ],
   "source": [
    "\"\"\"Now, if we make any change in 'A' will be reflected in 'B', but not in 'C', \n",
    " But if we make change in sublist present in 'A', the that change will reflect in 'C'. It is called as 'Shallow copy'\n",
    " In shallow copy, new object (C) is created and in that the same references present in \"A\" are copied. \"\"\""
   ]
  },
  {
   "cell_type": "code",
   "execution_count": 33,
   "id": "f02d5aa1",
   "metadata": {},
   "outputs": [
    {
     "name": "stdout",
     "output_type": "stream",
     "text": [
      "A : ['X', 20, [30, 40]]\n",
      "B : ['X', 20, [30, 40]]\n",
      "C : [10, 20, [30, 40]]\n"
     ]
    }
   ],
   "source": [
    "A[0] = 'X'\n",
    "print('A :', A)\n",
    "print('B :', B) # Changes in 'A' will be refelected in 'B' but not in 'C'\n",
    "print('C :', C)"
   ]
  },
  {
   "cell_type": "code",
   "execution_count": 38,
   "id": "8a03cee8",
   "metadata": {},
   "outputs": [
    {
     "name": "stdout",
     "output_type": "stream",
     "text": [
      "A : ['X', 20, [30, 40, 'Pune']]\n",
      "B : ['X', 20, [30, 40, 'Pune']]\n",
      "C : [10, 20, [30, 40, 'Pune']]\n"
     ]
    }
   ],
   "source": [
    "A[2].append ('Pune')\n",
    "print('A :', A)\n",
    "print('B :', B) # Changes in sublist of 'A' will be refelected in 'B' and 'C'\n",
    "print('C :', C) # Here, 'C' is shallow copy of 'A'"
   ]
  },
  {
   "cell_type": "code",
   "execution_count": 40,
   "id": "2dec0114",
   "metadata": {},
   "outputs": [],
   "source": [
    "# Deep Copy:- If we dont want to reflect the change in 'A', in copied list (D), then we can use deep copy.\n",
    "# For 'deep copy', we have to import copy function."
   ]
  },
  {
   "cell_type": "code",
   "execution_count": 42,
   "id": "8921830f",
   "metadata": {},
   "outputs": [
    {
     "name": "stdout",
     "output_type": "stream",
     "text": [
      "A : ['X', 20, [30, 40, 'Pune']]\n",
      "B : ['X', 20, [30, 40, 'Pune']]\n",
      "C : [10, 20, [30, 40, 'Pune']]\n",
      "D : ['X', 20, [30, 40, 'Pune']]\n"
     ]
    }
   ],
   "source": [
    "import copy\n",
    "D = copy.deepcopy(A)\n",
    "print('A :', A)\n",
    "print('B :', B) \n",
    "print('C :', C)\n",
    "print('D :', D) # Deep copy"
   ]
  },
  {
   "cell_type": "code",
   "execution_count": 43,
   "id": "ce033a9d",
   "metadata": {},
   "outputs": [
    {
     "name": "stdout",
     "output_type": "stream",
     "text": [
      "A : ['X', 20, [40, 'Pune']]\n",
      "B : ['X', 20, [40, 'Pune']]\n",
      "C : [10, 20, [40, 'Pune']]\n",
      "D : ['X', 20, [30, 40, 'Pune']]\n"
     ]
    }
   ],
   "source": [
    "A[2].remove(30) # This change in 'A' will be reflected in 'B', 'C' but not in 'D' as 'D' is deep copy\n",
    "print('A :', A)\n",
    "print('B :', B) # Refering to same list present in 'A'\n",
    "print('C :', C) # Shallow copy\n",
    "print('D :', D) # Deeep copy"
   ]
  },
  {
   "cell_type": "code",
   "execution_count": 46,
   "id": "03914ad1",
   "metadata": {},
   "outputs": [],
   "source": [
    "# If there is any mutuble object is present in original list then deep copy will make a new physical copy of the same mutable object.\n",
    "# No physical copy of immutable object will be created"
   ]
  },
  {
   "cell_type": "markdown",
   "id": "c7334c76",
   "metadata": {},
   "source": [
    "# List Comprehension"
   ]
  },
  {
   "cell_type": "code",
   "execution_count": 48,
   "id": "2c90888a",
   "metadata": {},
   "outputs": [],
   "source": [
    "# It is a shorter/ single line way to create a new list from original list.\n",
    "# for 2 conditions:- Syntax:- New list = [append part  loop part]"
   ]
  },
  {
   "cell_type": "code",
   "execution_count": 51,
   "id": "20da5f0d",
   "metadata": {},
   "outputs": [
    {
     "name": "stdout",
     "output_type": "stream",
     "text": [
      "[4, 9, 16, 25, 36, 49, 64, 100]\n"
     ]
    }
   ],
   "source": [
    "# Normal way to get a new list with squares of no. present in original list\n",
    "A = [2,3,4,5,6,7,8,10]\n",
    "B = []\n",
    "for i in A:\n",
    "    B.append(i*i)\n",
    "print(B)"
   ]
  },
  {
   "cell_type": "code",
   "execution_count": 53,
   "id": "bbd895a2",
   "metadata": {},
   "outputs": [
    {
     "name": "stdout",
     "output_type": "stream",
     "text": [
      "[4, 9, 16, 25, 36, 49, 64, 100]\n"
     ]
    }
   ],
   "source": [
    "# list Comprehension\n",
    "B = [i*i for i in A] # (B)- new list, (i*i) - append part, (for i in A) - loop part\n",
    "print(B)"
   ]
  },
  {
   "cell_type": "code",
   "execution_count": 55,
   "id": "5c5aff06",
   "metadata": {},
   "outputs": [
    {
     "name": "stdout",
     "output_type": "stream",
     "text": [
      "[True, False, True, False, True, False, True, True]\n"
     ]
    }
   ],
   "source": [
    "# normal way to check if given no in list is even or not\n",
    "B = []\n",
    "for i in A:\n",
    "    B.append(i%2 == 0)\n",
    "print(B)"
   ]
  },
  {
   "cell_type": "code",
   "execution_count": 57,
   "id": "5f4ce4e5",
   "metadata": {},
   "outputs": [
    {
     "name": "stdout",
     "output_type": "stream",
     "text": [
      "[True, False, True, False, True, False, True, True]\n"
     ]
    }
   ],
   "source": [
    "# list Comprehension\n",
    "B = [i%2 == 0 for i in A] # (B)- new list, (i%2 == 0) - append part, (for i in A) - loop part\n",
    "print (B)"
   ]
  },
  {
   "cell_type": "code",
   "execution_count": 58,
   "id": "309fdd7b",
   "metadata": {},
   "outputs": [],
   "source": [
    "# for 3 conditions:- Syntax:- New list = [append part  loop part  condition]"
   ]
  },
  {
   "cell_type": "code",
   "execution_count": 59,
   "id": "0c316dfe",
   "metadata": {},
   "outputs": [
    {
     "name": "stdout",
     "output_type": "stream",
     "text": [
      "[2, 4, 6, 8, 10]\n"
     ]
    }
   ],
   "source": [
    "# Print the no. from given list if it is even no.\n",
    "B = []\n",
    "for i in A:\n",
    "    if i%2 == 0:\n",
    "        B.append(i)\n",
    "print(B)"
   ]
  },
  {
   "cell_type": "code",
   "execution_count": 60,
   "id": "0eaeeb84",
   "metadata": {},
   "outputs": [
    {
     "name": "stdout",
     "output_type": "stream",
     "text": [
      "[2, 4, 6, 8, 10]\n"
     ]
    }
   ],
   "source": [
    "# list Comprehension\n",
    "B = [i for i in A if i%2 == 0] # (B)- new list, (i) - append part, (for i in A) - loop part, (if i%2==0) - Condition\n",
    "print (B)"
   ]
  },
  {
   "cell_type": "code",
   "execution_count": 63,
   "id": "b164051c",
   "metadata": {},
   "outputs": [],
   "source": [
    "# Ternary Operator for if.. else.. condition :- \n",
    "# If part/ true part   if.. else.. condition    else part/ False part"
   ]
  },
  {
   "cell_type": "code",
   "execution_count": 62,
   "id": "ac3327cd",
   "metadata": {},
   "outputs": [
    {
     "name": "stdout",
     "output_type": "stream",
     "text": [
      "['Pune', 'Mumbai', 'Pune', 'Mumbai', 'Pune', 'Mumbai', 'Pune', 'Pune']\n"
     ]
    }
   ],
   "source": [
    "B = []\n",
    "for i in A:\n",
    "    if i%2 == 0:\n",
    "        B.append('Pune')\n",
    "    else:\n",
    "        B.append('Mumbai')\n",
    "print(B)"
   ]
  },
  {
   "cell_type": "code",
   "execution_count": 64,
   "id": "c25c1f20",
   "metadata": {},
   "outputs": [
    {
     "name": "stdout",
     "output_type": "stream",
     "text": [
      "Pune\n",
      "Mumbai\n",
      "Pune\n",
      "Mumbai\n",
      "Pune\n",
      "Mumbai\n",
      "Pune\n",
      "Pune\n"
     ]
    }
   ],
   "source": [
    "# This can be written in shorter way by ternary operator:-\n",
    "for i in A:\n",
    "    print('Pune' if i%2 == 0 else 'Mumbai')"
   ]
  },
  {
   "cell_type": "code",
   "execution_count": 65,
   "id": "f6a34e5e",
   "metadata": {},
   "outputs": [
    {
     "name": "stdout",
     "output_type": "stream",
     "text": [
      "['Pune', 'Mumbai', 'Pune', 'Mumbai', 'Pune', 'Mumbai', 'Pune', 'Pune']\n"
     ]
    }
   ],
   "source": [
    "# So, we can use ternary operator to write list comprehension\n",
    "B = ['Pune' if i%2 == 0 else 'Mumbai' for i in A]\n",
    "print(B) # Here,(B)-new list, ('Pune' if i%2 == 0 else 'Mumbai' / Ternary operator) - append part, (for i in A)- loop part."
   ]
  },
  {
   "cell_type": "code",
   "execution_count": 66,
   "id": "dbd96135",
   "metadata": {},
   "outputs": [],
   "source": [
    "# List comprehension for n-Dimensional list/ list in list:-\n",
    "# we can write n-D list by writting L. C. on the place of append in outer L.C."
   ]
  },
  {
   "cell_type": "code",
   "execution_count": 104,
   "id": "72d3ee4c",
   "metadata": {},
   "outputs": [
    {
     "name": "stdout",
     "output_type": "stream",
     "text": [
      "[[0, 1, 2], [1, 2, 3], [2, 3, 4]]\n"
     ]
    }
   ],
   "source": [
    "A = [[i+j for j in range (3)] for i in range (3)]\n",
    "print (A) # Here, we have written L.C [i+j for j in range (3)] on the place of append part of outer L.C."
   ]
  },
  {
   "cell_type": "markdown",
   "id": "59d6a354",
   "metadata": {},
   "source": [
    "# Tuple"
   ]
  },
  {
   "cell_type": "code",
   "execution_count": 137,
   "id": "c85bfc41",
   "metadata": {},
   "outputs": [
    {
     "data": {
      "text/plain": [
       "'Tuple:-Tuples are defined by using (). It is same like read only file. Tiple is iterable, we can write for loop on tuple\\n Tuples are immutable. So, once we create any tuple, the we cannot change or modify it.\\n Indexing (both forward and backward) and slicing in tuple is similar to list.\\n In tuple we can have functions like, index, count but we dont have any function like append, insert, pop, remove '"
      ]
     },
     "execution_count": 137,
     "metadata": {},
     "output_type": "execute_result"
    }
   ],
   "source": [
    "'''Tuple:-Tuples are defined by using (). It is same like read only file. Tiple is iterable, we can write for loop on tuple\n",
    " Tuples are immutable. So, once we create any tuple, the we cannot change or modify it.\n",
    " Indexing (both forward and backward) and slicing in tuple is similar to list.\n",
    " In tuple we can have functions like, index, count but we dont have any function like append, insert, pop, remove '''"
   ]
  },
  {
   "cell_type": "code",
   "execution_count": 118,
   "id": "eb066988",
   "metadata": {},
   "outputs": [
    {
     "ename": "TypeError",
     "evalue": "'tuple' object does not support item assignment",
     "output_type": "error",
     "traceback": [
      "\u001b[1;31m---------------------------------------------------------------------------\u001b[0m",
      "\u001b[1;31mTypeError\u001b[0m                                 Traceback (most recent call last)",
      "\u001b[1;32m<ipython-input-118-f0c9408eb557>\u001b[0m in \u001b[0;36m<module>\u001b[1;34m\u001b[0m\n\u001b[0;32m      1\u001b[0m \u001b[0mA\u001b[0m \u001b[1;33m=\u001b[0m \u001b[1;33m(\u001b[0m\u001b[1;36m1\u001b[0m\u001b[1;33m,\u001b[0m\u001b[1;36m2\u001b[0m\u001b[1;33m,\u001b[0m\u001b[1;36m3\u001b[0m\u001b[1;33m,\u001b[0m\u001b[1;36m4\u001b[0m\u001b[1;33m,\u001b[0m\u001b[1;36m5\u001b[0m\u001b[1;33m)\u001b[0m \u001b[1;31m# Defining tuple\u001b[0m\u001b[1;33m\u001b[0m\u001b[1;33m\u001b[0m\u001b[0m\n\u001b[1;32m----> 2\u001b[1;33m \u001b[0mA\u001b[0m\u001b[1;33m[\u001b[0m\u001b[1;36m0\u001b[0m\u001b[1;33m]\u001b[0m \u001b[1;33m=\u001b[0m \u001b[1;34m'A'\u001b[0m \u001b[1;31m# change in tuple is not possible\u001b[0m\u001b[1;33m\u001b[0m\u001b[1;33m\u001b[0m\u001b[0m\n\u001b[0m",
      "\u001b[1;31mTypeError\u001b[0m: 'tuple' object does not support item assignment"
     ]
    }
   ],
   "source": [
    "A = (1,2,3,4,5) # Defining tuple\n",
    "A[0] = 'A' # change in tuple is not possible"
   ]
  },
  {
   "cell_type": "code",
   "execution_count": 120,
   "id": "1c9416be",
   "metadata": {},
   "outputs": [
    {
     "data": {
      "text/plain": [
       "(3, 4, 5)"
      ]
     },
     "execution_count": 120,
     "metadata": {},
     "output_type": "execute_result"
    }
   ],
   "source": [
    "B = A [2:5] # Slicing and indexing in tuple is possible\n",
    "B"
   ]
  },
  {
   "cell_type": "code",
   "execution_count": 121,
   "id": "df345c38",
   "metadata": {},
   "outputs": [
    {
     "data": {
      "text/plain": [
       "1"
      ]
     },
     "execution_count": 121,
     "metadata": {},
     "output_type": "execute_result"
    }
   ],
   "source": [
    "A.count(4) # count, index func. are available"
   ]
  },
  {
   "cell_type": "code",
   "execution_count": 124,
   "id": "ac49e23c",
   "metadata": {},
   "outputs": [],
   "source": [
    "# we can create empty tuple by using () or tuple(). Generally it is used to provide null output of any function."
   ]
  },
  {
   "cell_type": "code",
   "execution_count": 127,
   "id": "c8f893c7",
   "metadata": {},
   "outputs": [
    {
     "data": {
      "text/plain": [
       "tuple"
      ]
     },
     "execution_count": 127,
     "metadata": {},
     "output_type": "execute_result"
    }
   ],
   "source": [
    "T1 = ()\n",
    "T2 = tuple()\n",
    "type (T1)"
   ]
  },
  {
   "cell_type": "code",
   "execution_count": 128,
   "id": "72e54ac1",
   "metadata": {},
   "outputs": [
    {
     "data": {
      "text/plain": [
       "tuple"
      ]
     },
     "execution_count": 128,
     "metadata": {},
     "output_type": "execute_result"
    }
   ],
   "source": [
    "type (T2)"
   ]
  },
  {
   "cell_type": "code",
   "execution_count": 129,
   "id": "a67df078",
   "metadata": {},
   "outputs": [],
   "source": [
    "# Also, we can create tuple with single element in it, by using comma(,) at the end of element.\n",
    "# if we donot provide comma, then python will consider it as paranthesis and object in it as int or str or float or bullien"
   ]
  },
  {
   "cell_type": "code",
   "execution_count": 130,
   "id": "dfb50908",
   "metadata": {},
   "outputs": [
    {
     "data": {
      "text/plain": [
       "int"
      ]
     },
     "execution_count": 130,
     "metadata": {},
     "output_type": "execute_result"
    }
   ],
   "source": [
    "T3 = (10)\n",
    "type(T3) # here, python will consider () as paranthesis and 10 as a int"
   ]
  },
  {
   "cell_type": "code",
   "execution_count": 132,
   "id": "1d0b43aa",
   "metadata": {},
   "outputs": [
    {
     "data": {
      "text/plain": [
       "tuple"
      ]
     },
     "execution_count": 132,
     "metadata": {},
     "output_type": "execute_result"
    }
   ],
   "source": [
    "T4 = (10,)\n",
    "type(T4) # here, python will consider T4 as a tuple, as we have provided comma at the end"
   ]
  },
  {
   "cell_type": "code",
   "execution_count": 133,
   "id": "b1e1446f",
   "metadata": {},
   "outputs": [],
   "source": [
    "t4 = (10,20,30)"
   ]
  },
  {
   "cell_type": "code",
   "execution_count": 134,
   "id": "0aa0d856",
   "metadata": {},
   "outputs": [
    {
     "data": {
      "text/plain": [
       "1"
      ]
     },
     "execution_count": 134,
     "metadata": {},
     "output_type": "execute_result"
    }
   ],
   "source": [
    "t4.count(10)"
   ]
  },
  {
   "cell_type": "code",
   "execution_count": 136,
   "id": "5aa7d552",
   "metadata": {},
   "outputs": [
    {
     "data": {
      "text/plain": [
       "2"
      ]
     },
     "execution_count": 136,
     "metadata": {},
     "output_type": "execute_result"
    }
   ],
   "source": [
    "t4.index(30)"
   ]
  },
  {
   "cell_type": "code",
   "execution_count": 138,
   "id": "19bff554",
   "metadata": {},
   "outputs": [
    {
     "data": {
      "text/plain": [
       "(10, 20, [30, 40, 'Pune'])"
      ]
     },
     "execution_count": 138,
     "metadata": {},
     "output_type": "execute_result"
    }
   ],
   "source": [
    "# If there is any mutable object (list) present in tuple, then we can modify that mutable object(list).\n",
    "A = (10,20, [30,40])\n",
    "A [2].append('Pune') # it is possible to modify list present in tuple\n",
    "A"
   ]
  },
  {
   "cell_type": "code",
   "execution_count": 152,
   "id": "5259e9a9",
   "metadata": {},
   "outputs": [
    {
     "data": {
      "text/plain": [
       "(10, 20, [30, 40, 'Pune', 'Mumbai'])"
      ]
     },
     "execution_count": 152,
     "metadata": {},
     "output_type": "execute_result"
    }
   ],
   "source": [
    "# Also, we can use 'deep copy' to make a copy of a tuple\n",
    "import copy\n",
    "C = copy.deepcopy(A) #  'C' is deep copy of 'A'\n",
    "A[2].append('Mumbai')\n",
    "A"
   ]
  },
  {
   "cell_type": "code",
   "execution_count": 153,
   "id": "5322bc46",
   "metadata": {},
   "outputs": [
    {
     "data": {
      "text/plain": [
       "(10, 20, [30, 40, 'Pune'])"
      ]
     },
     "execution_count": 153,
     "metadata": {},
     "output_type": "execute_result"
    }
   ],
   "source": [
    "C"
   ]
  },
  {
   "cell_type": "code",
   "execution_count": 4,
   "id": "4214cb78",
   "metadata": {},
   "outputs": [
    {
     "name": "stdout",
     "output_type": "stream",
     "text": [
      "Apple\n",
      "Orange\n",
      "Strawberry\n"
     ]
    }
   ],
   "source": [
    "# Assigning values to variable\n",
    "t1 = ('Apple', 'Banana', 'Orange', 'Blackcurrent', 'Strawberry')\n",
    "(green, yellow, orange, purple, red) = t1\n",
    "print(green)\n",
    "print (orange)\n",
    "print(red)"
   ]
  },
  {
   "cell_type": "code",
   "execution_count": 5,
   "id": "7a2e5592",
   "metadata": {},
   "outputs": [
    {
     "name": "stdout",
     "output_type": "stream",
     "text": [
      "Apple\n",
      "Banana\n",
      "['Orange', 'Blackcurrent', 'Strawberry']\n"
     ]
    }
   ],
   "source": [
    "# Assigning values to variable :- if no of variables are less, then we can use (* Asterisk), and remaing values will get stored in list \n",
    "# and assigned to last variable\n",
    "t1 = ('Apple', 'Banana', 'Orange', 'Blackcurrent', 'Strawberry')\n",
    "(green, yellow, *orange) = t1\n",
    "print(green)\n",
    "print(yellow)\n",
    "print (orange) # remaining values will be assigned to orange in the form of list"
   ]
  },
  {
   "cell_type": "code",
   "execution_count": 6,
   "id": "30522cc1",
   "metadata": {},
   "outputs": [
    {
     "name": "stdout",
     "output_type": "stream",
     "text": [
      "Apple\n",
      "['Banana', 'Orange', 'Blackcurrent']\n",
      "Strawberry\n"
     ]
    }
   ],
   "source": [
    "# if * Asterisk is given to any other variable than last then Python will assign values to the variable until\n",
    "# the number of values left matches the number of variables left.\n",
    "t1 = ('Apple', 'Banana', 'Orange', 'Blackcurrent', 'Strawberry')\n",
    "(green, *yellow, orange) = t1\n",
    "print(green)\n",
    "print(yellow)\n",
    "print (orange) # values will be assigned to *variable until the number of values left matches the number of variables left."
   ]
  },
  {
   "cell_type": "code",
   "execution_count": 7,
   "id": "fa002563",
   "metadata": {},
   "outputs": [
    {
     "name": "stdout",
     "output_type": "stream",
     "text": [
      "('Apple', 'Banana', 'Orange', 'Blackcurrent', 'Strawberry', 'Apple', 'Banana', 'Orange', 'Blackcurrent', 'Strawberry')\n"
     ]
    }
   ],
   "source": [
    "#Multiplication of tuple:- If we want to multiply the content of a tuple a given number of times, we can use the * operator\n",
    "fruits = ('Apple', 'Banana', 'Orange', 'Blackcurrent', 'Strawberry')\n",
    "multi = fruits*2\n",
    "print (multi)"
   ]
  },
  {
   "cell_type": "code",
   "execution_count": 9,
   "id": "ab77d890",
   "metadata": {},
   "outputs": [
    {
     "name": "stdout",
     "output_type": "stream",
     "text": [
      "(10, 20, 30, 40, 50, 60, 70, 80)\n"
     ]
    }
   ],
   "source": [
    "# Addition of tuples:- We can add one or more values in tuple by adding atuple of required values.\n",
    "x1 = (10,20,30,40,50)\n",
    "x2 = (60,70,80)\n",
    "x3 = x1 + x2\n",
    "print (x3)"
   ]
  },
  {
   "cell_type": "code",
   "execution_count": null,
   "id": "b3003170",
   "metadata": {},
   "outputs": [],
   "source": []
  }
 ],
 "metadata": {
  "kernelspec": {
   "display_name": "Python 3",
   "language": "python",
   "name": "python3"
  },
  "language_info": {
   "codemirror_mode": {
    "name": "ipython",
    "version": 3
   },
   "file_extension": ".py",
   "mimetype": "text/x-python",
   "name": "python",
   "nbconvert_exporter": "python",
   "pygments_lexer": "ipython3",
   "version": "3.8.8"
  }
 },
 "nbformat": 4,
 "nbformat_minor": 5
}
