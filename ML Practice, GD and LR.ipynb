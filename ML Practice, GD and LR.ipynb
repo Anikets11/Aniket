{
 "cells": [
  {
   "cell_type": "markdown",
   "id": "690aca74",
   "metadata": {},
   "source": [
    "# Machine Learning"
   ]
  },
  {
   "cell_type": "code",
   "execution_count": 4,
   "id": "7b29a8f3",
   "metadata": {},
   "outputs": [],
   "source": [
    "#ML:- It is just s/w that learn itself and answer the queries based on the data provided to it on the basis of math. models\n",
    "# For this we have to provide the data (past data), and train the m/c by math models so it will ans. the que. asked to it\n",
    "# ML is dived into 2 types:- 1) Supervised learning 2) Unsupervised learning"
   ]
  },
  {
   "cell_type": "code",
   "execution_count": 5,
   "id": "5b69557e",
   "metadata": {},
   "outputs": [],
   "source": [
    "# Supervised learning:- We have to privide the past data as question and answer\n",
    "# like X and Y values, X-i/p data (que), Y-required o/p (ans) It is divided into 2 parts. 1) Regression 2) Classification\n",
    "# Regression:- It has no set of fixed o/p. eg. Exp. and Salaries of employee, % of students, 2 types 1)linear reg 2)Polynomial Reg.\n",
    "# Classification:- Here, set of o/p is fixed. eg. Covid test redult (Y/N), Grades of students (A/B/C/D/F) \n",
    "# Types:- 1) logistic reg 2)KNN 3) SVM 4) Navie Bayes 4) Decision Tree 5) Random forest 6) Adaboost 7) XGboost"
   ]
  },
  {
   "cell_type": "code",
   "execution_count": 6,
   "id": "da83a502",
   "metadata": {},
   "outputs": [],
   "source": [
    "# Unsupervised Learning:-Here data is not in the form of Que. ans. In return, it gives ans as groups of data/ele.(clusters)\n",
    "# eg. Salary data of employees and in return want the 2 groups of employees\n",
    "# Types:- 1) K-means clustering 2) Hierertial clustering "
   ]
  },
  {
   "cell_type": "code",
   "execution_count": 80,
   "id": "dd59b212",
   "metadata": {},
   "outputs": [
    {
     "data": {
      "text/plain": [
       "\"'Steps to implement ML model:-\\n1) Identify the columns of X, y (X:- always 2D, y:- always 1D or series)\\n2) Import the required model and class (eg. from sklearn.Linear_model import LinearRegression)\\n3) Train the model by using model.fit(X,y) (It is Gradient Descent used to find Best fit line)\\n4) Predict the values of yp by using yp = model.predict(X_given)\\n5) Find the score or accuracy of model by using model.score(X, Yactual) (1-(u(MSE)/v(Variance)))\""
      ]
     },
     "execution_count": 80,
     "metadata": {},
     "output_type": "execute_result"
    }
   ],
   "source": [
    "''''Steps to implement ML model:-\n",
    "1) Identify the columns of X, y (X:- always 2D, y:- always 1D or series)\n",
    "2) Import the required model and class (eg. from sklearn.Linear_model import LinearRegression)\n",
    "3) Train the model by using model.fit(X,y) (It is Gradient Descent used to find Best fit line)\n",
    "4) Predict the values of yp by using yp = model.predict(X_given)\n",
    "5) Find the score or accuracy of model by using model.score(X, Yactual) (1-(u(MSE)/v(Variance)))'''"
   ]
  },
  {
   "cell_type": "markdown",
   "id": "77403ca4",
   "metadata": {},
   "source": [
    "# 1) Linear Regression"
   ]
  },
  {
   "cell_type": "code",
   "execution_count": 7,
   "id": "09274b51",
   "metadata": {},
   "outputs": [],
   "source": [
    "# Linear Regression:- In this, we are using line to predict the required o/p. Line is to be drawn on basis of data provided\n",
    "# Line equation:- y = mx+c :- y- o/p values, x- i/p values, m- slope (tan0 or (y2-y1)/(x2-x1)), c- Y intercept"
   ]
  },
  {
   "cell_type": "code",
   "execution_count": 8,
   "id": "30a1ea8e",
   "metadata": {},
   "outputs": [],
   "source": [
    "# To predict salary of an employee by using experience"
   ]
  },
  {
   "cell_type": "code",
   "execution_count": 9,
   "id": "f1a3ee70",
   "metadata": {},
   "outputs": [],
   "source": [
    "# Eqn:- y = f(x) = mx+c f- function, x- independent var. (value for which find y) y- dependent var. (value to be predicted)"
   ]
  },
  {
   "cell_type": "code",
   "execution_count": 10,
   "id": "14154f52",
   "metadata": {},
   "outputs": [],
   "source": [
    "# Error:- How much the drawn line is away from the given points is 'Error' We have to measure vertical dist betw. pt & line\n",
    "# Types of Error:- Mean Absolute Error (MAE) = (sum of mod of distances of pts from line / no. of points)\n",
    "# Mean Squared Error (MSE) = (sum of square of distance of all points from line / no. of points)\n",
    "# Root Mean Squared Error(RMSE) = (square root of (sum of square of distance of all points from line / no. of points))"
   ]
  },
  {
   "cell_type": "markdown",
   "id": "bcf2b255",
   "metadata": {},
   "source": [
    "# Gradient Descent"
   ]
  },
  {
   "cell_type": "code",
   "execution_count": 11,
   "id": "fb7d7b2b",
   "metadata": {},
   "outputs": [],
   "source": [
    "# Best fit line:- It is the line passing through points which is having minimum error.\n",
    "# For any s/w it is not possible to draw infinite lines passing through the plane of data points and find Best fit line.\n",
    "# So, the possible way is to draw finite lines passing through the plane of data points and find Best fit line.\n",
    "# For this we have to use 'Gradient Descent'"
   ]
  },
  {
   "cell_type": "code",
   "execution_count": 14,
   "id": "e6a40cde",
   "metadata": {},
   "outputs": [],
   "source": [
    "# Draw a graph of Line throgh points on X axis and error on Y axis. Curve drawn is called as Error function or cost funct.\n",
    "# Descent :- The distance between two steps is called as 'Descent'\n",
    "# Gradient :-It is the slope of tangent drawn at any point on the curve.\n",
    "# Minima:- Point at which slope of tangent (Gradient) is zero. that point is minima.\n",
    "# Way to find minima:- Eq. y=f(x), then f'(x) = , and find value of x, which gives us the point of minima\n",
    "# Point representing the line passing through data points is the 'Best fit line.' which is having minimum Error"
   ]
  },
  {
   "cell_type": "code",
   "execution_count": 34,
   "id": "cea86614",
   "metadata": {},
   "outputs": [],
   "source": [
    "import pandas as pd"
   ]
  },
  {
   "cell_type": "code",
   "execution_count": 35,
   "id": "081633e3",
   "metadata": {},
   "outputs": [],
   "source": [
    "df = pd.read_excel('../Salary_Data.xlsx')"
   ]
  },
  {
   "cell_type": "code",
   "execution_count": 36,
   "id": "49023784",
   "metadata": {},
   "outputs": [
    {
     "data": {
      "text/html": [
       "<div>\n",
       "<style scoped>\n",
       "    .dataframe tbody tr th:only-of-type {\n",
       "        vertical-align: middle;\n",
       "    }\n",
       "\n",
       "    .dataframe tbody tr th {\n",
       "        vertical-align: top;\n",
       "    }\n",
       "\n",
       "    .dataframe thead th {\n",
       "        text-align: right;\n",
       "    }\n",
       "</style>\n",
       "<table border=\"1\" class=\"dataframe\">\n",
       "  <thead>\n",
       "    <tr style=\"text-align: right;\">\n",
       "      <th></th>\n",
       "      <th>YearsExperience</th>\n",
       "      <th>Age</th>\n",
       "      <th>Salary</th>\n",
       "    </tr>\n",
       "  </thead>\n",
       "  <tbody>\n",
       "    <tr>\n",
       "      <th>0</th>\n",
       "      <td>1.1</td>\n",
       "      <td>21.0</td>\n",
       "      <td>39343</td>\n",
       "    </tr>\n",
       "    <tr>\n",
       "      <th>1</th>\n",
       "      <td>1.3</td>\n",
       "      <td>21.5</td>\n",
       "      <td>46205</td>\n",
       "    </tr>\n",
       "    <tr>\n",
       "      <th>2</th>\n",
       "      <td>1.5</td>\n",
       "      <td>21.7</td>\n",
       "      <td>37731</td>\n",
       "    </tr>\n",
       "    <tr>\n",
       "      <th>3</th>\n",
       "      <td>2.0</td>\n",
       "      <td>22.0</td>\n",
       "      <td>43525</td>\n",
       "    </tr>\n",
       "    <tr>\n",
       "      <th>4</th>\n",
       "      <td>2.2</td>\n",
       "      <td>22.2</td>\n",
       "      <td>39891</td>\n",
       "    </tr>\n",
       "    <tr>\n",
       "      <th>5</th>\n",
       "      <td>2.9</td>\n",
       "      <td>23.0</td>\n",
       "      <td>56642</td>\n",
       "    </tr>\n",
       "    <tr>\n",
       "      <th>6</th>\n",
       "      <td>3.0</td>\n",
       "      <td>23.0</td>\n",
       "      <td>60150</td>\n",
       "    </tr>\n",
       "    <tr>\n",
       "      <th>7</th>\n",
       "      <td>3.2</td>\n",
       "      <td>23.3</td>\n",
       "      <td>54445</td>\n",
       "    </tr>\n",
       "    <tr>\n",
       "      <th>8</th>\n",
       "      <td>3.2</td>\n",
       "      <td>23.3</td>\n",
       "      <td>64445</td>\n",
       "    </tr>\n",
       "    <tr>\n",
       "      <th>9</th>\n",
       "      <td>3.7</td>\n",
       "      <td>23.6</td>\n",
       "      <td>57189</td>\n",
       "    </tr>\n",
       "    <tr>\n",
       "      <th>10</th>\n",
       "      <td>3.9</td>\n",
       "      <td>23.9</td>\n",
       "      <td>63218</td>\n",
       "    </tr>\n",
       "    <tr>\n",
       "      <th>11</th>\n",
       "      <td>4.0</td>\n",
       "      <td>24.0</td>\n",
       "      <td>55794</td>\n",
       "    </tr>\n",
       "    <tr>\n",
       "      <th>12</th>\n",
       "      <td>4.0</td>\n",
       "      <td>24.0</td>\n",
       "      <td>56957</td>\n",
       "    </tr>\n",
       "    <tr>\n",
       "      <th>13</th>\n",
       "      <td>4.1</td>\n",
       "      <td>24.0</td>\n",
       "      <td>57081</td>\n",
       "    </tr>\n",
       "    <tr>\n",
       "      <th>14</th>\n",
       "      <td>4.5</td>\n",
       "      <td>25.0</td>\n",
       "      <td>61111</td>\n",
       "    </tr>\n",
       "    <tr>\n",
       "      <th>15</th>\n",
       "      <td>4.9</td>\n",
       "      <td>25.0</td>\n",
       "      <td>67938</td>\n",
       "    </tr>\n",
       "    <tr>\n",
       "      <th>16</th>\n",
       "      <td>5.1</td>\n",
       "      <td>26.0</td>\n",
       "      <td>66029</td>\n",
       "    </tr>\n",
       "    <tr>\n",
       "      <th>17</th>\n",
       "      <td>5.3</td>\n",
       "      <td>27.0</td>\n",
       "      <td>83088</td>\n",
       "    </tr>\n",
       "    <tr>\n",
       "      <th>18</th>\n",
       "      <td>5.9</td>\n",
       "      <td>28.0</td>\n",
       "      <td>81363</td>\n",
       "    </tr>\n",
       "    <tr>\n",
       "      <th>19</th>\n",
       "      <td>6.0</td>\n",
       "      <td>29.0</td>\n",
       "      <td>93940</td>\n",
       "    </tr>\n",
       "    <tr>\n",
       "      <th>20</th>\n",
       "      <td>6.8</td>\n",
       "      <td>30.0</td>\n",
       "      <td>91738</td>\n",
       "    </tr>\n",
       "    <tr>\n",
       "      <th>21</th>\n",
       "      <td>7.1</td>\n",
       "      <td>30.0</td>\n",
       "      <td>98273</td>\n",
       "    </tr>\n",
       "    <tr>\n",
       "      <th>22</th>\n",
       "      <td>7.9</td>\n",
       "      <td>31.0</td>\n",
       "      <td>101302</td>\n",
       "    </tr>\n",
       "    <tr>\n",
       "      <th>23</th>\n",
       "      <td>8.2</td>\n",
       "      <td>32.0</td>\n",
       "      <td>113812</td>\n",
       "    </tr>\n",
       "    <tr>\n",
       "      <th>24</th>\n",
       "      <td>8.7</td>\n",
       "      <td>33.0</td>\n",
       "      <td>109431</td>\n",
       "    </tr>\n",
       "    <tr>\n",
       "      <th>25</th>\n",
       "      <td>9.0</td>\n",
       "      <td>34.0</td>\n",
       "      <td>105582</td>\n",
       "    </tr>\n",
       "    <tr>\n",
       "      <th>26</th>\n",
       "      <td>9.5</td>\n",
       "      <td>35.0</td>\n",
       "      <td>116969</td>\n",
       "    </tr>\n",
       "    <tr>\n",
       "      <th>27</th>\n",
       "      <td>9.6</td>\n",
       "      <td>36.0</td>\n",
       "      <td>112635</td>\n",
       "    </tr>\n",
       "    <tr>\n",
       "      <th>28</th>\n",
       "      <td>10.3</td>\n",
       "      <td>37.0</td>\n",
       "      <td>122391</td>\n",
       "    </tr>\n",
       "    <tr>\n",
       "      <th>29</th>\n",
       "      <td>10.5</td>\n",
       "      <td>38.0</td>\n",
       "      <td>121872</td>\n",
       "    </tr>\n",
       "  </tbody>\n",
       "</table>\n",
       "</div>"
      ],
      "text/plain": [
       "    YearsExperience   Age  Salary\n",
       "0               1.1  21.0   39343\n",
       "1               1.3  21.5   46205\n",
       "2               1.5  21.7   37731\n",
       "3               2.0  22.0   43525\n",
       "4               2.2  22.2   39891\n",
       "5               2.9  23.0   56642\n",
       "6               3.0  23.0   60150\n",
       "7               3.2  23.3   54445\n",
       "8               3.2  23.3   64445\n",
       "9               3.7  23.6   57189\n",
       "10              3.9  23.9   63218\n",
       "11              4.0  24.0   55794\n",
       "12              4.0  24.0   56957\n",
       "13              4.1  24.0   57081\n",
       "14              4.5  25.0   61111\n",
       "15              4.9  25.0   67938\n",
       "16              5.1  26.0   66029\n",
       "17              5.3  27.0   83088\n",
       "18              5.9  28.0   81363\n",
       "19              6.0  29.0   93940\n",
       "20              6.8  30.0   91738\n",
       "21              7.1  30.0   98273\n",
       "22              7.9  31.0  101302\n",
       "23              8.2  32.0  113812\n",
       "24              8.7  33.0  109431\n",
       "25              9.0  34.0  105582\n",
       "26              9.5  35.0  116969\n",
       "27              9.6  36.0  112635\n",
       "28             10.3  37.0  122391\n",
       "29             10.5  38.0  121872"
      ]
     },
     "execution_count": 36,
     "metadata": {},
     "output_type": "execute_result"
    }
   ],
   "source": [
    "df"
   ]
  },
  {
   "cell_type": "code",
   "execution_count": 37,
   "id": "496157d5",
   "metadata": {},
   "outputs": [],
   "source": [
    "X = df[['YearsExperience']] # X must be 2D\n",
    "Y_act = df['Salary']"
   ]
  },
  {
   "cell_type": "code",
   "execution_count": 38,
   "id": "5cfe8de4",
   "metadata": {},
   "outputs": [
    {
     "data": {
      "text/plain": [
       "(30, 1)"
      ]
     },
     "execution_count": 38,
     "metadata": {},
     "output_type": "execute_result"
    }
   ],
   "source": [
    "X.shape"
   ]
  },
  {
   "cell_type": "code",
   "execution_count": 39,
   "id": "f3a8cfa1",
   "metadata": {},
   "outputs": [],
   "source": [
    "import matplotlib.pyplot as plt"
   ]
  },
  {
   "cell_type": "code",
   "execution_count": 40,
   "id": "b7b686d3",
   "metadata": {},
   "outputs": [
    {
     "data": {
      "text/plain": [
       "<matplotlib.collections.PathCollection at 0x268d6680940>"
      ]
     },
     "execution_count": 40,
     "metadata": {},
     "output_type": "execute_result"
    },
    {
     "data": {
      "image/png": "[encoded data removed]",
      "text/plain": [
       "<Figure size 432x288 with 1 Axes>"
      ]
     },
     "metadata": {
      "needs_background": "light"
     },
     "output_type": "display_data"
    }
   ],
   "source": [
    "plt.scatter(X,Y_act)"
   ]
  },
  {
   "cell_type": "code",
   "execution_count": 41,
   "id": "c8fb220a",
   "metadata": {},
   "outputs": [],
   "source": [
    "from sklearn.linear_model import LinearRegression"
   ]
  },
  {
   "cell_type": "code",
   "execution_count": 42,
   "id": "6dfe6a75",
   "metadata": {},
   "outputs": [
    {
     "data": {
      "text/plain": [
       "LinearRegression()"
      ]
     },
     "execution_count": 42,
     "metadata": {},
     "output_type": "execute_result"
    }
   ],
   "source": [
    "model = LinearRegression() # Empty LR Model without data\n",
    "model.fit(X, Y_act)  # .fit function performs the Gradient Descent"
   ]
  },
  {
   "cell_type": "code",
   "execution_count": 43,
   "id": "43aadd97",
   "metadata": {},
   "outputs": [
    {
     "data": {
      "text/plain": [
       "25792.20019866871"
      ]
     },
     "execution_count": 43,
     "metadata": {},
     "output_type": "execute_result"
    }
   ],
   "source": [
    "model.intercept_       # model is Best fit line, intercept gives the y intercept of line"
   ]
  },
  {
   "cell_type": "code",
   "execution_count": 44,
   "id": "ac1675c1",
   "metadata": {},
   "outputs": [
    {
     "data": {
      "text/plain": [
       "array([9449.96232146])"
      ]
     },
     "execution_count": 44,
     "metadata": {},
     "output_type": "execute_result"
    }
   ],
   "source": [
    "model.coef_   # It gives the slope of Best fit line"
   ]
  },
  {
   "cell_type": "code",
   "execution_count": 45,
   "id": "1064ba57",
   "metadata": {},
   "outputs": [
    {
     "data": {
      "text/plain": [
       "(10000.0, 130000.0)"
      ]
     },
     "execution_count": 45,
     "metadata": {},
     "output_type": "execute_result"
    },
    {
     "data": {
      "image/png": "[encoded data removed]",
      "text/plain": [
       "<Figure size 432x288 with 1 Axes>"
      ]
     },
     "metadata": {
      "needs_background": "light"
     },
     "output_type": "display_data"
    }
   ],
   "source": [
    "plt.scatter(X, Y_act)\n",
    "plt.ylim([10000,130000])    # Used to increase y scale"
   ]
  },
  {
   "cell_type": "code",
   "execution_count": 48,
   "id": "4b75ccae",
   "metadata": {},
   "outputs": [
    {
     "data": {
      "text/plain": [
       "array([25792.20019867])"
      ]
     },
     "execution_count": 48,
     "metadata": {},
     "output_type": "execute_result"
    }
   ],
   "source": [
    "model.predict([[0]]) # Used to predict the values of y for given value of X eg. for zero yrs of experience."
   ]
  },
  {
   "cell_type": "code",
   "execution_count": 50,
   "id": "74b3faad",
   "metadata": {},
   "outputs": [
    {
     "data": {
      "text/plain": [
       "array([120291.82341322])"
      ]
     },
     "execution_count": 50,
     "metadata": {},
     "output_type": "execute_result"
    }
   ],
   "source": [
    "model.predict([[10]]) # Predict the salary for 10 yrs of exp. Provide values in the same format of X"
   ]
  },
  {
   "cell_type": "code",
   "execution_count": 59,
   "id": "cf0c46a6",
   "metadata": {},
   "outputs": [
    {
     "data": {
      "text/plain": [
       "(0.0, 130000.0)"
      ]
     },
     "execution_count": 59,
     "metadata": {},
     "output_type": "execute_result"
    },
    {
     "data": {
      "image/png": "[encoded data removed]",
      "text/plain": [
       "<Figure size 432x288 with 1 Axes>"
      ]
     },
     "metadata": {
      "needs_background": "light"
     },
     "output_type": "display_data"
    }
   ],
   "source": [
    "plt.scatter(X, Y_act)\n",
    "plt.plot ([0,10],[25792.2,120291.83], c='red') # Provide values of y for x=0, x= max, to see Best fit line\n",
    "plt.ylim([0,130000])"
   ]
  },
  {
   "cell_type": "code",
   "execution_count": 57,
   "id": "d290c632",
   "metadata": {},
   "outputs": [
    {
     "data": {
      "text/plain": [
       "array([120291.82341322, 167541.63502049])"
      ]
     },
     "execution_count": 57,
     "metadata": {},
     "output_type": "execute_result"
    }
   ],
   "source": [
    "model.predict([[10],[15]]) # To predict multiple values pass it as 2D array with each value as a seperate row"
   ]
  },
  {
   "cell_type": "code",
   "execution_count": 62,
   "id": "d24378a7",
   "metadata": {},
   "outputs": [],
   "source": [
    "X = df[['YearsExperience', 'Age']] # To pass multiple variables to X, we always pass X variables in 2D\n",
    "y = df['Salary']"
   ]
  },
  {
   "cell_type": "code",
   "execution_count": 64,
   "id": "84439062",
   "metadata": {},
   "outputs": [
    {
     "data": {
      "text/plain": [
       "LinearRegression()"
      ]
     },
     "execution_count": 64,
     "metadata": {},
     "output_type": "execute_result"
    }
   ],
   "source": [
    "model = LinearRegression()\n",
    "model.fit(X,y)"
   ]
  },
  {
   "cell_type": "code",
   "execution_count": 66,
   "id": "dec7bb4c",
   "metadata": {},
   "outputs": [
    {
     "data": {
      "text/plain": [
       "-6661.98719881312"
      ]
     },
     "execution_count": 66,
     "metadata": {},
     "output_type": "execute_result"
    }
   ],
   "source": [
    "model.intercept_"
   ]
  },
  {
   "cell_type": "code",
   "execution_count": 68,
   "id": "2257fd43",
   "metadata": {},
   "outputs": [
    {
     "data": {
      "text/plain": [
       "array([6153.35330145, 1836.01359426])"
      ]
     },
     "execution_count": 68,
     "metadata": {},
     "output_type": "execute_result"
    }
   ],
   "source": [
    "model.coef_ # will give 2 values as we have provided 2 variables"
   ]
  },
  {
   "cell_type": "code",
   "execution_count": 70,
   "id": "2f23bc43",
   "metadata": {},
   "outputs": [
    {
     "data": {
      "text/plain": [
       "array([ 33730.31187492, 115459.99442625])"
      ]
     },
     "execution_count": 70,
     "metadata": {},
     "output_type": "execute_result"
    }
   ],
   "source": [
    "model.predict([[0,22],[10,33]]) #Here, we have provided 2 values of variable, 1 emp- (0 exp 22 age), 2 emp- (10 exp 33 age)"
   ]
  },
  {
   "cell_type": "code",
   "execution_count": 71,
   "id": "bb4f41a1",
   "metadata": {},
   "outputs": [
    {
     "data": {
      "text/plain": [
       "0.9599822609873284"
      ]
     },
     "execution_count": 71,
     "metadata": {},
     "output_type": "execute_result"
    }
   ],
   "source": [
    "model.score(X,y) #Used to calculate accuracy of model, x- used to calculate Y_predict, y- Used to compare Y_p with Y_a"
   ]
  },
  {
   "cell_type": "code",
   "execution_count": 72,
   "id": "23e10544",
   "metadata": {},
   "outputs": [],
   "source": [
    "import numpy as np"
   ]
  },
  {
   "cell_type": "code",
   "execution_count": 73,
   "id": "ff23bd7b",
   "metadata": {},
   "outputs": [],
   "source": [
    "X = np.random.randint(0,21,(200,4))\n",
    "y = 0.5*X[:,0] - 1.1*X[:,1] + 5*X[:,2] - 0.2*X[:,3] + 5"
   ]
  },
  {
   "cell_type": "code",
   "execution_count": 75,
   "id": "9c573c31",
   "metadata": {},
   "outputs": [
    {
     "data": {
      "text/plain": [
       "array([[16,  3, 10, 11],\n",
       "       [16, 19,  3,  3],\n",
       "       [ 3, 13, 16,  1],\n",
       "       [ 3, 15, 20,  0],\n",
       "       [16,  2,  0,  9],\n",
       "       [20, 14, 10,  2],\n",
       "       [16,  0, 11, 11],\n",
       "       [14, 12, 12, 13],\n",
       "       [18, 14, 15,  6],\n",
       "       [ 5,  2,  0, 18],\n",
       "       [10, 15,  1, 12],\n",
       "       [ 4, 19, 17,  0],\n",
       "       [ 3, 12,  0, 18],\n",
       "       [ 6,  1,  4, 14],\n",
       "       [19, 19,  7, 13],\n",
       "       [ 8,  0, 11, 10],\n",
       "       [ 3, 10, 18,  9],\n",
       "       [ 7,  6,  5, 17],\n",
       "       [ 2, 11, 13, 14],\n",
       "       [ 4, 13,  4,  7],\n",
       "       [ 3, 14,  5,  0],\n",
       "       [18, 17,  0, 20],\n",
       "       [ 7,  1,  0,  1],\n",
       "       [10,  7, 18,  1],\n",
       "       [ 1, 16,  6, 16],\n",
       "       [16,  4, 10, 14],\n",
       "       [ 5, 10, 10,  5],\n",
       "       [10,  9,  9,  3],\n",
       "       [16,  9,  2,  8],\n",
       "       [ 6, 18,  4, 15],\n",
       "       [ 1,  5,  1,  2],\n",
       "       [ 7, 19, 16,  7],\n",
       "       [19,  3,  8,  9],\n",
       "       [16, 16,  3, 14],\n",
       "       [ 2, 14,  4, 10],\n",
       "       [14, 16, 17,  5],\n",
       "       [13,  4, 16,  6],\n",
       "       [ 7,  3, 18,  0],\n",
       "       [ 7,  9,  5,  3],\n",
       "       [ 4, 12, 17, 17],\n",
       "       [13,  3, 15, 14],\n",
       "       [10,  3, 18,  4],\n",
       "       [17,  0, 19, 19],\n",
       "       [17,  9,  2,  1],\n",
       "       [16, 19,  4,  5],\n",
       "       [15, 13,  6, 17],\n",
       "       [ 0,  8, 18, 19],\n",
       "       [16, 18,  1, 17],\n",
       "       [ 4,  0, 10, 16],\n",
       "       [ 0,  0,  3,  9],\n",
       "       [ 3,  3,  0, 10],\n",
       "       [ 2,  2,  4,  3],\n",
       "       [ 4,  2, 14, 13],\n",
       "       [ 5, 15,  1, 12],\n",
       "       [19, 14, 16, 10],\n",
       "       [12,  2,  7, 14],\n",
       "       [ 3, 13,  5,  5],\n",
       "       [15, 15, 12, 10],\n",
       "       [13, 20, 19,  8],\n",
       "       [ 1, 12,  0,  5],\n",
       "       [ 5,  9, 17,  4],\n",
       "       [20,  0,  3, 13],\n",
       "       [12,  2, 11, 17],\n",
       "       [ 5,  0, 15,  2],\n",
       "       [ 2, 15, 18,  6],\n",
       "       [16, 19, 19,  7],\n",
       "       [ 4, 19, 14, 20],\n",
       "       [13, 17, 18,  0],\n",
       "       [20, 19, 13, 19],\n",
       "       [ 4,  0,  2,  8],\n",
       "       [ 1, 15, 19,  0],\n",
       "       [16, 15,  2, 11],\n",
       "       [ 2,  6, 12, 12],\n",
       "       [14,  7,  4,  6],\n",
       "       [17,  0,  0,  3],\n",
       "       [16, 12, 13, 11],\n",
       "       [ 9,  3, 20, 17],\n",
       "       [ 6, 15, 12,  4],\n",
       "       [ 1, 19,  6,  2],\n",
       "       [ 7,  7, 20,  8],\n",
       "       [ 8, 16,  8, 19],\n",
       "       [ 9,  4,  9, 14],\n",
       "       [ 2, 12,  4, 19],\n",
       "       [16, 20,  6, 18],\n",
       "       [10, 14, 15,  8],\n",
       "       [19, 10, 18, 11],\n",
       "       [18,  9, 14,  0],\n",
       "       [ 3,  7, 13, 11],\n",
       "       [ 2, 18, 16,  5],\n",
       "       [ 6, 16, 11, 11],\n",
       "       [12,  4, 19,  3],\n",
       "       [11,  0,  3, 16],\n",
       "       [20, 19, 14, 19],\n",
       "       [20, 11, 14, 16],\n",
       "       [14,  0,  9, 14],\n",
       "       [ 9,  8, 11,  6],\n",
       "       [ 2,  4,  9, 17],\n",
       "       [12,  9, 10, 15],\n",
       "       [ 9,  1,  3, 20],\n",
       "       [ 7, 17, 10, 20],\n",
       "       [19,  5, 19,  4],\n",
       "       [ 6, 10, 20,  3],\n",
       "       [ 4,  8,  7, 19],\n",
       "       [ 8,  9,  5, 19],\n",
       "       [ 9, 19, 17, 12],\n",
       "       [ 7,  5, 17, 17],\n",
       "       [12,  0, 18, 11],\n",
       "       [20, 10,  4,  9],\n",
       "       [12, 14, 20, 17],\n",
       "       [11, 14,  2, 16],\n",
       "       [ 4, 20, 16, 15],\n",
       "       [11,  6,  9,  8],\n",
       "       [ 4, 12,  1,  7],\n",
       "       [11,  1, 18,  0],\n",
       "       [16,  1,  4,  6],\n",
       "       [ 1,  7,  5,  3],\n",
       "       [10, 16,  7,  7],\n",
       "       [ 7, 10, 12,  5],\n",
       "       [10,  1,  7, 12],\n",
       "       [10, 13,  7,  4],\n",
       "       [ 1,  7, 19,  1],\n",
       "       [10,  1, 20,  6],\n",
       "       [ 9,  0,  0, 19],\n",
       "       [20, 13,  9, 17],\n",
       "       [ 7,  2,  5,  1],\n",
       "       [17, 15, 10, 13],\n",
       "       [ 4, 17, 17,  4],\n",
       "       [10, 19, 14,  4],\n",
       "       [11, 12, 16, 17],\n",
       "       [13,  6,  8, 13],\n",
       "       [19, 19, 15, 11],\n",
       "       [ 3,  5, 16,  6],\n",
       "       [ 6, 12,  6, 20],\n",
       "       [ 7, 12, 10, 19],\n",
       "       [19, 13,  0, 19],\n",
       "       [20,  1,  8, 19],\n",
       "       [17, 16, 17, 15],\n",
       "       [16, 15,  1,  3],\n",
       "       [20, 15,  9,  9],\n",
       "       [ 5, 11,  9, 17],\n",
       "       [ 7, 10,  4, 19],\n",
       "       [12, 10,  3, 20],\n",
       "       [20,  4,  8, 11],\n",
       "       [ 1, 14,  4,  8],\n",
       "       [ 7, 11,  9,  4],\n",
       "       [10, 13,  1, 14],\n",
       "       [18, 17,  3, 14],\n",
       "       [ 1,  4, 13,  9],\n",
       "       [ 2, 11, 17,  2],\n",
       "       [14,  9, 13, 11],\n",
       "       [16, 14, 20,  6],\n",
       "       [ 5, 10, 17, 17],\n",
       "       [ 1,  7,  6,  3],\n",
       "       [ 3,  9, 18, 18],\n",
       "       [ 4, 12,  2,  1],\n",
       "       [12,  0,  9, 11],\n",
       "       [ 4,  1,  4, 14],\n",
       "       [ 6,  8, 16,  0],\n",
       "       [17, 16, 18, 15],\n",
       "       [11, 12, 20, 13],\n",
       "       [17, 19,  4,  3],\n",
       "       [15, 20,  1, 11],\n",
       "       [ 9, 18, 20,  6],\n",
       "       [ 4, 15, 10,  0],\n",
       "       [ 0, 18, 18, 11],\n",
       "       [10,  5, 16,  8],\n",
       "       [ 4,  8,  6,  4],\n",
       "       [11, 11, 13, 19],\n",
       "       [ 1, 16, 15, 15],\n",
       "       [19,  7, 15, 14],\n",
       "       [ 0,  2,  6,  0],\n",
       "       [13,  9, 15, 10],\n",
       "       [10,  7,  5, 18],\n",
       "       [12,  4, 12, 15],\n",
       "       [11,  4, 19,  7],\n",
       "       [10, 20, 12, 12],\n",
       "       [ 6,  4,  2, 15],\n",
       "       [16, 20, 19, 13],\n",
       "       [18,  6,  8,  3],\n",
       "       [13,  3,  6, 10],\n",
       "       [13, 20,  5, 19],\n",
       "       [ 7, 16,  0, 12],\n",
       "       [18,  0, 13,  6],\n",
       "       [15,  6,  3, 17],\n",
       "       [ 4, 15,  7,  4],\n",
       "       [ 5,  7, 16,  2],\n",
       "       [ 0,  0, 14,  5],\n",
       "       [ 4, 20, 20,  6],\n",
       "       [11, 16, 15, 13],\n",
       "       [ 9, 20,  7, 10],\n",
       "       [ 0, 12, 18,  8],\n",
       "       [ 1,  0, 10,  8],\n",
       "       [ 3,  9, 14,  8],\n",
       "       [12,  4, 18,  7],\n",
       "       [16, 14,  8, 19],\n",
       "       [ 5,  4,  3, 13],\n",
       "       [ 1, 16,  4, 14],\n",
       "       [ 8,  1, 18, 18],\n",
       "       [16,  8, 14,  0],\n",
       "       [15, 16, 16,  4]])"
      ]
     },
     "execution_count": 75,
     "metadata": {},
     "output_type": "execute_result"
    }
   ],
   "source": [
    "X\n",
    "# Value of y_intercept - 5, values of x variable(slopes):- (0.5,-1.1,5,-0.2)"
   ]
  },
  {
   "cell_type": "code",
   "execution_count": 76,
   "id": "42b8c40d",
   "metadata": {},
   "outputs": [
    {
     "data": {
      "text/plain": [
       "LinearRegression()"
      ]
     },
     "execution_count": 76,
     "metadata": {},
     "output_type": "execute_result"
    }
   ],
   "source": [
    "model.fit(X,y)"
   ]
  },
  {
   "cell_type": "code",
   "execution_count": 77,
   "id": "200a6c26",
   "metadata": {},
   "outputs": [
    {
     "data": {
      "text/plain": [
       "4.99999999999995"
      ]
     },
     "execution_count": 77,
     "metadata": {},
     "output_type": "execute_result"
    }
   ],
   "source": [
    "model.intercept_"
   ]
  },
  {
   "cell_type": "code",
   "execution_count": 78,
   "id": "40c1afe5",
   "metadata": {},
   "outputs": [
    {
     "data": {
      "text/plain": [
       "array([ 0.5, -1.1,  5. , -0.2])"
      ]
     },
     "execution_count": 78,
     "metadata": {},
     "output_type": "execute_result"
    }
   ],
   "source": [
    "model.coef_"
   ]
  },
  {
   "cell_type": "markdown",
   "id": "506e8639",
   "metadata": {},
   "source": [
    "# Model Evaluation (train_test_split)"
   ]
  },
  {
   "cell_type": "code",
   "execution_count": 81,
   "id": "8776dc28",
   "metadata": {},
   "outputs": [],
   "source": [
    "import pandas as pd\n",
    "import matplotlib.pyplot as plt"
   ]
  },
  {
   "cell_type": "code",
   "execution_count": 82,
   "id": "436db2bc",
   "metadata": {},
   "outputs": [],
   "source": [
    "df = pd.read_excel('Salary_Data.xlsx')"
   ]
  },
  {
   "cell_type": "code",
   "execution_count": 83,
   "id": "7312967b",
   "metadata": {},
   "outputs": [
    {
     "data": {
      "text/html": [
       "<div>\n",
       "<style scoped>\n",
       "    .dataframe tbody tr th:only-of-type {\n",
       "        vertical-align: middle;\n",
       "    }\n",
       "\n",
       "    .dataframe tbody tr th {\n",
       "        vertical-align: top;\n",
       "    }\n",
       "\n",
       "    .dataframe thead th {\n",
       "        text-align: right;\n",
       "    }\n",
       "</style>\n",
       "<table border=\"1\" class=\"dataframe\">\n",
       "  <thead>\n",
       "    <tr style=\"text-align: right;\">\n",
       "      <th></th>\n",
       "      <th>YearsExperience</th>\n",
       "      <th>Age</th>\n",
       "      <th>Salary</th>\n",
       "    </tr>\n",
       "  </thead>\n",
       "  <tbody>\n",
       "    <tr>\n",
       "      <th>0</th>\n",
       "      <td>1.1</td>\n",
       "      <td>21.0</td>\n",
       "      <td>39343</td>\n",
       "    </tr>\n",
       "    <tr>\n",
       "      <th>1</th>\n",
       "      <td>1.3</td>\n",
       "      <td>21.5</td>\n",
       "      <td>46205</td>\n",
       "    </tr>\n",
       "    <tr>\n",
       "      <th>2</th>\n",
       "      <td>1.5</td>\n",
       "      <td>21.7</td>\n",
       "      <td>37731</td>\n",
       "    </tr>\n",
       "    <tr>\n",
       "      <th>3</th>\n",
       "      <td>2.0</td>\n",
       "      <td>22.0</td>\n",
       "      <td>43525</td>\n",
       "    </tr>\n",
       "    <tr>\n",
       "      <th>4</th>\n",
       "      <td>2.2</td>\n",
       "      <td>22.2</td>\n",
       "      <td>39891</td>\n",
       "    </tr>\n",
       "    <tr>\n",
       "      <th>5</th>\n",
       "      <td>2.9</td>\n",
       "      <td>23.0</td>\n",
       "      <td>56642</td>\n",
       "    </tr>\n",
       "    <tr>\n",
       "      <th>6</th>\n",
       "      <td>3.0</td>\n",
       "      <td>23.0</td>\n",
       "      <td>60150</td>\n",
       "    </tr>\n",
       "    <tr>\n",
       "      <th>7</th>\n",
       "      <td>3.2</td>\n",
       "      <td>23.3</td>\n",
       "      <td>54445</td>\n",
       "    </tr>\n",
       "    <tr>\n",
       "      <th>8</th>\n",
       "      <td>3.2</td>\n",
       "      <td>23.3</td>\n",
       "      <td>64445</td>\n",
       "    </tr>\n",
       "    <tr>\n",
       "      <th>9</th>\n",
       "      <td>3.7</td>\n",
       "      <td>23.6</td>\n",
       "      <td>57189</td>\n",
       "    </tr>\n",
       "    <tr>\n",
       "      <th>10</th>\n",
       "      <td>3.9</td>\n",
       "      <td>23.9</td>\n",
       "      <td>63218</td>\n",
       "    </tr>\n",
       "    <tr>\n",
       "      <th>11</th>\n",
       "      <td>4.0</td>\n",
       "      <td>24.0</td>\n",
       "      <td>55794</td>\n",
       "    </tr>\n",
       "    <tr>\n",
       "      <th>12</th>\n",
       "      <td>4.0</td>\n",
       "      <td>24.0</td>\n",
       "      <td>56957</td>\n",
       "    </tr>\n",
       "    <tr>\n",
       "      <th>13</th>\n",
       "      <td>4.1</td>\n",
       "      <td>24.0</td>\n",
       "      <td>57081</td>\n",
       "    </tr>\n",
       "    <tr>\n",
       "      <th>14</th>\n",
       "      <td>4.5</td>\n",
       "      <td>25.0</td>\n",
       "      <td>61111</td>\n",
       "    </tr>\n",
       "    <tr>\n",
       "      <th>15</th>\n",
       "      <td>4.9</td>\n",
       "      <td>25.0</td>\n",
       "      <td>67938</td>\n",
       "    </tr>\n",
       "    <tr>\n",
       "      <th>16</th>\n",
       "      <td>5.1</td>\n",
       "      <td>26.0</td>\n",
       "      <td>66029</td>\n",
       "    </tr>\n",
       "    <tr>\n",
       "      <th>17</th>\n",
       "      <td>5.3</td>\n",
       "      <td>27.0</td>\n",
       "      <td>83088</td>\n",
       "    </tr>\n",
       "    <tr>\n",
       "      <th>18</th>\n",
       "      <td>5.9</td>\n",
       "      <td>28.0</td>\n",
       "      <td>81363</td>\n",
       "    </tr>\n",
       "    <tr>\n",
       "      <th>19</th>\n",
       "      <td>6.0</td>\n",
       "      <td>29.0</td>\n",
       "      <td>93940</td>\n",
       "    </tr>\n",
       "    <tr>\n",
       "      <th>20</th>\n",
       "      <td>6.8</td>\n",
       "      <td>30.0</td>\n",
       "      <td>91738</td>\n",
       "    </tr>\n",
       "    <tr>\n",
       "      <th>21</th>\n",
       "      <td>7.1</td>\n",
       "      <td>30.0</td>\n",
       "      <td>98273</td>\n",
       "    </tr>\n",
       "    <tr>\n",
       "      <th>22</th>\n",
       "      <td>7.9</td>\n",
       "      <td>31.0</td>\n",
       "      <td>101302</td>\n",
       "    </tr>\n",
       "    <tr>\n",
       "      <th>23</th>\n",
       "      <td>8.2</td>\n",
       "      <td>32.0</td>\n",
       "      <td>113812</td>\n",
       "    </tr>\n",
       "    <tr>\n",
       "      <th>24</th>\n",
       "      <td>8.7</td>\n",
       "      <td>33.0</td>\n",
       "      <td>109431</td>\n",
       "    </tr>\n",
       "    <tr>\n",
       "      <th>25</th>\n",
       "      <td>9.0</td>\n",
       "      <td>34.0</td>\n",
       "      <td>105582</td>\n",
       "    </tr>\n",
       "    <tr>\n",
       "      <th>26</th>\n",
       "      <td>9.5</td>\n",
       "      <td>35.0</td>\n",
       "      <td>116969</td>\n",
       "    </tr>\n",
       "    <tr>\n",
       "      <th>27</th>\n",
       "      <td>9.6</td>\n",
       "      <td>36.0</td>\n",
       "      <td>112635</td>\n",
       "    </tr>\n",
       "    <tr>\n",
       "      <th>28</th>\n",
       "      <td>10.3</td>\n",
       "      <td>37.0</td>\n",
       "      <td>122391</td>\n",
       "    </tr>\n",
       "    <tr>\n",
       "      <th>29</th>\n",
       "      <td>10.5</td>\n",
       "      <td>38.0</td>\n",
       "      <td>121872</td>\n",
       "    </tr>\n",
       "  </tbody>\n",
       "</table>\n",
       "</div>"
      ],
      "text/plain": [
       "    YearsExperience   Age  Salary\n",
       "0               1.1  21.0   39343\n",
       "1               1.3  21.5   46205\n",
       "2               1.5  21.7   37731\n",
       "3               2.0  22.0   43525\n",
       "4               2.2  22.2   39891\n",
       "5               2.9  23.0   56642\n",
       "6               3.0  23.0   60150\n",
       "7               3.2  23.3   54445\n",
       "8               3.2  23.3   64445\n",
       "9               3.7  23.6   57189\n",
       "10              3.9  23.9   63218\n",
       "11              4.0  24.0   55794\n",
       "12              4.0  24.0   56957\n",
       "13              4.1  24.0   57081\n",
       "14              4.5  25.0   61111\n",
       "15              4.9  25.0   67938\n",
       "16              5.1  26.0   66029\n",
       "17              5.3  27.0   83088\n",
       "18              5.9  28.0   81363\n",
       "19              6.0  29.0   93940\n",
       "20              6.8  30.0   91738\n",
       "21              7.1  30.0   98273\n",
       "22              7.9  31.0  101302\n",
       "23              8.2  32.0  113812\n",
       "24              8.7  33.0  109431\n",
       "25              9.0  34.0  105582\n",
       "26              9.5  35.0  116969\n",
       "27              9.6  36.0  112635\n",
       "28             10.3  37.0  122391\n",
       "29             10.5  38.0  121872"
      ]
     },
     "execution_count": 83,
     "metadata": {},
     "output_type": "execute_result"
    }
   ],
   "source": [
    "df"
   ]
  },
  {
   "cell_type": "code",
   "execution_count": 85,
   "id": "c307993a",
   "metadata": {},
   "outputs": [],
   "source": [
    "X = df[['YearsExperience','Age']]        # Inependent VAriable/column/label/ input col. (2D)\n",
    "y = df['Salary']                         # Dependent VAriable/column/label / Out col. (1D)"
   ]
  },
  {
   "cell_type": "code",
   "execution_count": 86,
   "id": "70dc4f2a",
   "metadata": {},
   "outputs": [
    {
     "data": {
      "text/plain": [
       "((30, 2), (30,))"
      ]
     },
     "execution_count": 86,
     "metadata": {},
     "output_type": "execute_result"
    }
   ],
   "source": [
    "X.shape, y.shape"
   ]
  },
  {
   "cell_type": "code",
   "execution_count": 87,
   "id": "55cd52d9",
   "metadata": {},
   "outputs": [],
   "source": [
    "# Splitting data for training and testing :- used to split data for training and testing"
   ]
  },
  {
   "cell_type": "code",
   "execution_count": 88,
   "id": "c4853015",
   "metadata": {},
   "outputs": [],
   "source": [
    "from sklearn.model_selection import train_test_split # import train_test_split"
   ]
  },
  {
   "cell_type": "code",
   "execution_count": 91,
   "id": "f0aad1c9",
   "metadata": {},
   "outputs": [],
   "source": [
    "X_train, X_test, y_train, y_test  = train_test_split(X, y, test_size=0.3) #Splitting of data into training data(70%) & testing data(30%)"
   ]
  },
  {
   "cell_type": "code",
   "execution_count": 92,
   "id": "83f1d840",
   "metadata": {},
   "outputs": [
    {
     "data": {
      "text/plain": [
       "((21, 2), (9, 2), (21,), (9,))"
      ]
     },
     "execution_count": 92,
     "metadata": {},
     "output_type": "execute_result"
    }
   ],
   "source": [
    "X_train.shape, X_test.shape, y_train.shape, y_test.shape"
   ]
  },
  {
   "cell_type": "code",
   "execution_count": 93,
   "id": "c10a719d",
   "metadata": {},
   "outputs": [],
   "source": [
    "from sklearn.linear_model import LinearRegression  # Import LR"
   ]
  },
  {
   "cell_type": "code",
   "execution_count": 95,
   "id": "034c4ee8",
   "metadata": {},
   "outputs": [
    {
     "data": {
      "text/plain": [
       "LinearRegression()"
      ]
     },
     "execution_count": 95,
     "metadata": {},
     "output_type": "execute_result"
    }
   ],
   "source": [
    "model = LinearRegression() # training of model on training data (known data)\n",
    "model.fit(X_train, y_train)"
   ]
  },
  {
   "cell_type": "code",
   "execution_count": 96,
   "id": "3e659bab",
   "metadata": {},
   "outputs": [
    {
     "data": {
      "text/plain": [
       "0.9462086547947086"
      ]
     },
     "execution_count": 96,
     "metadata": {},
     "output_type": "execute_result"
    }
   ],
   "source": [
    "model.score(X_test, y_test) # model evaluation on testing data (unknown data)"
   ]
  },
  {
   "cell_type": "code",
   "execution_count": null,
   "id": "64132208",
   "metadata": {},
   "outputs": [],
   "source": [
    "# random_state:- Every time we use train test split, it will change training data & choose randomly. \n",
    "# For checking accuracy for different ML algorothms, we require same traing and testing data\n",
    "# So, to use same data for traing of all algo. we use random_state no constant. eg. random_state = 41 then keep 41 for all tts "
   ]
  },
  {
   "cell_type": "code",
   "execution_count": 99,
   "id": "6f4fca93",
   "metadata": {},
   "outputs": [],
   "source": [
    "X_train, X_test, y_train, y_test  = train_test_split(X, y, test_size=0.3)"
   ]
  },
  {
   "cell_type": "code",
   "execution_count": 98,
   "id": "45a8a970",
   "metadata": {},
   "outputs": [
    {
     "data": {
      "text/html": [
       "<div>\n",
       "<style scoped>\n",
       "    .dataframe tbody tr th:only-of-type {\n",
       "        vertical-align: middle;\n",
       "    }\n",
       "\n",
       "    .dataframe tbody tr th {\n",
       "        vertical-align: top;\n",
       "    }\n",
       "\n",
       "    .dataframe thead th {\n",
       "        text-align: right;\n",
       "    }\n",
       "</style>\n",
       "<table border=\"1\" class=\"dataframe\">\n",
       "  <thead>\n",
       "    <tr style=\"text-align: right;\">\n",
       "      <th></th>\n",
       "      <th>YearsExperience</th>\n",
       "      <th>Age</th>\n",
       "    </tr>\n",
       "  </thead>\n",
       "  <tbody>\n",
       "    <tr>\n",
       "      <th>8</th>\n",
       "      <td>3.2</td>\n",
       "      <td>23.3</td>\n",
       "    </tr>\n",
       "    <tr>\n",
       "      <th>6</th>\n",
       "      <td>3.0</td>\n",
       "      <td>23.0</td>\n",
       "    </tr>\n",
       "    <tr>\n",
       "      <th>3</th>\n",
       "      <td>2.0</td>\n",
       "      <td>22.0</td>\n",
       "    </tr>\n",
       "    <tr>\n",
       "      <th>16</th>\n",
       "      <td>5.1</td>\n",
       "      <td>26.0</td>\n",
       "    </tr>\n",
       "    <tr>\n",
       "      <th>25</th>\n",
       "      <td>9.0</td>\n",
       "      <td>34.0</td>\n",
       "    </tr>\n",
       "    <tr>\n",
       "      <th>13</th>\n",
       "      <td>4.1</td>\n",
       "      <td>24.0</td>\n",
       "    </tr>\n",
       "    <tr>\n",
       "      <th>22</th>\n",
       "      <td>7.9</td>\n",
       "      <td>31.0</td>\n",
       "    </tr>\n",
       "    <tr>\n",
       "      <th>29</th>\n",
       "      <td>10.5</td>\n",
       "      <td>38.0</td>\n",
       "    </tr>\n",
       "    <tr>\n",
       "      <th>18</th>\n",
       "      <td>5.9</td>\n",
       "      <td>28.0</td>\n",
       "    </tr>\n",
       "    <tr>\n",
       "      <th>28</th>\n",
       "      <td>10.3</td>\n",
       "      <td>37.0</td>\n",
       "    </tr>\n",
       "    <tr>\n",
       "      <th>12</th>\n",
       "      <td>4.0</td>\n",
       "      <td>24.0</td>\n",
       "    </tr>\n",
       "    <tr>\n",
       "      <th>24</th>\n",
       "      <td>8.7</td>\n",
       "      <td>33.0</td>\n",
       "    </tr>\n",
       "    <tr>\n",
       "      <th>27</th>\n",
       "      <td>9.6</td>\n",
       "      <td>36.0</td>\n",
       "    </tr>\n",
       "    <tr>\n",
       "      <th>15</th>\n",
       "      <td>4.9</td>\n",
       "      <td>25.0</td>\n",
       "    </tr>\n",
       "    <tr>\n",
       "      <th>23</th>\n",
       "      <td>8.2</td>\n",
       "      <td>32.0</td>\n",
       "    </tr>\n",
       "    <tr>\n",
       "      <th>11</th>\n",
       "      <td>4.0</td>\n",
       "      <td>24.0</td>\n",
       "    </tr>\n",
       "    <tr>\n",
       "      <th>7</th>\n",
       "      <td>3.2</td>\n",
       "      <td>23.3</td>\n",
       "    </tr>\n",
       "    <tr>\n",
       "      <th>9</th>\n",
       "      <td>3.7</td>\n",
       "      <td>23.6</td>\n",
       "    </tr>\n",
       "    <tr>\n",
       "      <th>17</th>\n",
       "      <td>5.3</td>\n",
       "      <td>27.0</td>\n",
       "    </tr>\n",
       "    <tr>\n",
       "      <th>20</th>\n",
       "      <td>6.8</td>\n",
       "      <td>30.0</td>\n",
       "    </tr>\n",
       "    <tr>\n",
       "      <th>14</th>\n",
       "      <td>4.5</td>\n",
       "      <td>25.0</td>\n",
       "    </tr>\n",
       "  </tbody>\n",
       "</table>\n",
       "</div>"
      ],
      "text/plain": [
       "    YearsExperience   Age\n",
       "8               3.2  23.3\n",
       "6               3.0  23.0\n",
       "3               2.0  22.0\n",
       "16              5.1  26.0\n",
       "25              9.0  34.0\n",
       "13              4.1  24.0\n",
       "22              7.9  31.0\n",
       "29             10.5  38.0\n",
       "18              5.9  28.0\n",
       "28             10.3  37.0\n",
       "12              4.0  24.0\n",
       "24              8.7  33.0\n",
       "27              9.6  36.0\n",
       "15              4.9  25.0\n",
       "23              8.2  32.0\n",
       "11              4.0  24.0\n",
       "7               3.2  23.3\n",
       "9               3.7  23.6\n",
       "17              5.3  27.0\n",
       "20              6.8  30.0\n",
       "14              4.5  25.0"
      ]
     },
     "execution_count": 98,
     "metadata": {},
     "output_type": "execute_result"
    }
   ],
   "source": [
    "X_train #It has selected data randomly."
   ]
  },
  {
   "cell_type": "code",
   "execution_count": 101,
   "id": "1774d0c7",
   "metadata": {},
   "outputs": [
    {
     "data": {
      "text/html": [
       "<div>\n",
       "<style scoped>\n",
       "    .dataframe tbody tr th:only-of-type {\n",
       "        vertical-align: middle;\n",
       "    }\n",
       "\n",
       "    .dataframe tbody tr th {\n",
       "        vertical-align: top;\n",
       "    }\n",
       "\n",
       "    .dataframe thead th {\n",
       "        text-align: right;\n",
       "    }\n",
       "</style>\n",
       "<table border=\"1\" class=\"dataframe\">\n",
       "  <thead>\n",
       "    <tr style=\"text-align: right;\">\n",
       "      <th></th>\n",
       "      <th>YearsExperience</th>\n",
       "      <th>Age</th>\n",
       "    </tr>\n",
       "  </thead>\n",
       "  <tbody>\n",
       "    <tr>\n",
       "      <th>5</th>\n",
       "      <td>2.9</td>\n",
       "      <td>23.0</td>\n",
       "    </tr>\n",
       "    <tr>\n",
       "      <th>22</th>\n",
       "      <td>7.9</td>\n",
       "      <td>31.0</td>\n",
       "    </tr>\n",
       "    <tr>\n",
       "      <th>20</th>\n",
       "      <td>6.8</td>\n",
       "      <td>30.0</td>\n",
       "    </tr>\n",
       "    <tr>\n",
       "      <th>6</th>\n",
       "      <td>3.0</td>\n",
       "      <td>23.0</td>\n",
       "    </tr>\n",
       "    <tr>\n",
       "      <th>2</th>\n",
       "      <td>1.5</td>\n",
       "      <td>21.7</td>\n",
       "    </tr>\n",
       "    <tr>\n",
       "      <th>16</th>\n",
       "      <td>5.1</td>\n",
       "      <td>26.0</td>\n",
       "    </tr>\n",
       "    <tr>\n",
       "      <th>12</th>\n",
       "      <td>4.0</td>\n",
       "      <td>24.0</td>\n",
       "    </tr>\n",
       "    <tr>\n",
       "      <th>15</th>\n",
       "      <td>4.9</td>\n",
       "      <td>25.0</td>\n",
       "    </tr>\n",
       "    <tr>\n",
       "      <th>26</th>\n",
       "      <td>9.5</td>\n",
       "      <td>35.0</td>\n",
       "    </tr>\n",
       "    <tr>\n",
       "      <th>10</th>\n",
       "      <td>3.9</td>\n",
       "      <td>23.9</td>\n",
       "    </tr>\n",
       "    <tr>\n",
       "      <th>21</th>\n",
       "      <td>7.1</td>\n",
       "      <td>30.0</td>\n",
       "    </tr>\n",
       "    <tr>\n",
       "      <th>13</th>\n",
       "      <td>4.1</td>\n",
       "      <td>24.0</td>\n",
       "    </tr>\n",
       "    <tr>\n",
       "      <th>0</th>\n",
       "      <td>1.1</td>\n",
       "      <td>21.0</td>\n",
       "    </tr>\n",
       "    <tr>\n",
       "      <th>3</th>\n",
       "      <td>2.0</td>\n",
       "      <td>22.0</td>\n",
       "    </tr>\n",
       "    <tr>\n",
       "      <th>25</th>\n",
       "      <td>9.0</td>\n",
       "      <td>34.0</td>\n",
       "    </tr>\n",
       "    <tr>\n",
       "      <th>18</th>\n",
       "      <td>5.9</td>\n",
       "      <td>28.0</td>\n",
       "    </tr>\n",
       "    <tr>\n",
       "      <th>9</th>\n",
       "      <td>3.7</td>\n",
       "      <td>23.6</td>\n",
       "    </tr>\n",
       "    <tr>\n",
       "      <th>1</th>\n",
       "      <td>1.3</td>\n",
       "      <td>21.5</td>\n",
       "    </tr>\n",
       "    <tr>\n",
       "      <th>4</th>\n",
       "      <td>2.2</td>\n",
       "      <td>22.2</td>\n",
       "    </tr>\n",
       "    <tr>\n",
       "      <th>19</th>\n",
       "      <td>6.0</td>\n",
       "      <td>29.0</td>\n",
       "    </tr>\n",
       "    <tr>\n",
       "      <th>11</th>\n",
       "      <td>4.0</td>\n",
       "      <td>24.0</td>\n",
       "    </tr>\n",
       "  </tbody>\n",
       "</table>\n",
       "</div>"
      ],
      "text/plain": [
       "    YearsExperience   Age\n",
       "5               2.9  23.0\n",
       "22              7.9  31.0\n",
       "20              6.8  30.0\n",
       "6               3.0  23.0\n",
       "2               1.5  21.7\n",
       "16              5.1  26.0\n",
       "12              4.0  24.0\n",
       "15              4.9  25.0\n",
       "26              9.5  35.0\n",
       "10              3.9  23.9\n",
       "21              7.1  30.0\n",
       "13              4.1  24.0\n",
       "0               1.1  21.0\n",
       "3               2.0  22.0\n",
       "25              9.0  34.0\n",
       "18              5.9  28.0\n",
       "9               3.7  23.6\n",
       "1               1.3  21.5\n",
       "4               2.2  22.2\n",
       "19              6.0  29.0\n",
       "11              4.0  24.0"
      ]
     },
     "execution_count": 101,
     "metadata": {},
     "output_type": "execute_result"
    }
   ],
   "source": [
    "X_train # after using tts again, it has got changed"
   ]
  },
  {
   "cell_type": "code",
   "execution_count": 103,
   "id": "677fbc39",
   "metadata": {},
   "outputs": [
    {
     "data": {
      "text/html": [
       "<div>\n",
       "<style scoped>\n",
       "    .dataframe tbody tr th:only-of-type {\n",
       "        vertical-align: middle;\n",
       "    }\n",
       "\n",
       "    .dataframe tbody tr th {\n",
       "        vertical-align: top;\n",
       "    }\n",
       "\n",
       "    .dataframe thead th {\n",
       "        text-align: right;\n",
       "    }\n",
       "</style>\n",
       "<table border=\"1\" class=\"dataframe\">\n",
       "  <thead>\n",
       "    <tr style=\"text-align: right;\">\n",
       "      <th></th>\n",
       "      <th>YearsExperience</th>\n",
       "      <th>Age</th>\n",
       "    </tr>\n",
       "  </thead>\n",
       "  <tbody>\n",
       "    <tr>\n",
       "      <th>6</th>\n",
       "      <td>3.0</td>\n",
       "      <td>23.0</td>\n",
       "    </tr>\n",
       "    <tr>\n",
       "      <th>19</th>\n",
       "      <td>6.0</td>\n",
       "      <td>29.0</td>\n",
       "    </tr>\n",
       "    <tr>\n",
       "      <th>24</th>\n",
       "      <td>8.7</td>\n",
       "      <td>33.0</td>\n",
       "    </tr>\n",
       "    <tr>\n",
       "      <th>14</th>\n",
       "      <td>4.5</td>\n",
       "      <td>25.0</td>\n",
       "    </tr>\n",
       "    <tr>\n",
       "      <th>29</th>\n",
       "      <td>10.5</td>\n",
       "      <td>38.0</td>\n",
       "    </tr>\n",
       "    <tr>\n",
       "      <th>16</th>\n",
       "      <td>5.1</td>\n",
       "      <td>26.0</td>\n",
       "    </tr>\n",
       "    <tr>\n",
       "      <th>17</th>\n",
       "      <td>5.3</td>\n",
       "      <td>27.0</td>\n",
       "    </tr>\n",
       "    <tr>\n",
       "      <th>1</th>\n",
       "      <td>1.3</td>\n",
       "      <td>21.5</td>\n",
       "    </tr>\n",
       "    <tr>\n",
       "      <th>18</th>\n",
       "      <td>5.9</td>\n",
       "      <td>28.0</td>\n",
       "    </tr>\n",
       "    <tr>\n",
       "      <th>3</th>\n",
       "      <td>2.0</td>\n",
       "      <td>22.0</td>\n",
       "    </tr>\n",
       "    <tr>\n",
       "      <th>27</th>\n",
       "      <td>9.6</td>\n",
       "      <td>36.0</td>\n",
       "    </tr>\n",
       "    <tr>\n",
       "      <th>10</th>\n",
       "      <td>3.9</td>\n",
       "      <td>23.9</td>\n",
       "    </tr>\n",
       "    <tr>\n",
       "      <th>5</th>\n",
       "      <td>2.9</td>\n",
       "      <td>23.0</td>\n",
       "    </tr>\n",
       "    <tr>\n",
       "      <th>0</th>\n",
       "      <td>1.1</td>\n",
       "      <td>21.0</td>\n",
       "    </tr>\n",
       "    <tr>\n",
       "      <th>25</th>\n",
       "      <td>9.0</td>\n",
       "      <td>34.0</td>\n",
       "    </tr>\n",
       "    <tr>\n",
       "      <th>22</th>\n",
       "      <td>7.9</td>\n",
       "      <td>31.0</td>\n",
       "    </tr>\n",
       "    <tr>\n",
       "      <th>23</th>\n",
       "      <td>8.2</td>\n",
       "      <td>32.0</td>\n",
       "    </tr>\n",
       "    <tr>\n",
       "      <th>13</th>\n",
       "      <td>4.1</td>\n",
       "      <td>24.0</td>\n",
       "    </tr>\n",
       "    <tr>\n",
       "      <th>11</th>\n",
       "      <td>4.0</td>\n",
       "      <td>24.0</td>\n",
       "    </tr>\n",
       "    <tr>\n",
       "      <th>28</th>\n",
       "      <td>10.3</td>\n",
       "      <td>37.0</td>\n",
       "    </tr>\n",
       "    <tr>\n",
       "      <th>21</th>\n",
       "      <td>7.1</td>\n",
       "      <td>30.0</td>\n",
       "    </tr>\n",
       "  </tbody>\n",
       "</table>\n",
       "</div>"
      ],
      "text/plain": [
       "    YearsExperience   Age\n",
       "6               3.0  23.0\n",
       "19              6.0  29.0\n",
       "24              8.7  33.0\n",
       "14              4.5  25.0\n",
       "29             10.5  38.0\n",
       "16              5.1  26.0\n",
       "17              5.3  27.0\n",
       "1               1.3  21.5\n",
       "18              5.9  28.0\n",
       "3               2.0  22.0\n",
       "27              9.6  36.0\n",
       "10              3.9  23.9\n",
       "5               2.9  23.0\n",
       "0               1.1  21.0\n",
       "25              9.0  34.0\n",
       "22              7.9  31.0\n",
       "23              8.2  32.0\n",
       "13              4.1  24.0\n",
       "11              4.0  24.0\n",
       "28             10.3  37.0\n",
       "21              7.1  30.0"
      ]
     },
     "execution_count": 103,
     "metadata": {},
     "output_type": "execute_result"
    }
   ],
   "source": [
    "X_train, X_test, y_train, y_test  = train_test_split(X, y, test_size=0.3, random_state=52)\n",
    "X_train"
   ]
  },
  {
   "cell_type": "code",
   "execution_count": 104,
   "id": "0b875de5",
   "metadata": {},
   "outputs": [
    {
     "data": {
      "text/html": [
       "<div>\n",
       "<style scoped>\n",
       "    .dataframe tbody tr th:only-of-type {\n",
       "        vertical-align: middle;\n",
       "    }\n",
       "\n",
       "    .dataframe tbody tr th {\n",
       "        vertical-align: top;\n",
       "    }\n",
       "\n",
       "    .dataframe thead th {\n",
       "        text-align: right;\n",
       "    }\n",
       "</style>\n",
       "<table border=\"1\" class=\"dataframe\">\n",
       "  <thead>\n",
       "    <tr style=\"text-align: right;\">\n",
       "      <th></th>\n",
       "      <th>YearsExperience</th>\n",
       "      <th>Age</th>\n",
       "    </tr>\n",
       "  </thead>\n",
       "  <tbody>\n",
       "    <tr>\n",
       "      <th>6</th>\n",
       "      <td>3.0</td>\n",
       "      <td>23.0</td>\n",
       "    </tr>\n",
       "    <tr>\n",
       "      <th>19</th>\n",
       "      <td>6.0</td>\n",
       "      <td>29.0</td>\n",
       "    </tr>\n",
       "    <tr>\n",
       "      <th>24</th>\n",
       "      <td>8.7</td>\n",
       "      <td>33.0</td>\n",
       "    </tr>\n",
       "    <tr>\n",
       "      <th>14</th>\n",
       "      <td>4.5</td>\n",
       "      <td>25.0</td>\n",
       "    </tr>\n",
       "    <tr>\n",
       "      <th>29</th>\n",
       "      <td>10.5</td>\n",
       "      <td>38.0</td>\n",
       "    </tr>\n",
       "    <tr>\n",
       "      <th>16</th>\n",
       "      <td>5.1</td>\n",
       "      <td>26.0</td>\n",
       "    </tr>\n",
       "    <tr>\n",
       "      <th>17</th>\n",
       "      <td>5.3</td>\n",
       "      <td>27.0</td>\n",
       "    </tr>\n",
       "    <tr>\n",
       "      <th>1</th>\n",
       "      <td>1.3</td>\n",
       "      <td>21.5</td>\n",
       "    </tr>\n",
       "    <tr>\n",
       "      <th>18</th>\n",
       "      <td>5.9</td>\n",
       "      <td>28.0</td>\n",
       "    </tr>\n",
       "    <tr>\n",
       "      <th>3</th>\n",
       "      <td>2.0</td>\n",
       "      <td>22.0</td>\n",
       "    </tr>\n",
       "    <tr>\n",
       "      <th>27</th>\n",
       "      <td>9.6</td>\n",
       "      <td>36.0</td>\n",
       "    </tr>\n",
       "    <tr>\n",
       "      <th>10</th>\n",
       "      <td>3.9</td>\n",
       "      <td>23.9</td>\n",
       "    </tr>\n",
       "    <tr>\n",
       "      <th>5</th>\n",
       "      <td>2.9</td>\n",
       "      <td>23.0</td>\n",
       "    </tr>\n",
       "    <tr>\n",
       "      <th>0</th>\n",
       "      <td>1.1</td>\n",
       "      <td>21.0</td>\n",
       "    </tr>\n",
       "    <tr>\n",
       "      <th>25</th>\n",
       "      <td>9.0</td>\n",
       "      <td>34.0</td>\n",
       "    </tr>\n",
       "    <tr>\n",
       "      <th>22</th>\n",
       "      <td>7.9</td>\n",
       "      <td>31.0</td>\n",
       "    </tr>\n",
       "    <tr>\n",
       "      <th>23</th>\n",
       "      <td>8.2</td>\n",
       "      <td>32.0</td>\n",
       "    </tr>\n",
       "    <tr>\n",
       "      <th>13</th>\n",
       "      <td>4.1</td>\n",
       "      <td>24.0</td>\n",
       "    </tr>\n",
       "    <tr>\n",
       "      <th>11</th>\n",
       "      <td>4.0</td>\n",
       "      <td>24.0</td>\n",
       "    </tr>\n",
       "    <tr>\n",
       "      <th>28</th>\n",
       "      <td>10.3</td>\n",
       "      <td>37.0</td>\n",
       "    </tr>\n",
       "    <tr>\n",
       "      <th>21</th>\n",
       "      <td>7.1</td>\n",
       "      <td>30.0</td>\n",
       "    </tr>\n",
       "  </tbody>\n",
       "</table>\n",
       "</div>"
      ],
      "text/plain": [
       "    YearsExperience   Age\n",
       "6               3.0  23.0\n",
       "19              6.0  29.0\n",
       "24              8.7  33.0\n",
       "14              4.5  25.0\n",
       "29             10.5  38.0\n",
       "16              5.1  26.0\n",
       "17              5.3  27.0\n",
       "1               1.3  21.5\n",
       "18              5.9  28.0\n",
       "3               2.0  22.0\n",
       "27              9.6  36.0\n",
       "10              3.9  23.9\n",
       "5               2.9  23.0\n",
       "0               1.1  21.0\n",
       "25              9.0  34.0\n",
       "22              7.9  31.0\n",
       "23              8.2  32.0\n",
       "13              4.1  24.0\n",
       "11              4.0  24.0\n",
       "28             10.3  37.0\n",
       "21              7.1  30.0"
      ]
     },
     "execution_count": 104,
     "metadata": {},
     "output_type": "execute_result"
    }
   ],
   "source": [
    "X_train, X_test, y_train, y_test  = train_test_split(X, y, test_size=0.3, random_state=52)\n",
    "X_train # now, everytime it will give same set of X_train for random_state = 52"
   ]
  },
  {
   "cell_type": "code",
   "execution_count": null,
   "id": "6050d1a0",
   "metadata": {},
   "outputs": [],
   "source": []
  }
 ],
 "metadata": {
  "kernelspec": {
   "display_name": "Python 3",
   "language": "python",
   "name": "python3"
  },
  "language_info": {
   "codemirror_mode": {
    "name": "ipython",
    "version": 3
   },
   "file_extension": ".py",
   "mimetype": "text/x-python",
   "name": "python",
   "nbconvert_exporter": "python",
   "pygments_lexer": "ipython3",
   "version": "3.8.8"
  }
 },
 "nbformat": 4,
 "nbformat_minor": 5
}
