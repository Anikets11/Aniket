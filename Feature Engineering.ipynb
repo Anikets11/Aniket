{
 "cells": [
  {
   "cell_type": "code",
   "execution_count": 1,
   "id": "9e3954c0",
   "metadata": {},
   "outputs": [],
   "source": [
    "# How to improve accuracy?\n",
    "#1) Select proper ML model  2) Hyper parameteer tunning  3) Prepare data (Data cleaning/ Feature Engineering)"
   ]
  },
  {
   "cell_type": "code",
   "execution_count": 2,
   "id": "e0f90dfb",
   "metadata": {},
   "outputs": [],
   "source": [
    "# Steps of Feature Engineering:-\n",
    "#1) Imputation/ Missing data handling  2) Encoding/Convert text data into numeric 3) Scaling/ Bring alldata on same scale\n",
    "# 4) Feature creatinon/ Create new colms from given data 5)Feature Selection/ select required colms for ML model creation\n",
    "# 6) Feature reduction/ Reduce no of colms without losing much data (Eigen value/vector)"
   ]
  },
  {
   "cell_type": "markdown",
   "id": "bee02b11",
   "metadata": {},
   "source": [
    "# Missing Data Handling"
   ]
  },
  {
   "cell_type": "code",
   "execution_count": 3,
   "id": "b2d9de62",
   "metadata": {},
   "outputs": [],
   "source": [
    "# Missing data Handling :- In dataframe missing data is reperesented by 'Nan'\n",
    "# Steps :- 1) Delete rows/colms:- If data is missing in only few rows then those rows can be deleted\n",
    "# Generally, colms cannot be deleted but if colm contains only few rows of data, then we can delete colms\n",
    "# df.dropna():- Used to delete rows(axis =0), or colms (axis =1) which contains na values"
   ]
  },
  {
   "cell_type": "code",
   "execution_count": 4,
   "id": "434f10bf",
   "metadata": {},
   "outputs": [],
   "source": [
    "#Fill missing data:- df['colm name'].fill_na(Value to be filled)- Used to fill the missing data by a value. Used for series\n",
    "#1) Constant:- missing data can be replaced by any constant no\n",
    "#2) Mean:- It is nothing but average of all available data pt values  Used where outlier are not present\n",
    "#3) Median:- If data is arranged in sorted manner then middle value reperesents 'Median' For odd no of data pts- middle val\n",
    "# for event no of data pts- avg of middle 2 val. Generally used for filling data. It doesnot get affected by outliers\n",
    "# 4) Mode:- It is most frequently occuring value in given data. Generally, used for filling the text data"
   ]
  },
  {
   "cell_type": "markdown",
   "id": "9c706f22",
   "metadata": {},
   "source": [
    "# Feature Encoding"
   ]
  },
  {
   "cell_type": "code",
   "execution_count": 5,
   "id": "8a263a12",
   "metadata": {},
   "outputs": [],
   "source": [
    "# In this, we convert categorical data into numeric data. Such  categorical data reduces accuracy of ML model\n",
    "# eg. names of city, y colm of classification('Purchased')"
   ]
  },
  {
   "cell_type": "code",
   "execution_count": 6,
   "id": "9dbf3d16",
   "metadata": {},
   "outputs": [],
   "source": [
    "# 1) One_Hot Encoding:-Used for nominal variables    Here, we craete separate colm for every category in the given colm.\n",
    "# eg. if given colm contains names of city, then in this, it creates separate colm for every city name & all rows of (0 &1)\n",
    "# Here, we donot lose any information. but no. of colms in o/p table increase which increases the complexity of ML model\n",
    "# It is used for nominal data, where all categorical values are equal, & no relation in between them\n",
    "# pd.get_dummies(df['colm name']) => returns the dataframe of all req. colms, if drop_first = True, then we get (n-1) colms\n",
    "# from sklearn.preprocessing import OneHotEncoder"
   ]
  },
  {
   "cell_type": "code",
   "execution_count": 8,
   "id": "85be1a0a",
   "metadata": {},
   "outputs": [],
   "source": [
    "#2) Label Encoding:- Used for ordinal variable. Here, we assign a unique for every category of data in given colm\n",
    "# eg. If a given colm contains Grades(A+,A,B+,B,C,F) of students, then we can assign values(5,4,3,2,1,0) for every grade\n",
    "# Here, we convert 1 colm of given data into 1 colm of numeric data. but it may misunderstood the data (Nashik>Mumbai>Pune)\n",
    "# Here, we have to use proper scaled label to categories otherwise we may lose the information\n",
    "# eg Grades=> (A+,A,B+,B,C,F) = (5,4,3,2,1,0) (not good as here A=2*B),  (A+,A,B+,B,C,F) = (10,9,8,7,6,4) (Better as A=!B)\n",
    "# create d1 ={'A':3,'B':2,'C':1,'F':0} then use df['new'] = df['grade'].map(d1) or use sklearn.preprocessing=> LabelEncoder"
   ]
  },
  {
   "cell_type": "code",
   "execution_count": 9,
   "id": "d2e72b8c",
   "metadata": {},
   "outputs": [],
   "source": [
    "# Target Encoder(Label encoding):- It uses the value of probability of given colm with o/p (y) colm foe encoding\n",
    "# eg. In play golf, in Temp colm, low - 40 days, high - 50 days, & golf played on low- 20 days & high- 30 days, then \n",
    "#we can use (20/40 =0.5) for low (ie. p(low)) and (30/50 =0.6) for high (ie. p(high)) values for encoding (irresp of order)"
   ]
  },
  {
   "cell_type": "markdown",
   "id": "2a4c6755",
   "metadata": {},
   "source": [
    "# Feature selection"
   ]
  },
  {
   "cell_type": "code",
   "execution_count": 10,
   "id": "6dbc8d70",
   "metadata": {},
   "outputs": [],
   "source": [
    "# Here, we select the colms which affect the o/p ie. colms of 'X', which affect on 'y'\n",
    "# It can be done by domain knowledge (remove colms like roll no, cust_id) and co-relation"
   ]
  },
  {
   "cell_type": "code",
   "execution_count": 12,
   "id": "e72988b9",
   "metadata": {},
   "outputs": [],
   "source": [
    "# UNIVARIATE ANALYSIS:- Can be found out for single column (Property of single column)\n",
    "# Variance:- It tells us, how much data points are away from mean value of colm. Reln between every value with its own colm\n",
    "# Var:-Difference between every value & mean of colm. Var =sum of ((Xi - mean(X0))^2)/(n-1) Value varies between (-1 to +1)\n",
    "# Sandard Deviation(sigma):- Square root of variance of colm.   More normalized value   No definite value"
   ]
  },
  {
   "cell_type": "code",
   "execution_count": 15,
   "id": "aa8fb50f",
   "metadata": {},
   "outputs": [],
   "source": [
    "# BIVARIATE ANALYSIS:- Can be found out the relation between 2 colms\n",
    "#Co-variance:- It tells us, how much the value of colm 2 changes with change in value of colm 1\n",
    "# Co-variance = sum of((Xi0 - mean(X0))*(Xi1 - mean(X1)))/(n-1)  Its value has no fixed domain, it can be from o to any no.\n",
    "# Co-variance of any colm with itself = Variance of that column\n",
    "# Co0Relation:- It gives the relation between 2 colms that how much the 2 colms are affecting each other\n",
    "# Co-Relation = (Covariance between (X0, X1))/(std. Dev(X0) * Std. Dev(X1)).   Its value varies between (-1 to +1)\n",
    "# Co-Rel = -1 :- Two colms are exactly co-related but iversaly proportional (X0 increases, X1 decreases and vice versa)\n",
    "# Co-Rel = 0 :- Two colms are not co-related with each other    (change in X0, doesnot affect change X1)\n",
    "# Co-Rel = +1 :- Two colms are exactly co-related but directly proportional   (X0 increases, X1 increases and vice versa)"
   ]
  },
  {
   "cell_type": "code",
   "execution_count": 1,
   "id": "4d505c7f",
   "metadata": {},
   "outputs": [],
   "source": [
    "import numpy as np\n",
    "import pandas as pd\n",
    "import matplotlib.pyplot as plt"
   ]
  },
  {
   "cell_type": "code",
   "execution_count": 17,
   "id": "c123a8e2",
   "metadata": {},
   "outputs": [],
   "source": [
    "x0 = np.random.randint(0,20,20)\n",
    "x1 = x0*0.3"
   ]
  },
  {
   "cell_type": "code",
   "execution_count": 19,
   "id": "a312139f",
   "metadata": {},
   "outputs": [
    {
     "data": {
      "text/plain": [
       "<matplotlib.collections.PathCollection at 0x2508a060af0>"
      ]
     },
     "execution_count": 19,
     "metadata": {},
     "output_type": "execute_result"
    },
    {
     "data": {
      "image/png": "[encoded data removed]",
      "text/plain": [
       "<Figure size 432x288 with 1 Axes>"
      ]
     },
     "metadata": {
      "needs_background": "light"
     },
     "output_type": "display_data"
    }
   ],
   "source": [
    "plt.xlim([0,20])\n",
    "plt.ylim([0,20])\n",
    "plt.scatter(x0, x1)"
   ]
  },
  {
   "cell_type": "code",
   "execution_count": 20,
   "id": "7546f98a",
   "metadata": {},
   "outputs": [
    {
     "data": {
      "text/plain": [
       "array([[1., 1.],\n",
       "       [1., 1.]])"
      ]
     },
     "execution_count": 20,
     "metadata": {},
     "output_type": "execute_result"
    }
   ],
   "source": [
    "np.corrcoef(x0,x1) #Used to find out co-relation between 2 colms Gives o/p as confusion matrix(Co-relation matrix), +ve CoR"
   ]
  },
  {
   "cell_type": "code",
   "execution_count": 21,
   "id": "93ef5bcd",
   "metadata": {},
   "outputs": [
    {
     "data": {
      "text/plain": [
       "<matplotlib.collections.PathCollection at 0x2508b028640>"
      ]
     },
     "execution_count": 21,
     "metadata": {},
     "output_type": "execute_result"
    },
    {
     "data": {
      "image/png": "[encoded data removed]",
      "text/plain": [
       "<Figure size 432x288 with 1 Axes>"
      ]
     },
     "metadata": {
      "needs_background": "light"
     },
     "output_type": "display_data"
    }
   ],
   "source": [
    "x0 = np.random.randint(0,20,20)\n",
    "x1 = -x0*0.3\n",
    "plt.xlim([0,20])\n",
    "plt.ylim([-20,20])\n",
    "plt.scatter(x0, x1)"
   ]
  },
  {
   "cell_type": "code",
   "execution_count": 23,
   "id": "13771fc9",
   "metadata": {},
   "outputs": [
    {
     "data": {
      "text/plain": [
       "array([[ 1., -1.],\n",
       "       [-1.,  1.]])"
      ]
     },
     "execution_count": 23,
     "metadata": {},
     "output_type": "execute_result"
    }
   ],
   "source": [
    "np.corrcoef(x0,x1)  # give value as co-relation between (X0,X0, X0,X1, X1,X0, X1,X1)   -ve co-relation"
   ]
  },
  {
   "cell_type": "code",
   "execution_count": 24,
   "id": "a53638bd",
   "metadata": {},
   "outputs": [
    {
     "data": {
      "text/plain": [
       "<matplotlib.collections.PathCollection at 0x2508afbb2e0>"
      ]
     },
     "execution_count": 24,
     "metadata": {},
     "output_type": "execute_result"
    },
    {
     "data": {
      "image/png": "[encoded data removed]",
      "text/plain": [
       "<Figure size 432x288 with 1 Axes>"
      ]
     },
     "metadata": {
      "needs_background": "light"
     },
     "output_type": "display_data"
    }
   ],
   "source": [
    "x0 = np.random.randint(0,20,20)\n",
    "x1 = np.random.randint(0,20,20)\n",
    "plt.xlim([0,20])\n",
    "plt.ylim([0,20])\n",
    "plt.scatter(x0, x1)"
   ]
  },
  {
   "cell_type": "code",
   "execution_count": 27,
   "id": "0b8d8d20",
   "metadata": {},
   "outputs": [
    {
     "data": {
      "text/plain": [
       "array([[1.        , 0.04355716],\n",
       "       [0.04355716, 1.        ]])"
      ]
     },
     "execution_count": 27,
     "metadata": {},
     "output_type": "execute_result"
    }
   ],
   "source": [
    "np.corrcoef(x0,x1)   # Least co-relation between X0, X1, (nearly = 0), ie. no co-rrelation"
   ]
  },
  {
   "cell_type": "markdown",
   "id": "7159de08",
   "metadata": {},
   "source": [
    "# Feature Creation"
   ]
  },
  {
   "cell_type": "code",
   "execution_count": 2,
   "id": "54083e84",
   "metadata": {},
   "outputs": [],
   "source": [
    "# In this, features (Columns) are created on the basis of analysis and requirement of ML model to predict 'y'\n",
    "# eg. In diabetic analysis, X contains, height, weight and Age, but on the basis of it, we can create 'BMI' index,\n",
    "# which is more relavent for diabetic pateint detection. So, creation of such feature(colm) on basis of given data is 'FC'"
   ]
  },
  {
   "cell_type": "code",
   "execution_count": null,
   "id": "73d98319",
   "metadata": {},
   "outputs": [],
   "source": []
  }
 ],
 "metadata": {
  "kernelspec": {
   "display_name": "Python 3",
   "language": "python",
   "name": "python3"
  },
  "language_info": {
   "codemirror_mode": {
    "name": "ipython",
    "version": 3
   },
   "file_extension": ".py",
   "mimetype": "text/x-python",
   "name": "python",
   "nbconvert_exporter": "python",
   "pygments_lexer": "ipython3",
   "version": "3.8.8"
  }
 },
 "nbformat": 4,
 "nbformat_minor": 5
}
