{
 "cells": [
  {
   "cell_type": "markdown",
   "id": "bdda377b",
   "metadata": {},
   "source": [
    "# Assignment1"
   ]
  },
  {
   "cell_type": "code",
   "execution_count": 1,
   "id": "ae1e24db",
   "metadata": {},
   "outputs": [],
   "source": [
    "# Create Numpy array named \"arr1\" with numbers 1,2,3,....100. Create new array from given array with numbers either\n",
    "# divisible by 4 or 5. Expected output: Array([4,5,8,10,12,15,........])"
   ]
  },
  {
   "cell_type": "code",
   "execution_count": 2,
   "id": "32889ab4",
   "metadata": {},
   "outputs": [],
   "source": [
    "import numpy as np"
   ]
  },
  {
   "cell_type": "code",
   "execution_count": 3,
   "id": "8cede407",
   "metadata": {},
   "outputs": [
    {
     "data": {
      "text/plain": [
       "array([  1,   2,   3,   4,   5,   6,   7,   8,   9,  10,  11,  12,  13,\n",
       "        14,  15,  16,  17,  18,  19,  20,  21,  22,  23,  24,  25,  26,\n",
       "        27,  28,  29,  30,  31,  32,  33,  34,  35,  36,  37,  38,  39,\n",
       "        40,  41,  42,  43,  44,  45,  46,  47,  48,  49,  50,  51,  52,\n",
       "        53,  54,  55,  56,  57,  58,  59,  60,  61,  62,  63,  64,  65,\n",
       "        66,  67,  68,  69,  70,  71,  72,  73,  74,  75,  76,  77,  78,\n",
       "        79,  80,  81,  82,  83,  84,  85,  86,  87,  88,  89,  90,  91,\n",
       "        92,  93,  94,  95,  96,  97,  98,  99, 100], dtype=int8)"
      ]
     },
     "execution_count": 3,
     "metadata": {},
     "output_type": "execute_result"
    }
   ],
   "source": [
    "A = np.arange(1,101,1, dtype = 'int8')\n",
    "A"
   ]
  },
  {
   "cell_type": "code",
   "execution_count": 4,
   "id": "35f98641",
   "metadata": {},
   "outputs": [
    {
     "data": {
      "text/plain": [
       "array([  4,   5,   8,  10,  12,  15,  16,  20,  24,  25,  28,  30,  32,\n",
       "        35,  36,  40,  44,  45,  48,  50,  52,  55,  56,  60,  64,  65,\n",
       "        68,  70,  72,  75,  76,  80,  84,  85,  88,  90,  92,  95,  96,\n",
       "       100], dtype=int8)"
      ]
     },
     "execution_count": 4,
     "metadata": {},
     "output_type": "execute_result"
    }
   ],
   "source": [
    "A[(A%4==0) | (A%5==0)]"
   ]
  },
  {
   "cell_type": "markdown",
   "id": "6dd6717d",
   "metadata": {},
   "source": [
    "# Assignment2"
   ]
  },
  {
   "cell_type": "code",
   "execution_count": 5,
   "id": "baf8e241",
   "metadata": {},
   "outputs": [],
   "source": [
    "# Create Numpy array named \"arr1\" with numbers 1,2,3,....100. Replace all odd numbers in arr1 by -1. \n",
    "# Expected output: Array([-1,2,-1,4,-1,6,........])"
   ]
  },
  {
   "cell_type": "code",
   "execution_count": 6,
   "id": "c28b0216",
   "metadata": {},
   "outputs": [
    {
     "name": "stdout",
     "output_type": "stream",
     "text": [
      "[ -1   2  -1   4  -1   6  -1   8  -1  10  -1  12  -1  14  -1  16  -1  18\n",
      "  -1  20  -1  22  -1  24  -1  26  -1  28  -1  30  -1  32  -1  34  -1  36\n",
      "  -1  38  -1  40  -1  42  -1  44  -1  46  -1  48  -1  50  -1  52  -1  54\n",
      "  -1  56  -1  58  -1  60  -1  62  -1  64  -1  66  -1  68  -1  70  -1  72\n",
      "  -1  74  -1  76  -1  78  -1  80  -1  82  -1  84  -1  86  -1  88  -1  90\n",
      "  -1  92  -1  94  -1  96  -1  98  -1 100]\n"
     ]
    }
   ],
   "source": [
    "arr1 = np.arange(1,101,1, dtype = 'int8')\n",
    "for i in arr1:\n",
    "    if arr1[i-1]%2 == 1:\n",
    "        arr1[i-1] = -1\n",
    "print(arr1)"
   ]
  },
  {
   "cell_type": "markdown",
   "id": "17881446",
   "metadata": {},
   "source": [
    "# Assignment 3"
   ]
  },
  {
   "cell_type": "code",
   "execution_count": 7,
   "id": "41a6278d",
   "metadata": {},
   "outputs": [],
   "source": [
    "# Swap row 0 and 1 in the 3*3 numpy array.(Use indexing and slicing)\n",
    "# Eg. Input [[1,2,3], [4,5,6], [7,8,9]] Output: [[4,5,6], [1,2,3], [7,8,9]]"
   ]
  },
  {
   "cell_type": "code",
   "execution_count": 8,
   "id": "3bc87eef",
   "metadata": {},
   "outputs": [],
   "source": [
    "A = np.array([[1,2,3],[4,5,6],[7,8,9]])\n",
    "B = A[::2]\n",
    "C = A[1:2]"
   ]
  },
  {
   "cell_type": "code",
   "execution_count": 9,
   "id": "12cd13a4",
   "metadata": {},
   "outputs": [
    {
     "data": {
      "text/plain": [
       "array([[4, 5, 6],\n",
       "       [1, 2, 3],\n",
       "       [7, 8, 9]])"
      ]
     },
     "execution_count": 9,
     "metadata": {},
     "output_type": "execute_result"
    }
   ],
   "source": [
    "np.vstack((C,B))"
   ]
  }
 ],
 "metadata": {
  "kernelspec": {
   "display_name": "Python 3",
   "language": "python",
   "name": "python3"
  },
  "language_info": {
   "codemirror_mode": {
    "name": "ipython",
    "version": 3
   },
   "file_extension": ".py",
   "mimetype": "text/x-python",
   "name": "python",
   "nbconvert_exporter": "python",
   "pygments_lexer": "ipython3",
   "version": "3.8.8"
  }
 },
 "nbformat": 4,
 "nbformat_minor": 5
}
