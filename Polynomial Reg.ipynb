{
 "cells": [
  {
   "cell_type": "code",
   "execution_count": 1,
   "id": "c8a07d3f",
   "metadata": {},
   "outputs": [],
   "source": [
    "#Here we convert the values of x into new col of higher degree of x(x^2, x^3, x^4) to get the poly. eq. to best fit d data\n",
    "# Pol Eq. contains higher degree of x varb. y = (x^3)+5(x^2)-7x+2 etc.\n",
    "# here, we find out the values of coefficient of x to get the poly. eq. Here, we use lin. Reg (GD) to find out poly. eq"
   ]
  },
  {
   "cell_type": "code",
   "execution_count": 17,
   "id": "91766a8e",
   "metadata": {},
   "outputs": [],
   "source": [
    "import pandas as pd\n",
    "import matplotlib.pyplot as plt\n",
    "import numpy as np"
   ]
  },
  {
   "cell_type": "code",
   "execution_count": 14,
   "id": "f17e66ed",
   "metadata": {},
   "outputs": [],
   "source": [
    "df = pd.read_excel('../Machine Learning/Salary_Data - Copy.xlsx')"
   ]
  },
  {
   "cell_type": "code",
   "execution_count": 19,
   "id": "f245bdf3",
   "metadata": {},
   "outputs": [
    {
     "name": "stdout",
     "output_type": "stream",
     "text": [
      "<class 'pandas.core.frame.DataFrame'>\n",
      "RangeIndex: 30 entries, 0 to 29\n",
      "Data columns (total 3 columns):\n",
      " #   Column           Non-Null Count  Dtype  \n",
      "---  ------           --------------  -----  \n",
      " 0   YearsExperience  30 non-null     float64\n",
      " 1   Age              30 non-null     float64\n",
      " 2   Salary           30 non-null     int64  \n",
      "dtypes: float64(2), int64(1)\n",
      "memory usage: 848.0 bytes\n"
     ]
    }
   ],
   "source": [
    "df.info()"
   ]
  },
  {
   "cell_type": "code",
   "execution_count": 16,
   "id": "ed06cd1f",
   "metadata": {},
   "outputs": [
    {
     "data": {
      "text/plain": [
       "<matplotlib.collections.PathCollection at 0x15cb70a6bb0>"
      ]
     },
     "execution_count": 16,
     "metadata": {},
     "output_type": "execute_result"
    },
    {
     "data": {
      "image/png": "[encoded data removed]",
      "text/plain": [
       "<Figure size 432x288 with 1 Axes>"
      ]
     },
     "metadata": {
      "needs_background": "light"
     },
     "output_type": "display_data"
    }
   ],
   "source": [
    "plt.scatter(df['YearsExperience'], df['Salary'])"
   ]
  },
  {
   "cell_type": "code",
   "execution_count": 37,
   "id": "7f3293f4",
   "metadata": {},
   "outputs": [],
   "source": [
    "A = np.square(df['YearsExperience'].values)\n",
    "B = df['YearsExperience'].values\n",
    "C = np.ones(30)"
   ]
  },
  {
   "cell_type": "code",
   "execution_count": 81,
   "id": "fcf1ca76",
   "metadata": {},
   "outputs": [],
   "source": [
    "dataset = pd.DataFrame(data = {'A':A, 'B':B, 'C':C})"
   ]
  },
  {
   "cell_type": "code",
   "execution_count": 82,
   "id": "fd7842da",
   "metadata": {},
   "outputs": [
    {
     "data": {
      "text/html": [
       "<div>\n",
       "<style scoped>\n",
       "    .dataframe tbody tr th:only-of-type {\n",
       "        vertical-align: middle;\n",
       "    }\n",
       "\n",
       "    .dataframe tbody tr th {\n",
       "        vertical-align: top;\n",
       "    }\n",
       "\n",
       "    .dataframe thead th {\n",
       "        text-align: right;\n",
       "    }\n",
       "</style>\n",
       "<table border=\"1\" class=\"dataframe\">\n",
       "  <thead>\n",
       "    <tr style=\"text-align: right;\">\n",
       "      <th></th>\n",
       "      <th>A</th>\n",
       "      <th>B</th>\n",
       "      <th>C</th>\n",
       "    </tr>\n",
       "  </thead>\n",
       "  <tbody>\n",
       "    <tr>\n",
       "      <th>0</th>\n",
       "      <td>1.21</td>\n",
       "      <td>1.1</td>\n",
       "      <td>1.0</td>\n",
       "    </tr>\n",
       "    <tr>\n",
       "      <th>1</th>\n",
       "      <td>1.69</td>\n",
       "      <td>1.3</td>\n",
       "      <td>1.0</td>\n",
       "    </tr>\n",
       "    <tr>\n",
       "      <th>2</th>\n",
       "      <td>2.25</td>\n",
       "      <td>1.5</td>\n",
       "      <td>1.0</td>\n",
       "    </tr>\n",
       "    <tr>\n",
       "      <th>3</th>\n",
       "      <td>4.00</td>\n",
       "      <td>2.0</td>\n",
       "      <td>1.0</td>\n",
       "    </tr>\n",
       "    <tr>\n",
       "      <th>4</th>\n",
       "      <td>4.84</td>\n",
       "      <td>2.2</td>\n",
       "      <td>1.0</td>\n",
       "    </tr>\n",
       "    <tr>\n",
       "      <th>5</th>\n",
       "      <td>8.41</td>\n",
       "      <td>2.9</td>\n",
       "      <td>1.0</td>\n",
       "    </tr>\n",
       "    <tr>\n",
       "      <th>6</th>\n",
       "      <td>9.00</td>\n",
       "      <td>3.0</td>\n",
       "      <td>1.0</td>\n",
       "    </tr>\n",
       "    <tr>\n",
       "      <th>7</th>\n",
       "      <td>10.24</td>\n",
       "      <td>3.2</td>\n",
       "      <td>1.0</td>\n",
       "    </tr>\n",
       "    <tr>\n",
       "      <th>8</th>\n",
       "      <td>10.24</td>\n",
       "      <td>3.2</td>\n",
       "      <td>1.0</td>\n",
       "    </tr>\n",
       "    <tr>\n",
       "      <th>9</th>\n",
       "      <td>13.69</td>\n",
       "      <td>3.7</td>\n",
       "      <td>1.0</td>\n",
       "    </tr>\n",
       "    <tr>\n",
       "      <th>10</th>\n",
       "      <td>15.21</td>\n",
       "      <td>3.9</td>\n",
       "      <td>1.0</td>\n",
       "    </tr>\n",
       "    <tr>\n",
       "      <th>11</th>\n",
       "      <td>16.00</td>\n",
       "      <td>4.0</td>\n",
       "      <td>1.0</td>\n",
       "    </tr>\n",
       "    <tr>\n",
       "      <th>12</th>\n",
       "      <td>16.00</td>\n",
       "      <td>4.0</td>\n",
       "      <td>1.0</td>\n",
       "    </tr>\n",
       "    <tr>\n",
       "      <th>13</th>\n",
       "      <td>16.81</td>\n",
       "      <td>4.1</td>\n",
       "      <td>1.0</td>\n",
       "    </tr>\n",
       "    <tr>\n",
       "      <th>14</th>\n",
       "      <td>20.25</td>\n",
       "      <td>4.5</td>\n",
       "      <td>1.0</td>\n",
       "    </tr>\n",
       "    <tr>\n",
       "      <th>15</th>\n",
       "      <td>24.01</td>\n",
       "      <td>4.9</td>\n",
       "      <td>1.0</td>\n",
       "    </tr>\n",
       "    <tr>\n",
       "      <th>16</th>\n",
       "      <td>26.01</td>\n",
       "      <td>5.1</td>\n",
       "      <td>1.0</td>\n",
       "    </tr>\n",
       "    <tr>\n",
       "      <th>17</th>\n",
       "      <td>28.09</td>\n",
       "      <td>5.3</td>\n",
       "      <td>1.0</td>\n",
       "    </tr>\n",
       "    <tr>\n",
       "      <th>18</th>\n",
       "      <td>34.81</td>\n",
       "      <td>5.9</td>\n",
       "      <td>1.0</td>\n",
       "    </tr>\n",
       "    <tr>\n",
       "      <th>19</th>\n",
       "      <td>36.00</td>\n",
       "      <td>6.0</td>\n",
       "      <td>1.0</td>\n",
       "    </tr>\n",
       "    <tr>\n",
       "      <th>20</th>\n",
       "      <td>46.24</td>\n",
       "      <td>6.8</td>\n",
       "      <td>1.0</td>\n",
       "    </tr>\n",
       "    <tr>\n",
       "      <th>21</th>\n",
       "      <td>50.41</td>\n",
       "      <td>7.1</td>\n",
       "      <td>1.0</td>\n",
       "    </tr>\n",
       "    <tr>\n",
       "      <th>22</th>\n",
       "      <td>62.41</td>\n",
       "      <td>7.9</td>\n",
       "      <td>1.0</td>\n",
       "    </tr>\n",
       "    <tr>\n",
       "      <th>23</th>\n",
       "      <td>67.24</td>\n",
       "      <td>8.2</td>\n",
       "      <td>1.0</td>\n",
       "    </tr>\n",
       "    <tr>\n",
       "      <th>24</th>\n",
       "      <td>75.69</td>\n",
       "      <td>8.7</td>\n",
       "      <td>1.0</td>\n",
       "    </tr>\n",
       "    <tr>\n",
       "      <th>25</th>\n",
       "      <td>81.00</td>\n",
       "      <td>9.0</td>\n",
       "      <td>1.0</td>\n",
       "    </tr>\n",
       "    <tr>\n",
       "      <th>26</th>\n",
       "      <td>90.25</td>\n",
       "      <td>9.5</td>\n",
       "      <td>1.0</td>\n",
       "    </tr>\n",
       "    <tr>\n",
       "      <th>27</th>\n",
       "      <td>92.16</td>\n",
       "      <td>9.6</td>\n",
       "      <td>1.0</td>\n",
       "    </tr>\n",
       "    <tr>\n",
       "      <th>28</th>\n",
       "      <td>106.09</td>\n",
       "      <td>10.3</td>\n",
       "      <td>1.0</td>\n",
       "    </tr>\n",
       "    <tr>\n",
       "      <th>29</th>\n",
       "      <td>110.25</td>\n",
       "      <td>10.5</td>\n",
       "      <td>1.0</td>\n",
       "    </tr>\n",
       "  </tbody>\n",
       "</table>\n",
       "</div>"
      ],
      "text/plain": [
       "         A     B    C\n",
       "0     1.21   1.1  1.0\n",
       "1     1.69   1.3  1.0\n",
       "2     2.25   1.5  1.0\n",
       "3     4.00   2.0  1.0\n",
       "4     4.84   2.2  1.0\n",
       "5     8.41   2.9  1.0\n",
       "6     9.00   3.0  1.0\n",
       "7    10.24   3.2  1.0\n",
       "8    10.24   3.2  1.0\n",
       "9    13.69   3.7  1.0\n",
       "10   15.21   3.9  1.0\n",
       "11   16.00   4.0  1.0\n",
       "12   16.00   4.0  1.0\n",
       "13   16.81   4.1  1.0\n",
       "14   20.25   4.5  1.0\n",
       "15   24.01   4.9  1.0\n",
       "16   26.01   5.1  1.0\n",
       "17   28.09   5.3  1.0\n",
       "18   34.81   5.9  1.0\n",
       "19   36.00   6.0  1.0\n",
       "20   46.24   6.8  1.0\n",
       "21   50.41   7.1  1.0\n",
       "22   62.41   7.9  1.0\n",
       "23   67.24   8.2  1.0\n",
       "24   75.69   8.7  1.0\n",
       "25   81.00   9.0  1.0\n",
       "26   90.25   9.5  1.0\n",
       "27   92.16   9.6  1.0\n",
       "28  106.09  10.3  1.0\n",
       "29  110.25  10.5  1.0"
      ]
     },
     "execution_count": 82,
     "metadata": {},
     "output_type": "execute_result"
    }
   ],
   "source": [
    "dataset   # A= x^2, B=x^1, C=x^0"
   ]
  },
  {
   "cell_type": "code",
   "execution_count": 52,
   "id": "9ff6aa57",
   "metadata": {},
   "outputs": [],
   "source": [
    "from sklearn.linear_model import LinearRegression"
   ]
  },
  {
   "cell_type": "code",
   "execution_count": 73,
   "id": "05a4f5fd",
   "metadata": {},
   "outputs": [
    {
     "data": {
      "text/plain": [
       "LinearRegression()"
      ]
     },
     "execution_count": 73,
     "metadata": {},
     "output_type": "execute_result"
    }
   ],
   "source": [
    "model = LinearRegression()\n",
    "model.fit(dataset, df['Salary'])"
   ]
  },
  {
   "cell_type": "code",
   "execution_count": 74,
   "id": "180982ec",
   "metadata": {},
   "outputs": [],
   "source": [
    "y_pred = model.predict(dataset)"
   ]
  },
  {
   "cell_type": "code",
   "execution_count": 75,
   "id": "51437b0d",
   "metadata": {},
   "outputs": [
    {
     "data": {
      "text/plain": [
       "array([39412.56768088, 41326.36820715, 43181.74824176, 47564.60867725,\n",
       "       49215.51699105, 54533.63471749, 55234.94532961, 56593.75118509,\n",
       "       56593.75118509, 59735.17617279, 60889.51030747, 61444.76969043,\n",
       "       61444.76969043, 61985.42395048, 64001.98976152, 65784.87360592,\n",
       "       66588.68479063, 67334.07548367, 69219.72461284, 69482.8815375 ,\n",
       "       71062.35250982, 71413.66959633, 71707.88975211, 71577.23778242,\n",
       "       71067.3820413 , 70586.20712165, 69492.14646392, 69229.51896363,\n",
       "       66982.18301996, 66208.64092982])"
      ]
     },
     "execution_count": 75,
     "metadata": {},
     "output_type": "execute_result"
    }
   ],
   "source": [
    "y_pred"
   ]
  },
  {
   "cell_type": "code",
   "execution_count": 76,
   "id": "c469eaae",
   "metadata": {},
   "outputs": [
    {
     "data": {
      "text/plain": [
       "0     39343\n",
       "1     46205\n",
       "2     37731\n",
       "3     43525\n",
       "4     39891\n",
       "5     56642\n",
       "6     60150\n",
       "7     54445\n",
       "8     64445\n",
       "9     57189\n",
       "10    63218\n",
       "11    55794\n",
       "12    56957\n",
       "13    57081\n",
       "14    70359\n",
       "15    67938\n",
       "16    66029\n",
       "17    83088\n",
       "18    81363\n",
       "19    75960\n",
       "20    72963\n",
       "21    68201\n",
       "22    70654\n",
       "23    58106\n",
       "24    55549\n",
       "25    52987\n",
       "26    65969\n",
       "27    70166\n",
       "28    75985\n",
       "29    82963\n",
       "Name: Salary, dtype: int64"
      ]
     },
     "execution_count": 76,
     "metadata": {},
     "output_type": "execute_result"
    }
   ],
   "source": [
    "df['Salary']   # y_actual"
   ]
  },
  {
   "cell_type": "code",
   "execution_count": 77,
   "id": "85f28013",
   "metadata": {},
   "outputs": [
    {
     "data": {
      "text/plain": [
       "<matplotlib.collections.PathCollection at 0x15cba99b2b0>"
      ]
     },
     "execution_count": 77,
     "metadata": {},
     "output_type": "execute_result"
    },
    {
     "data": {
      "image/png": "[encoded data removed]",
      "text/plain": [
       "<Figure size 432x288 with 1 Axes>"
      ]
     },
     "metadata": {
      "needs_background": "light"
     },
     "output_type": "display_data"
    }
   ],
   "source": [
    "plt.scatter(df['YearsExperience'], df['Salary'], c='red')    # actual points   plot for 2D polynomial\n",
    "plt.scatter(df['YearsExperience'], y_pred, c='blue')         # predicted salary"
   ]
  },
  {
   "cell_type": "code",
   "execution_count": 125,
   "id": "a3133878",
   "metadata": {},
   "outputs": [
    {
     "data": {
      "text/plain": [
       "array([ -730.25614576, 11321.61738117,     0.        ])"
      ]
     },
     "execution_count": 125,
     "metadata": {},
     "output_type": "execute_result"
    }
   ],
   "source": [
    "model.coef_   # Values of coefs of x in 2d Polynomial eq"
   ]
  },
  {
   "cell_type": "code",
   "execution_count": 85,
   "id": "555766ac",
   "metadata": {},
   "outputs": [],
   "source": [
    "D = np.array((df['YearsExperience'].values)**3)\n",
    "A = np.square(df['YearsExperience'].values)\n",
    "B = df['YearsExperience'].values\n",
    "C = np.ones(30)"
   ]
  },
  {
   "cell_type": "code",
   "execution_count": 88,
   "id": "22a14985",
   "metadata": {},
   "outputs": [],
   "source": [
    "Dataset = pd.DataFrame(data = {'D':D, 'A':A, 'B':B, 'C':C})"
   ]
  },
  {
   "cell_type": "code",
   "execution_count": 96,
   "id": "f5b1c782",
   "metadata": {},
   "outputs": [
    {
     "data": {
      "text/plain": [
       "LinearRegression()"
      ]
     },
     "execution_count": 96,
     "metadata": {},
     "output_type": "execute_result"
    }
   ],
   "source": [
    "model1 = LinearRegression()\n",
    "model1.fit(Dataset, df['Salary'])"
   ]
  },
  {
   "cell_type": "code",
   "execution_count": 97,
   "id": "8ddd0f95",
   "metadata": {},
   "outputs": [
    {
     "data": {
      "text/html": [
       "<div>\n",
       "<style scoped>\n",
       "    .dataframe tbody tr th:only-of-type {\n",
       "        vertical-align: middle;\n",
       "    }\n",
       "\n",
       "    .dataframe tbody tr th {\n",
       "        vertical-align: top;\n",
       "    }\n",
       "\n",
       "    .dataframe thead th {\n",
       "        text-align: right;\n",
       "    }\n",
       "</style>\n",
       "<table border=\"1\" class=\"dataframe\">\n",
       "  <thead>\n",
       "    <tr style=\"text-align: right;\">\n",
       "      <th></th>\n",
       "      <th>D</th>\n",
       "      <th>A</th>\n",
       "      <th>B</th>\n",
       "      <th>C</th>\n",
       "    </tr>\n",
       "  </thead>\n",
       "  <tbody>\n",
       "    <tr>\n",
       "      <th>0</th>\n",
       "      <td>1.331</td>\n",
       "      <td>1.21</td>\n",
       "      <td>1.1</td>\n",
       "      <td>1.0</td>\n",
       "    </tr>\n",
       "    <tr>\n",
       "      <th>1</th>\n",
       "      <td>2.197</td>\n",
       "      <td>1.69</td>\n",
       "      <td>1.3</td>\n",
       "      <td>1.0</td>\n",
       "    </tr>\n",
       "    <tr>\n",
       "      <th>2</th>\n",
       "      <td>3.375</td>\n",
       "      <td>2.25</td>\n",
       "      <td>1.5</td>\n",
       "      <td>1.0</td>\n",
       "    </tr>\n",
       "    <tr>\n",
       "      <th>3</th>\n",
       "      <td>8.000</td>\n",
       "      <td>4.00</td>\n",
       "      <td>2.0</td>\n",
       "      <td>1.0</td>\n",
       "    </tr>\n",
       "    <tr>\n",
       "      <th>4</th>\n",
       "      <td>10.648</td>\n",
       "      <td>4.84</td>\n",
       "      <td>2.2</td>\n",
       "      <td>1.0</td>\n",
       "    </tr>\n",
       "    <tr>\n",
       "      <th>5</th>\n",
       "      <td>24.389</td>\n",
       "      <td>8.41</td>\n",
       "      <td>2.9</td>\n",
       "      <td>1.0</td>\n",
       "    </tr>\n",
       "    <tr>\n",
       "      <th>6</th>\n",
       "      <td>27.000</td>\n",
       "      <td>9.00</td>\n",
       "      <td>3.0</td>\n",
       "      <td>1.0</td>\n",
       "    </tr>\n",
       "    <tr>\n",
       "      <th>7</th>\n",
       "      <td>32.768</td>\n",
       "      <td>10.24</td>\n",
       "      <td>3.2</td>\n",
       "      <td>1.0</td>\n",
       "    </tr>\n",
       "    <tr>\n",
       "      <th>8</th>\n",
       "      <td>32.768</td>\n",
       "      <td>10.24</td>\n",
       "      <td>3.2</td>\n",
       "      <td>1.0</td>\n",
       "    </tr>\n",
       "    <tr>\n",
       "      <th>9</th>\n",
       "      <td>50.653</td>\n",
       "      <td>13.69</td>\n",
       "      <td>3.7</td>\n",
       "      <td>1.0</td>\n",
       "    </tr>\n",
       "    <tr>\n",
       "      <th>10</th>\n",
       "      <td>59.319</td>\n",
       "      <td>15.21</td>\n",
       "      <td>3.9</td>\n",
       "      <td>1.0</td>\n",
       "    </tr>\n",
       "    <tr>\n",
       "      <th>11</th>\n",
       "      <td>64.000</td>\n",
       "      <td>16.00</td>\n",
       "      <td>4.0</td>\n",
       "      <td>1.0</td>\n",
       "    </tr>\n",
       "    <tr>\n",
       "      <th>12</th>\n",
       "      <td>64.000</td>\n",
       "      <td>16.00</td>\n",
       "      <td>4.0</td>\n",
       "      <td>1.0</td>\n",
       "    </tr>\n",
       "    <tr>\n",
       "      <th>13</th>\n",
       "      <td>68.921</td>\n",
       "      <td>16.81</td>\n",
       "      <td>4.1</td>\n",
       "      <td>1.0</td>\n",
       "    </tr>\n",
       "    <tr>\n",
       "      <th>14</th>\n",
       "      <td>91.125</td>\n",
       "      <td>20.25</td>\n",
       "      <td>4.5</td>\n",
       "      <td>1.0</td>\n",
       "    </tr>\n",
       "    <tr>\n",
       "      <th>15</th>\n",
       "      <td>117.649</td>\n",
       "      <td>24.01</td>\n",
       "      <td>4.9</td>\n",
       "      <td>1.0</td>\n",
       "    </tr>\n",
       "    <tr>\n",
       "      <th>16</th>\n",
       "      <td>132.651</td>\n",
       "      <td>26.01</td>\n",
       "      <td>5.1</td>\n",
       "      <td>1.0</td>\n",
       "    </tr>\n",
       "    <tr>\n",
       "      <th>17</th>\n",
       "      <td>148.877</td>\n",
       "      <td>28.09</td>\n",
       "      <td>5.3</td>\n",
       "      <td>1.0</td>\n",
       "    </tr>\n",
       "    <tr>\n",
       "      <th>18</th>\n",
       "      <td>205.379</td>\n",
       "      <td>34.81</td>\n",
       "      <td>5.9</td>\n",
       "      <td>1.0</td>\n",
       "    </tr>\n",
       "    <tr>\n",
       "      <th>19</th>\n",
       "      <td>216.000</td>\n",
       "      <td>36.00</td>\n",
       "      <td>6.0</td>\n",
       "      <td>1.0</td>\n",
       "    </tr>\n",
       "    <tr>\n",
       "      <th>20</th>\n",
       "      <td>314.432</td>\n",
       "      <td>46.24</td>\n",
       "      <td>6.8</td>\n",
       "      <td>1.0</td>\n",
       "    </tr>\n",
       "    <tr>\n",
       "      <th>21</th>\n",
       "      <td>357.911</td>\n",
       "      <td>50.41</td>\n",
       "      <td>7.1</td>\n",
       "      <td>1.0</td>\n",
       "    </tr>\n",
       "    <tr>\n",
       "      <th>22</th>\n",
       "      <td>493.039</td>\n",
       "      <td>62.41</td>\n",
       "      <td>7.9</td>\n",
       "      <td>1.0</td>\n",
       "    </tr>\n",
       "    <tr>\n",
       "      <th>23</th>\n",
       "      <td>551.368</td>\n",
       "      <td>67.24</td>\n",
       "      <td>8.2</td>\n",
       "      <td>1.0</td>\n",
       "    </tr>\n",
       "    <tr>\n",
       "      <th>24</th>\n",
       "      <td>658.503</td>\n",
       "      <td>75.69</td>\n",
       "      <td>8.7</td>\n",
       "      <td>1.0</td>\n",
       "    </tr>\n",
       "    <tr>\n",
       "      <th>25</th>\n",
       "      <td>729.000</td>\n",
       "      <td>81.00</td>\n",
       "      <td>9.0</td>\n",
       "      <td>1.0</td>\n",
       "    </tr>\n",
       "    <tr>\n",
       "      <th>26</th>\n",
       "      <td>857.375</td>\n",
       "      <td>90.25</td>\n",
       "      <td>9.5</td>\n",
       "      <td>1.0</td>\n",
       "    </tr>\n",
       "    <tr>\n",
       "      <th>27</th>\n",
       "      <td>884.736</td>\n",
       "      <td>92.16</td>\n",
       "      <td>9.6</td>\n",
       "      <td>1.0</td>\n",
       "    </tr>\n",
       "    <tr>\n",
       "      <th>28</th>\n",
       "      <td>1092.727</td>\n",
       "      <td>106.09</td>\n",
       "      <td>10.3</td>\n",
       "      <td>1.0</td>\n",
       "    </tr>\n",
       "    <tr>\n",
       "      <th>29</th>\n",
       "      <td>1157.625</td>\n",
       "      <td>110.25</td>\n",
       "      <td>10.5</td>\n",
       "      <td>1.0</td>\n",
       "    </tr>\n",
       "  </tbody>\n",
       "</table>\n",
       "</div>"
      ],
      "text/plain": [
       "           D       A     B    C\n",
       "0      1.331    1.21   1.1  1.0\n",
       "1      2.197    1.69   1.3  1.0\n",
       "2      3.375    2.25   1.5  1.0\n",
       "3      8.000    4.00   2.0  1.0\n",
       "4     10.648    4.84   2.2  1.0\n",
       "5     24.389    8.41   2.9  1.0\n",
       "6     27.000    9.00   3.0  1.0\n",
       "7     32.768   10.24   3.2  1.0\n",
       "8     32.768   10.24   3.2  1.0\n",
       "9     50.653   13.69   3.7  1.0\n",
       "10    59.319   15.21   3.9  1.0\n",
       "11    64.000   16.00   4.0  1.0\n",
       "12    64.000   16.00   4.0  1.0\n",
       "13    68.921   16.81   4.1  1.0\n",
       "14    91.125   20.25   4.5  1.0\n",
       "15   117.649   24.01   4.9  1.0\n",
       "16   132.651   26.01   5.1  1.0\n",
       "17   148.877   28.09   5.3  1.0\n",
       "18   205.379   34.81   5.9  1.0\n",
       "19   216.000   36.00   6.0  1.0\n",
       "20   314.432   46.24   6.8  1.0\n",
       "21   357.911   50.41   7.1  1.0\n",
       "22   493.039   62.41   7.9  1.0\n",
       "23   551.368   67.24   8.2  1.0\n",
       "24   658.503   75.69   8.7  1.0\n",
       "25   729.000   81.00   9.0  1.0\n",
       "26   857.375   90.25   9.5  1.0\n",
       "27   884.736   92.16   9.6  1.0\n",
       "28  1092.727  106.09  10.3  1.0\n",
       "29  1157.625  110.25  10.5  1.0"
      ]
     },
     "execution_count": 97,
     "metadata": {},
     "output_type": "execute_result"
    }
   ],
   "source": [
    "Dataset   # D=x^3, A=x^2, B=x^1, C=x^0"
   ]
  },
  {
   "cell_type": "code",
   "execution_count": 98,
   "id": "883ef83d",
   "metadata": {},
   "outputs": [],
   "source": [
    "y_pred = model1.predict(Dataset)"
   ]
  },
  {
   "cell_type": "code",
   "execution_count": 100,
   "id": "ca44be3d",
   "metadata": {},
   "outputs": [
    {
     "data": {
      "text/plain": [
       "<matplotlib.collections.PathCollection at 0x15cbc0358b0>"
      ]
     },
     "execution_count": 100,
     "metadata": {},
     "output_type": "execute_result"
    },
    {
     "data": {
      "image/png": "[encoded data removed]",
      "text/plain": [
       "<Figure size 432x288 with 1 Axes>"
      ]
     },
     "metadata": {
      "needs_background": "light"
     },
     "output_type": "display_data"
    }
   ],
   "source": [
    "plt.scatter(df['YearsExperience'], df['Salary'], c='red')    # actual points   Plotting for 3D poly Reg\n",
    "plt.scatter(df['YearsExperience'], y_pred, c='blue')         # predicted salary"
   ]
  },
  {
   "cell_type": "code",
   "execution_count": 124,
   "id": "4925252b",
   "metadata": {},
   "outputs": [
    {
     "data": {
      "text/plain": [
       "array([  182.49130798, -3822.80547142, 26135.84451519,     0.        ])"
      ]
     },
     "execution_count": 124,
     "metadata": {},
     "output_type": "execute_result"
    }
   ],
   "source": [
    "model1.coef_    # Values of coeffs of x in 3D polynomial eq"
   ]
  },
  {
   "cell_type": "code",
   "execution_count": 101,
   "id": "88f3a6c3",
   "metadata": {},
   "outputs": [],
   "source": [
    "A = np.square(df['YearsExperience'].values)\n",
    "B = df['YearsExperience'].values\n",
    "C = np.ones(30)\n",
    "D = np.array((df['YearsExperience'].values)**3)\n",
    "E = np.array((df['YearsExperience'].values)**4)"
   ]
  },
  {
   "cell_type": "code",
   "execution_count": 102,
   "id": "0b62a730",
   "metadata": {},
   "outputs": [],
   "source": [
    "Dataset1 = pd.DataFrame(data = {'A':A, 'B':B, 'C':C, 'D':D, 'E':E})"
   ]
  },
  {
   "cell_type": "code",
   "execution_count": 103,
   "id": "b4a8f847",
   "metadata": {},
   "outputs": [
    {
     "data": {
      "text/html": [
       "<div>\n",
       "<style scoped>\n",
       "    .dataframe tbody tr th:only-of-type {\n",
       "        vertical-align: middle;\n",
       "    }\n",
       "\n",
       "    .dataframe tbody tr th {\n",
       "        vertical-align: top;\n",
       "    }\n",
       "\n",
       "    .dataframe thead th {\n",
       "        text-align: right;\n",
       "    }\n",
       "</style>\n",
       "<table border=\"1\" class=\"dataframe\">\n",
       "  <thead>\n",
       "    <tr style=\"text-align: right;\">\n",
       "      <th></th>\n",
       "      <th>A</th>\n",
       "      <th>B</th>\n",
       "      <th>C</th>\n",
       "      <th>D</th>\n",
       "      <th>E</th>\n",
       "    </tr>\n",
       "  </thead>\n",
       "  <tbody>\n",
       "    <tr>\n",
       "      <th>0</th>\n",
       "      <td>1.21</td>\n",
       "      <td>1.1</td>\n",
       "      <td>1.0</td>\n",
       "      <td>1.331</td>\n",
       "      <td>1.4641</td>\n",
       "    </tr>\n",
       "    <tr>\n",
       "      <th>1</th>\n",
       "      <td>1.69</td>\n",
       "      <td>1.3</td>\n",
       "      <td>1.0</td>\n",
       "      <td>2.197</td>\n",
       "      <td>2.8561</td>\n",
       "    </tr>\n",
       "    <tr>\n",
       "      <th>2</th>\n",
       "      <td>2.25</td>\n",
       "      <td>1.5</td>\n",
       "      <td>1.0</td>\n",
       "      <td>3.375</td>\n",
       "      <td>5.0625</td>\n",
       "    </tr>\n",
       "    <tr>\n",
       "      <th>3</th>\n",
       "      <td>4.00</td>\n",
       "      <td>2.0</td>\n",
       "      <td>1.0</td>\n",
       "      <td>8.000</td>\n",
       "      <td>16.0000</td>\n",
       "    </tr>\n",
       "    <tr>\n",
       "      <th>4</th>\n",
       "      <td>4.84</td>\n",
       "      <td>2.2</td>\n",
       "      <td>1.0</td>\n",
       "      <td>10.648</td>\n",
       "      <td>23.4256</td>\n",
       "    </tr>\n",
       "    <tr>\n",
       "      <th>5</th>\n",
       "      <td>8.41</td>\n",
       "      <td>2.9</td>\n",
       "      <td>1.0</td>\n",
       "      <td>24.389</td>\n",
       "      <td>70.7281</td>\n",
       "    </tr>\n",
       "    <tr>\n",
       "      <th>6</th>\n",
       "      <td>9.00</td>\n",
       "      <td>3.0</td>\n",
       "      <td>1.0</td>\n",
       "      <td>27.000</td>\n",
       "      <td>81.0000</td>\n",
       "    </tr>\n",
       "    <tr>\n",
       "      <th>7</th>\n",
       "      <td>10.24</td>\n",
       "      <td>3.2</td>\n",
       "      <td>1.0</td>\n",
       "      <td>32.768</td>\n",
       "      <td>104.8576</td>\n",
       "    </tr>\n",
       "    <tr>\n",
       "      <th>8</th>\n",
       "      <td>10.24</td>\n",
       "      <td>3.2</td>\n",
       "      <td>1.0</td>\n",
       "      <td>32.768</td>\n",
       "      <td>104.8576</td>\n",
       "    </tr>\n",
       "    <tr>\n",
       "      <th>9</th>\n",
       "      <td>13.69</td>\n",
       "      <td>3.7</td>\n",
       "      <td>1.0</td>\n",
       "      <td>50.653</td>\n",
       "      <td>187.4161</td>\n",
       "    </tr>\n",
       "    <tr>\n",
       "      <th>10</th>\n",
       "      <td>15.21</td>\n",
       "      <td>3.9</td>\n",
       "      <td>1.0</td>\n",
       "      <td>59.319</td>\n",
       "      <td>231.3441</td>\n",
       "    </tr>\n",
       "    <tr>\n",
       "      <th>11</th>\n",
       "      <td>16.00</td>\n",
       "      <td>4.0</td>\n",
       "      <td>1.0</td>\n",
       "      <td>64.000</td>\n",
       "      <td>256.0000</td>\n",
       "    </tr>\n",
       "    <tr>\n",
       "      <th>12</th>\n",
       "      <td>16.00</td>\n",
       "      <td>4.0</td>\n",
       "      <td>1.0</td>\n",
       "      <td>64.000</td>\n",
       "      <td>256.0000</td>\n",
       "    </tr>\n",
       "    <tr>\n",
       "      <th>13</th>\n",
       "      <td>16.81</td>\n",
       "      <td>4.1</td>\n",
       "      <td>1.0</td>\n",
       "      <td>68.921</td>\n",
       "      <td>282.5761</td>\n",
       "    </tr>\n",
       "    <tr>\n",
       "      <th>14</th>\n",
       "      <td>20.25</td>\n",
       "      <td>4.5</td>\n",
       "      <td>1.0</td>\n",
       "      <td>91.125</td>\n",
       "      <td>410.0625</td>\n",
       "    </tr>\n",
       "    <tr>\n",
       "      <th>15</th>\n",
       "      <td>24.01</td>\n",
       "      <td>4.9</td>\n",
       "      <td>1.0</td>\n",
       "      <td>117.649</td>\n",
       "      <td>576.4801</td>\n",
       "    </tr>\n",
       "    <tr>\n",
       "      <th>16</th>\n",
       "      <td>26.01</td>\n",
       "      <td>5.1</td>\n",
       "      <td>1.0</td>\n",
       "      <td>132.651</td>\n",
       "      <td>676.5201</td>\n",
       "    </tr>\n",
       "    <tr>\n",
       "      <th>17</th>\n",
       "      <td>28.09</td>\n",
       "      <td>5.3</td>\n",
       "      <td>1.0</td>\n",
       "      <td>148.877</td>\n",
       "      <td>789.0481</td>\n",
       "    </tr>\n",
       "    <tr>\n",
       "      <th>18</th>\n",
       "      <td>34.81</td>\n",
       "      <td>5.9</td>\n",
       "      <td>1.0</td>\n",
       "      <td>205.379</td>\n",
       "      <td>1211.7361</td>\n",
       "    </tr>\n",
       "    <tr>\n",
       "      <th>19</th>\n",
       "      <td>36.00</td>\n",
       "      <td>6.0</td>\n",
       "      <td>1.0</td>\n",
       "      <td>216.000</td>\n",
       "      <td>1296.0000</td>\n",
       "    </tr>\n",
       "    <tr>\n",
       "      <th>20</th>\n",
       "      <td>46.24</td>\n",
       "      <td>6.8</td>\n",
       "      <td>1.0</td>\n",
       "      <td>314.432</td>\n",
       "      <td>2138.1376</td>\n",
       "    </tr>\n",
       "    <tr>\n",
       "      <th>21</th>\n",
       "      <td>50.41</td>\n",
       "      <td>7.1</td>\n",
       "      <td>1.0</td>\n",
       "      <td>357.911</td>\n",
       "      <td>2541.1681</td>\n",
       "    </tr>\n",
       "    <tr>\n",
       "      <th>22</th>\n",
       "      <td>62.41</td>\n",
       "      <td>7.9</td>\n",
       "      <td>1.0</td>\n",
       "      <td>493.039</td>\n",
       "      <td>3895.0081</td>\n",
       "    </tr>\n",
       "    <tr>\n",
       "      <th>23</th>\n",
       "      <td>67.24</td>\n",
       "      <td>8.2</td>\n",
       "      <td>1.0</td>\n",
       "      <td>551.368</td>\n",
       "      <td>4521.2176</td>\n",
       "    </tr>\n",
       "    <tr>\n",
       "      <th>24</th>\n",
       "      <td>75.69</td>\n",
       "      <td>8.7</td>\n",
       "      <td>1.0</td>\n",
       "      <td>658.503</td>\n",
       "      <td>5728.9761</td>\n",
       "    </tr>\n",
       "    <tr>\n",
       "      <th>25</th>\n",
       "      <td>81.00</td>\n",
       "      <td>9.0</td>\n",
       "      <td>1.0</td>\n",
       "      <td>729.000</td>\n",
       "      <td>6561.0000</td>\n",
       "    </tr>\n",
       "    <tr>\n",
       "      <th>26</th>\n",
       "      <td>90.25</td>\n",
       "      <td>9.5</td>\n",
       "      <td>1.0</td>\n",
       "      <td>857.375</td>\n",
       "      <td>8145.0625</td>\n",
       "    </tr>\n",
       "    <tr>\n",
       "      <th>27</th>\n",
       "      <td>92.16</td>\n",
       "      <td>9.6</td>\n",
       "      <td>1.0</td>\n",
       "      <td>884.736</td>\n",
       "      <td>8493.4656</td>\n",
       "    </tr>\n",
       "    <tr>\n",
       "      <th>28</th>\n",
       "      <td>106.09</td>\n",
       "      <td>10.3</td>\n",
       "      <td>1.0</td>\n",
       "      <td>1092.727</td>\n",
       "      <td>11255.0881</td>\n",
       "    </tr>\n",
       "    <tr>\n",
       "      <th>29</th>\n",
       "      <td>110.25</td>\n",
       "      <td>10.5</td>\n",
       "      <td>1.0</td>\n",
       "      <td>1157.625</td>\n",
       "      <td>12155.0625</td>\n",
       "    </tr>\n",
       "  </tbody>\n",
       "</table>\n",
       "</div>"
      ],
      "text/plain": [
       "         A     B    C         D           E\n",
       "0     1.21   1.1  1.0     1.331      1.4641\n",
       "1     1.69   1.3  1.0     2.197      2.8561\n",
       "2     2.25   1.5  1.0     3.375      5.0625\n",
       "3     4.00   2.0  1.0     8.000     16.0000\n",
       "4     4.84   2.2  1.0    10.648     23.4256\n",
       "5     8.41   2.9  1.0    24.389     70.7281\n",
       "6     9.00   3.0  1.0    27.000     81.0000\n",
       "7    10.24   3.2  1.0    32.768    104.8576\n",
       "8    10.24   3.2  1.0    32.768    104.8576\n",
       "9    13.69   3.7  1.0    50.653    187.4161\n",
       "10   15.21   3.9  1.0    59.319    231.3441\n",
       "11   16.00   4.0  1.0    64.000    256.0000\n",
       "12   16.00   4.0  1.0    64.000    256.0000\n",
       "13   16.81   4.1  1.0    68.921    282.5761\n",
       "14   20.25   4.5  1.0    91.125    410.0625\n",
       "15   24.01   4.9  1.0   117.649    576.4801\n",
       "16   26.01   5.1  1.0   132.651    676.5201\n",
       "17   28.09   5.3  1.0   148.877    789.0481\n",
       "18   34.81   5.9  1.0   205.379   1211.7361\n",
       "19   36.00   6.0  1.0   216.000   1296.0000\n",
       "20   46.24   6.8  1.0   314.432   2138.1376\n",
       "21   50.41   7.1  1.0   357.911   2541.1681\n",
       "22   62.41   7.9  1.0   493.039   3895.0081\n",
       "23   67.24   8.2  1.0   551.368   4521.2176\n",
       "24   75.69   8.7  1.0   658.503   5728.9761\n",
       "25   81.00   9.0  1.0   729.000   6561.0000\n",
       "26   90.25   9.5  1.0   857.375   8145.0625\n",
       "27   92.16   9.6  1.0   884.736   8493.4656\n",
       "28  106.09  10.3  1.0  1092.727  11255.0881\n",
       "29  110.25  10.5  1.0  1157.625  12155.0625"
      ]
     },
     "execution_count": 103,
     "metadata": {},
     "output_type": "execute_result"
    }
   ],
   "source": [
    "Dataset1"
   ]
  },
  {
   "cell_type": "code",
   "execution_count": 105,
   "id": "424dbce3",
   "metadata": {},
   "outputs": [
    {
     "data": {
      "text/plain": [
       "LinearRegression()"
      ]
     },
     "execution_count": 105,
     "metadata": {},
     "output_type": "execute_result"
    }
   ],
   "source": [
    "model2 = LinearRegression()\n",
    "model2.fit(Dataset1, df['Salary'])"
   ]
  },
  {
   "cell_type": "code",
   "execution_count": 107,
   "id": "5e226b53",
   "metadata": {},
   "outputs": [],
   "source": [
    "y_pred2 = model2.predict(Dataset1)"
   ]
  },
  {
   "cell_type": "code",
   "execution_count": 108,
   "id": "bd4e1fd5",
   "metadata": {},
   "outputs": [
    {
     "data": {
      "text/plain": [
       "[<matplotlib.lines.Line2D at 0x15cbc074f40>]"
      ]
     },
     "execution_count": 108,
     "metadata": {},
     "output_type": "execute_result"
    },
    {
     "data": {
      "image/png": "[encoded data removed]",
      "text/plain": [
       "<Figure size 432x288 with 1 Axes>"
      ]
     },
     "metadata": {
      "needs_background": "light"
     },
     "output_type": "display_data"
    }
   ],
   "source": [
    "plt.scatter(df['YearsExperience'], df['Salary'], c='red')    # actual points   Plotting for 4D poly Reg\n",
    "plt.plot(df['YearsExperience'], y_pred2, c='blue')         # predicted salary"
   ]
  },
  {
   "cell_type": "code",
   "execution_count": 122,
   "id": "7f3d771e",
   "metadata": {},
   "outputs": [
    {
     "data": {
      "text/plain": [
       "array([ 1.78881114e+04, -3.78592241e+04,  1.38243195e-10, -2.62015785e+03,\n",
       "        1.21412352e+02])"
      ]
     },
     "execution_count": 122,
     "metadata": {},
     "output_type": "execute_result"
    }
   ],
   "source": [
    "model2.coef_       # Values of coeffs of x in 4D polynomial eq."
   ]
  },
  {
   "cell_type": "code",
   "execution_count": 126,
   "id": "78aa925e",
   "metadata": {},
   "outputs": [],
   "source": [
    "# To get directly polynomial values\n",
    "from sklearn.preprocessing import PolynomialFeatures"
   ]
  },
  {
   "cell_type": "code",
   "execution_count": 129,
   "id": "8210bc9e",
   "metadata": {},
   "outputs": [],
   "source": [
    "poly = PolynomialFeatures(degree = 3)\n",
    "D3 = poly.fit_transform(df[['YearsExperience']])"
   ]
  },
  {
   "cell_type": "code",
   "execution_count": 132,
   "id": "7e46616c",
   "metadata": {},
   "outputs": [
    {
     "data": {
      "text/plain": [
       "array([[1.000000e+00, 1.100000e+00, 1.210000e+00, 1.331000e+00],\n",
       "       [1.000000e+00, 1.300000e+00, 1.690000e+00, 2.197000e+00],\n",
       "       [1.000000e+00, 1.500000e+00, 2.250000e+00, 3.375000e+00],\n",
       "       [1.000000e+00, 2.000000e+00, 4.000000e+00, 8.000000e+00],\n",
       "       [1.000000e+00, 2.200000e+00, 4.840000e+00, 1.064800e+01],\n",
       "       [1.000000e+00, 2.900000e+00, 8.410000e+00, 2.438900e+01],\n",
       "       [1.000000e+00, 3.000000e+00, 9.000000e+00, 2.700000e+01],\n",
       "       [1.000000e+00, 3.200000e+00, 1.024000e+01, 3.276800e+01],\n",
       "       [1.000000e+00, 3.200000e+00, 1.024000e+01, 3.276800e+01],\n",
       "       [1.000000e+00, 3.700000e+00, 1.369000e+01, 5.065300e+01],\n",
       "       [1.000000e+00, 3.900000e+00, 1.521000e+01, 5.931900e+01],\n",
       "       [1.000000e+00, 4.000000e+00, 1.600000e+01, 6.400000e+01],\n",
       "       [1.000000e+00, 4.000000e+00, 1.600000e+01, 6.400000e+01],\n",
       "       [1.000000e+00, 4.100000e+00, 1.681000e+01, 6.892100e+01],\n",
       "       [1.000000e+00, 4.500000e+00, 2.025000e+01, 9.112500e+01],\n",
       "       [1.000000e+00, 4.900000e+00, 2.401000e+01, 1.176490e+02],\n",
       "       [1.000000e+00, 5.100000e+00, 2.601000e+01, 1.326510e+02],\n",
       "       [1.000000e+00, 5.300000e+00, 2.809000e+01, 1.488770e+02],\n",
       "       [1.000000e+00, 5.900000e+00, 3.481000e+01, 2.053790e+02],\n",
       "       [1.000000e+00, 6.000000e+00, 3.600000e+01, 2.160000e+02],\n",
       "       [1.000000e+00, 6.800000e+00, 4.624000e+01, 3.144320e+02],\n",
       "       [1.000000e+00, 7.100000e+00, 5.041000e+01, 3.579110e+02],\n",
       "       [1.000000e+00, 7.900000e+00, 6.241000e+01, 4.930390e+02],\n",
       "       [1.000000e+00, 8.200000e+00, 6.724000e+01, 5.513680e+02],\n",
       "       [1.000000e+00, 8.700000e+00, 7.569000e+01, 6.585030e+02],\n",
       "       [1.000000e+00, 9.000000e+00, 8.100000e+01, 7.290000e+02],\n",
       "       [1.000000e+00, 9.500000e+00, 9.025000e+01, 8.573750e+02],\n",
       "       [1.000000e+00, 9.600000e+00, 9.216000e+01, 8.847360e+02],\n",
       "       [1.000000e+00, 1.030000e+01, 1.060900e+02, 1.092727e+03],\n",
       "       [1.000000e+00, 1.050000e+01, 1.102500e+02, 1.157625e+03]])"
      ]
     },
     "execution_count": 132,
     "metadata": {},
     "output_type": "execute_result"
    }
   ],
   "source": [
    "D3  # A=1, B=x^1, C=x^2 D=x^3"
   ]
  },
  {
   "cell_type": "code",
   "execution_count": null,
   "id": "8772ce0a",
   "metadata": {},
   "outputs": [],
   "source": []
  }
 ],
 "metadata": {
  "kernelspec": {
   "display_name": "Python 3",
   "language": "python",
   "name": "python3"
  },
  "language_info": {
   "codemirror_mode": {
    "name": "ipython",
    "version": 3
   },
   "file_extension": ".py",
   "mimetype": "text/x-python",
   "name": "python",
   "nbconvert_exporter": "python",
   "pygments_lexer": "ipython3",
   "version": "3.8.8"
  }
 },
 "nbformat": 4,
 "nbformat_minor": 5
}
