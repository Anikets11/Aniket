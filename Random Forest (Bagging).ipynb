{
 "cells": [
  {
   "cell_type": "code",
   "execution_count": 1,
   "id": "795f408f",
   "metadata": {},
   "outputs": [],
   "source": [
    "# Ensembel Learning:- If we use group of models to get the o/p on large dataset then it will be simple & less complex than single model\n",
    "# This is called as 'Ensembel Learning'. there are 2 types of it, 1) Bagging 2) Boosting\n",
    "# If we use the same data set for multi[ple DT, then it will give same accuracy for all. This problem is solved by 'Bagging'"
   ]
  },
  {
   "cell_type": "code",
   "execution_count": 2,
   "id": "fc918ae6",
   "metadata": {},
   "outputs": [],
   "source": [
    "# Bagging:- In this, we will make small subsets of dataset with random no of rows and colms. called as 'Row & Col sampling'\n",
    "# Bootstraping:- Then we will create seperate DT for every subset and find out for every DT\n",
    "# Aggregation:- On basis of Majority of o/p of all individual DT, It will predict the o/p of given query pt. Aggregation "
   ]
  },
  {
   "cell_type": "code",
   "execution_count": 3,
   "id": "9213ea2c",
   "metadata": {},
   "outputs": [],
   "source": [
    "# As we are providing samll data set to every DT, there are less chances of Overfitting & every DT will give better Accurcy\n",
    "# This is why Bootstraping and Aggregation (Bagging) is used"
   ]
  },
  {
   "cell_type": "markdown",
   "id": "e920182a",
   "metadata": {},
   "source": [
    "# Random Forest"
   ]
  },
  {
   "cell_type": "code",
   "execution_count": 4,
   "id": "1c52b9a5",
   "metadata": {},
   "outputs": [],
   "source": [
    "# Random Forest:- (Bootstraping of multiple trees) Every Tree works independently and Parallely in Random Forest"
   ]
  },
  {
   "cell_type": "markdown",
   "id": "2790f293",
   "metadata": {},
   "source": [
    "# Implementation of RF"
   ]
  },
  {
   "cell_type": "code",
   "execution_count": 5,
   "id": "07a22d3c",
   "metadata": {},
   "outputs": [],
   "source": [
    "import pandas as pd\n",
    "import numpy as np\n",
    "import matplotlib.pyplot as plt"
   ]
  },
  {
   "cell_type": "code",
   "execution_count": 6,
   "id": "ac065a21",
   "metadata": {},
   "outputs": [],
   "source": [
    "df = pd.read_csv('../Social_Network_Ads.csv')"
   ]
  },
  {
   "cell_type": "code",
   "execution_count": 7,
   "id": "be395151",
   "metadata": {},
   "outputs": [
    {
     "data": {
      "text/html": [
       "<div>\n",
       "<style scoped>\n",
       "    .dataframe tbody tr th:only-of-type {\n",
       "        vertical-align: middle;\n",
       "    }\n",
       "\n",
       "    .dataframe tbody tr th {\n",
       "        vertical-align: top;\n",
       "    }\n",
       "\n",
       "    .dataframe thead th {\n",
       "        text-align: right;\n",
       "    }\n",
       "</style>\n",
       "<table border=\"1\" class=\"dataframe\">\n",
       "  <thead>\n",
       "    <tr style=\"text-align: right;\">\n",
       "      <th></th>\n",
       "      <th>User ID</th>\n",
       "      <th>Gender</th>\n",
       "      <th>Age</th>\n",
       "      <th>EstimatedSalary</th>\n",
       "      <th>Purchased</th>\n",
       "    </tr>\n",
       "  </thead>\n",
       "  <tbody>\n",
       "    <tr>\n",
       "      <th>0</th>\n",
       "      <td>15624510</td>\n",
       "      <td>Male</td>\n",
       "      <td>19</td>\n",
       "      <td>19000</td>\n",
       "      <td>0</td>\n",
       "    </tr>\n",
       "    <tr>\n",
       "      <th>1</th>\n",
       "      <td>15810944</td>\n",
       "      <td>Male</td>\n",
       "      <td>35</td>\n",
       "      <td>20000</td>\n",
       "      <td>0</td>\n",
       "    </tr>\n",
       "    <tr>\n",
       "      <th>2</th>\n",
       "      <td>15668575</td>\n",
       "      <td>Female</td>\n",
       "      <td>26</td>\n",
       "      <td>43000</td>\n",
       "      <td>0</td>\n",
       "    </tr>\n",
       "    <tr>\n",
       "      <th>3</th>\n",
       "      <td>15603246</td>\n",
       "      <td>Female</td>\n",
       "      <td>27</td>\n",
       "      <td>57000</td>\n",
       "      <td>0</td>\n",
       "    </tr>\n",
       "    <tr>\n",
       "      <th>4</th>\n",
       "      <td>15804002</td>\n",
       "      <td>Male</td>\n",
       "      <td>19</td>\n",
       "      <td>76000</td>\n",
       "      <td>0</td>\n",
       "    </tr>\n",
       "  </tbody>\n",
       "</table>\n",
       "</div>"
      ],
      "text/plain": [
       "    User ID  Gender  Age  EstimatedSalary  Purchased\n",
       "0  15624510    Male   19            19000          0\n",
       "1  15810944    Male   35            20000          0\n",
       "2  15668575  Female   26            43000          0\n",
       "3  15603246  Female   27            57000          0\n",
       "4  15804002    Male   19            76000          0"
      ]
     },
     "execution_count": 7,
     "metadata": {},
     "output_type": "execute_result"
    }
   ],
   "source": [
    "df.head()"
   ]
  },
  {
   "cell_type": "code",
   "execution_count": 8,
   "id": "d7c025a6",
   "metadata": {},
   "outputs": [],
   "source": [
    "X = df[['Age', 'EstimatedSalary']]\n",
    "y = df['Purchased']"
   ]
  },
  {
   "cell_type": "code",
   "execution_count": 9,
   "id": "edef6d49",
   "metadata": {},
   "outputs": [],
   "source": [
    "from sklearn.model_selection import train_test_split"
   ]
  },
  {
   "cell_type": "code",
   "execution_count": 10,
   "id": "f0b96e6f",
   "metadata": {},
   "outputs": [],
   "source": [
    "X_train,X_test, y_train, y_test = train_test_split(X, y, test_size=0.25, random_state=52)"
   ]
  },
  {
   "cell_type": "code",
   "execution_count": 11,
   "id": "f170fffe",
   "metadata": {},
   "outputs": [],
   "source": [
    "from sklearn.ensemble import RandomForestClassifier"
   ]
  },
  {
   "cell_type": "code",
   "execution_count": 12,
   "id": "a4dcd42b",
   "metadata": {},
   "outputs": [
    {
     "data": {
      "text/plain": [
       "RandomForestClassifier(n_estimators=50, random_state=50)"
      ]
     },
     "execution_count": 12,
     "metadata": {},
     "output_type": "execute_result"
    }
   ],
   "source": [
    "model = RandomForestClassifier(n_estimators=50, random_state=50)#n_estimators- we have to provid no of trees req. in forest\n",
    "model.fit(X_train, y_train)"
   ]
  },
  {
   "cell_type": "code",
   "execution_count": 13,
   "id": "3d5b52bb",
   "metadata": {},
   "outputs": [
    {
     "data": {
      "text/plain": [
       "(0.9966666666666667, 0.92)"
      ]
     },
     "execution_count": 13,
     "metadata": {},
     "output_type": "execute_result"
    }
   ],
   "source": [
    "model.score(X_train, y_train), model.score(X_test, y_test)"
   ]
  },
  {
   "cell_type": "code",
   "execution_count": 18,
   "id": "bdddba7a",
   "metadata": {},
   "outputs": [],
   "source": [
    "dict1 = {'criterion':['gini', 'entropy'],\n",
    "         'max_depth':[2,3,4,5,6], \n",
    "         'min_samples_leaf':[2,3,4,5,6], \n",
    "         'min_samples_split':[2,3,4,5,6],\n",
    "        'n_estimators':[25, 50, 75, 100, 125, 150]} # Here, we have to provide n_estimator in dict"
   ]
  },
  {
   "cell_type": "code",
   "execution_count": 19,
   "id": "edb46a20",
   "metadata": {},
   "outputs": [],
   "source": [
    "from sklearn.model_selection import GridSearchCV"
   ]
  },
  {
   "cell_type": "code",
   "execution_count": 20,
   "id": "956668d6",
   "metadata": {},
   "outputs": [
    {
     "data": {
      "text/plain": [
       "GridSearchCV(cv=5, estimator=RandomForestClassifier(),\n",
       "             param_grid={'criterion': ['gini', 'entropy'],\n",
       "                         'max_depth': [2, 3, 4, 5, 6],\n",
       "                         'min_samples_leaf': [2, 3, 4, 5, 6],\n",
       "                         'min_samples_split': [2, 3, 4, 5, 6],\n",
       "                         'n_estimators': [25, 50, 75, 100, 125, 150]})"
      ]
     },
     "execution_count": 20,
     "metadata": {},
     "output_type": "execute_result"
    }
   ],
   "source": [
    "grid_cv = GridSearchCV(RandomForestClassifier(), dict1, cv = 5, n_jobs =-1) \n",
    "grid_cv.fit(X_train, y_train) # Use n_jobs= -1 to use all cores of CPU otherwise will take lot much time for GridSearchCV"
   ]
  },
  {
   "cell_type": "code",
   "execution_count": 24,
   "id": "69b152d3",
   "metadata": {},
   "outputs": [
    {
     "data": {
      "text/plain": [
       "{'criterion': 'gini',\n",
       " 'max_depth': 2,\n",
       " 'min_samples_leaf': 5,\n",
       " 'min_samples_split': 2,\n",
       " 'n_estimators': 25}"
      ]
     },
     "execution_count": 24,
     "metadata": {},
     "output_type": "execute_result"
    }
   ],
   "source": [
    "grid_cv.best_params_  # Find out Best combinations of parameters in RF trees"
   ]
  },
  {
   "cell_type": "code",
   "execution_count": 42,
   "id": "20ec33a4",
   "metadata": {},
   "outputs": [
    {
     "data": {
      "text/plain": [
       "0.92"
      ]
     },
     "execution_count": 42,
     "metadata": {},
     "output_type": "execute_result"
    }
   ],
   "source": [
    "model_final=RandomForestClassifier(max_depth=2, min_samples_leaf=5, min_samples_split=2, n_estimators=25, random_state=50) \n",
    "model_final.fit(X_train, y_train)\n",
    "model_final.score(X_test, y_test) # Train the model on best combinations and find out the accuracy"
   ]
  },
  {
   "cell_type": "code",
   "execution_count": 38,
   "id": "3c8b211d",
   "metadata": {},
   "outputs": [],
   "source": [
    "dict1 = {'criterion':['gini', 'entropy'],\n",
    "         'max_depth':[2,3,4,5,6], \n",
    "         'min_samples_leaf':[2,3,4,5,6], \n",
    "         'min_samples_split':[2,3,4,5,6],\n",
    "        'n_estimators':[5, 10, 15, 20]}"
   ]
  },
  {
   "cell_type": "code",
   "execution_count": 30,
   "id": "fb470d3f",
   "metadata": {},
   "outputs": [],
   "source": [
    "from sklearn.model_selection import GridSearchCV"
   ]
  },
  {
   "cell_type": "code",
   "execution_count": 32,
   "id": "dc7aed1f",
   "metadata": {},
   "outputs": [
    {
     "data": {
      "text/plain": [
       "GridSearchCV(cv=5, estimator=RandomForestClassifier(), n_jobs=-1,\n",
       "             param_grid={'criterion': ['gini', 'entropy'],\n",
       "                         'max_depth': [2, 3, 4, 5, 6],\n",
       "                         'min_samples_leaf': [2, 3, 4, 5, 6],\n",
       "                         'min_samples_split': [2, 3, 4, 5, 6],\n",
       "                         'n_estimators': [5, 10, 15, 20]})"
      ]
     },
     "execution_count": 32,
     "metadata": {},
     "output_type": "execute_result"
    }
   ],
   "source": [
    "Grid_cv = GridSearchCV(RandomForestClassifier(), dict1, cv=5, n_jobs = -1)\n",
    "Grid_cv.fit(X_train, y_train)"
   ]
  },
  {
   "cell_type": "code",
   "execution_count": 33,
   "id": "b3d1e48a",
   "metadata": {},
   "outputs": [
    {
     "data": {
      "text/plain": [
       "RandomForestClassifier(criterion='entropy', max_depth=5, min_samples_leaf=2,\n",
       "                       n_estimators=10)"
      ]
     },
     "execution_count": 33,
     "metadata": {},
     "output_type": "execute_result"
    }
   ],
   "source": [
    "Grid_cv.best_estimator_"
   ]
  },
  {
   "cell_type": "code",
   "execution_count": 43,
   "id": "fac49bc8",
   "metadata": {},
   "outputs": [
    {
     "data": {
      "text/plain": [
       "0.93"
      ]
     },
     "execution_count": 43,
     "metadata": {},
     "output_type": "execute_result"
    }
   ],
   "source": [
    "model = RandomForestClassifier(criterion='entropy', max_depth=5, min_samples_leaf=2, n_estimators=10, random_state=50)\n",
    "model.fit(X_train, y_train)\n",
    "model.score(X_test, y_test)"
   ]
  },
  {
   "cell_type": "code",
   "execution_count": null,
   "id": "0f1aee05",
   "metadata": {},
   "outputs": [],
   "source": []
  }
 ],
 "metadata": {
  "kernelspec": {
   "display_name": "Python 3",
   "language": "python",
   "name": "python3"
  },
  "language_info": {
   "codemirror_mode": {
    "name": "ipython",
    "version": 3
   },
   "file_extension": ".py",
   "mimetype": "text/x-python",
   "name": "python",
   "nbconvert_exporter": "python",
   "pygments_lexer": "ipython3",
   "version": "3.8.8"
  }
 },
 "nbformat": 4,
 "nbformat_minor": 5
}
