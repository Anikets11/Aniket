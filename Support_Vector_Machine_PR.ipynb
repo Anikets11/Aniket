{
 "cells": [
  {
   "cell_type": "markdown",
   "id": "6d944d6b",
   "metadata": {},
   "source": [
    "# Supprot Vector Machine (SVM)"
   ]
  },
  {
   "cell_type": "code",
   "execution_count": 1,
   "id": "367a32de",
   "metadata": {},
   "outputs": [],
   "source": [
    "# SVM :- Basically used for images and videos, Facial recgnition\n",
    "#Here two classes are separated by decision boundry ie a hyper-plane(Margin). There shouldn't be any point present on plane\n",
    "# We try on maximize the width of DB (increase margin). width of margin is limited by points present on boundry line.\n",
    "# These limiting points are indicted by vectors, so the points are called as 'Support Vectors'"
   ]
  },
  {
   "cell_type": "code",
   "execution_count": 2,
   "id": "6f630419",
   "metadata": {},
   "outputs": [],
   "source": [
    "# Kernal trick:- In SVM, it converts the given data into 1D higher data by creating a new column (1D to 2D, 2D to 3D.. etc)\n",
    "# After that it finds a hyper plane to separate the data into 2 parts."
   ]
  },
  {
   "cell_type": "code",
   "execution_count": 3,
   "id": "b8bc6efd",
   "metadata": {},
   "outputs": [],
   "source": [
    "# Polynomial kernal:- The equatiion used to create new col in the form of square. eg x1= sqr(x0) or x2 = sqr(x0) + sqr(x1)\n",
    "# Radial Basis Func/Guassian Func:- It gives o/p curve in the form of bell shape. x1 = a.e^ (- (x-b)^2/ 2(c)^2)\n",
    "# Sigmoid Kernal:- Sigmoid function is used to distinguish between two classes"
   ]
  },
  {
   "cell_type": "markdown",
   "id": "85bff2cf",
   "metadata": {},
   "source": [
    "# Implementation of SVM"
   ]
  },
  {
   "cell_type": "code",
   "execution_count": 4,
   "id": "98b459a7",
   "metadata": {},
   "outputs": [],
   "source": [
    "import pandas as pd\n",
    "import matplotlib.pyplot as plt"
   ]
  },
  {
   "cell_type": "code",
   "execution_count": 5,
   "id": "8891811c",
   "metadata": {},
   "outputs": [],
   "source": [
    "df = pd.read_csv('../Social_Network_Ads.csv')"
   ]
  },
  {
   "cell_type": "code",
   "execution_count": 6,
   "id": "ad369a48",
   "metadata": {},
   "outputs": [
    {
     "data": {
      "text/html": [
       "<div>\n",
       "<style scoped>\n",
       "    .dataframe tbody tr th:only-of-type {\n",
       "        vertical-align: middle;\n",
       "    }\n",
       "\n",
       "    .dataframe tbody tr th {\n",
       "        vertical-align: top;\n",
       "    }\n",
       "\n",
       "    .dataframe thead th {\n",
       "        text-align: right;\n",
       "    }\n",
       "</style>\n",
       "<table border=\"1\" class=\"dataframe\">\n",
       "  <thead>\n",
       "    <tr style=\"text-align: right;\">\n",
       "      <th></th>\n",
       "      <th>User ID</th>\n",
       "      <th>Gender</th>\n",
       "      <th>Age</th>\n",
       "      <th>EstimatedSalary</th>\n",
       "      <th>Purchased</th>\n",
       "    </tr>\n",
       "  </thead>\n",
       "  <tbody>\n",
       "    <tr>\n",
       "      <th>0</th>\n",
       "      <td>15624510</td>\n",
       "      <td>Male</td>\n",
       "      <td>19</td>\n",
       "      <td>19000</td>\n",
       "      <td>0</td>\n",
       "    </tr>\n",
       "    <tr>\n",
       "      <th>1</th>\n",
       "      <td>15810944</td>\n",
       "      <td>Male</td>\n",
       "      <td>35</td>\n",
       "      <td>20000</td>\n",
       "      <td>0</td>\n",
       "    </tr>\n",
       "    <tr>\n",
       "      <th>2</th>\n",
       "      <td>15668575</td>\n",
       "      <td>Female</td>\n",
       "      <td>26</td>\n",
       "      <td>43000</td>\n",
       "      <td>0</td>\n",
       "    </tr>\n",
       "    <tr>\n",
       "      <th>3</th>\n",
       "      <td>15603246</td>\n",
       "      <td>Female</td>\n",
       "      <td>27</td>\n",
       "      <td>57000</td>\n",
       "      <td>0</td>\n",
       "    </tr>\n",
       "    <tr>\n",
       "      <th>4</th>\n",
       "      <td>15804002</td>\n",
       "      <td>Male</td>\n",
       "      <td>19</td>\n",
       "      <td>76000</td>\n",
       "      <td>0</td>\n",
       "    </tr>\n",
       "    <tr>\n",
       "      <th>...</th>\n",
       "      <td>...</td>\n",
       "      <td>...</td>\n",
       "      <td>...</td>\n",
       "      <td>...</td>\n",
       "      <td>...</td>\n",
       "    </tr>\n",
       "    <tr>\n",
       "      <th>395</th>\n",
       "      <td>15691863</td>\n",
       "      <td>Female</td>\n",
       "      <td>46</td>\n",
       "      <td>41000</td>\n",
       "      <td>1</td>\n",
       "    </tr>\n",
       "    <tr>\n",
       "      <th>396</th>\n",
       "      <td>15706071</td>\n",
       "      <td>Male</td>\n",
       "      <td>51</td>\n",
       "      <td>23000</td>\n",
       "      <td>1</td>\n",
       "    </tr>\n",
       "    <tr>\n",
       "      <th>397</th>\n",
       "      <td>15654296</td>\n",
       "      <td>Female</td>\n",
       "      <td>50</td>\n",
       "      <td>20000</td>\n",
       "      <td>1</td>\n",
       "    </tr>\n",
       "    <tr>\n",
       "      <th>398</th>\n",
       "      <td>15755018</td>\n",
       "      <td>Male</td>\n",
       "      <td>36</td>\n",
       "      <td>33000</td>\n",
       "      <td>0</td>\n",
       "    </tr>\n",
       "    <tr>\n",
       "      <th>399</th>\n",
       "      <td>15594041</td>\n",
       "      <td>Female</td>\n",
       "      <td>49</td>\n",
       "      <td>36000</td>\n",
       "      <td>1</td>\n",
       "    </tr>\n",
       "  </tbody>\n",
       "</table>\n",
       "<p>400 rows × 5 columns</p>\n",
       "</div>"
      ],
      "text/plain": [
       "      User ID  Gender  Age  EstimatedSalary  Purchased\n",
       "0    15624510    Male   19            19000          0\n",
       "1    15810944    Male   35            20000          0\n",
       "2    15668575  Female   26            43000          0\n",
       "3    15603246  Female   27            57000          0\n",
       "4    15804002    Male   19            76000          0\n",
       "..        ...     ...  ...              ...        ...\n",
       "395  15691863  Female   46            41000          1\n",
       "396  15706071    Male   51            23000          1\n",
       "397  15654296  Female   50            20000          1\n",
       "398  15755018    Male   36            33000          0\n",
       "399  15594041  Female   49            36000          1\n",
       "\n",
       "[400 rows x 5 columns]"
      ]
     },
     "execution_count": 6,
     "metadata": {},
     "output_type": "execute_result"
    }
   ],
   "source": [
    "df"
   ]
  },
  {
   "cell_type": "code",
   "execution_count": 7,
   "id": "46c8f8e3",
   "metadata": {},
   "outputs": [],
   "source": [
    "X = df[['Age', 'EstimatedSalary']]\n",
    "y = df['Purchased']"
   ]
  },
  {
   "cell_type": "code",
   "execution_count": 8,
   "id": "ca096952",
   "metadata": {},
   "outputs": [],
   "source": [
    "# Train Test Split\n",
    "from sklearn.model_selection import train_test_split"
   ]
  },
  {
   "cell_type": "code",
   "execution_count": 9,
   "id": "a2a9fd43",
   "metadata": {},
   "outputs": [],
   "source": [
    "X_train, X_test, y_train, y_test = train_test_split(X, y, test_size = 0.25, random_state=52) "
   ]
  },
  {
   "cell_type": "code",
   "execution_count": 10,
   "id": "336a2784",
   "metadata": {},
   "outputs": [],
   "source": [
    "# Scaling is required as we need to find out plane to separate the 2 classes where GD is used\n",
    "from sklearn.preprocessing import MinMaxScaler"
   ]
  },
  {
   "cell_type": "code",
   "execution_count": 11,
   "id": "7f3f6d0a",
   "metadata": {},
   "outputs": [
    {
     "data": {
      "text/plain": [
       "MinMaxScaler()"
      ]
     },
     "execution_count": 11,
     "metadata": {},
     "output_type": "execute_result"
    }
   ],
   "source": [
    "scaler = MinMaxScaler()\n",
    "scaler.fit (X_train)  # Used to find out minimum and maximum values of X_train"
   ]
  },
  {
   "cell_type": "code",
   "execution_count": 12,
   "id": "c5543bca",
   "metadata": {},
   "outputs": [],
   "source": [
    "X_train_scaled = scaler.transform(X_train)\n",
    "X_test_scaled = scaler.transform(X_test)"
   ]
  },
  {
   "cell_type": "code",
   "execution_count": 13,
   "id": "def636c8",
   "metadata": {},
   "outputs": [],
   "source": [
    "from sklearn.svm import SVC"
   ]
  },
  {
   "cell_type": "code",
   "execution_count": 14,
   "id": "9ae3b973",
   "metadata": {},
   "outputs": [
    {
     "data": {
      "text/plain": [
       "SVC(kernel='linear')"
      ]
     },
     "execution_count": 14,
     "metadata": {},
     "output_type": "execute_result"
    }
   ],
   "source": [
    "# Linear kernal\n",
    "model_linear = SVC(kernel='linear') # We have to specify which kernal is to be used (eg.{'linear', 'poly', 'rbf', 'sigmoid', 'precomputed'})\n",
    "model_linear.fit(X_train_scaled, y_train)  # train the model"
   ]
  },
  {
   "cell_type": "code",
   "execution_count": 15,
   "id": "f0ac4ca2",
   "metadata": {},
   "outputs": [
    {
     "data": {
      "text/plain": [
       "(0.8366666666666667, 0.79)"
      ]
     },
     "execution_count": 15,
     "metadata": {},
     "output_type": "execute_result"
    }
   ],
   "source": [
    "model_linear.score(X_train_scaled, y_train), model_linear.score(X_test_scaled, y_test)  # find the score"
   ]
  },
  {
   "cell_type": "code",
   "execution_count": 16,
   "id": "b2cdca5c",
   "metadata": {},
   "outputs": [
    {
     "data": {
      "text/plain": [
       "(0.9, 0.87)"
      ]
     },
     "execution_count": 16,
     "metadata": {},
     "output_type": "execute_result"
    }
   ],
   "source": [
    "# polynomial Kernal\n",
    "model_poly = SVC(kernel='poly')\n",
    "model_poly.fit(X_train_scaled, y_train)\n",
    "model_poly.score(X_train_scaled, y_train), model_poly.score(X_test_scaled, y_test)"
   ]
  },
  {
   "cell_type": "code",
   "execution_count": 17,
   "id": "904c3027",
   "metadata": {},
   "outputs": [
    {
     "data": {
      "text/plain": [
       "(0.91, 0.92)"
      ]
     },
     "execution_count": 17,
     "metadata": {},
     "output_type": "execute_result"
    }
   ],
   "source": [
    "# rbf Kernal:- Generally useful for complicated data\n",
    "model_rbf = SVC(kernel='rbf')\n",
    "model_rbf.fit(X_train_scaled, y_train)\n",
    "model_rbf.score(X_train_scaled, y_train), model_rbf.score(X_test_scaled, y_test)"
   ]
  },
  {
   "cell_type": "code",
   "execution_count": 18,
   "id": "67d3141b",
   "metadata": {},
   "outputs": [
    {
     "data": {
      "text/plain": [
       "(0.36666666666666664, 0.32)"
      ]
     },
     "execution_count": 18,
     "metadata": {},
     "output_type": "execute_result"
    }
   ],
   "source": [
    "# sigmoid Kernal\n",
    "model_sigm = SVC(kernel='sigmoid')\n",
    "model_sigm.fit(X_train_scaled, y_train)\n",
    "model_sigm.score(X_train_scaled, y_train), model_sigm.score(X_test_scaled, y_test)"
   ]
  },
  {
   "cell_type": "markdown",
   "id": "2d2cef50",
   "metadata": {},
   "source": [
    "# Visualise Decision Boundry/ hyper plane"
   ]
  },
  {
   "cell_type": "code",
   "execution_count": 19,
   "id": "0980ccdf",
   "metadata": {},
   "outputs": [],
   "source": [
    "import numpy as np"
   ]
  },
  {
   "cell_type": "code",
   "execution_count": 20,
   "id": "c2b0dcab",
   "metadata": {},
   "outputs": [],
   "source": [
    "col = row = np.arange(0,1,0.01)"
   ]
  },
  {
   "cell_type": "code",
   "execution_count": 21,
   "id": "bacef6df",
   "metadata": {},
   "outputs": [],
   "source": [
    "grid = []\n",
    "for r in row:\n",
    "    for c in col:\n",
    "        grid.append([r,c])"
   ]
  },
  {
   "cell_type": "code",
   "execution_count": 22,
   "id": "4766c33d",
   "metadata": {},
   "outputs": [],
   "source": [
    "grid = np.array(grid)"
   ]
  },
  {
   "cell_type": "code",
   "execution_count": 23,
   "id": "46dab646",
   "metadata": {},
   "outputs": [
    {
     "data": {
      "text/plain": [
       "array([[0.  , 0.  ],\n",
       "       [0.  , 0.01],\n",
       "       [0.  , 0.02],\n",
       "       ...,\n",
       "       [0.99, 0.97],\n",
       "       [0.99, 0.98],\n",
       "       [0.99, 0.99]])"
      ]
     },
     "execution_count": 23,
     "metadata": {},
     "output_type": "execute_result"
    }
   ],
   "source": [
    "grid"
   ]
  },
  {
   "cell_type": "code",
   "execution_count": 24,
   "id": "91afff54",
   "metadata": {},
   "outputs": [
    {
     "data": {
      "text/plain": [
       "<matplotlib.collections.PathCollection at 0x1cf95623490>"
      ]
     },
     "execution_count": 24,
     "metadata": {},
     "output_type": "execute_result"
    },
    {
     "data": {
      "image/png": "[encoded data removed]",
      "text/plain": [
       "<Figure size 432x288 with 1 Axes>"
      ]
     },
     "metadata": {
      "needs_background": "light"
     },
     "output_type": "display_data"
    }
   ],
   "source": [
    "# Plotting decision boundry for linear kernal\n",
    "y_pred = model_linear.predict(grid)\n",
    "class_0 = grid[y_pred == 0]\n",
    "class_1 = grid[y_pred == 1]\n",
    "plt.scatter(class_0[:,0], class_0[:,1], c ='red' )\n",
    "plt.scatter(class_1[:,0], class_1[:,1], c ='blue' )"
   ]
  },
  {
   "cell_type": "code",
   "execution_count": 25,
   "id": "e574f945",
   "metadata": {},
   "outputs": [
    {
     "data": {
      "text/plain": [
       "<matplotlib.collections.PathCollection at 0x1cf95cecb50>"
      ]
     },
     "execution_count": 25,
     "metadata": {},
     "output_type": "execute_result"
    },
    {
     "data": {
      "image/png": "[encoded data removed]",
      "text/plain": [
       "<Figure size 432x288 with 1 Axes>"
      ]
     },
     "metadata": {
      "needs_background": "light"
     },
     "output_type": "display_data"
    }
   ],
   "source": [
    "# Plotting decision boundry for polynomial kernal\n",
    "y_pred = model_poly.predict(grid)\n",
    "class_0 = grid[y_pred == 0]\n",
    "class_1 = grid[y_pred == 1]\n",
    "plt.scatter(class_0[:,0], class_0[:,1], c ='red' )\n",
    "plt.scatter(class_1[:,0], class_1[:,1], c ='blue' )"
   ]
  },
  {
   "cell_type": "code",
   "execution_count": 26,
   "id": "c80f4742",
   "metadata": {},
   "outputs": [
    {
     "data": {
      "text/plain": [
       "<matplotlib.collections.PathCollection at 0x1cf95d560a0>"
      ]
     },
     "execution_count": 26,
     "metadata": {},
     "output_type": "execute_result"
    },
    {
     "data": {
      "image/png": "[encoded data removed]",
      "text/plain": [
       "<Figure size 432x288 with 1 Axes>"
      ]
     },
     "metadata": {
      "needs_background": "light"
     },
     "output_type": "display_data"
    }
   ],
   "source": [
    "# Plotting decision boundry for rbf kernal\n",
    "y_pred = model_rbf.predict(grid)\n",
    "class_0 = grid[y_pred == 0]\n",
    "class_1 = grid[y_pred == 1]\n",
    "plt.scatter(class_0[:,0], class_0[:,1], c ='red' )\n",
    "plt.scatter(class_1[:,0], class_1[:,1], c ='blue' )"
   ]
  },
  {
   "cell_type": "code",
   "execution_count": 27,
   "id": "af6413fd",
   "metadata": {},
   "outputs": [
    {
     "data": {
      "text/plain": [
       "<matplotlib.collections.PathCollection at 0x1cf95da8cd0>"
      ]
     },
     "execution_count": 27,
     "metadata": {},
     "output_type": "execute_result"
    },
    {
     "data": {
      "image/png": "[encoded data removed]",
      "text/plain": [
       "<Figure size 432x288 with 1 Axes>"
      ]
     },
     "metadata": {
      "needs_background": "light"
     },
     "output_type": "display_data"
    }
   ],
   "source": [
    "# Plotting decision boundry for sigmoid kernal\n",
    "y_pred = model_sigm.predict(grid)\n",
    "class_0 = grid[y_pred == 0]\n",
    "class_1 = grid[y_pred == 1]\n",
    "plt.scatter(class_0[:,0], class_0[:,1], c ='red' )\n",
    "plt.scatter(class_1[:,0], class_1[:,1], c ='blue' )"
   ]
  },
  {
   "cell_type": "code",
   "execution_count": null,
   "id": "6870a578",
   "metadata": {},
   "outputs": [],
   "source": []
  }
 ],
 "metadata": {
  "kernelspec": {
   "display_name": "Python 3",
   "language": "python",
   "name": "python3"
  },
  "language_info": {
   "codemirror_mode": {
    "name": "ipython",
    "version": 3
   },
   "file_extension": ".py",
   "mimetype": "text/x-python",
   "name": "python",
   "nbconvert_exporter": "python",
   "pygments_lexer": "ipython3",
   "version": "3.8.8"
  }
 },
 "nbformat": 4,
 "nbformat_minor": 5
}
