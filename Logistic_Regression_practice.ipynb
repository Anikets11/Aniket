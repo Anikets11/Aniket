{
 "cells": [
  {
   "cell_type": "markdown",
   "id": "53dc1f7e",
   "metadata": {},
   "source": [
    "# CLASSIFICATION:-"
   ]
  },
  {
   "cell_type": "markdown",
   "id": "9f8a5632",
   "metadata": {},
   "source": [
    "# Logistic Regression :-"
   ]
  },
  {
   "cell_type": "code",
   "execution_count": 1,
   "id": "c2610a8a",
   "metadata": {},
   "outputs": [],
   "source": [
    "# In logistic reg. we use line as a Decision Boundry to classify the given data points into 2 groups."
   ]
  },
  {
   "cell_type": "code",
   "execution_count": 2,
   "id": "76d3b3e1",
   "metadata": {},
   "outputs": [
    {
     "data": {
      "text/plain": [
       "\"' In both reg. we use Best fit line as a ML model (So, called as regression), but in LR BFL is used to predict future\\nvalues and in Logistic reg. we use line to classify the data into 2 groups.\\nEquatioin  for Logistic Regression = Sigmoid (f(x))  \""
      ]
     },
     "execution_count": 2,
     "metadata": {},
     "output_type": "execute_result"
    }
   ],
   "source": [
    "# Difference between LR and logistic Reg. Why it is used in classification as still it is Regression?\n",
    "'''' In both reg. we use Best fit line as a ML model (So, called as regression), but in LR BFL is used to predict future\n",
    "values and in Logistic reg. we use line to classify the data into 2 groups.\n",
    "Equatioin  for Logistic Regression = Sigmoid (f(x))  '''"
   ]
  },
  {
   "cell_type": "code",
   "execution_count": 3,
   "id": "b31496a8",
   "metadata": {},
   "outputs": [],
   "source": [
    "# Logistic Function:-Also called as 'Sigmoid function' gives the output of any value passed to it as either 'Zero' or 'One'\n",
    "# for +ve values :- o/p = 1, for -ve values :- o/p = 0, for 0 :- o/p = 0.5 which we treat it as zero (0)\n",
    "# Sigmoid Function :- sigmoid(x) = (1/(1 + e^(-x)))  :- O/P = 0 or 1"
   ]
  },
  {
   "cell_type": "code",
   "execution_count": 4,
   "id": "a3a933de",
   "metadata": {},
   "outputs": [],
   "source": [
    "# Cost/Error function :- It gives us wheather predicted Decision Boundry (DB) gives correct clissification or not\n",
    "# Cost function = - Ya.log(Yp) - (1 - Ya).log(1 - Yp)"
   ]
  },
  {
   "cell_type": "code",
   "execution_count": 5,
   "id": "7a6547fb",
   "metadata": {},
   "outputs": [],
   "source": [
    "import pandas as pd\n",
    "import matplotlib.pyplot as plt"
   ]
  },
  {
   "cell_type": "code",
   "execution_count": 6,
   "id": "64732aac",
   "metadata": {},
   "outputs": [],
   "source": [
    "df = pd.read_csv('../Social_Network_Ads.csv')"
   ]
  },
  {
   "cell_type": "code",
   "execution_count": 7,
   "id": "2d1f20a7",
   "metadata": {},
   "outputs": [
    {
     "data": {
      "text/html": [
       "<div>\n",
       "<style scoped>\n",
       "    .dataframe tbody tr th:only-of-type {\n",
       "        vertical-align: middle;\n",
       "    }\n",
       "\n",
       "    .dataframe tbody tr th {\n",
       "        vertical-align: top;\n",
       "    }\n",
       "\n",
       "    .dataframe thead th {\n",
       "        text-align: right;\n",
       "    }\n",
       "</style>\n",
       "<table border=\"1\" class=\"dataframe\">\n",
       "  <thead>\n",
       "    <tr style=\"text-align: right;\">\n",
       "      <th></th>\n",
       "      <th>User ID</th>\n",
       "      <th>Gender</th>\n",
       "      <th>Age</th>\n",
       "      <th>EstimatedSalary</th>\n",
       "      <th>Purchased</th>\n",
       "    </tr>\n",
       "  </thead>\n",
       "  <tbody>\n",
       "    <tr>\n",
       "      <th>0</th>\n",
       "      <td>15624510</td>\n",
       "      <td>Male</td>\n",
       "      <td>19</td>\n",
       "      <td>19000</td>\n",
       "      <td>0</td>\n",
       "    </tr>\n",
       "    <tr>\n",
       "      <th>1</th>\n",
       "      <td>15810944</td>\n",
       "      <td>Male</td>\n",
       "      <td>35</td>\n",
       "      <td>20000</td>\n",
       "      <td>0</td>\n",
       "    </tr>\n",
       "    <tr>\n",
       "      <th>2</th>\n",
       "      <td>15668575</td>\n",
       "      <td>Female</td>\n",
       "      <td>26</td>\n",
       "      <td>43000</td>\n",
       "      <td>0</td>\n",
       "    </tr>\n",
       "    <tr>\n",
       "      <th>3</th>\n",
       "      <td>15603246</td>\n",
       "      <td>Female</td>\n",
       "      <td>27</td>\n",
       "      <td>57000</td>\n",
       "      <td>0</td>\n",
       "    </tr>\n",
       "    <tr>\n",
       "      <th>4</th>\n",
       "      <td>15804002</td>\n",
       "      <td>Male</td>\n",
       "      <td>19</td>\n",
       "      <td>76000</td>\n",
       "      <td>0</td>\n",
       "    </tr>\n",
       "    <tr>\n",
       "      <th>...</th>\n",
       "      <td>...</td>\n",
       "      <td>...</td>\n",
       "      <td>...</td>\n",
       "      <td>...</td>\n",
       "      <td>...</td>\n",
       "    </tr>\n",
       "    <tr>\n",
       "      <th>395</th>\n",
       "      <td>15691863</td>\n",
       "      <td>Female</td>\n",
       "      <td>46</td>\n",
       "      <td>41000</td>\n",
       "      <td>1</td>\n",
       "    </tr>\n",
       "    <tr>\n",
       "      <th>396</th>\n",
       "      <td>15706071</td>\n",
       "      <td>Male</td>\n",
       "      <td>51</td>\n",
       "      <td>23000</td>\n",
       "      <td>1</td>\n",
       "    </tr>\n",
       "    <tr>\n",
       "      <th>397</th>\n",
       "      <td>15654296</td>\n",
       "      <td>Female</td>\n",
       "      <td>50</td>\n",
       "      <td>20000</td>\n",
       "      <td>1</td>\n",
       "    </tr>\n",
       "    <tr>\n",
       "      <th>398</th>\n",
       "      <td>15755018</td>\n",
       "      <td>Male</td>\n",
       "      <td>36</td>\n",
       "      <td>33000</td>\n",
       "      <td>0</td>\n",
       "    </tr>\n",
       "    <tr>\n",
       "      <th>399</th>\n",
       "      <td>15594041</td>\n",
       "      <td>Female</td>\n",
       "      <td>49</td>\n",
       "      <td>36000</td>\n",
       "      <td>1</td>\n",
       "    </tr>\n",
       "  </tbody>\n",
       "</table>\n",
       "<p>400 rows × 5 columns</p>\n",
       "</div>"
      ],
      "text/plain": [
       "      User ID  Gender  Age  EstimatedSalary  Purchased\n",
       "0    15624510    Male   19            19000          0\n",
       "1    15810944    Male   35            20000          0\n",
       "2    15668575  Female   26            43000          0\n",
       "3    15603246  Female   27            57000          0\n",
       "4    15804002    Male   19            76000          0\n",
       "..        ...     ...  ...              ...        ...\n",
       "395  15691863  Female   46            41000          1\n",
       "396  15706071    Male   51            23000          1\n",
       "397  15654296  Female   50            20000          1\n",
       "398  15755018    Male   36            33000          0\n",
       "399  15594041  Female   49            36000          1\n",
       "\n",
       "[400 rows x 5 columns]"
      ]
     },
     "execution_count": 7,
     "metadata": {},
     "output_type": "execute_result"
    }
   ],
   "source": [
    "df"
   ]
  },
  {
   "cell_type": "code",
   "execution_count": 8,
   "id": "30852dcb",
   "metadata": {},
   "outputs": [],
   "source": [
    "X = df[['Age','EstimatedSalary']]\n",
    "y = df['Purchased']"
   ]
  },
  {
   "cell_type": "code",
   "execution_count": 9,
   "id": "b621dc34",
   "metadata": {},
   "outputs": [
    {
     "data": {
      "text/plain": [
       "<matplotlib.collections.PathCollection at 0x260f20d3fd0>"
      ]
     },
     "execution_count": 9,
     "metadata": {},
     "output_type": "execute_result"
    },
    {
     "data": {
      "image/png": "[encoded data removed]",
      "text/plain": [
       "<Figure size 432x288 with 1 Axes>"
      ]
     },
     "metadata": {
      "needs_background": "light"
     },
     "output_type": "display_data"
    }
   ],
   "source": [
    "plt.scatter(df['Age'], df['EstimatedSalary'])"
   ]
  },
  {
   "cell_type": "code",
   "execution_count": 10,
   "id": "befc3a05",
   "metadata": {},
   "outputs": [],
   "source": [
    "class_0 = df[df['Purchased'] == 0] # Assigning not purchased values to class_0\n",
    "class_1= df[df['Purchased'] == 1]  # Assigning purchased values to class_1"
   ]
  },
  {
   "cell_type": "code",
   "execution_count": 11,
   "id": "d4e29844",
   "metadata": {},
   "outputs": [
    {
     "data": {
      "text/plain": [
       "<matplotlib.collections.PathCollection at 0x260f28a9c40>"
      ]
     },
     "execution_count": 11,
     "metadata": {},
     "output_type": "execute_result"
    },
    {
     "data": {
      "image/png": "[encoded data removed]",
      "text/plain": [
       "<Figure size 432x288 with 1 Axes>"
      ]
     },
     "metadata": {
      "needs_background": "light"
     },
     "output_type": "display_data"
    }
   ],
   "source": [
    "plt.scatter(class_0['Age'], class_0['EstimatedSalary'], c ='blue') # class_0 points are indicated by blue color\n",
    "plt.scatter(class_1['Age'], class_1['EstimatedSalary'], c ='red')  # class_1 points are indicated by red color"
   ]
  },
  {
   "cell_type": "code",
   "execution_count": 12,
   "id": "b27ebefd",
   "metadata": {},
   "outputs": [],
   "source": [
    "from sklearn.linear_model import LogisticRegression"
   ]
  },
  {
   "cell_type": "code",
   "execution_count": 13,
   "id": "59cd822b",
   "metadata": {},
   "outputs": [
    {
     "data": {
      "text/plain": [
       "LogisticRegression()"
      ]
     },
     "execution_count": 13,
     "metadata": {},
     "output_type": "execute_result"
    }
   ],
   "source": [
    "model = LogisticRegression() #Creating empty object for Log. Reg.\n",
    "model.fit(X,y)  # GD for finding out Best fit Line"
   ]
  },
  {
   "cell_type": "code",
   "execution_count": 14,
   "id": "c1c4bc5b",
   "metadata": {},
   "outputs": [
    {
     "data": {
      "text/plain": [
       "0.6425"
      ]
     },
     "execution_count": 14,
     "metadata": {},
     "output_type": "execute_result"
    }
   ],
   "source": [
    "model.score(X,y) # It is of no use"
   ]
  },
  {
   "cell_type": "code",
   "execution_count": 15,
   "id": "ef48f3a0",
   "metadata": {},
   "outputs": [
    {
     "data": {
      "text/plain": [
       "array([0, 0, 0, 0, 0, 0, 0, 0, 0, 0, 0, 0, 0, 0, 0, 0, 0, 0, 0, 0, 0, 0,\n",
       "       0, 0, 0, 0, 0, 0, 0, 0, 0, 0, 0, 0, 0, 0, 0, 0, 0, 0, 0, 0, 0, 0,\n",
       "       0, 0, 0, 0, 0, 0, 0, 0, 0, 0, 0, 0, 0, 0, 0, 0, 0, 0, 0, 0, 0, 0,\n",
       "       0, 0, 0, 0, 0, 0, 0, 0, 0, 0, 0, 0, 0, 0, 0, 0, 0, 0, 0, 0, 0, 0,\n",
       "       0, 0, 0, 0, 0, 0, 0, 0, 0, 0, 0, 0, 0, 0, 0, 0, 0, 0, 0, 0, 0, 0,\n",
       "       0, 0, 0, 0, 0, 0, 0, 0, 0, 0, 0, 0, 0, 0, 0, 0, 0, 0, 0, 0, 0, 0,\n",
       "       0, 0, 0, 0, 0, 0, 0, 0, 0, 0, 0, 0, 0, 0, 0, 0, 0, 0, 0, 0, 0, 0,\n",
       "       0, 0, 0, 0, 0, 0, 0, 0, 0, 0, 0, 0, 0, 0, 0, 0, 0, 0, 0, 0, 0, 0,\n",
       "       0, 0, 0, 0, 0, 0, 0, 0, 0, 0, 0, 0, 0, 0, 0, 0, 0, 0, 0, 0, 0, 0,\n",
       "       0, 0, 0, 0, 0, 0, 0, 0, 0, 0, 0, 0, 0, 0, 0, 0, 0, 0, 0, 0, 0, 0,\n",
       "       0, 0, 0, 0, 0, 0, 0, 0, 0, 0, 0, 0, 0, 0, 0, 0, 0, 0, 0, 0, 0, 0,\n",
       "       0, 0, 0, 0, 0, 0, 0, 0, 0, 0, 0, 0, 0, 0, 0, 0, 0, 0, 0, 0, 0, 0,\n",
       "       0, 0, 0, 0, 0, 0, 0, 0, 0, 0, 0, 0, 0, 0, 0, 0, 0, 0, 0, 0, 0, 0,\n",
       "       0, 0, 0, 0, 0, 0, 0, 0, 0, 0, 0, 0, 0, 0, 0, 0, 0, 0, 0, 0, 0, 0,\n",
       "       0, 0, 0, 0, 0, 0, 0, 0, 0, 0, 0, 0, 0, 0, 0, 0, 0, 0, 0, 0, 0, 0,\n",
       "       0, 0, 0, 0, 0, 0, 0, 0, 0, 0, 0, 0, 0, 0, 0, 0, 0, 0, 0, 0, 0, 0,\n",
       "       0, 0, 0, 0, 0, 0, 0, 0, 0, 0, 0, 0, 0, 0, 0, 0, 0, 0, 0, 0, 0, 0,\n",
       "       0, 0, 0, 0, 0, 0, 0, 0, 0, 0, 0, 0, 0, 0, 0, 0, 0, 0, 0, 0, 0, 0,\n",
       "       0, 0, 0, 0], dtype=int64)"
      ]
     },
     "execution_count": 15,
     "metadata": {},
     "output_type": "execute_result"
    }
   ],
   "source": [
    "yp = model.predict(X)  # It predict all values as 0\n",
    "yp"
   ]
  },
  {
   "cell_type": "code",
   "execution_count": 16,
   "id": "4c74aa73",
   "metadata": {},
   "outputs": [
    {
     "data": {
      "text/plain": [
       "array([-2.24944689e-10])"
      ]
     },
     "execution_count": 16,
     "metadata": {},
     "output_type": "execute_result"
    }
   ],
   "source": [
    "model.intercept_   # Values are very less"
   ]
  },
  {
   "cell_type": "code",
   "execution_count": 17,
   "id": "9d54caab",
   "metadata": {},
   "outputs": [
    {
     "data": {
      "text/plain": [
       "array([[-2.10415172e-09, -2.69301403e-06]])"
      ]
     },
     "execution_count": 17,
     "metadata": {},
     "output_type": "execute_result"
    }
   ],
   "source": [
    "model.coef_  #Values are very less because the data provided is not properly scalled. For good score, we have to scale data"
   ]
  },
  {
   "cell_type": "code",
   "execution_count": 18,
   "id": "2cceb321",
   "metadata": {},
   "outputs": [],
   "source": [
    "# MinMax_Scaling:- Here, both parameters are having values at different scale ie. Age (20 to 60) and Salary (20k to 140k)\n",
    "# It becomes difficult to use GD in such data. We have to do scalling everytime when using GD\n",
    "# So, we have bring all parameters of X on same scale ie. in between 0 to 1. minimum value is considered as 0 and max as 1\n",
    "# All values will be scalled in between 0 and 1 (ie. Age 20 = 0 and age 60 = 1 and salary 20k = 0 and 140k = 1 and all values will be inbetween 0 and 1)"
   ]
  },
  {
   "cell_type": "code",
   "execution_count": 19,
   "id": "c9161c39",
   "metadata": {},
   "outputs": [],
   "source": [
    "#  X-scalled = ((Xi - Xmin)/(Xmax - Xmin))"
   ]
  },
  {
   "cell_type": "code",
   "execution_count": 20,
   "id": "24fb1f3c",
   "metadata": {},
   "outputs": [],
   "source": [
    "from sklearn.preprocessing import MinMaxScaler"
   ]
  },
  {
   "cell_type": "code",
   "execution_count": 21,
   "id": "fe25abac",
   "metadata": {},
   "outputs": [],
   "source": [
    "scaler = MinMaxScaler()"
   ]
  },
  {
   "cell_type": "code",
   "execution_count": 22,
   "id": "22761bc5",
   "metadata": {},
   "outputs": [],
   "source": [
    "scaler.fit(X)  # Used to find out Min and Max value of X. only used for X not for y\n",
    "X_scaled = scaler.transform(X)  # Applies the scaller formula to all values of X column"
   ]
  },
  {
   "cell_type": "code",
   "execution_count": 23,
   "id": "981a68cb",
   "metadata": {},
   "outputs": [
    {
     "data": {
      "text/plain": [
       "array([[0.02380952, 0.02962963],\n",
       "       [0.4047619 , 0.03703704],\n",
       "       [0.19047619, 0.20740741],\n",
       "       [0.21428571, 0.31111111],\n",
       "       [0.02380952, 0.45185185],\n",
       "       [0.21428571, 0.31851852],\n",
       "       [0.21428571, 0.51111111],\n",
       "       [0.33333333, 1.        ],\n",
       "       [0.16666667, 0.13333333],\n",
       "       [0.4047619 , 0.37037037],\n",
       "       [0.19047619, 0.48148148],\n",
       "       [0.19047619, 0.27407407],\n",
       "       [0.04761905, 0.52592593],\n",
       "       [0.33333333, 0.02222222],\n",
       "       [0.        , 0.4962963 ],\n",
       "       [0.26190476, 0.48148148],\n",
       "       [0.69047619, 0.07407407],\n",
       "       [0.64285714, 0.08148148],\n",
       "       [0.66666667, 0.0962963 ],\n",
       "       [0.71428571, 0.1037037 ],\n",
       "       [0.64285714, 0.05185185],\n",
       "       [0.69047619, 0.25185185],\n",
       "       [0.71428571, 0.19259259],\n",
       "       [0.64285714, 0.05185185],\n",
       "       [0.66666667, 0.05925926],\n",
       "       [0.69047619, 0.03703704],\n",
       "       [0.73809524, 0.0962963 ],\n",
       "       [0.69047619, 0.11111111],\n",
       "       [0.26190476, 0.20740741],\n",
       "       [0.30952381, 0.02222222],\n",
       "       [0.30952381, 0.43703704],\n",
       "       [0.21428571, 0.9037037 ],\n",
       "       [0.07142857, 0.00740741],\n",
       "       [0.23809524, 0.21481481],\n",
       "       [0.21428571, 0.55555556],\n",
       "       [0.4047619 , 0.08888889],\n",
       "       [0.35714286, 0.0962963 ],\n",
       "       [0.28571429, 0.25185185],\n",
       "       [0.19047619, 0.42222222],\n",
       "       [0.21428571, 0.11851852],\n",
       "       [0.21428571, 0.01481481],\n",
       "       [0.35714286, 0.26666667],\n",
       "       [0.4047619 , 0.68888889],\n",
       "       [0.28571429, 0.        ],\n",
       "       [0.23809524, 0.51111111],\n",
       "       [0.11904762, 0.03703704],\n",
       "       [0.16666667, 0.47407407],\n",
       "       [0.21428571, 0.28888889],\n",
       "       [0.28571429, 0.88888889],\n",
       "       [0.30952381, 0.54814815],\n",
       "       [0.14285714, 0.12592593],\n",
       "       [0.        , 0.21481481],\n",
       "       [0.26190476, 0.5037037 ],\n",
       "       [0.4047619 , 0.05925926],\n",
       "       [0.21428571, 0.31851852],\n",
       "       [0.14285714, 0.2962963 ],\n",
       "       [0.11904762, 0.24444444],\n",
       "       [0.23809524, 0.47407407],\n",
       "       [0.0952381 , 0.02222222],\n",
       "       [0.33333333, 0.75555556],\n",
       "       [0.21428571, 0.03703704],\n",
       "       [0.16666667, 0.53333333],\n",
       "       [0.11904762, 0.37777778],\n",
       "       [0.33333333, 0.77777778],\n",
       "       [0.97619048, 0.5037037 ],\n",
       "       [0.14285714, 0.31851852],\n",
       "       [0.14285714, 0.02962963],\n",
       "       [0.11904762, 0.4962963 ],\n",
       "       [0.0952381 , 0.35555556],\n",
       "       [0.30952381, 0.39259259],\n",
       "       [0.16666667, 0.48148148],\n",
       "       [0.14285714, 0.08888889],\n",
       "       [0.04761905, 0.05925926],\n",
       "       [0.35714286, 0.72592593],\n",
       "       [0.33333333, 0.02222222],\n",
       "       [0.38095238, 0.71851852],\n",
       "       [0.        , 0.27407407],\n",
       "       [0.0952381 , 0.08888889],\n",
       "       [0.23809524, 0.53333333],\n",
       "       [0.19047619, 0.01481481],\n",
       "       [0.28571429, 0.48148148],\n",
       "       [0.5       , 0.2       ],\n",
       "       [0.04761905, 0.25185185],\n",
       "       [0.4047619 , 0.54074074],\n",
       "       [0.28571429, 0.34814815],\n",
       "       [0.30952381, 0.76296296],\n",
       "       [0.14285714, 0.2962963 ],\n",
       "       [0.23809524, 0.51851852],\n",
       "       [0.19047619, 0.48888889],\n",
       "       [0.4047619 , 0.25925926],\n",
       "       [0.0952381 , 0.48888889],\n",
       "       [0.28571429, 0.74814815],\n",
       "       [0.19047619, 0.        ],\n",
       "       [0.26190476, 0.0962963 ],\n",
       "       [0.26190476, 0.5037037 ],\n",
       "       [0.4047619 , 0.21481481],\n",
       "       [0.4047619 , 0.07407407],\n",
       "       [0.23809524, 0.8       ],\n",
       "       [0.4047619 , 0.42962963],\n",
       "       [0.23809524, 0.16296296],\n",
       "       [0.21428571, 0.54074074],\n",
       "       [0.23809524, 0.32592593],\n",
       "       [0.33333333, 0.52592593],\n",
       "       [0.35714286, 0.99259259],\n",
       "       [0.02380952, 0.04444444],\n",
       "       [0.07142857, 0.42222222],\n",
       "       [0.19047619, 0.14814815],\n",
       "       [0.21428571, 0.54814815],\n",
       "       [0.19047619, 0.52592593],\n",
       "       [0.47619048, 0.48148148],\n",
       "       [0.5       , 0.41481481],\n",
       "       [0.45238095, 0.41481481],\n",
       "       [0.47619048, 0.34074074],\n",
       "       [0.45238095, 0.2962963 ],\n",
       "       [0.57142857, 0.48148148],\n",
       "       [0.52380952, 0.31111111],\n",
       "       [0.4047619 , 0.44444444],\n",
       "       [0.42857143, 0.27407407],\n",
       "       [0.52380952, 0.32592593],\n",
       "       [0.54761905, 0.32592593],\n",
       "       [0.42857143, 0.44444444],\n",
       "       [0.45238095, 0.42222222],\n",
       "       [0.52380952, 0.44444444],\n",
       "       [0.4047619 , 0.28148148],\n",
       "       [0.54761905, 0.26666667],\n",
       "       [0.5       , 0.34074074],\n",
       "       [0.57142857, 0.37037037],\n",
       "       [0.19047619, 0.12592593],\n",
       "       [0.28571429, 0.01481481],\n",
       "       [0.19047619, 0.51111111],\n",
       "       [0.30952381, 0.31851852],\n",
       "       [0.35714286, 0.11851852],\n",
       "       [0.28571429, 0.53333333],\n",
       "       [0.07142857, 0.39259259],\n",
       "       [0.23809524, 0.2962963 ],\n",
       "       [0.11904762, 0.35555556],\n",
       "       [0.04761905, 0.4962963 ],\n",
       "       [0.28571429, 0.68148148],\n",
       "       [0.23809524, 0.32592593],\n",
       "       [0.02380952, 0.07407407],\n",
       "       [0.02380952, 0.51851852],\n",
       "       [0.        , 0.39259259],\n",
       "       [0.4047619 , 0.32592593],\n",
       "       [0.28571429, 0.54814815],\n",
       "       [0.38095238, 0.07407407],\n",
       "       [0.14285714, 0.54814815],\n",
       "       [0.21428571, 0.6       ],\n",
       "       [0.54761905, 0.11111111],\n",
       "       [0.26190476, 0.34074074],\n",
       "       [0.04761905, 0.43703704],\n",
       "       [0.19047619, 0.        ],\n",
       "       [0.54761905, 0.22222222],\n",
       "       [0.30952381, 0.45185185],\n",
       "       [0.42857143, 0.25925926],\n",
       "       [0.52380952, 0.23703704],\n",
       "       [0.30952381, 0.        ],\n",
       "       [0.66666667, 0.32592593],\n",
       "       [0.26190476, 0.44444444],\n",
       "       [0.19047619, 0.11111111],\n",
       "       [0.33333333, 0.88888889],\n",
       "       [0.33333333, 0.62962963],\n",
       "       [0.16666667, 0.55555556],\n",
       "       [0.45238095, 0.13333333],\n",
       "       [0.4047619 , 0.17037037],\n",
       "       [0.35714286, 0.4       ],\n",
       "       [0.        , 0.52592593],\n",
       "       [0.0952381 , 0.2962963 ],\n",
       "       [0.4047619 , 0.41481481],\n",
       "       [0.26190476, 0.98518519],\n",
       "       [0.26190476, 0.23703704],\n",
       "       [0.07142857, 0.54074074],\n",
       "       [0.38095238, 0.74074074],\n",
       "       [0.19047619, 0.76296296],\n",
       "       [0.38095238, 0.20740741],\n",
       "       [0.38095238, 0.42222222],\n",
       "       [0.11904762, 0.0962963 ],\n",
       "       [0.4047619 , 0.23703704],\n",
       "       [0.16666667, 0.05185185],\n",
       "       [0.14285714, 0.05925926],\n",
       "       [0.30952381, 0.14074074],\n",
       "       [0.19047619, 0.00740741],\n",
       "       [0.30952381, 0.41481481],\n",
       "       [0.33333333, 0.75555556],\n",
       "       [0.35714286, 0.20740741],\n",
       "       [0.35714286, 0.33333333],\n",
       "       [0.30952381, 0.37777778],\n",
       "       [0.04761905, 0.4962963 ],\n",
       "       [0.35714286, 0.19259259],\n",
       "       [0.4047619 , 0.42222222],\n",
       "       [0.23809524, 0.12592593],\n",
       "       [0.14285714, 0.51111111],\n",
       "       [0.02380952, 0.08148148],\n",
       "       [0.26190476, 0.20740741],\n",
       "       [0.02380952, 0.40740741],\n",
       "       [0.23809524, 0.54814815],\n",
       "       [0.38095238, 0.20740741],\n",
       "       [0.28571429, 0.47407407],\n",
       "       [0.04761905, 0.15555556],\n",
       "       [0.19047619, 0.48148148],\n",
       "       [0.4047619 , 0.05185185],\n",
       "       [0.4047619 , 0.17777778],\n",
       "       [0.73809524, 0.43703704],\n",
       "       [0.5       , 0.88148148],\n",
       "       [0.54761905, 0.41481481],\n",
       "       [0.95238095, 0.63703704],\n",
       "       [0.69047619, 0.23703704],\n",
       "       [0.88095238, 0.85185185],\n",
       "       [0.80952381, 0.73333333],\n",
       "       [0.52380952, 0.94074074],\n",
       "       [0.66666667, 0.05185185],\n",
       "       [0.71428571, 0.6       ],\n",
       "       [0.80952381, 1.        ],\n",
       "       [0.97619048, 0.2       ],\n",
       "       [0.4047619 , 0.31851852],\n",
       "       [0.69047619, 0.20740741],\n",
       "       [1.        , 0.68888889],\n",
       "       [0.73809524, 0.37037037],\n",
       "       [0.52380952, 0.46666667],\n",
       "       [0.66666667, 0.6       ],\n",
       "       [0.97619048, 0.94814815],\n",
       "       [0.54761905, 0.48148148],\n",
       "       [0.4047619 , 0.56296296],\n",
       "       [0.45238095, 0.95555556],\n",
       "       [1.        , 0.64444444],\n",
       "       [0.4047619 , 0.33333333],\n",
       "       [0.45238095, 0.28148148],\n",
       "       [0.42857143, 0.82222222],\n",
       "       [0.9047619 , 0.87407407],\n",
       "       [0.52380952, 0.42222222],\n",
       "       [0.57142857, 0.48148148],\n",
       "       [0.4047619 , 0.97777778],\n",
       "       [0.5       , 0.2       ],\n",
       "       [0.52380952, 0.68148148],\n",
       "       [0.73809524, 0.52592593],\n",
       "       [0.47619048, 0.71851852],\n",
       "       [0.66666667, 0.47407407],\n",
       "       [0.52380952, 0.31111111],\n",
       "       [0.45238095, 0.48148148],\n",
       "       [0.66666667, 0.4962963 ],\n",
       "       [0.83333333, 0.94814815],\n",
       "       [0.57142857, 0.99259259],\n",
       "       [0.47619048, 0.32592593],\n",
       "       [0.76190476, 0.54074074],\n",
       "       [0.9047619 , 0.65925926],\n",
       "       [0.54761905, 0.42222222],\n",
       "       [0.78571429, 0.97037037],\n",
       "       [0.4047619 , 0.25925926],\n",
       "       [0.92857143, 0.79259259],\n",
       "       [0.54761905, 0.27407407],\n",
       "       [0.4047619 , 0.60740741],\n",
       "       [0.61904762, 0.17777778],\n",
       "       [0.45238095, 0.27407407],\n",
       "       [0.71428571, 0.88148148],\n",
       "       [0.45238095, 0.97037037],\n",
       "       [0.76190476, 0.21481481],\n",
       "       [0.80952381, 0.55555556],\n",
       "       [0.54761905, 0.42222222],\n",
       "       [0.52380952, 0.31111111],\n",
       "       [0.95238095, 0.59259259],\n",
       "       [0.64285714, 0.85925926],\n",
       "       [0.4047619 , 0.45925926],\n",
       "       [0.42857143, 0.95555556],\n",
       "       [0.88095238, 0.81481481],\n",
       "       [0.4047619 , 0.42222222],\n",
       "       [0.71428571, 0.55555556],\n",
       "       [0.57142857, 0.68888889],\n",
       "       [0.52380952, 0.44444444],\n",
       "       [0.45238095, 0.43703704],\n",
       "       [0.69047619, 0.95555556],\n",
       "       [0.52380952, 0.34074074],\n",
       "       [0.5952381 , 0.87407407],\n",
       "       [0.97619048, 0.45185185],\n",
       "       [1.        , 0.2       ],\n",
       "       [0.5       , 0.67407407],\n",
       "       [0.92857143, 0.08148148],\n",
       "       [0.92857143, 0.43703704],\n",
       "       [0.47619048, 0.41481481],\n",
       "       [0.73809524, 0.54074074],\n",
       "       [0.80952381, 0.17037037],\n",
       "       [0.76190476, 0.15555556],\n",
       "       [0.97619048, 0.54074074],\n",
       "       [0.4047619 , 0.34074074],\n",
       "       [0.45238095, 0.40740741],\n",
       "       [0.80952381, 0.04444444],\n",
       "       [0.71428571, 0.93333333],\n",
       "       [0.45238095, 0.57777778],\n",
       "       [0.45238095, 0.34814815],\n",
       "       [0.71428571, 0.91111111],\n",
       "       [0.54761905, 0.47407407],\n",
       "       [0.45238095, 0.46666667],\n",
       "       [0.5       , 0.88148148],\n",
       "       [0.73809524, 0.54814815],\n",
       "       [0.88095238, 0.17777778],\n",
       "       [0.45238095, 0.45925926],\n",
       "       [0.4047619 , 0.31111111],\n",
       "       [0.42857143, 0.35555556],\n",
       "       [0.57142857, 0.42962963],\n",
       "       [0.5952381 , 0.71851852],\n",
       "       [0.64285714, 0.47407407],\n",
       "       [0.66666667, 0.75555556],\n",
       "       [0.95238095, 0.17037037],\n",
       "       [0.71428571, 0.43703704],\n",
       "       [0.45238095, 0.9037037 ],\n",
       "       [0.45238095, 0.47407407],\n",
       "       [0.52380952, 0.33333333],\n",
       "       [0.57142857, 0.28888889],\n",
       "       [0.78571429, 0.88148148],\n",
       "       [0.69047619, 0.72592593],\n",
       "       [0.42857143, 0.81481481],\n",
       "       [0.47619048, 0.25925926],\n",
       "       [0.57142857, 0.40740741],\n",
       "       [0.5       , 0.6       ],\n",
       "       [0.47619048, 0.25925926],\n",
       "       [0.73809524, 0.93333333],\n",
       "       [0.5       , 0.47407407],\n",
       "       [0.5       , 0.44444444],\n",
       "       [0.85714286, 0.65925926],\n",
       "       [0.4047619 , 0.2962963 ],\n",
       "       [0.64285714, 0.12592593],\n",
       "       [0.42857143, 0.33333333],\n",
       "       [0.80952381, 0.91111111],\n",
       "       [0.83333333, 0.4962963 ],\n",
       "       [0.54761905, 0.27407407],\n",
       "       [0.71428571, 0.11111111],\n",
       "       [0.71428571, 0.85925926],\n",
       "       [0.54761905, 0.33333333],\n",
       "       [0.54761905, 0.42222222],\n",
       "       [0.57142857, 0.44444444],\n",
       "       [0.42857143, 0.76296296],\n",
       "       [0.69047619, 0.68148148],\n",
       "       [0.47619048, 0.26666667],\n",
       "       [0.71428571, 0.77037037],\n",
       "       [0.57142857, 0.37037037],\n",
       "       [0.52380952, 0.37037037],\n",
       "       [0.92857143, 0.33333333],\n",
       "       [0.42857143, 0.28888889],\n",
       "       [0.95238095, 0.95555556],\n",
       "       [0.4047619 , 0.47407407],\n",
       "       [0.47619048, 0.2962963 ],\n",
       "       [0.5       , 0.79259259],\n",
       "       [0.83333333, 0.65925926],\n",
       "       [0.4047619 , 0.44444444],\n",
       "       [0.47619048, 0.37037037],\n",
       "       [0.69047619, 0.26666667],\n",
       "       [0.69047619, 0.66666667],\n",
       "       [0.54761905, 0.35555556],\n",
       "       [0.83333333, 0.42222222],\n",
       "       [0.85714286, 0.68888889],\n",
       "       [0.5       , 0.45925926],\n",
       "       [0.47619048, 0.34074074],\n",
       "       [0.47619048, 0.72592593],\n",
       "       [0.45238095, 0.44444444],\n",
       "       [0.57142857, 0.55555556],\n",
       "       [0.45238095, 0.31111111],\n",
       "       [0.42857143, 0.62222222],\n",
       "       [1.        , 0.14074074],\n",
       "       [0.85714286, 0.40740741],\n",
       "       [0.54761905, 0.42222222],\n",
       "       [0.52380952, 0.41481481],\n",
       "       [0.57142857, 0.28888889],\n",
       "       [0.5952381 , 0.84444444],\n",
       "       [0.83333333, 0.14074074],\n",
       "       [0.69047619, 0.25925926],\n",
       "       [0.57142857, 0.47407407],\n",
       "       [0.57142857, 0.65925926],\n",
       "       [0.97619048, 0.1037037 ],\n",
       "       [0.95238095, 0.23703704],\n",
       "       [0.66666667, 0.54074074],\n",
       "       [0.47619048, 0.41481481],\n",
       "       [0.85714286, 0.08148148],\n",
       "       [1.        , 0.22962963],\n",
       "       [1.        , 0.5037037 ],\n",
       "       [0.5       , 0.42962963],\n",
       "       [0.97619048, 0.85185185],\n",
       "       [0.45238095, 0.48148148],\n",
       "       [0.66666667, 0.12592593],\n",
       "       [0.66666667, 0.43703704],\n",
       "       [0.57142857, 0.28148148],\n",
       "       [0.54761905, 0.53333333],\n",
       "       [0.95238095, 0.05925926],\n",
       "       [0.57142857, 0.36296296],\n",
       "       [0.71428571, 0.13333333],\n",
       "       [0.61904762, 0.91851852],\n",
       "       [0.73809524, 0.0962963 ],\n",
       "       [0.92857143, 0.13333333],\n",
       "       [0.9047619 , 0.33333333],\n",
       "       [0.73809524, 0.17777778],\n",
       "       [0.5       , 0.41481481],\n",
       "       [0.69047619, 0.14074074],\n",
       "       [0.71428571, 0.14814815],\n",
       "       [0.71428571, 0.13333333],\n",
       "       [0.69047619, 0.05925926],\n",
       "       [0.64285714, 0.22222222],\n",
       "       [1.        , 0.2       ],\n",
       "       [0.5       , 0.32592593],\n",
       "       [0.66666667, 0.19259259],\n",
       "       [0.78571429, 0.05925926],\n",
       "       [0.76190476, 0.03703704],\n",
       "       [0.42857143, 0.13333333],\n",
       "       [0.73809524, 0.15555556]])"
      ]
     },
     "execution_count": 23,
     "metadata": {},
     "output_type": "execute_result"
    }
   ],
   "source": [
    "X_scaled    # o/p as numpy array"
   ]
  },
  {
   "cell_type": "code",
   "execution_count": 24,
   "id": "90dd93cc",
   "metadata": {},
   "outputs": [
    {
     "data": {
      "text/plain": [
       "LogisticRegression()"
      ]
     },
     "execution_count": 24,
     "metadata": {},
     "output_type": "execute_result"
    }
   ],
   "source": [
    "model = LogisticRegression()\n",
    "model.fit(X_scaled, y)"
   ]
  },
  {
   "cell_type": "code",
   "execution_count": 25,
   "id": "7838da29",
   "metadata": {},
   "outputs": [
    {
     "data": {
      "text/plain": [
       "0.83"
      ]
     },
     "execution_count": 25,
     "metadata": {},
     "output_type": "execute_result"
    }
   ],
   "source": [
    "model.score(X_scaled, y)     # improved than previous"
   ]
  },
  {
   "cell_type": "code",
   "execution_count": 26,
   "id": "bc286954",
   "metadata": {},
   "outputs": [
    {
     "data": {
      "text/plain": [
       "array([0, 0, 0, 0, 0, 0, 0, 1, 0, 0, 0, 0, 0, 0, 0, 0, 0, 0, 0, 0, 0, 0,\n",
       "       0, 0, 0, 0, 0, 0, 0, 0, 0, 0, 0, 0, 0, 0, 0, 0, 0, 0, 0, 0, 0, 0,\n",
       "       0, 0, 0, 0, 0, 0, 0, 0, 0, 0, 0, 0, 0, 0, 0, 0, 0, 0, 0, 0, 1, 0,\n",
       "       0, 0, 0, 0, 0, 0, 0, 0, 0, 0, 0, 0, 0, 0, 0, 0, 0, 0, 0, 0, 0, 0,\n",
       "       0, 0, 0, 0, 0, 0, 0, 0, 0, 0, 0, 0, 0, 0, 0, 1, 0, 0, 0, 0, 0, 0,\n",
       "       0, 0, 0, 0, 0, 0, 0, 0, 0, 0, 0, 0, 0, 0, 0, 0, 0, 0, 0, 0, 0, 0,\n",
       "       0, 0, 0, 0, 0, 0, 0, 0, 0, 0, 0, 0, 0, 0, 0, 0, 0, 0, 0, 0, 0, 0,\n",
       "       0, 0, 1, 0, 0, 0, 0, 0, 0, 0, 0, 0, 0, 0, 0, 0, 0, 0, 0, 0, 0, 0,\n",
       "       0, 0, 0, 0, 0, 0, 0, 0, 0, 0, 0, 0, 0, 0, 0, 0, 0, 0, 0, 0, 0, 0,\n",
       "       0, 0, 0, 1, 1, 0, 1, 0, 1, 1, 1, 0, 1, 1, 1, 0, 0, 1, 1, 0, 1, 1,\n",
       "       0, 0, 1, 1, 0, 0, 1, 1, 0, 0, 1, 0, 1, 1, 1, 1, 0, 0, 1, 1, 1, 0,\n",
       "       1, 1, 0, 1, 0, 1, 0, 0, 0, 0, 1, 1, 1, 1, 0, 0, 1, 1, 0, 1, 1, 0,\n",
       "       1, 1, 0, 0, 1, 0, 1, 1, 1, 1, 1, 1, 0, 1, 1, 1, 1, 0, 0, 1, 1, 0,\n",
       "       0, 1, 0, 0, 1, 1, 1, 0, 0, 0, 0, 1, 1, 1, 1, 1, 1, 0, 0, 0, 1, 1,\n",
       "       1, 0, 0, 0, 0, 1, 0, 0, 1, 0, 0, 0, 1, 1, 0, 0, 1, 0, 0, 0, 0, 1,\n",
       "       0, 1, 0, 0, 1, 0, 1, 0, 0, 1, 1, 0, 0, 1, 1, 0, 1, 1, 0, 0, 1, 0,\n",
       "       1, 0, 0, 1, 1, 0, 0, 0, 1, 1, 0, 0, 1, 1, 1, 1, 0, 1, 1, 1, 0, 1,\n",
       "       0, 0, 1, 0, 0, 1, 0, 0, 1, 0, 1, 1, 1, 0, 0, 0, 0, 0, 0, 1, 0, 0,\n",
       "       0, 0, 0, 0], dtype=int64)"
      ]
     },
     "execution_count": 26,
     "metadata": {},
     "output_type": "execute_result"
    }
   ],
   "source": [
    "yp = model.predict(X_scaled)       # It has some 1 values in it\n",
    "yp"
   ]
  },
  {
   "cell_type": "code",
   "execution_count": 27,
   "id": "891fc76a",
   "metadata": {},
   "outputs": [
    {
     "data": {
      "text/plain": [
       "array([-4.55319723])"
      ]
     },
     "execution_count": 27,
     "metadata": {},
     "output_type": "execute_result"
    }
   ],
   "source": [
    "model.intercept_   # improved than previous"
   ]
  },
  {
   "cell_type": "code",
   "execution_count": 28,
   "id": "fbab3a97",
   "metadata": {},
   "outputs": [
    {
     "data": {
      "text/plain": [
       "array([[5.535191  , 2.77997059]])"
      ]
     },
     "execution_count": 28,
     "metadata": {},
     "output_type": "execute_result"
    }
   ],
   "source": [
    "model.coef_       # improved than previous"
   ]
  },
  {
   "cell_type": "code",
   "execution_count": 29,
   "id": "aecdb855",
   "metadata": {},
   "outputs": [
    {
     "data": {
      "text/html": [
       "<div>\n",
       "<style scoped>\n",
       "    .dataframe tbody tr th:only-of-type {\n",
       "        vertical-align: middle;\n",
       "    }\n",
       "\n",
       "    .dataframe tbody tr th {\n",
       "        vertical-align: top;\n",
       "    }\n",
       "\n",
       "    .dataframe thead th {\n",
       "        text-align: right;\n",
       "    }\n",
       "</style>\n",
       "<table border=\"1\" class=\"dataframe\">\n",
       "  <thead>\n",
       "    <tr style=\"text-align: right;\">\n",
       "      <th></th>\n",
       "      <th>User ID</th>\n",
       "      <th>Gender</th>\n",
       "      <th>Age</th>\n",
       "      <th>EstimatedSalary</th>\n",
       "      <th>Purchased</th>\n",
       "    </tr>\n",
       "  </thead>\n",
       "  <tbody>\n",
       "    <tr>\n",
       "      <th>0</th>\n",
       "      <td>15624510</td>\n",
       "      <td>Male</td>\n",
       "      <td>19</td>\n",
       "      <td>19000</td>\n",
       "      <td>0</td>\n",
       "    </tr>\n",
       "    <tr>\n",
       "      <th>1</th>\n",
       "      <td>15810944</td>\n",
       "      <td>Male</td>\n",
       "      <td>35</td>\n",
       "      <td>20000</td>\n",
       "      <td>0</td>\n",
       "    </tr>\n",
       "    <tr>\n",
       "      <th>2</th>\n",
       "      <td>15668575</td>\n",
       "      <td>Female</td>\n",
       "      <td>26</td>\n",
       "      <td>43000</td>\n",
       "      <td>0</td>\n",
       "    </tr>\n",
       "    <tr>\n",
       "      <th>3</th>\n",
       "      <td>15603246</td>\n",
       "      <td>Female</td>\n",
       "      <td>27</td>\n",
       "      <td>57000</td>\n",
       "      <td>0</td>\n",
       "    </tr>\n",
       "    <tr>\n",
       "      <th>4</th>\n",
       "      <td>15804002</td>\n",
       "      <td>Male</td>\n",
       "      <td>19</td>\n",
       "      <td>76000</td>\n",
       "      <td>0</td>\n",
       "    </tr>\n",
       "    <tr>\n",
       "      <th>...</th>\n",
       "      <td>...</td>\n",
       "      <td>...</td>\n",
       "      <td>...</td>\n",
       "      <td>...</td>\n",
       "      <td>...</td>\n",
       "    </tr>\n",
       "    <tr>\n",
       "      <th>395</th>\n",
       "      <td>15691863</td>\n",
       "      <td>Female</td>\n",
       "      <td>46</td>\n",
       "      <td>41000</td>\n",
       "      <td>1</td>\n",
       "    </tr>\n",
       "    <tr>\n",
       "      <th>396</th>\n",
       "      <td>15706071</td>\n",
       "      <td>Male</td>\n",
       "      <td>51</td>\n",
       "      <td>23000</td>\n",
       "      <td>1</td>\n",
       "    </tr>\n",
       "    <tr>\n",
       "      <th>397</th>\n",
       "      <td>15654296</td>\n",
       "      <td>Female</td>\n",
       "      <td>50</td>\n",
       "      <td>20000</td>\n",
       "      <td>1</td>\n",
       "    </tr>\n",
       "    <tr>\n",
       "      <th>398</th>\n",
       "      <td>15755018</td>\n",
       "      <td>Male</td>\n",
       "      <td>36</td>\n",
       "      <td>33000</td>\n",
       "      <td>0</td>\n",
       "    </tr>\n",
       "    <tr>\n",
       "      <th>399</th>\n",
       "      <td>15594041</td>\n",
       "      <td>Female</td>\n",
       "      <td>49</td>\n",
       "      <td>36000</td>\n",
       "      <td>1</td>\n",
       "    </tr>\n",
       "  </tbody>\n",
       "</table>\n",
       "<p>400 rows × 5 columns</p>\n",
       "</div>"
      ],
      "text/plain": [
       "      User ID  Gender  Age  EstimatedSalary  Purchased\n",
       "0    15624510    Male   19            19000          0\n",
       "1    15810944    Male   35            20000          0\n",
       "2    15668575  Female   26            43000          0\n",
       "3    15603246  Female   27            57000          0\n",
       "4    15804002    Male   19            76000          0\n",
       "..        ...     ...  ...              ...        ...\n",
       "395  15691863  Female   46            41000          1\n",
       "396  15706071    Male   51            23000          1\n",
       "397  15654296  Female   50            20000          1\n",
       "398  15755018    Male   36            33000          0\n",
       "399  15594041  Female   49            36000          1\n",
       "\n",
       "[400 rows x 5 columns]"
      ]
     },
     "execution_count": 29,
     "metadata": {},
     "output_type": "execute_result"
    }
   ],
   "source": [
    "df"
   ]
  },
  {
   "cell_type": "code",
   "execution_count": 30,
   "id": "4244d284",
   "metadata": {},
   "outputs": [],
   "source": [
    "X = df[['Age', 'EstimatedSalary']]  # IMP to write df before column names\n",
    "y = df['Purchased']"
   ]
  },
  {
   "cell_type": "code",
   "execution_count": 31,
   "id": "7a722c8a",
   "metadata": {},
   "outputs": [],
   "source": [
    "from sklearn.model_selection import train_test_split"
   ]
  },
  {
   "cell_type": "code",
   "execution_count": 32,
   "id": "7ce4b06f",
   "metadata": {},
   "outputs": [],
   "source": [
    "X_train, X_test, y_train, y_test = train_test_split(X, y, test_size=0.25, random_state= 52)"
   ]
  },
  {
   "cell_type": "code",
   "execution_count": 33,
   "id": "e3197acb",
   "metadata": {},
   "outputs": [],
   "source": [
    "from sklearn.preprocessing import MinMaxScaler"
   ]
  },
  {
   "cell_type": "code",
   "execution_count": 34,
   "id": "6baa8de8",
   "metadata": {},
   "outputs": [
    {
     "data": {
      "text/plain": [
       "MinMaxScaler()"
      ]
     },
     "execution_count": 34,
     "metadata": {},
     "output_type": "execute_result"
    }
   ],
   "source": [
    "scaler = MinMaxScaler()\n",
    "scaler.fit(X_train)    # Used to find out minimum and maximum values of training data"
   ]
  },
  {
   "cell_type": "code",
   "execution_count": 35,
   "id": "55250c57",
   "metadata": {},
   "outputs": [],
   "source": [
    "X_train_scaled = scaler.transform(X_train) # Used to scale the training data ( in between 0 to 1)\n",
    "X_test_scaled = scaler.transform(X_test)  # We do only sdaling on test data (if available) and don't find out min max value"
   ]
  },
  {
   "cell_type": "code",
   "execution_count": 36,
   "id": "3c0b001e",
   "metadata": {},
   "outputs": [],
   "source": [
    "from sklearn.linear_model import LogisticRegression "
   ]
  },
  {
   "cell_type": "code",
   "execution_count": 37,
   "id": "c4639d38",
   "metadata": {},
   "outputs": [
    {
     "data": {
      "text/plain": [
       "LogisticRegression()"
      ]
     },
     "execution_count": 37,
     "metadata": {},
     "output_type": "execute_result"
    }
   ],
   "source": [
    "model = LogisticRegression()\n",
    "model.fit(X_train_scaled, y_train)"
   ]
  },
  {
   "cell_type": "code",
   "execution_count": 38,
   "id": "d9fc6916",
   "metadata": {},
   "outputs": [
    {
     "data": {
      "text/plain": [
       "0.8333333333333334"
      ]
     },
     "execution_count": 38,
     "metadata": {},
     "output_type": "execute_result"
    }
   ],
   "source": [
    "model.score(X_train_scaled, y_train)   # Accuracy of training data"
   ]
  },
  {
   "cell_type": "code",
   "execution_count": 39,
   "id": "d39d408b",
   "metadata": {},
   "outputs": [
    {
     "data": {
      "text/plain": [
       "0.78"
      ]
     },
     "execution_count": 39,
     "metadata": {},
     "output_type": "execute_result"
    }
   ],
   "source": [
    "model.score(X_test_scaled, y_test)    # Accuracy of testing data"
   ]
  },
  {
   "cell_type": "code",
   "execution_count": 40,
   "id": "ae1cfe70",
   "metadata": {},
   "outputs": [
    {
     "data": {
      "text/plain": [
       "<matplotlib.collections.PathCollection at 0x260f4e1b2b0>"
      ]
     },
     "execution_count": 40,
     "metadata": {},
     "output_type": "execute_result"
    },
    {
     "data": {
      "image/png": "[encoded data removed]",
      "text/plain": [
       "<Figure size 432x288 with 1 Axes>"
      ]
     },
     "metadata": {
      "needs_background": "light"
     },
     "output_type": "display_data"
    }
   ],
   "source": [
    "class_0 = X_train_scaled[y_train == 0]             # plotting for training data\n",
    "class_1 = X_train_scaled[y_train == 1]\n",
    "plt.scatter(class_0[:, 0], class_0[:, 1], c ='red')\n",
    "plt.scatter(class_1[:, 0], class_1[:, 1], c = 'blue')"
   ]
  },
  {
   "cell_type": "code",
   "execution_count": 41,
   "id": "3a130525",
   "metadata": {},
   "outputs": [
    {
     "data": {
      "text/plain": [
       "<matplotlib.collections.PathCollection at 0x260f4e67cd0>"
      ]
     },
     "execution_count": 41,
     "metadata": {},
     "output_type": "execute_result"
    },
    {
     "data": {
      "image/png": "[encoded data removed]",
      "text/plain": [
       "<Figure size 432x288 with 1 Axes>"
      ]
     },
     "metadata": {
      "needs_background": "light"
     },
     "output_type": "display_data"
    }
   ],
   "source": [
    "class_0 = X_test_scaled[y_test == 0]           # plotting as actual classes for testing data\n",
    "class_1 = X_test_scaled[y_test == 1]\n",
    "plt.scatter(class_0[:, 0], class_0[:, 1], c ='red')\n",
    "plt.scatter(class_1[:, 0], class_1[:, 1], c = 'blue')"
   ]
  },
  {
   "cell_type": "code",
   "execution_count": 42,
   "id": "5f48f1f8",
   "metadata": {},
   "outputs": [],
   "source": [
    "#To see the DB we can take large data points (10,000), predict their values and plot them so as to create a grid of points \n",
    "# Points above DB are of different color and points below DB will be of different color "
   ]
  },
  {
   "cell_type": "code",
   "execution_count": 43,
   "id": "cf1562c4",
   "metadata": {},
   "outputs": [],
   "source": [
    "import numpy as np"
   ]
  },
  {
   "cell_type": "code",
   "execution_count": 44,
   "id": "2cda7835",
   "metadata": {},
   "outputs": [],
   "source": [
    "row = np.linspace(0.0, 0.99, 100)\n",
    "col = np.arange(0.0, 1.0, 0.01)"
   ]
  },
  {
   "cell_type": "code",
   "execution_count": 45,
   "id": "37cf0b91",
   "metadata": {},
   "outputs": [],
   "source": [
    "grid = []    # create a grid of 10,000 points of 100 rows and 100 col.\n",
    "for r in row:\n",
    "    for c in col:\n",
    "        grid.append([r,c])\n",
    "grid = np.array(grid)"
   ]
  },
  {
   "cell_type": "code",
   "execution_count": 46,
   "id": "9c53ec65",
   "metadata": {},
   "outputs": [
    {
     "data": {
      "text/plain": [
       "array([[0.  , 0.  ],\n",
       "       [0.  , 0.01],\n",
       "       [0.  , 0.02],\n",
       "       ...,\n",
       "       [0.99, 0.97],\n",
       "       [0.99, 0.98],\n",
       "       [0.99, 0.99]])"
      ]
     },
     "execution_count": 46,
     "metadata": {},
     "output_type": "execute_result"
    }
   ],
   "source": [
    "grid"
   ]
  },
  {
   "cell_type": "code",
   "execution_count": 47,
   "id": "5f850eda",
   "metadata": {},
   "outputs": [
    {
     "data": {
      "text/plain": [
       "(10000, 2)"
      ]
     },
     "execution_count": 47,
     "metadata": {},
     "output_type": "execute_result"
    }
   ],
   "source": [
    "grid.shape"
   ]
  },
  {
   "cell_type": "code",
   "execution_count": 48,
   "id": "fa957443",
   "metadata": {},
   "outputs": [
    {
     "data": {
      "text/plain": [
       "array([0, 0, 0, ..., 1, 1, 1], dtype=int64)"
      ]
     },
     "execution_count": 48,
     "metadata": {},
     "output_type": "execute_result"
    }
   ],
   "source": [
    "y_pre = model.predict(grid)  #Predict the values of y for the grid\n",
    "y_pre"
   ]
  },
  {
   "cell_type": "code",
   "execution_count": 49,
   "id": "d51acb07",
   "metadata": {},
   "outputs": [
    {
     "data": {
      "text/plain": [
       "<matplotlib.collections.PathCollection at 0x260f4ecc040>"
      ]
     },
     "execution_count": 49,
     "metadata": {},
     "output_type": "execute_result"
    },
    {
     "data": {
      "image/png": "[encoded data removed]",
      "text/plain": [
       "<Figure size 432x288 with 1 Axes>"
      ]
     },
     "metadata": {
      "needs_background": "light"
     },
     "output_type": "display_data"
    }
   ],
   "source": [
    "# Plot the grid as per predicted classes\n",
    "class_0 = grid[y_pre == 0]\n",
    "class_1 = grid[y_pre == 1]\n",
    "plt.scatter(class_0[:,0],class_0[:,1], c = 'red', alpha = 0.1)  # Used for transperent\n",
    "plt.scatter(class_1[:,0],class_1[:,1], c = 'blue', alpha = 0.1) # Used for transperent"
   ]
  },
  {
   "cell_type": "code",
   "execution_count": 50,
   "id": "e2a084e1",
   "metadata": {},
   "outputs": [
    {
     "data": {
      "text/plain": [
       "<matplotlib.collections.PathCollection at 0x260f4ef4160>"
      ]
     },
     "execution_count": 50,
     "metadata": {},
     "output_type": "execute_result"
    },
    {
     "data": {
      "image/png": "[encoded data removed]",
      "text/plain": [
       "<Figure size 432x288 with 1 Axes>"
      ]
     },
     "metadata": {
      "needs_background": "light"
     },
     "output_type": "display_data"
    }
   ],
   "source": [
    "# Plot the grid as per predicted classes\n",
    "class_0 = grid[y_pre == 0]\n",
    "class_1 = grid[y_pre == 1]\n",
    "plt.scatter(class_0[:,0],class_0[:,1], c = 'red', alpha = 0.1)  # Used for transperent\n",
    "plt.scatter(class_1[:,0],class_1[:,1], c = 'blue', alpha = 0.1) # Used for transperent\n",
    "\n",
    "# plotting as actual classes for testing data\n",
    "class_0 = X_test_scaled[y_test == 0]          \n",
    "class_1 = X_test_scaled[y_test == 1]\n",
    "plt.scatter(class_0[:, 0], class_0[:, 1], c ='red')\n",
    "plt.scatter(class_1[:, 0], class_1[:, 1], c = 'blue')\n",
    "# Here, we can clearly see the wrongly predicted points by model and find the accuracy manually (blue= 20 red= 2, acc = 78)"
   ]
  },
  {
   "cell_type": "code",
   "execution_count": 51,
   "id": "f4c4c6b7",
   "metadata": {},
   "outputs": [
    {
     "data": {
      "text/plain": [
       "array([[0.4047619 , 0.25925926]])"
      ]
     },
     "execution_count": 51,
     "metadata": {},
     "output_type": "execute_result"
    }
   ],
   "source": [
    "# Lets predict, if given person of age 35 and salary 50,000 will purchase the product or not by using given model\n",
    "q1 = [[35,50000]]\n",
    "q1_scaled = scaler.transform(q1)\n",
    "q1_scaled"
   ]
  },
  {
   "cell_type": "code",
   "execution_count": 52,
   "id": "29fcf2e3",
   "metadata": {},
   "outputs": [
    {
     "data": {
      "text/plain": [
       "array([0], dtype=int64)"
      ]
     },
     "execution_count": 52,
     "metadata": {},
     "output_type": "execute_result"
    }
   ],
   "source": [
    "model.predict(q1_scaled)    # It means given person will not purchase the product"
   ]
  },
  {
   "cell_type": "code",
   "execution_count": 53,
   "id": "2c284ff2",
   "metadata": {},
   "outputs": [],
   "source": [
    "# Define a function to predict for given values of are and salary\n",
    "def get_predict(q1):\n",
    "    q1_scaled = scaler.transform(q1)\n",
    "    yp = model.predict(q1_scaled)\n",
    "    return 'Purchased' if yp == 1 else 'Not Purchased'"
   ]
  },
  {
   "cell_type": "code",
   "execution_count": 54,
   "id": "032d2335",
   "metadata": {},
   "outputs": [
    {
     "name": "stdout",
     "output_type": "stream",
     "text": [
      "Enter Age: 25\n",
      "Enter Salary: 50000\n",
      "Not Purchased\n"
     ]
    }
   ],
   "source": [
    "age = int(input('Enter Age: '))   # Enter the inputs\n",
    "sal = int(input('Enter Salary: '))\n",
    "print (get_predict([[age, sal]]))"
   ]
  },
  {
   "cell_type": "code",
   "execution_count": 55,
   "id": "bfb4a824",
   "metadata": {},
   "outputs": [
    {
     "name": "stdout",
     "output_type": "stream",
     "text": [
      "Enter Age: 50\n",
      "Enter Salary: 125000\n"
     ]
    },
    {
     "data": {
      "text/plain": [
       "'Purchased'"
      ]
     },
     "execution_count": 55,
     "metadata": {},
     "output_type": "execute_result"
    }
   ],
   "source": [
    "age = int(input('Enter Age: '))\n",
    "sal = int(input('Enter Salary: '))\n",
    "(get_predict([[age, sal]]))"
   ]
  }
 ],
 "metadata": {
  "kernelspec": {
   "display_name": "Python 3",
   "language": "python",
   "name": "python3"
  },
  "language_info": {
   "codemirror_mode": {
    "name": "ipython",
    "version": 3
   },
   "file_extension": ".py",
   "mimetype": "text/x-python",
   "name": "python",
   "nbconvert_exporter": "python",
   "pygments_lexer": "ipython3",
   "version": "3.8.8"
  }
 },
 "nbformat": 4,
 "nbformat_minor": 5
}
