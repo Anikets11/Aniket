{
 "cells": [
  {
   "cell_type": "markdown",
   "id": "009019ed",
   "metadata": {},
   "source": [
    "# Unsupervised Learning"
   ]
  },
  {
   "cell_type": "code",
   "execution_count": 1,
   "id": "f691473a",
   "metadata": {},
   "outputs": [],
   "source": [
    "# In this, \"Clusters\" are formed on the basis of specific/common properties/features/patterns fromdatapoints of X\n",
    "# Clusters are made up of exclusive data points ie. no common points between 2 clusters\n",
    "# How many clusters to be formed and which data point belongs to which perticular cluster is decided mathematically"
   ]
  },
  {
   "cell_type": "code",
   "execution_count": 2,
   "id": "564c14c8",
   "metadata": {},
   "outputs": [],
   "source": [
    "import pandas as pd\n",
    "import matplotlib.pyplot as plt "
   ]
  },
  {
   "cell_type": "code",
   "execution_count": 3,
   "id": "cd506c88",
   "metadata": {},
   "outputs": [],
   "source": [
    "df = pd.read_csv('../Unsupervised Learning/Mall_Customers.csv')"
   ]
  },
  {
   "cell_type": "code",
   "execution_count": 4,
   "id": "ee1b6d8e",
   "metadata": {},
   "outputs": [
    {
     "data": {
      "text/html": [
       "<div>\n",
       "<style scoped>\n",
       "    .dataframe tbody tr th:only-of-type {\n",
       "        vertical-align: middle;\n",
       "    }\n",
       "\n",
       "    .dataframe tbody tr th {\n",
       "        vertical-align: top;\n",
       "    }\n",
       "\n",
       "    .dataframe thead th {\n",
       "        text-align: right;\n",
       "    }\n",
       "</style>\n",
       "<table border=\"1\" class=\"dataframe\">\n",
       "  <thead>\n",
       "    <tr style=\"text-align: right;\">\n",
       "      <th></th>\n",
       "      <th>CustomerID</th>\n",
       "      <th>Gender</th>\n",
       "      <th>Age</th>\n",
       "      <th>Annual Income (k$)</th>\n",
       "      <th>Spending Score (1-100)</th>\n",
       "    </tr>\n",
       "  </thead>\n",
       "  <tbody>\n",
       "    <tr>\n",
       "      <th>0</th>\n",
       "      <td>1</td>\n",
       "      <td>Male</td>\n",
       "      <td>19</td>\n",
       "      <td>15</td>\n",
       "      <td>39</td>\n",
       "    </tr>\n",
       "    <tr>\n",
       "      <th>1</th>\n",
       "      <td>2</td>\n",
       "      <td>Male</td>\n",
       "      <td>21</td>\n",
       "      <td>15</td>\n",
       "      <td>81</td>\n",
       "    </tr>\n",
       "    <tr>\n",
       "      <th>2</th>\n",
       "      <td>3</td>\n",
       "      <td>Female</td>\n",
       "      <td>20</td>\n",
       "      <td>16</td>\n",
       "      <td>6</td>\n",
       "    </tr>\n",
       "    <tr>\n",
       "      <th>3</th>\n",
       "      <td>4</td>\n",
       "      <td>Female</td>\n",
       "      <td>23</td>\n",
       "      <td>16</td>\n",
       "      <td>77</td>\n",
       "    </tr>\n",
       "    <tr>\n",
       "      <th>4</th>\n",
       "      <td>5</td>\n",
       "      <td>Female</td>\n",
       "      <td>31</td>\n",
       "      <td>17</td>\n",
       "      <td>40</td>\n",
       "    </tr>\n",
       "  </tbody>\n",
       "</table>\n",
       "</div>"
      ],
      "text/plain": [
       "   CustomerID  Gender  Age  Annual Income (k$)  Spending Score (1-100)\n",
       "0           1    Male   19                  15                      39\n",
       "1           2    Male   21                  15                      81\n",
       "2           3  Female   20                  16                       6\n",
       "3           4  Female   23                  16                      77\n",
       "4           5  Female   31                  17                      40"
      ]
     },
     "execution_count": 4,
     "metadata": {},
     "output_type": "execute_result"
    }
   ],
   "source": [
    "df.head()"
   ]
  },
  {
   "cell_type": "code",
   "execution_count": 5,
   "id": "983d5b56",
   "metadata": {},
   "outputs": [],
   "source": [
    "X = df[['Annual Income (k$)', 'Spending Score (1-100)']]"
   ]
  },
  {
   "cell_type": "code",
   "execution_count": 6,
   "id": "702702f4",
   "metadata": {},
   "outputs": [
    {
     "data": {
      "text/plain": [
       "<matplotlib.collections.PathCollection at 0x2bb6fa834c0>"
      ]
     },
     "execution_count": 6,
     "metadata": {},
     "output_type": "execute_result"
    },
    {
     "data": {
      "image/png": "[encoded data removed]",
      "text/plain": [
       "<Figure size 432x288 with 1 Axes>"
      ]
     },
     "metadata": {
      "needs_background": "light"
     },
     "output_type": "display_data"
    }
   ],
   "source": [
    "plt.scatter(X['Annual Income (k$)'], X['Spending Score (1-100)'])"
   ]
  },
  {
   "cell_type": "markdown",
   "id": "2c9178e8",
   "metadata": {},
   "source": [
    "# Kmeans Algo"
   ]
  },
  {
   "cell_type": "code",
   "execution_count": 7,
   "id": "6c931c7e",
   "metadata": {},
   "outputs": [],
   "source": [
    "# In this, we have to give i/p for how many clusters are to be formed on given data\n",
    "# Steps of Cluster formation:-\n",
    "# 1) Initiate the given no of cluster centers randomly at any location\n",
    "# 2) Distribute the data points wrt cluster centers according to nearest distance (Eucledian distance formula)\n",
    "# 3) Recalculate the cluster centers acccording to distances of points.\n",
    "# 4) Repeat the process in pt 2 and 3 to find new cluster centers\n",
    "# 5) If no any point is changing frm one cluster to another in data pnts distribution, thn cluster centers will not change\n",
    "# 6) Then clusters will be formed according to cluster centerrs without any common points\n",
    "# Here, scaling is needed as distance formula is used. This algo will not work properly if cluster centers are overlapping"
   ]
  },
  {
   "cell_type": "code",
   "execution_count": 8,
   "id": "2e2c01b2",
   "metadata": {},
   "outputs": [],
   "source": [
    "from sklearn.cluster import KMeans   # Import KMeans model"
   ]
  },
  {
   "cell_type": "code",
   "execution_count": 9,
   "id": "4d5bd0cc",
   "metadata": {},
   "outputs": [
    {
     "data": {
      "text/plain": [
       "KMeans(n_clusters=5)"
      ]
     },
     "execution_count": 9,
     "metadata": {},
     "output_type": "execute_result"
    }
   ],
   "source": [
    "model = KMeans(n_clusters=5)  # Here, we require to give no of clusters\n",
    "model.fit(X) # Here we give only X as y is absent. It will find out cluster centers for given no of clusters by dist formla"
   ]
  },
  {
   "cell_type": "code",
   "execution_count": 10,
   "id": "52ed3cd4",
   "metadata": {},
   "outputs": [
    {
     "data": {
      "text/plain": [
       "array([4])"
      ]
     },
     "execution_count": 10,
     "metadata": {},
     "output_type": "execute_result"
    }
   ],
   "source": [
    "model.predict([[40,86]])\n",
    "# Here it will predict that in which cluster the given point is present by cal. the dist betw. given pt & cluster center\n",
    "# It will predict the cluster with minimum distance betw given pt & Cluster center"
   ]
  },
  {
   "cell_type": "code",
   "execution_count": 11,
   "id": "9f7c70d0",
   "metadata": {},
   "outputs": [
    {
     "data": {
      "text/plain": [
       "array([[86.53846154, 82.12820513],\n",
       "       [26.30434783, 20.91304348],\n",
       "       [55.2962963 , 49.51851852],\n",
       "       [88.2       , 17.11428571],\n",
       "       [25.72727273, 79.36363636]])"
      ]
     },
     "execution_count": 11,
     "metadata": {},
     "output_type": "execute_result"
    }
   ],
   "source": [
    "model.cluster_centers_  # It will give the values of cluster centers (Annual Income, Spending Score )"
   ]
  },
  {
   "cell_type": "code",
   "execution_count": 12,
   "id": "2260666b",
   "metadata": {},
   "outputs": [],
   "source": [
    "cluster_nos = model.predict(X)"
   ]
  },
  {
   "cell_type": "code",
   "execution_count": 13,
   "id": "7e84ea8a",
   "metadata": {},
   "outputs": [
    {
     "data": {
      "text/plain": [
       "array([1, 4, 1, 4, 1, 4, 1, 4, 1, 4, 1, 4, 1, 4, 1, 4, 1, 4, 1, 4, 1, 4,\n",
       "       1, 4, 1, 4, 1, 4, 1, 4, 1, 4, 1, 4, 1, 4, 1, 4, 1, 4, 1, 4, 1, 2,\n",
       "       1, 4, 2, 2, 2, 2, 2, 2, 2, 2, 2, 2, 2, 2, 2, 2, 2, 2, 2, 2, 2, 2,\n",
       "       2, 2, 2, 2, 2, 2, 2, 2, 2, 2, 2, 2, 2, 2, 2, 2, 2, 2, 2, 2, 2, 2,\n",
       "       2, 2, 2, 2, 2, 2, 2, 2, 2, 2, 2, 2, 2, 2, 2, 2, 2, 2, 2, 2, 2, 2,\n",
       "       2, 2, 2, 2, 2, 2, 2, 2, 2, 2, 2, 2, 2, 0, 3, 0, 2, 0, 3, 0, 3, 0,\n",
       "       2, 0, 3, 0, 3, 0, 3, 0, 3, 0, 2, 0, 3, 0, 3, 0, 3, 0, 3, 0, 3, 0,\n",
       "       3, 0, 3, 0, 3, 0, 3, 0, 3, 0, 3, 0, 3, 0, 3, 0, 3, 0, 3, 0, 3, 0,\n",
       "       3, 0, 3, 0, 3, 0, 3, 0, 3, 0, 3, 0, 3, 0, 3, 0, 3, 0, 3, 0, 3, 0,\n",
       "       3, 0])"
      ]
     },
     "execution_count": 13,
     "metadata": {},
     "output_type": "execute_result"
    }
   ],
   "source": [
    "cluster_nos"
   ]
  },
  {
   "cell_type": "code",
   "execution_count": 14,
   "id": "2f900f04",
   "metadata": {},
   "outputs": [
    {
     "data": {
      "text/plain": [
       "<matplotlib.collections.PathCollection at 0x2bb72735250>"
      ]
     },
     "execution_count": 14,
     "metadata": {},
     "output_type": "execute_result"
    },
    {
     "data": {
      "image/png": "[encoded data removed]",
      "text/plain": [
       "<Figure size 432x288 with 1 Axes>"
      ]
     },
     "metadata": {
      "needs_background": "light"
     },
     "output_type": "display_data"
    }
   ],
   "source": [
    "plt.scatter(X['Annual Income (k$)'], X['Spending Score (1-100)'], (cluster_nos ==0), c='red')\n",
    "plt.scatter(X['Annual Income (k$)'], X['Spending Score (1-100)'], (cluster_nos ==1), c='blue')\n",
    "plt.scatter(X['Annual Income (k$)'], X['Spending Score (1-100)'], (cluster_nos ==2), c='green')\n",
    "plt.scatter(X['Annual Income (k$)'], X['Spending Score (1-100)'], (cluster_nos ==3), c='brown')\n",
    "plt.scatter(X['Annual Income (k$)'], X['Spending Score (1-100)'], (cluster_nos ==4), c='black')"
   ]
  },
  {
   "cell_type": "code",
   "execution_count": 15,
   "id": "86ad2433",
   "metadata": {},
   "outputs": [
    {
     "data": {
      "text/plain": [
       "<matplotlib.legend.Legend at 0x2bb7279eca0>"
      ]
     },
     "execution_count": 15,
     "metadata": {},
     "output_type": "execute_result"
    },
    {
     "data": {
      "image/png": "[encoded data removed]",
      "text/plain": [
       "<Figure size 432x288 with 1 Axes>"
      ]
     },
     "metadata": {
      "needs_background": "light"
     },
     "output_type": "display_data"
    }
   ],
   "source": [
    "plt.scatter(X[cluster_nos ==0]['Annual Income (k$)'], X[cluster_nos ==0]['Spending Score (1-100)'], c='red', label='C0')\n",
    "plt.scatter(X[cluster_nos ==1]['Annual Income (k$)'], X[cluster_nos ==1]['Spending Score (1-100)'], c='blue', label='C1')\n",
    "plt.scatter(X[cluster_nos ==2]['Annual Income (k$)'], X[cluster_nos ==2]['Spending Score (1-100)'], c='green', label='C2')\n",
    "plt.scatter(X[cluster_nos ==3]['Annual Income (k$)'], X[cluster_nos ==3]['Spending Score (1-100)'], c='cyan', label='C3')\n",
    "plt.scatter(X[cluster_nos ==4]['Annual Income (k$)'], X[cluster_nos ==4]['Spending Score (1-100)'], c='black', label='C4')\n",
    "plt.legend()"
   ]
  },
  {
   "cell_type": "code",
   "execution_count": 16,
   "id": "c9cd9166",
   "metadata": {},
   "outputs": [],
   "source": [
    "from sklearn.cluster import KMeans"
   ]
  },
  {
   "cell_type": "code",
   "execution_count": 17,
   "id": "09792067",
   "metadata": {},
   "outputs": [
    {
     "data": {
      "text/plain": [
       "KMeans(n_clusters=2)"
      ]
     },
     "execution_count": 17,
     "metadata": {},
     "output_type": "execute_result"
    }
   ],
   "source": [
    "model = KMeans(n_clusters=2)\n",
    "model.fit(X)"
   ]
  },
  {
   "cell_type": "code",
   "execution_count": 19,
   "id": "c08e95d5",
   "metadata": {},
   "outputs": [
    {
     "data": {
      "text/plain": [
       "181363.59595959607"
      ]
     },
     "execution_count": 19,
     "metadata": {},
     "output_type": "execute_result"
    }
   ],
   "source": [
    "model.inertia_   # WCSS Value"
   ]
  },
  {
   "cell_type": "code",
   "execution_count": 27,
   "id": "fd2dbf5e",
   "metadata": {},
   "outputs": [],
   "source": [
    "# Elbow method:- Used to find optimum no of cluster for KMeans. For this we have to plot graph of WCSS and n\n",
    "# WCSS(Within Cluster Sum of Squares) it is simillar to Moment of Inertia. If the pts are closer to CC, then WCSS is less\n",
    "# If we plot the graph, then we get the shape of elbow, and point at Elbow gives the optimum value of 'No of Clusters'\n",
    "# In this, WCSS values are decreasing significantally before elbow pt but after that there is no much change in it"
   ]
  },
  {
   "cell_type": "code",
   "execution_count": 24,
   "id": "6211157d",
   "metadata": {},
   "outputs": [
    {
     "name": "stderr",
     "output_type": "stream",
     "text": [
      "C:\\Users\\hp\\anaconda3\\lib\\site-packages\\sklearn\\cluster\\_kmeans.py:881: UserWarning: KMeans is known to have a memory leak on Windows with MKL, when there are less chunks than available threads. You can avoid it by setting the environment variable OMP_NUM_THREADS=1.\n",
      "  warnings.warn(\n"
     ]
    }
   ],
   "source": [
    "# How to find out the optimum value of n by Elbow method:-\n",
    "wcss = []\n",
    "for n in range(1,11):\n",
    "    model = KMeans(n_clusters=n)\n",
    "    model.fit(X)\n",
    "    wcss.append(model.inertia_)"
   ]
  },
  {
   "cell_type": "code",
   "execution_count": 26,
   "id": "f9a074ad",
   "metadata": {},
   "outputs": [
    {
     "data": {
      "text/plain": [
       "[269981.28000000014,\n",
       " 181363.59595959607,\n",
       " 106348.37306211119,\n",
       " 73679.78903948837,\n",
       " 44448.45544793369,\n",
       " 37233.81451071002,\n",
       " 30566.45113025185,\n",
       " 25018.576334776328,\n",
       " 21830.04197804944,\n",
       " 19636.75396489815]"
      ]
     },
     "execution_count": 26,
     "metadata": {},
     "output_type": "execute_result"
    }
   ],
   "source": [
    "wcss   # Here we can see that, upto n =5 values are decreasing significantally but after that there is no much change in it"
   ]
  },
  {
   "cell_type": "code",
   "execution_count": 30,
   "id": "51163519",
   "metadata": {},
   "outputs": [
    {
     "data": {
      "text/plain": [
       "[<matplotlib.lines.Line2D at 0x2bb7482e6a0>]"
      ]
     },
     "execution_count": 30,
     "metadata": {},
     "output_type": "execute_result"
    },
    {
     "data": {
      "image/png": "[encoded data removed]",
      "text/plain": [
       "<Figure size 432x288 with 1 Axes>"
      ]
     },
     "metadata": {
      "needs_background": "light"
     },
     "output_type": "display_data"
    }
   ],
   "source": [
    "# Plotting of Elbow\n",
    "plt.plot(range(1,11), wcss, marker='X') # Here, we can clearly see that Elbow point is at 5 ie. no of cluster = 5"
   ]
  },
  {
   "cell_type": "code",
   "execution_count": null,
   "id": "1f0afe90",
   "metadata": {},
   "outputs": [],
   "source": []
  }
 ],
 "metadata": {
  "kernelspec": {
   "display_name": "Python 3",
   "language": "python",
   "name": "python3"
  },
  "language_info": {
   "codemirror_mode": {
    "name": "ipython",
    "version": 3
   },
   "file_extension": ".py",
   "mimetype": "text/x-python",
   "name": "python",
   "nbconvert_exporter": "python",
   "pygments_lexer": "ipython3",
   "version": "3.8.8"
  }
 },
 "nbformat": 4,
 "nbformat_minor": 5
}
