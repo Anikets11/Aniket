{
 "cells": [
  {
   "cell_type": "code",
   "execution_count": 24,
   "id": "535200c9",
   "metadata": {},
   "outputs": [],
   "source": [
    "def add (a,b):\n",
    "    c= a+b\n",
    "    return c"
   ]
  },
  {
   "cell_type": "code",
   "execution_count": 25,
   "id": "5051f693",
   "metadata": {},
   "outputs": [
    {
     "data": {
      "text/plain": [
       "12"
      ]
     },
     "execution_count": 25,
     "metadata": {},
     "output_type": "execute_result"
    }
   ],
   "source": [
    "add (5,7)"
   ]
  },
  {
   "cell_type": "code",
   "execution_count": 26,
   "id": "20f385d6",
   "metadata": {},
   "outputs": [],
   "source": [
    "def subtract (a,b):\n",
    "    c= a-b\n",
    "    return c"
   ]
  },
  {
   "cell_type": "code",
   "execution_count": 27,
   "id": "a53e8507",
   "metadata": {},
   "outputs": [
    {
     "data": {
      "text/plain": [
       "5"
      ]
     },
     "execution_count": 27,
     "metadata": {},
     "output_type": "execute_result"
    }
   ],
   "source": [
    "subtract(12,7)"
   ]
  },
  {
   "cell_type": "code",
   "execution_count": 28,
   "id": "15c139c5",
   "metadata": {},
   "outputs": [
    {
     "data": {
      "text/plain": [
       "'aniketMayuri'"
      ]
     },
     "execution_count": 28,
     "metadata": {},
     "output_type": "execute_result"
    }
   ],
   "source": [
    "add ('aniket','Mayuri')"
   ]
  },
  {
   "cell_type": "code",
   "execution_count": 29,
   "id": "f693f9a0",
   "metadata": {},
   "outputs": [],
   "source": [
    "def sqr (a):\n",
    "    c=a**2\n",
    "    return c"
   ]
  },
  {
   "cell_type": "code",
   "execution_count": 30,
   "id": "e7e52950",
   "metadata": {},
   "outputs": [
    {
     "data": {
      "text/plain": [
       "49"
      ]
     },
     "execution_count": 30,
     "metadata": {},
     "output_type": "execute_result"
    }
   ],
   "source": [
    "sqr(7)"
   ]
  },
  {
   "cell_type": "code",
   "execution_count": 31,
   "id": "53af643c",
   "metadata": {},
   "outputs": [],
   "source": [
    "def abc (a,b):\n",
    "    c= a+b\n",
    "    d=c**2\n",
    "    return (c,d)"
   ]
  },
  {
   "cell_type": "code",
   "execution_count": 9,
   "id": "5367c8f3",
   "metadata": {},
   "outputs": [
    {
     "data": {
      "text/plain": [
       "(15, 225)"
      ]
     },
     "execution_count": 9,
     "metadata": {},
     "output_type": "execute_result"
    }
   ],
   "source": [
    "abc(10,5)"
   ]
  },
  {
   "cell_type": "code",
   "execution_count": 10,
   "id": "eea003c1",
   "metadata": {},
   "outputs": [],
   "source": [
    "# Variable no of arguements"
   ]
  },
  {
   "cell_type": "code",
   "execution_count": 32,
   "id": "587d0f84",
   "metadata": {},
   "outputs": [],
   "source": [
    "def multiply (a,b,*A): # here, * indicate any no of inputs\n",
    "    multi1= (a*b)\n",
    "    for i in A:\n",
    "        multi1 = multi1*i\n",
    "    return multi1"
   ]
  },
  {
   "cell_type": "code",
   "execution_count": 12,
   "id": "ed01eda1",
   "metadata": {},
   "outputs": [
    {
     "data": {
      "text/plain": [
       "4200"
      ]
     },
     "execution_count": 12,
     "metadata": {},
     "output_type": "execute_result"
    }
   ],
   "source": [
    "multiply(5,7,10,12)"
   ]
  },
  {
   "cell_type": "code",
   "execution_count": 33,
   "id": "a3c2c795",
   "metadata": {},
   "outputs": [],
   "source": [
    "def calc (a,b):\n",
    "    return a+b,a-b,a*b,a/b"
   ]
  },
  {
   "cell_type": "code",
   "execution_count": 14,
   "id": "dc534c06",
   "metadata": {},
   "outputs": [
    {
     "data": {
      "text/plain": [
       "(30, -10, 200, 0.5)"
      ]
     },
     "execution_count": 14,
     "metadata": {},
     "output_type": "execute_result"
    }
   ],
   "source": [
    "calc(10,20)"
   ]
  },
  {
   "cell_type": "code",
   "execution_count": 34,
   "id": "f3fa2fdf",
   "metadata": {},
   "outputs": [],
   "source": [
    "w,x,y,z = calc(15,5)"
   ]
  },
  {
   "cell_type": "code",
   "execution_count": 23,
   "id": "a6496bdc",
   "metadata": {},
   "outputs": [
    {
     "data": {
      "text/plain": [
       "(20, 10, 75, 3.0)"
      ]
     },
     "execution_count": 23,
     "metadata": {},
     "output_type": "execute_result"
    }
   ],
   "source": [
    "w,x,y,z"
   ]
  },
  {
   "cell_type": "code",
   "execution_count": 17,
   "id": "ba39af42",
   "metadata": {},
   "outputs": [],
   "source": [
    "# Non positional/ keyword arguements"
   ]
  },
  {
   "cell_type": "code",
   "execution_count": 35,
   "id": "1e8caa25",
   "metadata": {},
   "outputs": [],
   "source": [
    "def fun1 (x=0, y =0, color = \"black\", size = 20):\n",
    "    print('x:',x, 'y:',y, \"color:\", color, 'size:', size)"
   ]
  },
  {
   "cell_type": "code",
   "execution_count": 19,
   "id": "63531783",
   "metadata": {},
   "outputs": [
    {
     "name": "stdout",
     "output_type": "stream",
     "text": [
      "x: 10 y: 0 color: Red size: 35\n"
     ]
    }
   ],
   "source": [
    "fun1 (x= 10, size =35, color ='Red')"
   ]
  },
  {
   "cell_type": "code",
   "execution_count": 20,
   "id": "10d5e58a",
   "metadata": {},
   "outputs": [],
   "source": [
    "def model(color= 'fair', bra=36, hip=36, waist=26,  height =5.7, weight = 55, eye= 'brown' ):\n",
    "    print('color:', color, 'bra:',bra, 'hip:',hip, 'waist:', waist,  'height:' , height,'weight:',weight, 'eye:',eye )"
   ]
  },
  {
   "cell_type": "code",
   "execution_count": 21,
   "id": "a8a7c13f",
   "metadata": {},
   "outputs": [
    {
     "name": "stdout",
     "output_type": "stream",
     "text": [
      "color: white bra: 34 hip: 35 waist: 25 height: 5.7 weight: 52 eye: brown\n"
     ]
    }
   ],
   "source": [
    "model (color = 'white', waist= 25, bra= 34, hip= 35, weight =52, height= 5.7 )"
   ]
  },
  {
   "cell_type": "code",
   "execution_count": 22,
   "id": "8fe660bd",
   "metadata": {},
   "outputs": [
    {
     "ename": "SyntaxError",
     "evalue": "invalid syntax (<ipython-input-22-e947881d9a11>, line 7)",
     "output_type": "error",
     "traceback": [
      "\u001b[1;36m  File \u001b[1;32m\"<ipython-input-22-e947881d9a11>\"\u001b[1;36m, line \u001b[1;32m7\u001b[0m\n\u001b[1;33m    A.append(x)\u001b[0m\n\u001b[1;37m    ^\u001b[0m\n\u001b[1;31mSyntaxError\u001b[0m\u001b[1;31m:\u001b[0m invalid syntax\n"
     ]
    }
   ],
   "source": [
    "A = [[0,],[],[]]\n",
    "n = int(input('Enter the number of rows:'))\n",
    "for i in A[0]:\n",
    "    for l in A[1]:\n",
    "        for m in A[2]:\n",
    "            x= int(input('Enter the number:')\n",
    "        A.append(x)\n",
    "print(A)"
   ]
  },
  {
   "cell_type": "code",
   "execution_count": null,
   "id": "2c4518f1",
   "metadata": {},
   "outputs": [],
   "source": []
  }
 ],
 "metadata": {
  "kernelspec": {
   "display_name": "Python 3",
   "language": "python",
   "name": "python3"
  },
  "language_info": {
   "codemirror_mode": {
    "name": "ipython",
    "version": 3
   },
   "file_extension": ".py",
   "mimetype": "text/x-python",
   "name": "python",
   "nbconvert_exporter": "python",
   "pygments_lexer": "ipython3",
   "version": "3.8.8"
  }
 },
 "nbformat": 4,
 "nbformat_minor": 5
}
