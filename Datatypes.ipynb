{
 "cells": [
  {
   "cell_type": "code",
   "execution_count": 29,
   "id": "14d447d3",
   "metadata": {},
   "outputs": [],
   "source": [
    "List = [1,2,3,4,5]"
   ]
  },
  {
   "cell_type": "code",
   "execution_count": 30,
   "id": "af967ae8",
   "metadata": {},
   "outputs": [
    {
     "name": "stdout",
     "output_type": "stream",
     "text": [
      "[1, 2, 3, 4, 5]\n"
     ]
    }
   ],
   "source": [
    "print(list)"
   ]
  },
  {
   "cell_type": "code",
   "execution_count": 25,
   "id": "d378a55f",
   "metadata": {},
   "outputs": [],
   "source": [
    "Tuple = (1,2,3,4,5)"
   ]
  },
  {
   "cell_type": "code",
   "execution_count": 28,
   "id": "5494032e",
   "metadata": {},
   "outputs": [
    {
     "name": "stdout",
     "output_type": "stream",
     "text": [
      "(1, 2, 3, 4, 5)\n"
     ]
    }
   ],
   "source": [
    "print (tuple)"
   ]
  },
  {
   "cell_type": "code",
   "execution_count": 33,
   "id": "a2d25281",
   "metadata": {},
   "outputs": [],
   "source": [
    "Dict = {}"
   ]
  },
  {
   "cell_type": "code",
   "execution_count": 35,
   "id": "fe5c7020",
   "metadata": {},
   "outputs": [
    {
     "ename": "SyntaxError",
     "evalue": "invalid syntax (<ipython-input-35-0026ac1742af>, line 1)",
     "output_type": "error",
     "traceback": [
      "\u001b[1;36m  File \u001b[1;32m\"<ipython-input-35-0026ac1742af>\"\u001b[1;36m, line \u001b[1;32m1\u001b[0m\n\u001b[1;33m    Dict.add(a:1)\u001b[0m\n\u001b[1;37m              ^\u001b[0m\n\u001b[1;31mSyntaxError\u001b[0m\u001b[1;31m:\u001b[0m invalid syntax\n"
     ]
    }
   ],
   "source": [
    "Dict.add(a:1)"
   ]
  },
  {
   "cell_type": "code",
   "execution_count": 36,
   "id": "702f82e5",
   "metadata": {},
   "outputs": [],
   "source": [
    "a = [1,2,3,4,5, 'a', \"c\"]"
   ]
  },
  {
   "cell_type": "code",
   "execution_count": 37,
   "id": "b6537e89",
   "metadata": {},
   "outputs": [
    {
     "name": "stdout",
     "output_type": "stream",
     "text": [
      "<class 'list'>\n"
     ]
    }
   ],
   "source": [
    "print(type(a))"
   ]
  },
  {
   "cell_type": "code",
   "execution_count": 38,
   "id": "1eaa7602",
   "metadata": {},
   "outputs": [],
   "source": [
    "b = (1,2,3,5, 'a', \"s\")"
   ]
  },
  {
   "cell_type": "code",
   "execution_count": 39,
   "id": "c5d9ea4c",
   "metadata": {},
   "outputs": [
    {
     "name": "stdout",
     "output_type": "stream",
     "text": [
      "<class 'tuple'>\n"
     ]
    }
   ],
   "source": [
    "print(type(b))"
   ]
  },
  {
   "cell_type": "code",
   "execution_count": 40,
   "id": "c710aacf",
   "metadata": {},
   "outputs": [],
   "source": [
    "c = {1,2,3,5, 'm', \"a\"}"
   ]
  },
  {
   "cell_type": "code",
   "execution_count": 41,
   "id": "df5c411d",
   "metadata": {},
   "outputs": [
    {
     "name": "stdout",
     "output_type": "stream",
     "text": [
      "<class 'set'>\n"
     ]
    }
   ],
   "source": [
    "print(type(c))"
   ]
  },
  {
   "cell_type": "code",
   "execution_count": 42,
   "id": "849a7e4c",
   "metadata": {},
   "outputs": [],
   "source": [
    "d = {\"a\":1, \"b\":2, \"c\":3}"
   ]
  },
  {
   "cell_type": "code",
   "execution_count": 43,
   "id": "468ae4de",
   "metadata": {},
   "outputs": [
    {
     "name": "stdout",
     "output_type": "stream",
     "text": [
      "<class 'dict'>\n"
     ]
    }
   ],
   "source": [
    "print(type(d))"
   ]
  },
  {
   "cell_type": "code",
   "execution_count": 45,
   "id": "9ee41a7e",
   "metadata": {},
   "outputs": [],
   "source": [
    "e = dict (a=1, b=2, c=4)"
   ]
  },
  {
   "cell_type": "code",
   "execution_count": 46,
   "id": "f3bad04d",
   "metadata": {},
   "outputs": [
    {
     "name": "stdout",
     "output_type": "stream",
     "text": [
      "<class 'dict'>\n"
     ]
    }
   ],
   "source": [
    "print(type(d))"
   ]
  },
  {
   "cell_type": "code",
   "execution_count": 48,
   "id": "da891979",
   "metadata": {},
   "outputs": [],
   "source": [
    "f = set((1, 2,3,4,5,5,5))"
   ]
  },
  {
   "cell_type": "code",
   "execution_count": 49,
   "id": "f476c233",
   "metadata": {},
   "outputs": [
    {
     "name": "stdout",
     "output_type": "stream",
     "text": [
      "<class 'set'>\n"
     ]
    }
   ],
   "source": [
    "print(type(f))"
   ]
  },
  {
   "cell_type": "code",
   "execution_count": 50,
   "id": "cbcd9488",
   "metadata": {},
   "outputs": [
    {
     "name": "stdout",
     "output_type": "stream",
     "text": [
      "{1, 2, 3, 4, 5}\n"
     ]
    }
   ],
   "source": [
    "print(f)"
   ]
  },
  {
   "cell_type": "code",
   "execution_count": 109,
   "id": "ae857bf1",
   "metadata": {},
   "outputs": [
    {
     "name": "stdout",
     "output_type": "stream",
     "text": [
      "3\n"
     ]
    }
   ],
   "source": [
    "g = tuple [2]\n",
    "print(g)"
   ]
  },
  {
   "cell_type": "code",
   "execution_count": 90,
   "id": "773b9a30",
   "metadata": {},
   "outputs": [],
   "source": [
    "h = list [1:4]"
   ]
  },
  {
   "cell_type": "code",
   "execution_count": 91,
   "id": "e6b4dd1a",
   "metadata": {},
   "outputs": [
    {
     "name": "stdout",
     "output_type": "stream",
     "text": [
      "[2, 3, 4]\n"
     ]
    }
   ],
   "source": [
    "print (h)"
   ]
  },
  {
   "cell_type": "code",
   "execution_count": 96,
   "id": "6d5576fe",
   "metadata": {},
   "outputs": [
    {
     "ename": "TypeError",
     "evalue": "'list' object is not callable",
     "output_type": "error",
     "traceback": [
      "\u001b[1;31m---------------------------------------------------------------------------\u001b[0m",
      "\u001b[1;31mTypeError\u001b[0m                                 Traceback (most recent call last)",
      "\u001b[1;32m<ipython-input-96-d96e3d190631>\u001b[0m in \u001b[0;36m<module>\u001b[1;34m\u001b[0m\n\u001b[1;32m----> 1\u001b[1;33m \u001b[0mx\u001b[0m\u001b[1;33m=\u001b[0m \u001b[0mlist\u001b[0m\u001b[1;33m(\u001b[0m\u001b[1;33m(\u001b[0m\u001b[1;34m\"a\"\u001b[0m\u001b[1;33m,\u001b[0m \u001b[1;34m\"b\"\u001b[0m\u001b[1;33m,\u001b[0m\u001b[1;34m\"d\"\u001b[0m\u001b[1;33m)\u001b[0m\u001b[1;33m)\u001b[0m\u001b[1;33m\u001b[0m\u001b[1;33m\u001b[0m\u001b[0m\n\u001b[0m",
      "\u001b[1;31mTypeError\u001b[0m: 'list' object is not callable"
     ]
    }
   ],
   "source": [
    "x= list((\"a\", \"b\",\"d\"))"
   ]
  },
  {
   "cell_type": "code",
   "execution_count": 110,
   "id": "615f55a0",
   "metadata": {},
   "outputs": [],
   "source": [
    "x= (1,2,3,4,5)"
   ]
  },
  {
   "cell_type": "code",
   "execution_count": 111,
   "id": "91d1e321",
   "metadata": {},
   "outputs": [
    {
     "name": "stdout",
     "output_type": "stream",
     "text": [
      "<class 'tuple'>\n"
     ]
    }
   ],
   "source": [
    "print(type(x))"
   ]
  },
  {
   "cell_type": "code",
   "execution_count": 113,
   "id": "f357d4c7",
   "metadata": {},
   "outputs": [],
   "source": [
    "x,y,z = 5, 7.2, 10j"
   ]
  },
  {
   "cell_type": "code",
   "execution_count": 115,
   "id": "6189ff91",
   "metadata": {},
   "outputs": [
    {
     "name": "stdout",
     "output_type": "stream",
     "text": [
      "<class 'float'>\n",
      "<class 'int'>\n",
      "<class 'complex'>\n",
      "5.0\n",
      "7\n",
      "(7.2+0j)\n"
     ]
    }
   ],
   "source": [
    "l = float (x)\n",
    "m = int (y)\n",
    "n = complex (y)\n",
    "print (type(l))\n",
    "print (type(m))\n",
    "print (type(n))\n",
    "print (l)\n",
    "print (m)\n",
    "print (n)"
   ]
  },
  {
   "cell_type": "code",
   "execution_count": 141,
   "id": "6e902c4f",
   "metadata": {},
   "outputs": [],
   "source": [
    "x = int ()\n",
    "x = 7.2"
   ]
  },
  {
   "cell_type": "code",
   "execution_count": 142,
   "id": "b4275314",
   "metadata": {},
   "outputs": [
    {
     "name": "stdout",
     "output_type": "stream",
     "text": [
      "<class 'float'>\n"
     ]
    }
   ],
   "source": [
    "print (type (x))"
   ]
  },
  {
   "cell_type": "code",
   "execution_count": 128,
   "id": "e4a38fbe",
   "metadata": {},
   "outputs": [
    {
     "name": "stdout",
     "output_type": "stream",
     "text": [
      "<class 'float'>\n",
      "5.0\n"
     ]
    }
   ],
   "source": [
    "y = float (5)\n",
    "print (type (y))\n",
    "print (y)"
   ]
  },
  {
   "cell_type": "code",
   "execution_count": 131,
   "id": "bb6cece2",
   "metadata": {},
   "outputs": [
    {
     "name": "stdout",
     "output_type": "stream",
     "text": [
      "11\n"
     ]
    }
   ],
   "source": [
    "z = 7 \n",
    "z = float()\n",
    "z = 11\n",
    "print (z)"
   ]
  },
  {
   "cell_type": "code",
   "execution_count": 136,
   "id": "bc3c7e82",
   "metadata": {},
   "outputs": [
    {
     "name": "stdout",
     "output_type": "stream",
     "text": [
      "3\n",
      "<class 'str'>\n"
     ]
    }
   ],
   "source": [
    "z = str(3)\n",
    "print (z)\n",
    "print (type (z))"
   ]
  },
  {
   "cell_type": "code",
   "execution_count": 137,
   "id": "56a86fea",
   "metadata": {},
   "outputs": [],
   "source": [
    "d = str (10.4)"
   ]
  },
  {
   "cell_type": "code",
   "execution_count": 138,
   "id": "f7c13ed7",
   "metadata": {},
   "outputs": [
    {
     "name": "stdout",
     "output_type": "stream",
     "text": [
      "10.4\n",
      "<class 'str'>\n"
     ]
    }
   ],
   "source": [
    "print (d)\n",
    "print (type (d))"
   ]
  },
  {
   "cell_type": "code",
   "execution_count": 144,
   "id": "0c03a88a",
   "metadata": {},
   "outputs": [],
   "source": [
    "s = int (\"3\")"
   ]
  },
  {
   "cell_type": "code",
   "execution_count": 145,
   "id": "01d18637",
   "metadata": {},
   "outputs": [
    {
     "name": "stdout",
     "output_type": "stream",
     "text": [
      "3\n",
      "<class 'int'>\n"
     ]
    }
   ],
   "source": [
    "print (s)\n",
    "print (type(s))"
   ]
  },
  {
   "cell_type": "code",
   "execution_count": null,
   "id": "3ad6080d",
   "metadata": {},
   "outputs": [],
   "source": []
  }
 ],
 "metadata": {
  "kernelspec": {
   "display_name": "Python 3",
   "language": "python",
   "name": "python3"
  },
  "language_info": {
   "codemirror_mode": {
    "name": "ipython",
    "version": 3
   },
   "file_extension": ".py",
   "mimetype": "text/x-python",
   "name": "python",
   "nbconvert_exporter": "python",
   "pygments_lexer": "ipython3",
   "version": "3.8.8"
  }
 },
 "nbformat": 4,
 "nbformat_minor": 5
}
